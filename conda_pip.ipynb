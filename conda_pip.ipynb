{
 "cells": [
  {
   "cell_type": "markdown",
   "metadata": {},
   "source": [
    "# Conda and Pip"
   ]
  },
  {
   "cell_type": "markdown",
   "metadata": {},
   "source": [
    "Both are package managers. Pip lives in global space while Conda specializes in siloed environments. Installing with pip when not in a conda environment (or in 'root' conda environment) will install globally. Making a Conda environment at this point will adopt global packages. Activating a conda env and using Pip there will keep said package there (and nowhere else). Never use the 'conda create --name newenvname' command. Using pip in that environment installs to root."
   ]
  },
  {
   "cell_type": "markdown",
   "metadata": {},
   "source": [
    "#### Conda commands"
   ]
  },
  {
   "cell_type": "markdown",
   "metadata": {},
   "source": [
    "conda create -n newenvname python=x.x anaconda\n",
    "\n",
    "source activate envname\n",
    "\n",
    "conda info -e\n",
    "\n",
    "conda remove -n envtodelete --all\n",
    "\n",
    "conda create -n newenvname --clone envnamecloningfrom"
   ]
  },
  {
   "cell_type": "code",
   "execution_count": null,
   "metadata": {
    "collapsed": true
   },
   "outputs": [],
   "source": []
  }
 ],
 "metadata": {
  "anaconda-cloud": {},
  "kernelspec": {
   "display_name": "Python [default]",
   "language": "python",
   "name": "python3"
  },
  "language_info": {
   "codemirror_mode": {
    "name": "ipython",
    "version": 3
   },
   "file_extension": ".py",
   "mimetype": "text/x-python",
   "name": "python",
   "nbconvert_exporter": "python",
   "pygments_lexer": "ipython3",
   "version": "3.5.2"
  }
 },
 "nbformat": 4,
 "nbformat_minor": 1
}
