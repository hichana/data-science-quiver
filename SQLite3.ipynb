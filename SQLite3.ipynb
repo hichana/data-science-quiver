{
 "cells": [
  {
   "cell_type": "markdown",
   "metadata": {},
   "source": [
    "# SQLite3"
   ]
  },
  {
   "cell_type": "markdown",
   "metadata": {},
   "source": [
    "### Notes:\n",
    "* [DB Browser for SQLite](http://sqlitebrowser.org/) is an excellent way to graphically browse the database"
   ]
  },
  {
   "cell_type": "markdown",
   "metadata": {},
   "source": [
    "### Basic Concept\n",
    "\n",
    "[Using sqlite3 Python module](https://docs.python.org/3.5/library/sqlite3.html?highlight=sqlite#module-sqlite3)"
   ]
  },
  {
   "cell_type": "code",
   "execution_count": null,
   "metadata": {
    "collapsed": true
   },
   "outputs": [],
   "source": [
    "import sqlite3"
   ]
  },
  {
   "cell_type": "code",
   "execution_count": null,
   "metadata": {
    "collapsed": false
   },
   "outputs": [],
   "source": [
    "# set up a connection with the database\n",
    "conn = sqlite3.connect('sample-data/chinook.db')"
   ]
  },
  {
   "cell_type": "code",
   "execution_count": null,
   "metadata": {
    "collapsed": false
   },
   "outputs": [],
   "source": [
    "# create a cursor object\n",
    "c = conn.cursor()"
   ]
  },
  {
   "cell_type": "code",
   "execution_count": null,
   "metadata": {
    "collapsed": false
   },
   "outputs": [],
   "source": [
    "# use the cursor object's execute() method to perform a query\n",
    "x = c.execute(\"SELECT * FROM Album\")"
   ]
  },
  {
   "cell_type": "code",
   "execution_count": null,
   "metadata": {
    "collapsed": false,
    "scrolled": true
   },
   "outputs": [],
   "source": [
    "# print out all rows from the execute method\n",
    "for row in x:\n",
    "    print(row)"
   ]
  },
  {
   "cell_type": "code",
   "execution_count": null,
   "metadata": {
    "collapsed": true
   },
   "outputs": [],
   "source": [
    "# be sure to close the connection to the database when done\n",
    "conn.close()"
   ]
  },
  {
   "cell_type": "markdown",
   "metadata": {},
   "source": [
    "### Use-Case"
   ]
  },
  {
   "cell_type": "markdown",
   "metadata": {},
   "source": [
    "##### Queries"
   ]
  },
  {
   "cell_type": "code",
   "execution_count": null,
   "metadata": {
    "collapsed": false
   },
   "outputs": [],
   "source": [
    "# Use pandas to render table as a dataframe\n",
    "import pandas as pd\n",
    "import sqlite3\n",
    "\n",
    "# create object to connect to database\n",
    "conn = sqlite3.connect('sample-data/chinook.db')\n",
    "conn"
   ]
  },
  {
   "cell_type": "code",
   "execution_count": null,
   "metadata": {
    "collapsed": false
   },
   "outputs": [],
   "source": [
    "# make any Query\n",
    "query = \"SELECT * FROM Album\""
   ]
  },
  {
   "cell_type": "code",
   "execution_count": null,
   "metadata": {
    "collapsed": false
   },
   "outputs": [],
   "source": [
    "# render query as dataframe\n",
    "df = pd.read_sql_query(query, conn)\n",
    "df.tail()"
   ]
  },
  {
   "cell_type": "markdown",
   "metadata": {},
   "source": [
    "##### Commands - Adding rows"
   ]
  },
  {
   "cell_type": "code",
   "execution_count": null,
   "metadata": {
    "collapsed": false
   },
   "outputs": [],
   "source": [
    "# create cursor object\n",
    "c = conn.cursor()\n",
    "c"
   ]
  },
  {
   "cell_type": "code",
   "execution_count": null,
   "metadata": {
    "collapsed": false
   },
   "outputs": [],
   "source": [
    "# create a command to add something to the table\n",
    "command = \"INSERT INTO Album VALUES (3723,'grapes',273)\"\n",
    "\n",
    "# execute a query agaist the cursor object\n",
    "c.execute(command)"
   ]
  },
  {
   "cell_type": "code",
   "execution_count": null,
   "metadata": {
    "collapsed": true
   },
   "outputs": [],
   "source": [
    "# commit the changes to the database\n",
    "conn.commit()"
   ]
  },
  {
   "cell_type": "code",
   "execution_count": null,
   "metadata": {
    "collapsed": false
   },
   "outputs": [],
   "source": [
    "# render dataframe using the original query object\n",
    "df = pd.read_sql(query, conn)\n",
    "df.tail()"
   ]
  },
  {
   "cell_type": "markdown",
   "metadata": {},
   "source": [
    "##### Commands - Delete rows"
   ]
  },
  {
   "cell_type": "code",
   "execution_count": null,
   "metadata": {
    "collapsed": false
   },
   "outputs": [],
   "source": [
    "# create a command to delete something from the table\n",
    "command = '''\n",
    "DELETE FROM Album \n",
    "WHERE AlbumId in (354, 355)\n",
    "'''\n",
    "\n",
    "# execute a query agaist the cursor object\n",
    "c.execute(command)"
   ]
  },
  {
   "cell_type": "code",
   "execution_count": null,
   "metadata": {
    "collapsed": true
   },
   "outputs": [],
   "source": [
    "# commit the changes to the database\n",
    "conn.commit()"
   ]
  },
  {
   "cell_type": "code",
   "execution_count": null,
   "metadata": {
    "collapsed": false
   },
   "outputs": [],
   "source": [
    "# render dataframe\n",
    "df = pd.read_sql(query, conn)\n",
    "df.tail()"
   ]
  },
  {
   "cell_type": "code",
   "execution_count": null,
   "metadata": {
    "collapsed": false
   },
   "outputs": [],
   "source": [
    "# be sure to close the connection to the database when done\n",
    "conn.close()"
   ]
  },
  {
   "cell_type": "markdown",
   "metadata": {},
   "source": [
    "##### Commands - Add Schema (a table)"
   ]
  },
  {
   "cell_type": "code",
   "execution_count": 1,
   "metadata": {
    "collapsed": false
   },
   "outputs": [
    {
     "data": {
      "text/plain": [
       "<sqlite3.Cursor at 0x111ef2180>"
      ]
     },
     "execution_count": 1,
     "metadata": {},
     "output_type": "execute_result"
    }
   ],
   "source": [
    "# set up the connection, import declaratinos and the cursor\n",
    "import sqlite3\n",
    "import pandas as pd\n",
    "\n",
    "conn = sqlite3.connect('sample-data/UdaciousMusic.db')\n",
    "\n",
    "c = conn.cursor()\n",
    "c"
   ]
  },
  {
   "cell_type": "code",
   "execution_count": 2,
   "metadata": {
    "collapsed": false
   },
   "outputs": [
    {
     "data": {
      "text/plain": [
       "<sqlite3.Cursor at 0x111ef2180>"
      ]
     },
     "execution_count": 2,
     "metadata": {},
     "output_type": "execute_result"
    }
   ],
   "source": [
    "# run the command\n",
    "command = ''' CREATE TABLE InvoiceLine\n",
    "(\n",
    "    InvoiceLineId INTEGER PRIMARY KEY,\n",
    "    InvoiceId INTEGER,\n",
    "    TrackId INTEGER,\n",
    "    UnitPrice NUMERIC(10,2),\n",
    "    Quantity INTEGER,\n",
    "    FOREIGN KEY (InvoiceId) REFERENCES Invoice (InvoiceId),\n",
    "    FOREIGN KEY (TrackId) REFERENCES Track (TrackId)\n",
    ");\n",
    "'''\n",
    "\n",
    "c.execute(command)"
   ]
  },
  {
   "cell_type": "markdown",
   "metadata": {},
   "source": [
    "Connect to the database in the terminal and add the following:\n",
    "\n",
    "INSERT INTO [InvoiceLine] ([InvoiceLineId], [InvoiceId], [TrackId], [UnitPrice], [Quantity]) VALUES (1, 1, 2, 0.99, 1);\n",
    "INSERT INTO [InvoiceLine] ([InvoiceLineId], [InvoiceId], [TrackId], [UnitPrice], [Quantity]) VALUES (2, 1, 4, 0.99, 1);\n",
    "INSERT INTO [InvoiceLine] ([InvoiceLineId], [InvoiceId], [TrackId], [UnitPrice], [Quantity]) VALUES (3, 2, 6, 0.99, 1);\n",
    "INSERT INTO [InvoiceLine] ([InvoiceLineId], [InvoiceId], [TrackId], [UnitPrice], [Quantity]) VALUES (4, 2, 8, 0.99, 1);\n",
    "INSERT INTO [InvoiceLine] ([InvoiceLineId], [InvoiceId], [TrackId], [UnitPrice], [Quantity]) VALUES (5, 2, 10, 0.99, 1);\n",
    "INSERT INTO [InvoiceLine] ([InvoiceLineId], [InvoiceId], [TrackId], [UnitPrice], [Quantity]) VALUES (6, 2, 12, 0.99, 1);\n",
    "INSERT INTO [InvoiceLine] ([InvoiceLineId], [InvoiceId], [TrackId], [UnitPrice], [Quantity]) VALUES (7, 3, 16, 0.99, 1);"
   ]
  },
  {
   "cell_type": "code",
   "execution_count": 6,
   "metadata": {
    "collapsed": false
   },
   "outputs": [
    {
     "data": {
      "text/html": [
       "<div>\n",
       "<table border=\"1\" class=\"dataframe\">\n",
       "  <thead>\n",
       "    <tr style=\"text-align: right;\">\n",
       "      <th></th>\n",
       "      <th>InvoiceLineId</th>\n",
       "      <th>InvoiceId</th>\n",
       "      <th>TrackId</th>\n",
       "      <th>UnitPrice</th>\n",
       "      <th>Quantity</th>\n",
       "    </tr>\n",
       "  </thead>\n",
       "  <tbody>\n",
       "    <tr>\n",
       "      <th>0</th>\n",
       "      <td>1</td>\n",
       "      <td>1</td>\n",
       "      <td>2</td>\n",
       "      <td>0.99</td>\n",
       "      <td>1</td>\n",
       "    </tr>\n",
       "    <tr>\n",
       "      <th>1</th>\n",
       "      <td>2</td>\n",
       "      <td>1</td>\n",
       "      <td>4</td>\n",
       "      <td>0.99</td>\n",
       "      <td>1</td>\n",
       "    </tr>\n",
       "    <tr>\n",
       "      <th>2</th>\n",
       "      <td>3</td>\n",
       "      <td>2</td>\n",
       "      <td>6</td>\n",
       "      <td>0.99</td>\n",
       "      <td>1</td>\n",
       "    </tr>\n",
       "    <tr>\n",
       "      <th>3</th>\n",
       "      <td>4</td>\n",
       "      <td>2</td>\n",
       "      <td>8</td>\n",
       "      <td>0.99</td>\n",
       "      <td>1</td>\n",
       "    </tr>\n",
       "    <tr>\n",
       "      <th>4</th>\n",
       "      <td>5</td>\n",
       "      <td>2</td>\n",
       "      <td>10</td>\n",
       "      <td>0.99</td>\n",
       "      <td>1</td>\n",
       "    </tr>\n",
       "    <tr>\n",
       "      <th>5</th>\n",
       "      <td>6</td>\n",
       "      <td>2</td>\n",
       "      <td>12</td>\n",
       "      <td>0.99</td>\n",
       "      <td>1</td>\n",
       "    </tr>\n",
       "    <tr>\n",
       "      <th>6</th>\n",
       "      <td>7</td>\n",
       "      <td>3</td>\n",
       "      <td>16</td>\n",
       "      <td>0.99</td>\n",
       "      <td>1</td>\n",
       "    </tr>\n",
       "  </tbody>\n",
       "</table>\n",
       "</div>"
      ],
      "text/plain": [
       "   InvoiceLineId  InvoiceId  TrackId  UnitPrice  Quantity\n",
       "0              1          1        2       0.99         1\n",
       "1              2          1        4       0.99         1\n",
       "2              3          2        6       0.99         1\n",
       "3              4          2        8       0.99         1\n",
       "4              5          2       10       0.99         1\n",
       "5              6          2       12       0.99         1\n",
       "6              7          3       16       0.99         1"
      ]
     },
     "execution_count": 6,
     "metadata": {},
     "output_type": "execute_result"
    }
   ],
   "source": [
    "query = \"SELECT * FROM InvoiceLine\"\n",
    "\n",
    "df = pd.read_sql(query, conn)\n",
    "df"
   ]
  },
  {
   "cell_type": "code",
   "execution_count": 7,
   "metadata": {
    "collapsed": true
   },
   "outputs": [],
   "source": [
    "# be sure to close the connection to the database when done\n",
    "conn.close()"
   ]
  },
  {
   "cell_type": "markdown",
   "metadata": {},
   "source": [
    "##### A bunch of queries against the Chinook database"
   ]
  },
  {
   "cell_type": "code",
   "execution_count": 8,
   "metadata": {
    "collapsed": true
   },
   "outputs": [],
   "source": [
    "# command = '''\n",
    "# SELECT \n",
    "# Customer.Email, \n",
    "# Customer.FirstName, \n",
    "# Customer.LastName, \n",
    "# Genre.Name AS Genre \n",
    "# FROM Customer \n",
    "#     JOIN Invoice \n",
    "#         ON Customer.CustomerId=Invoice.CustomerId\n",
    "#     JOIN InvoiceLine \n",
    "#         ON Invoice.InvoiceId=InvoiceLine.InvoiceId\n",
    "#     JOIN Track\n",
    "#         ON InvoiceLine.TrackId=Track.TrackId \n",
    "#     JOIN Genre\n",
    "#         ON Track.GenreId=Genre.GenreId\n",
    "# WHERE Genre.GenreId = 1 \n",
    "# GROUP BY Customer.CustomerId \n",
    "# ORDER BY Customer.Email ASC\n",
    "# '''\n",
    "\n",
    "\n",
    "# command = '''\n",
    "# SELECT \n",
    "# BillingCity, SUM(Total ) \n",
    "# FROM Invoice \n",
    "# GROUP BY BillingCity \n",
    "# ORDER BY SUM(Total) DESC\n",
    "# limit 1\n",
    "# '''\n",
    "\n",
    "\n",
    "# command = '''\n",
    "# SELECT \n",
    "# Invoice.BillingCity,\n",
    "# COUNT(Genre.Name),\n",
    "# Genre.Name\n",
    "# FROM Invoice \n",
    "#     JOIN InvoiceLine\n",
    "#         ON Invoice.InvoiceId=InvoiceLine.InvoiceId\n",
    "#     JOIN Track\n",
    "#         ON InvoiceLine.TrackId=Track.TrackID\n",
    "#     JOIN Genre\n",
    "#         ON Track.GenreId=Genre.GenreId\n",
    "# WHERE Invoice.BillingCity = 'Prague'\n",
    "# GROUP BY Genre.Name\n",
    "# ORDER BY COUNT(Genre.Name) DESC\n",
    "# limit 3\n",
    "# '''\n",
    "\n",
    "\n",
    "# command = '''\n",
    "# SELECT \n",
    "# Artist.Name as Artist, \n",
    "# COUNT(Genre.Name) as count \n",
    "# FROM Genre\n",
    "#     JOIN Track\n",
    "#         ON Genre.GenreId=Track.GenreId\n",
    "#     JOIN Album\n",
    "#         ON Track.AlbumId=Album.AlbumId\n",
    "#     JOIN Artist\n",
    "#         ON Album.ArtistId=Artist.ArtistId\n",
    "# WHERE Genre.GenreId = 1\n",
    "# GROUP BY Artist.Name\n",
    "# ORDER BY COUNT(Genre.Name) DESC\n",
    "# limit 10\n",
    "# '''\n",
    "\n",
    "\n",
    "# command = '''\n",
    "# SELECT\n",
    "# Invoice.BillingCity,\n",
    "# Count(Genre.Name) AS NumTracks\n",
    "# FROM Invoice\n",
    "#     JOIN InvoiceLine\n",
    "#         ON Invoice.InvoiceId=InvoiceLine.InvoiceId\n",
    "#     JOIN Track\n",
    "#         ON InvoiceLine.TrackId=Track.TrackId\n",
    "#     JOIN Genre\n",
    "#         ON Track.GenreId=Genre.GenreId\n",
    "# WHERE Genre.GenreId = 4 and Invoice.BillingCountry = 'France'\n",
    "# GROUP BY Invoice.BillingCity\n",
    "# ORDER BY NumTracks DESC\n",
    "# '''\n",
    "\n",
    "\n",
    "# command = '''\n",
    "# SELECT SUM(Total)\n",
    "# FROM \n",
    "# (SELECT COUNT(*) AS Total\n",
    "# FROM Invoice\n",
    "# GROUP BY BillingCountry\n",
    "# ORDER BY Total DESC\n",
    "# LIMIT 5);\n",
    "# '''\n",
    "\n",
    "\n",
    "# command = '''\n",
    "# SELECT BillingCity, BillingState, BillingCountry, Total\n",
    "# FROM Invoice,\n",
    "# (SELECT AVG(Total) AS Average\n",
    "# FROM Invoice) as Subquery\n",
    "# WHERE Total > average;\n",
    "# '''\n",
    "\n",
    "\n",
    "# command = '''\n",
    "# SELECT FirstName, LastName, BillingCity, BillingState, BillingCountry, Total\n",
    "# FROM Invoice\n",
    "#     JOIN Customer\n",
    "#         JOIN (SELECT avg(Total) AS Average FROM Invoice) AS Subquery\n",
    "# WHERE Total > Average;\n",
    "# '''\n",
    "\n",
    "\n",
    "# command = '''\n",
    "# SELECT FirstName, LastName, BillingCity, BillingState, BillingCountry, Total\n",
    "# FROM Invoice\n",
    "#     JOIN Customer\n",
    "#         JOIN (SELECT avg(Total) AS Average FROM Invoice) AS Subquery\n",
    "# WHERE Total > Average;\n",
    "# '''\n",
    "\n",
    "\n",
    "# command = '''\n",
    "# SELECT COUNT(DISTINCT Invoice.CustomerId), Invoice.CustomerId, Invoice.InvoiceId, InvoiceLine.InvoiceLineId, InvoiceLine.TrackId, Track.GenreId\n",
    "# FROM Invoice\n",
    "#     JOIN InvoiceLine\n",
    "#         ON Invoice.InvoiceId=InvoiceLine.InvoiceId\n",
    "#     JOIN Track\n",
    "#         ON InvoiceLine.TrackId=Track.TrackId\n",
    "# WHERE Track.GenreId=2\n",
    "# '''"
   ]
  },
  {
   "cell_type": "code",
   "execution_count": null,
   "metadata": {
    "collapsed": true
   },
   "outputs": [],
   "source": []
  }
 ],
 "metadata": {
  "anaconda-cloud": {},
  "kernelspec": {
   "display_name": "Python [conda env:bunnies]",
   "language": "python",
   "name": "conda-env-bunnies-py"
  },
  "language_info": {
   "codemirror_mode": {
    "name": "ipython",
    "version": 3
   },
   "file_extension": ".py",
   "mimetype": "text/x-python",
   "name": "python",
   "nbconvert_exporter": "python",
   "pygments_lexer": "ipython3",
   "version": "3.5.2"
  },
  "latex_envs": {
   "LaTeX_envs_menu_present": true,
   "bibliofile": "biblio.bib",
   "cite_by": "apalike",
   "current_citInitial": 1,
   "eqLabelWithNumbers": true,
   "eqNumInitial": 1,
   "hotkeys": {
    "equation": "Ctrl-E",
    "itemize": "Ctrl-I"
   },
   "labels_anchors": false,
   "latex_user_defs": false,
   "report_style_numbering": false,
   "user_envs_cfg": false
  }
 },
 "nbformat": 4,
 "nbformat_minor": 1
}
