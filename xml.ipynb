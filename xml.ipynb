{
 "cells": [
  {
   "cell_type": "markdown",
   "metadata": {},
   "source": [
    "# XML"
   ]
  },
  {
   "cell_type": "code",
   "execution_count": null,
   "metadata": {
    "collapsed": true
   },
   "outputs": [],
   "source": [
    "# import XML package\n",
    "import xml.etree.ElementTree as ET\n",
    "\n",
    "# create the XML Element Tree object\n",
    "tree = ET.parse('supporting-files/exampleresearcharticle.xml')\n",
    "type(tree)"
   ]
  },
  {
   "cell_type": "code",
   "execution_count": null,
   "metadata": {
    "collapsed": true
   },
   "outputs": [],
   "source": [
    "# find the element that I want\n",
    "root = tree.getroot()\n",
    "type(root)"
   ]
  },
  {
   "cell_type": "code",
   "execution_count": null,
   "metadata": {
    "collapsed": true
   },
   "outputs": [],
   "source": [
    "print(\"\\nChildren of root\")\n",
    "\n",
    "# print out each direct child element's tag in the root object\n",
    "for child in root:\n",
    "    # .tag attribute being used here\n",
    "    print(child.tag)"
   ]
  },
  {
   "cell_type": "markdown",
   "metadata": {},
   "source": [
    "##### Use XPATH to find specific elements"
   ]
  },
  {
   "cell_type": "code",
   "execution_count": null,
   "metadata": {
    "collapsed": true
   },
   "outputs": [],
   "source": [
    "# find the first element matching the xpath request\n",
    "title = root.find('./fm/bibl/title')\n",
    "title"
   ]
  },
  {
   "cell_type": "markdown",
   "metadata": {},
   "source": [
    "Pull out the title:"
   ]
  },
  {
   "cell_type": "code",
   "execution_count": null,
   "metadata": {
    "collapsed": true
   },
   "outputs": [],
   "source": [
    "# placeholder for text\n",
    "title_text = \"\"\n",
    "\n",
    "# loops through title element\n",
    "for p in title:\n",
    "    # in-place appends placeholder for text\n",
    "    title_text += p.text\n",
    "title_text"
   ]
  },
  {
   "cell_type": "markdown",
   "metadata": {},
   "source": [
    "Pull out the Author's email address:"
   ]
  },
  {
   "cell_type": "code",
   "execution_count": null,
   "metadata": {
    "collapsed": true
   },
   "outputs": [],
   "source": [
    "# element.findall() method finds all matching subelements by tag name or path\n",
    "# loops and prints for each item found\n",
    "for a in root.findall('./fm/bibl/aug/au'):\n",
    "    email = a.find('email').text\n",
    "    if email is not None:\n",
    "        print(email)"
   ]
  },
  {
   "cell_type": "markdown",
   "metadata": {},
   "source": [
    "##### Focus in on more specific data scraping"
   ]
  },
  {
   "cell_type": "code",
   "execution_count": null,
   "metadata": {
    "collapsed": true
   },
   "outputs": [],
   "source": [
    "article_file = \"supporting-files/exampleResearchArticle.xml\"\n",
    "\n",
    "def get_root(fname):\n",
    "    tree = ET.parse(fname)\n",
    "    return tree.getroot()\n",
    "\n",
    "\n",
    "def get_authors(root):\n",
    "    authors = []\n",
    "    for author in root.findall('./fm/bibl/aug/au'):\n",
    "        data = {\n",
    "                \"fnm\": None,\n",
    "                \"snm\": None,\n",
    "                \"email\": None,\n",
    "                \"insr\": []\n",
    "        }\n",
    "\n",
    "        # YOUR CODE HERE\n",
    "        data['fnm'] = author.find('fnm').text\n",
    "        data['snm'] = author.find('snm').text\n",
    "        data['email'] = author.find('email').text\n",
    "        insr = author.findall('./insr')\n",
    "        for i in insr:\n",
    "            data['insr'].append(i.attrib['iid'])\n",
    "\n",
    "        authors.append(data)\n",
    "\n",
    "    return authors\n",
    "root = get_root(article_file)\n",
    "data = get_authors(root)\n",
    "data"
   ]
  },
  {
   "cell_type": "markdown",
   "metadata": {},
   "source": [
    "##### Use parsing to count number of tags in an XML file"
   ]
  },
  {
   "cell_type": "code",
   "execution_count": null,
   "metadata": {
    "collapsed": true
   },
   "outputs": [],
   "source": [
    "import xml.etree.ElementTree as ET\n",
    "\n",
    "# REQS:\n",
    "    # make dict\n",
    "# EX:\n",
    "    # REQS:\n",
    "        # make dict\n",
    "    # RULES:\n",
    "        # node must be uniquely identified\n",
    "        # node must be added to a dict and not repeated\n",
    "        # use xml package to make root\n",
    "    # COMP:\n",
    "        # iterate over each line\n",
    "            # if does not contain '/'\n",
    "                # add to dict\n",
    "                    # if exists already, add and increment value by 1\n",
    "                    # else, just add\n",
    "    # DECOMP:\n",
    "        # Iterate over each line, add node name to dict with value 1\n",
    "            # if item is not in dict already, add and make value 1\n",
    "            # if in dict already, increment that key's value by 1\n",
    "    \n",
    "def count_tags(filename):\n",
    "    # create XML tree objet\n",
    "    tree = ET.parse(filename)\n",
    "    \n",
    "    # create root object to parse the XML tree\n",
    "    root = tree.getroot()\n",
    "    \n",
    "    # holds all tags (keys) and counts for each instance of key (value)\n",
    "    tags_dict = {}\n",
    "    \n",
    "    # fills in dict with tags and counts\n",
    "    for element in tree.iter():\n",
    "        if element.tag in tags_dict:\n",
    "            tags_dict[element.tag] += 1\n",
    "        else:\n",
    "            tags_dict[element.tag] = 1\n",
    "            \n",
    "    return tags_dict\n",
    "\n",
    "file = 'sample-data/example.osm'\n",
    "count_tags(file)"
   ]
  },
  {
   "cell_type": "markdown",
   "metadata": {},
   "source": [
    "##### Use ITERATIVE parsing to count number of tags in an XML file"
   ]
  },
  {
   "cell_type": "code",
   "execution_count": null,
   "metadata": {
    "collapsed": true
   },
   "outputs": [],
   "source": [
    "import xml.etree.ElementTree as ET\n",
    "\n",
    "# REQS:\n",
    "    # make dict\n",
    "# EX:\n",
    "    # REQS:\n",
    "        # make dict\n",
    "    # RULES:\n",
    "        # node must be uniquely identified\n",
    "        # node must be added to a dict and not repeated\n",
    "        # use xml package to make root\n",
    "    # COMP:\n",
    "        # iterate over each line\n",
    "            # if does not contain '/'\n",
    "                # add to dict\n",
    "                    # if exists already, add and increment value by 1\n",
    "                    # else, just add\n",
    "    # DECOMP:\n",
    "        # Iterate over each line, add node name to dict with value 1\n",
    "            # if item is not in dict already, add and make value 1\n",
    "            # if in dict already, increment that key's value by 1\n",
    "    \n",
    "def count_tags(filename):\n",
    "    # holds all tags (keys) and counts for each instance of key (value)\n",
    "    tags_dict = {}\n",
    "    \n",
    "    # fills in dict with tags and counts\n",
    "    # note, here every time a start event is found\n",
    "    # the event and the element that it found\n",
    "    for event, element in ET.iterparse(filename, events=('start',)):\n",
    "        if element.tag in tags_dict:\n",
    "            tags_dict[element.tag] += 1\n",
    "            # just to show that .iterparse() returns the element\n",
    "            print(element)\n",
    "        else:\n",
    "            tags_dict[element.tag] = 1\n",
    "            # just to show that .iterparse() returns the event\n",
    "            print(event)\n",
    "            \n",
    "    return tags_dict\n",
    "\n",
    "file = 'sample-data/example.osm'\n",
    "count_tags(file)"
   ]
  },
  {
   "cell_type": "markdown",
   "metadata": {},
   "source": [
    "##### Parsing an XML file in its entirety with the ElementTree module"
   ]
  },
  {
   "cell_type": "code",
   "execution_count": null,
   "metadata": {
    "collapsed": true
   },
   "outputs": [],
   "source": [
    "# import the ElementTree XML API\n",
    "import xml.etree.ElementTree as ET\n",
    "\n",
    "# path to the XML file\n",
    "OSM_PATH = \"sample_data/example5.osm\"\n",
    "\n",
    "# create the ElementTree object\n",
    "tree_obj = ET.parse(OSM_PATH)\n",
    "tree_obj"
   ]
  },
  {
   "cell_type": "markdown",
   "metadata": {},
   "source": [
    "The ElementTree object itself is not iterable. Its root element (parent to all other elements and of type Element), however, is a reference to the tree and is iterable:"
   ]
  },
  {
   "cell_type": "code",
   "execution_count": null,
   "metadata": {
    "collapsed": true
   },
   "outputs": [],
   "source": [
    "# return the root element of the tree\n",
    "root = tree_obj.getroot()\n",
    "root"
   ]
  },
  {
   "cell_type": "code",
   "execution_count": null,
   "metadata": {
    "collapsed": true
   },
   "outputs": [],
   "source": [
    "# iterate over the children and children's children\n",
    "for child in root:\n",
    "    if child.tag == \"node\":\n",
    "        for child2 in child:\n",
    "            print(child2)"
   ]
  },
  {
   "cell_type": "markdown",
   "metadata": {},
   "source": [
    "For debugging purposes, dump() returns a complete representation of ALL elements of an Element object:"
   ]
  },
  {
   "cell_type": "code",
   "execution_count": null,
   "metadata": {
    "collapsed": true
   },
   "outputs": [],
   "source": [
    "ET.dump(root)"
   ]
  },
  {
   "cell_type": "markdown",
   "metadata": {},
   "source": [
    "##### Parsing an XML file incrementally with the ElementTree module"
   ]
  },
  {
   "cell_type": "code",
   "execution_count": null,
   "metadata": {
    "collapsed": true
   },
   "outputs": [],
   "source": [
    "import xml.etree.ElementTree as ET\n",
    "\n",
    "OSM_PATH = \"sample_data/example5.osm\"\n",
    "\n",
    "# create the IterParseIterator object\n",
    "iter_obj = ET.iterparse(OSM_PATH, events=('start','end'))\n",
    "iter_obj"
   ]
  },
  {
   "cell_type": "markdown",
   "metadata": {},
   "source": [
    "The IterParseIterator object is directly iterable, returning (event, elem) tuple pairs:"
   ]
  },
  {
   "cell_type": "code",
   "execution_count": null,
   "metadata": {
    "collapsed": true
   },
   "outputs": [],
   "source": [
    "event, root = next(iter_obj)\n",
    "print(event)\n",
    "print(root)\n",
    "root"
   ]
  },
  {
   "cell_type": "markdown",
   "metadata": {},
   "source": [
    "The remainder of the object (all elements and sub-elements) can be iterated over in a for loop:"
   ]
  },
  {
   "cell_type": "code",
   "execution_count": null,
   "metadata": {
    "collapsed": true
   },
   "outputs": [],
   "source": [
    "for event, elem in iter_obj:\n",
    "    print(elem)"
   ]
  },
  {
   "cell_type": "code",
   "execution_count": null,
   "metadata": {
    "collapsed": true
   },
   "outputs": [],
   "source": [
    "ET.dump(root)"
   ]
  },
  {
   "cell_type": "markdown",
   "metadata": {},
   "source": [
    "clear() removes all the insides of any given element - so here clearing the root removes everything inside of it including its children."
   ]
  },
  {
   "cell_type": "code",
   "execution_count": null,
   "metadata": {
    "collapsed": true
   },
   "outputs": [],
   "source": [
    "root.clear()"
   ]
  },
  {
   "cell_type": "code",
   "execution_count": null,
   "metadata": {
    "collapsed": true
   },
   "outputs": [],
   "source": [
    "ET.dump(root)"
   ]
  },
  {
   "cell_type": "markdown",
   "metadata": {},
   "source": [
    "##### The problem with memory and incremental parsing"
   ]
  },
  {
   "cell_type": "markdown",
   "metadata": {},
   "source": [
    "Incremental parsing of very large XML files is problematic because it can create a very large tree that can gobble up loads of computer memory."
   ]
  },
  {
   "cell_type": "code",
   "execution_count": null,
   "metadata": {
    "collapsed": true
   },
   "outputs": [],
   "source": [
    "import xml.etree.ElementTree as ET\n",
    "from sys import getsizeof\n",
    "\n",
    "OSM_PATH = \"sample_data/example5.osm\"\n",
    "\n",
    "# create the IterParseIterator object\n",
    "iterobj = ET.iterparse(OSM_PATH, events=('start','end'))\n",
    "iterobj"
   ]
  },
  {
   "cell_type": "code",
   "execution_count": null,
   "metadata": {
    "collapsed": true
   },
   "outputs": [],
   "source": [
    "# pull out the reference to the root element\n",
    "event, root = next(iterobj)\n",
    "root"
   ]
  },
  {
   "cell_type": "code",
   "execution_count": null,
   "metadata": {
    "collapsed": true
   },
   "outputs": [],
   "source": [
    "ET.dump(root)"
   ]
  },
  {
   "cell_type": "markdown",
   "metadata": {},
   "source": [
    "To avoid making a very large tree when parsing a very large XML file, the clear() method from ElementTree can clear each element being built with each iteration of the loop:"
   ]
  },
  {
   "cell_type": "code",
   "execution_count": null,
   "metadata": {
    "collapsed": true
   },
   "outputs": [],
   "source": [
    "# iterate over all remaining, clearing any elements with certain tags\n",
    "for event, elem in iterobj:\n",
    "    if (elem.tag == \"bounds\") or (elem.tag == \"node\") or (elem.tag == \"way\") or (elem.tag == \"relation\"):\n",
    "        elem.clear()"
   ]
  },
  {
   "cell_type": "code",
   "execution_count": null,
   "metadata": {
    "collapsed": true
   },
   "outputs": [],
   "source": [
    "ET.dump(root)"
   ]
  },
  {
   "cell_type": "markdown",
   "metadata": {},
   "source": [
    "Note that the root reference was returned first. Then references to all the other elements were returned in the for loop, but when dumping the root those empty tags (the elements that were cleared but their tags left as artifacts) are still there. This demonstrates the fact that each unpacked element is a REFERENCE to the tree!\n",
    "\n",
    "Still, clearing elements like this is only slightly less problematic because we're now left with the parent element and a bunch of child elements with their internals cleared out.\n",
    "\n",
    "To fix this, we can clear everything within the root element with each iteration of the for loop. This clears out the sub-element that has just been added to the tree."
   ]
  },
  {
   "cell_type": "code",
   "execution_count": null,
   "metadata": {
    "collapsed": true
   },
   "outputs": [],
   "source": [
    "import xml.etree.ElementTree as ET\n",
    "\n",
    "OSM_PATH = \"sample_data/example5.osm\"\n",
    "\n",
    "# create the IterParseIterator object\n",
    "iterobj = ET.iterparse(OSM_PATH, events=('start','end'))\n",
    "iterobj"
   ]
  },
  {
   "cell_type": "code",
   "execution_count": null,
   "metadata": {
    "collapsed": true
   },
   "outputs": [],
   "source": [
    "event, root = next(iterobj)\n",
    "root"
   ]
  },
  {
   "cell_type": "markdown",
   "metadata": {},
   "source": [
    "Without clearing anything, dumping the root shows that, if iterated over, the tree is fully populated."
   ]
  },
  {
   "cell_type": "code",
   "execution_count": null,
   "metadata": {
    "collapsed": true
   },
   "outputs": [],
   "source": [
    "ET.dump(root)"
   ]
  },
  {
   "cell_type": "markdown",
   "metadata": {},
   "source": [
    "Clearing the root with each iteration of the below for loop will remove each element just as it's added to the tree. So the tree never has an opportunity to be built."
   ]
  },
  {
   "cell_type": "code",
   "execution_count": null,
   "metadata": {
    "collapsed": true
   },
   "outputs": [],
   "source": [
    "for event, elem in iterobj:\n",
    "    print(\"Element was added to the tree\")\n",
    "    print(\"Element was: \", elem)\n",
    "    root.clear()\n",
    "    print(\"\\nAll elements cleared via clear()\\n\")"
   ]
  },
  {
   "cell_type": "markdown",
   "metadata": {},
   "source": [
    "Now we can see that dumping the root after the iteration process leaves us with an empty root:"
   ]
  },
  {
   "cell_type": "code",
   "execution_count": null,
   "metadata": {
    "collapsed": true
   },
   "outputs": [],
   "source": [
    "ET.dump(root)"
   ]
  },
  {
   "cell_type": "markdown",
   "metadata": {},
   "source": [
    "No more memory being gummed up!!!"
   ]
  },
  {
   "cell_type": "code",
   "execution_count": null,
   "metadata": {
    "collapsed": true
   },
   "outputs": [],
   "source": []
  },
  {
   "cell_type": "code",
   "execution_count": null,
   "metadata": {
    "collapsed": true
   },
   "outputs": [],
   "source": []
  },
  {
   "cell_type": "code",
   "execution_count": null,
   "metadata": {
    "collapsed": true
   },
   "outputs": [],
   "source": []
  },
  {
   "cell_type": "code",
   "execution_count": null,
   "metadata": {
    "collapsed": true
   },
   "outputs": [],
   "source": []
  },
  {
   "cell_type": "code",
   "execution_count": null,
   "metadata": {
    "collapsed": true
   },
   "outputs": [],
   "source": []
  },
  {
   "cell_type": "code",
   "execution_count": null,
   "metadata": {
    "collapsed": true
   },
   "outputs": [],
   "source": []
  },
  {
   "cell_type": "code",
   "execution_count": 5,
   "metadata": {
    "collapsed": true
   },
   "outputs": [],
   "source": [
    "#!/usr/bin/env python\n",
    "# -*- coding: utf-8 -*-\n",
    "\n",
    "\"\"\"\n",
    "After auditing is complete the next step is to prepare the data to be inserted into a SQL database.\n",
    "To do so you will parse the elements in the OSM XML file, transforming them from document format to\n",
    "tabular format, thus making it possible to write to .csv files.  These csv files can then easily be\n",
    "imported to a SQL database as tables.\n",
    "\n",
    "The process for this transformation is as follows:\n",
    "- Use iterparse to iteratively step through each top level element in the XML\n",
    "- Shape each element into several data structures using a custom function\n",
    "- Utilize a schema and validation library to ensure the transformed data is in the correct format\n",
    "- Write each data structure to the appropriate .csv files\n",
    "\n",
    "We've already provided the code needed to load the data, perform iterative parsing and write the\n",
    "output to csv files. Your task is to complete the shape_element function that will transform each\n",
    "element into the correct format. To make this process easier we've already defined a schema (see\n",
    "the schema.py file in the last code tab) for the .csv files and the eventual tables. Using the \n",
    "cerberus library we can validate the output against this schema to ensure it is correct.\n",
    "\n",
    "## Shape Element Function\n",
    "The function should take as input an iterparse Element object and return a dictionary.\n",
    "\n",
    "### If the element top level tag is \"node\":\n",
    "The dictionary returned should have the format {\"node\": .., \"node_tags\": ...}\n",
    "\n",
    "The \"node\" field should hold a dictionary of the following top level node attributes:\n",
    "- id\n",
    "- user\n",
    "- uid\n",
    "- version\n",
    "- lat\n",
    "- lon\n",
    "- timestamp\n",
    "- changeset\n",
    "All other attributes can be ignored\n",
    "\n",
    "The \"node_tags\" field should hold a list of dictionaries, one per secondary tag. Secondary tags are\n",
    "child tags of node which have the tag name/type: \"tag\". Each dictionary should have the following\n",
    "fields from the secondary tag attributes:\n",
    "- id: the top level node id attribute value\n",
    "- key: the full tag \"k\" attribute value if no colon is present or the characters after the colon if one is.\n",
    "- value: the tag \"v\" attribute value\n",
    "- type: either the characters before the colon in the tag \"k\" value or \"regular\" if a colon\n",
    "        is not present.\n",
    "\n",
    "Additionally,\n",
    "\n",
    "- if the tag \"k\" value contains problematic characters, the tag should be ignored\n",
    "- if the tag \"k\" value contains a \":\" the characters before the \":\" should be set as the tag type\n",
    "  and characters after the \":\" should be set as the tag key\n",
    "- if there are additional \":\" in the \"k\" value they and they should be ignored and kept as part of\n",
    "  the tag key. For example:\n",
    "\n",
    "  <tag k=\"addr:street:name\" v=\"Lincoln\"/>\n",
    "  should be turned into\n",
    "  {'id': 12345, 'key': 'street:name', 'value': 'Lincoln', 'type': 'addr'}\n",
    "\n",
    "- If a node has no secondary tags then the \"node_tags\" field should just contain an empty list.\n",
    "\n",
    "The final return value for a \"node\" element should look something like:\n",
    "\n",
    "{'node': {'id': 757860928,\n",
    "          'user': 'uboot',\n",
    "          'uid': 26299,\n",
    "       'version': '2',\n",
    "          'lat': 41.9747374,\n",
    "          'lon': -87.6920102,\n",
    "          'timestamp': '2010-07-22T16:16:51Z',\n",
    "      'changeset': 5288876},\n",
    " 'node_tags': [{'id': 757860928,\n",
    "                'key': 'amenity',\n",
    "                'value': 'fast_food',\n",
    "                'type': 'regular'},\n",
    "               {'id': 757860928,\n",
    "                'key': 'cuisine',\n",
    "                'value': 'sausage',\n",
    "                'type': 'regular'},\n",
    "               {'id': 757860928,\n",
    "                'key': 'name',\n",
    "                'value': \"Shelly's Tasty Freeze\",\n",
    "                'type': 'regular'}]}\n",
    "\n",
    "### If the element top level tag is \"way\":\n",
    "The dictionary should have the format {\"way\": ..., \"way_tags\": ..., \"way_nodes\": ...}\n",
    "\n",
    "The \"way\" field should hold a dictionary of the following top level way attributes:\n",
    "- id\n",
    "-  user\n",
    "- uid\n",
    "- version\n",
    "- timestamp\n",
    "- changeset\n",
    "\n",
    "All other attributes can be ignored\n",
    "\n",
    "The \"way_tags\" field should again hold a list of dictionaries, following the exact same rules as\n",
    "for \"node_tags\".\n",
    "\n",
    "Additionally, the dictionary should have a field \"way_nodes\". \"way_nodes\" should hold a list of\n",
    "dictionaries, one for each nd child tag.  Each dictionary should have the fields:\n",
    "- id: the top level element (way) id\n",
    "- node_id: the ref attribute value of the nd tag\n",
    "- position: the index starting at 0 of the nd tag i.e. what order the nd tag appears within\n",
    "            the way element\n",
    "\n",
    "The final return value for a \"way\" element should look something like:\n",
    "\n",
    "{'way': {'id': 209809850,\n",
    "         'user': 'chicago-buildings',\n",
    "         'uid': 674454,\n",
    "         'version': '1',\n",
    "         'timestamp': '2013-03-13T15:58:04Z',\n",
    "         'changeset': 15353317},\n",
    " 'way_nodes': [{'id': 209809850, 'node_id': 2199822281, 'position': 0},\n",
    "               {'id': 209809850, 'node_id': 2199822390, 'position': 1},\n",
    "               {'id': 209809850, 'node_id': 2199822392, 'position': 2},\n",
    "               {'id': 209809850, 'node_id': 2199822369, 'position': 3},\n",
    "               {'id': 209809850, 'node_id': 2199822370, 'position': 4},\n",
    "               {'id': 209809850, 'node_id': 2199822284, 'position': 5},\n",
    "               {'id': 209809850, 'node_id': 2199822281, 'position': 6}],\n",
    " 'way_tags': [{'id': 209809850,\n",
    "               'key': 'housenumber',\n",
    "               'type': 'addr',\n",
    "               'value': '1412'},\n",
    "              {'id': 209809850,\n",
    "               'key': 'street',\n",
    "               'type': 'addr',\n",
    "               'value': 'West Lexington St.'},\n",
    "              {'id': 209809850,\n",
    "               'key': 'street:name',\n",
    "               'type': 'addr',\n",
    "               'value': 'Lexington'},\n",
    "              {'id': '209809850',\n",
    "               'key': 'street:prefix',\n",
    "               'type': 'addr',\n",
    "               'value': 'West'},\n",
    "              {'id': 209809850,\n",
    "               'key': 'street:type',\n",
    "               'type': 'addr',\n",
    "               'value': 'Street'},\n",
    "              {'id': 209809850,\n",
    "               'key': 'building',\n",
    "               'type': 'regular',\n",
    "               'value': 'yes'},\n",
    "              {'id': 209809850,\n",
    "               'key': 'levels',\n",
    "               'type': 'building',\n",
    "               'value': '1'},\n",
    "              {'id': 209809850,\n",
    "               'key': 'building_id',\n",
    "               'type': 'chicago',\n",
    "               'value': '366409'}]}\n",
    "\"\"\" \n",
    "    \n",
    "import csv\n",
    "import codecs\n",
    "import pprint\n",
    "import re\n",
    "import xml.etree.cElementTree as ET\n",
    "\n",
    "import cerberus\n",
    "\n",
    "from sample_data import schema\n",
    "\n",
    "OSM_PATH = \"sample_data/example5.osm\"\n",
    "\n",
    "NODES_PATH = \"sample_data/sample_xml_exports/nodes.csv\"\n",
    "NODE_TAGS_PATH = \"sample_data/sample_xml_exports/nodes_tags.csv\"\n",
    "WAYS_PATH = \"sample_data/sample_xml_exports/ways.csv\"\n",
    "WAY_NODES_PATH = \"sample_data/sample_xml_exports/ways_nodes.csv\"\n",
    "WAY_TAGS_PATH = \"sample_data/sample_xml_exports/ways_tags.csv\"\n",
    "\n",
    "LOWER_COLON = re.compile(r'^([a-z]|_)+:([a-z]|_)+')\n",
    "PROBLEMCHARS = re.compile(r'[=\\+/&<>;\\'\"\\?%#$@\\,\\. \\t\\r\\n]')\n",
    "\n",
    "SCHEMA = schema.schema\n",
    "\n",
    "# Make sure the fields order in the csvs matches the column order in the sql table schema\n",
    "NODE_FIELDS = ['id', 'lat', 'lon', 'user', 'uid', 'version', 'changeset', 'timestamp']\n",
    "NODE_TAGS_FIELDS = ['id', 'key', 'value', 'type']\n",
    "WAY_FIELDS = ['id', 'user', 'uid', 'version', 'changeset', 'timestamp']\n",
    "WAY_TAGS_FIELDS = ['id', 'key', 'value', 'type']\n",
    "WAY_NODES_FIELDS = ['id', 'node_id', 'position']\n",
    "\n",
    "\n",
    "# notes\n",
    "    # dict iteritems problem - should just use iter() in python 3\n",
    "        # see stack overflow article\n",
    "    # why are other input params for shape_element not yet used?\n",
    "\n",
    "\n",
    "\n",
    "def shape_element(element, node_attr_fields=NODE_FIELDS, way_attr_fields=WAY_FIELDS,\n",
    "                  problem_chars=PROBLEMCHARS, default_tag_type='regular'):\n",
    "    \"\"\"Clean and shape node or way XML element to Python dict\"\"\"\n",
    "\n",
    "    # holds dicts for 'tag' elements\n",
    "    tags = []\n",
    "    \n",
    "    # creates dicts for 'tag' elements\n",
    "    for child in element:\n",
    "            if child.tag == 'tag':\n",
    "                # check for problem characters\n",
    "                if PROBLEMCHARS.search(child.attrib['k']):\n",
    "                    pass\n",
    "                else:\n",
    "                    tag_dict = {'id':element.attrib['id'],\n",
    "                                # need to check for problematic characters\n",
    "                                'key':child.attrib['k'],\n",
    "                                'value':child.attrib['v'],\n",
    "                                'type':default_tag_type \n",
    "                               }\n",
    "\n",
    "                    # note, the following works just as well\n",
    "                        # if ':' in tag_dict['key']:\n",
    "                    # check for colon in string, fix dict accordingly\n",
    "                    if LOWER_COLON.search(tag_dict['key']):\n",
    "                        key_split = tag_dict['key'].split(':',1)\n",
    "\n",
    "                        tag_dict['key'] = key_split[1]\n",
    "                        tag_dict['type'] = key_split[0]\n",
    "\n",
    "                    tags.append(tag_dict)\n",
    "            \n",
    "    if element.tag == 'node':\n",
    "        node_attribs = {'id':int(element.attrib['id']),\n",
    "                   'user':element.attrib['user'],\n",
    "                   'uid':int(element.attrib['uid']),\n",
    "                   'version':element.attrib['version'],\n",
    "                   'lat':float(element.attrib['lat']),\n",
    "                    'lon':float(element.attrib['lon']),\n",
    "                    'timestamp':element.attrib['timestamp'],\n",
    "                    'changeset':int(element.attrib['changeset'])\n",
    "                   }\n",
    "        return {'node': node_attribs, 'node_tags': tags}\n",
    "    elif element.tag == 'way':\n",
    "        way_attribs = {'id':int(element.attrib['id']),\n",
    "                      'user':element.attrib['user'],\n",
    "                      'uid':int(element.attrib['uid']),\n",
    "                      'version':element.attrib['version'],\n",
    "                      'timestamp':element.attrib['timestamp'],\n",
    "                      'changeset':int(element.attrib['changeset'])\n",
    "                      }\n",
    "        \n",
    "        \n",
    "        # holds list of dicts for 'nd' elements\n",
    "        way_nodes = []\n",
    "        \n",
    "        # counter to increment instances of 'nd' tags\n",
    "        nd_counter = 0\n",
    "        \n",
    "        for child in element:\n",
    "            if child.tag == 'nd':\n",
    "                nd_dict = {'id':element.attrib['id'],\n",
    "                          'node_id':int(child.attrib['ref']),\n",
    "                          'position':nd_counter} # placeholder as 1 temporarily\n",
    "                nd_counter += 1\n",
    "                way_nodes.append(nd_dict)\n",
    "        \n",
    "        return {'way': way_attribs, 'way_nodes': way_nodes, 'way_tags': tags}\n",
    "\n",
    "\n",
    "# ================================================== #\n",
    "#               Helper Functions                     #\n",
    "# ================================================== #\n",
    "def get_element(osm_file, tags=('node', 'way', 'relation')):\n",
    "    \"\"\"Yield element if it is the right type of tag\"\"\"\n",
    "\n",
    "    context = ET.iterparse(osm_file, events=('start', 'end'))\n",
    "    \n",
    "    _, root = next(context)\n",
    "    \n",
    "    for event, elem in context:\n",
    "        if event == 'end' and elem.tag in tags:\n",
    "            yield elem\n",
    "            root.clear()\n",
    "\n",
    "\n",
    "def validate_element(element, validator, schema=SCHEMA):\n",
    "    \"\"\"Raise ValidationError if element does not match schema\"\"\"\n",
    "    if validator.validate(element, schema) is not True:\n",
    "        field, errors = next(validator.errors.iteritems())\n",
    "        message_string = \"\\nElement of type '{0}' has the following errors:\\n{1}\"\n",
    "        error_string = pprint.pformat(errors)\n",
    "        \n",
    "        raise Exception(message_string.format(field, error_string))\n",
    "\n",
    "\n",
    "# class UnicodeDictWriter(csv.DictWriter, object):\n",
    "#     \"\"\"Extend csv.DictWriter to handle Unicode input\"\"\"\n",
    "\n",
    "#     def writerow(self, row):\n",
    "#         super(csv.DictWriter, self).writerow({\n",
    "#             k: (v.encode('utf-8') if isinstance(v, unicode) else v) for k, v in row.iteritems()\n",
    "#         })\n",
    "\n",
    "#     def writerows(self, rows):\n",
    "#         for row in rows:\n",
    "#             self.writerow(row)\n",
    "\n",
    "\n",
    "# ================================================== #\n",
    "#               Main Function                        #\n",
    "# ================================================== #\n",
    "\n",
    "# takes in osm file and validate as \"True\" or \"False\"\n",
    "def process_map(file_in, validate):\n",
    "    \"\"\"Iteratively process each XML element and write to csv(s)\"\"\"\n",
    "\n",
    "    # open files in write mode\n",
    "    with codecs.open(NODES_PATH, 'w') as nodes_file, \\\n",
    "        codecs.open(NODE_TAGS_PATH, 'w') as nodes_tags_file, \\\n",
    "        codecs.open(WAYS_PATH, 'w') as ways_file, \\\n",
    "        codecs.open(WAY_NODES_PATH, 'w') as way_nodes_file, \\\n",
    "        codecs.open(WAY_TAGS_PATH, 'w') as way_tags_file:\n",
    "\n",
    "        # create writer objects\n",
    "        nodes_writer = csv.DictWriter(nodes_file, NODE_FIELDS)\n",
    "        node_tags_writer = csv.DictWriter(nodes_tags_file, NODE_TAGS_FIELDS)\n",
    "        ways_writer = csv.DictWriter(ways_file, WAY_FIELDS)\n",
    "        way_nodes_writer = csv.DictWriter(way_nodes_file, WAY_NODES_FIELDS)\n",
    "        way_tags_writer = csv.DictWriter(way_tags_file, WAY_TAGS_FIELDS)\n",
    "        \n",
    "        # Using the UnicodeDictWriter() method not necessary with Python 3\n",
    "#         nodes_writer = UnicodeDictWriter(nodes_file, NODE_FIELDS)\n",
    "#         node_tags_writer = UnicodeDictWriter(nodes_tags_file, NODE_TAGS_FIELDS)\n",
    "#         ways_writer = UnicodeDictWriter(ways_file, WAY_FIELDS)\n",
    "#         way_nodes_writer = UnicodeDictWriter(way_nodes_file, WAY_NODES_FIELDS)\n",
    "#         way_tags_writer = UnicodeDictWriter(way_tags_file, WAY_TAGS_FIELDS)\n",
    "\n",
    "        # write headers using field names specified in DictWriter constructor\n",
    "        nodes_writer.writeheader()\n",
    "        node_tags_writer.writeheader()\n",
    "        ways_writer.writeheader()\n",
    "        way_nodes_writer.writeheader()\n",
    "        way_tags_writer.writeheader()\n",
    "\n",
    "        # the Validator object instantiated here is callable to normalize \n",
    "        # and/or validate any mapping against validation schema \n",
    "        validator = cerberus.Validator()\n",
    "\n",
    "        # loop over elements of the XML file (a generator)\n",
    "        for element in get_element(file_in, tags=('node', 'way')):\n",
    "            el = shape_element(element)\n",
    "            if el:\n",
    "                if validate is True:\n",
    "                    validate_element(el, validator)\n",
    "                    \n",
    "                if element.tag == 'node':\n",
    "                    nodes_writer.writerow(el['node'])\n",
    "                    node_tags_writer.writerows(el['node_tags'])\n",
    "                elif element.tag == 'way':\n",
    "                    ways_writer.writerow(el['way'])\n",
    "                    way_nodes_writer.writerows(el['way_nodes'])\n",
    "                    way_tags_writer.writerows(el['way_tags'])\n",
    "\n",
    "\n",
    "if __name__ == '__main__':\n",
    "    # Note: Validation is ~ 10X slower. For the project consider using a small\n",
    "    # sample of the map when validating.\n",
    "    process_map(OSM_PATH, validate=True)\n"
   ]
  },
  {
   "cell_type": "code",
   "execution_count": null,
   "metadata": {
    "collapsed": true
   },
   "outputs": [],
   "source": [
    "import xml.etree.cElementTree as ET\n",
    "import pprint\n",
    "import re\n",
    "\"\"\"\n",
    "Your task is to explore the data a bit more.\n",
    "The first task is a fun one - find out how many unique users\n",
    "have contributed to the map in this particular area!\n",
    "\n",
    "The function process_map should return a set of unique user IDs (\"uid\")\n",
    "\"\"\"\n",
    "\n",
    "# REQS\n",
    "    # return a set of unique user IDs\n",
    "# EXEC\n",
    "    # get_user\n",
    "        # REQS: \n",
    "            # in: an element from XML\n",
    "            # out: a user id?\n",
    "        # RULES\n",
    "            # must pull value from 'uid' attribute\n",
    "        # COMP\n",
    "            # query the element for 'uid'\n",
    "        # DECOMP\n",
    "            # TRY: .attrib, print\n",
    "            # NEED: tell difference between elements with a uid, elements without\n",
    "    # process_map\n",
    "        # REQS: \n",
    "            # in: a filename/path\n",
    "            # out: a set of users\n",
    "        # RULES\n",
    "            # must call get_user()\n",
    "            # \n",
    "\n",
    "# returns a user id only if element contains one\n",
    "def get_user(element):\n",
    "    try:\n",
    "        return element.attrib['uid']\n",
    "    except:\n",
    "        pass\n",
    "\n",
    "\n",
    "# creates and returns a set of unique user ids\n",
    "def process_map(filename):\n",
    "    users = set()\n",
    "    for _, element in ET.iterparse(filename):\n",
    "        users.add(get_user(element))\n",
    "\n",
    "    # removes 'None' from set\n",
    "    users.remove(None)\n",
    "    return users\n",
    "\n",
    "\n",
    "def test():\n",
    "\n",
    "    users = process_map('sample-data/example3.osm')\n",
    "    pprint.pprint(users)\n",
    "    assert len(users) == 6\n",
    "\n",
    "\n",
    "\n",
    "if __name__ == \"__main__\":\n",
    "    test()"
   ]
  },
  {
   "cell_type": "code",
   "execution_count": null,
   "metadata": {
    "collapsed": true
   },
   "outputs": [],
   "source": [
    "import xml.etree.cElementTree as ET\n",
    "from collections import defaultdict\n",
    "import re\n",
    "import pprint\n",
    "\n",
    "OSMFILE = \"sample-data/example4.osm\"\n",
    "\n",
    "# compile object for making comparisons against regex\n",
    "street_type_re = re.compile(r'\\b\\S+\\.?$', re.IGNORECASE)\n",
    "\n",
    "\n",
    "expected = [\"Street\", \"Avenue\", \"Boulevard\", \"Drive\", \"Court\", \"Place\", \"Square\", \"Lane\", \"Road\", \n",
    "            \"Trail\", \"Parkway\", \"Commons\"]\n",
    "\n",
    "# UPDATE THIS VARIABLE\n",
    "mapping = { \"St.\": \"Street\",\n",
    "           \"Ave\": \"Avenue\",\n",
    "           \"Rd.\": \"Road\"\n",
    "          }\n",
    "\n",
    "\n",
    "# input: empty dict-like and string w/ name of street\n",
    "def audit_street_type(street_types, street_name):\n",
    "    # use regex compile object to find the last word in the street_name string\n",
    "    # traditionally the last word is the street, court, way, etc.\n",
    "    # return will either be a match object, or None\n",
    "    m = street_type_re.search(street_name)\n",
    "    \n",
    "    # if m is a match object (not None)\n",
    "    if m:\n",
    "        # .group() function pulls out the actual word\n",
    "        street_type = m.group()\n",
    "        if street_type not in expected:\n",
    "            street_types[street_type].add(street_name)\n",
    "\n",
    "\n",
    "# quick test returns True or False depending on k value of an element\n",
    "def is_street_name(elem):\n",
    "    return (elem.attrib['k'] == \"addr:street\")\n",
    "\n",
    "\n",
    "def audit(osmfile):\n",
    "    # open the osm file\n",
    "    osm_file = open(osmfile, \"r\")\n",
    "    \n",
    "    # initialize a dict-like using defaultdict and a set\n",
    "    street_types = defaultdict(set)\n",
    "    \n",
    "    # iteratively parse each element from OSM sequentially\n",
    "    for event, elem in ET.iterparse(osm_file, events=(\"start\",)):\n",
    "        if elem.tag == \"node\" or elem.tag == \"way\":\n",
    "            # .iter creates new tree iterator from current element as root to iterate over (includes all sub elements)\n",
    "            # input param is optional and specifies the specific tags I want (here only looking for \"tags\")\n",
    "            for tag in elem.iter(\"tag\"):\n",
    "                # calling is_street_name, takes in a tag\n",
    "                # outputs True or False\n",
    "                if is_street_name(tag):\n",
    "                    # calling audit_street_type function\n",
    "                    # input params:\n",
    "                        # street_types dict-like (is empty at this point)\n",
    "                        # the v value from the tag (which is the name of the street)\n",
    "                    audit_street_type(street_types, tag.attrib['v'])\n",
    "    osm_file.close()\n",
    "    # returns a dict-like\n",
    "    return street_types\n",
    "\n",
    "\n",
    "# input: incorrect name from st_types and the mapping dict\n",
    "def update_name(name, mapping):\n",
    "    \n",
    "    # match object for regex comparison \n",
    "    compare_name = street_type_re.search(name)\n",
    "    \n",
    "    # fetch the regex comparison\n",
    "    end_name = compare_name.group()\n",
    "    \n",
    "    # fetches the correct street naming based on mapping\n",
    "    new_street = mapping[end_name]\n",
    "    \n",
    "    # finds everything in front of the regex comparison\n",
    "    start_name = name.split(end_name,1)[0]\n",
    "    \n",
    "    name = start_name + new_street\n",
    "    return name\n",
    "\n",
    "\n",
    "def test():\n",
    "    # expecting a dict-like\n",
    "    st_types = audit(OSMFILE)\n",
    "    assert len(st_types) == 3\n",
    "    pprint.pprint(dict(st_types))\n",
    "\n",
    "    # st_type is a single string (key)\n",
    "    # ways is a set with one or more values\n",
    "    for st_type, ways in st_types.items():\n",
    "        for name in ways:\n",
    "            # input: incorrect name from st_types and the mapping dict\n",
    "            better_name = update_name(name, mapping)\n",
    "            # prints incorrect name and what it will be mapped to\n",
    "            print (name, \"=>\", better_name)\n",
    "            # tests\n",
    "            if name == \"West Lexington St.\":\n",
    "                assert better_name == \"West Lexington Street\"\n",
    "            if name == \"Baldwin Rd.\":\n",
    "                assert better_name == \"Baldwin Road\"\n",
    "\n",
    "\n",
    "if __name__ == '__main__':\n",
    "    test()"
   ]
  },
  {
   "cell_type": "code",
   "execution_count": null,
   "metadata": {
    "collapsed": true
   },
   "outputs": [],
   "source": [
    "import xml.etree.cElementTree as ET\n",
    "import pprint\n",
    "import re\n",
    "\n",
    "# REQS\n",
    "    # return a count of each of four tag types in a dict\n",
    "# EXEC\n",
    "    # key_type\n",
    "        # REQS\n",
    "            # input: element tag and keys dict\n",
    "            # output: an updated keys dict\n",
    "        # RULES\n",
    "            # k value of \"tag\" element must in one of the four categories\n",
    "        # COMP\n",
    "            # if not lower, then if not lower_colon, then if not problemchars, then other\n",
    "        # DECOMP\n",
    "            # EXPERIMENT: how to compare a string against a regex statement\n",
    "            # TRY: Set up regex comp and implement if/else\n",
    "                # EXPERIMENT: pull out the k value from <tag> elements\n",
    "                    # element.attrib['k']\n",
    "                # INVESTIGATE: why dict has wrong counts?\n",
    "                    # needed to use .seach instead of .match\n",
    "\n",
    "\n",
    "lower = re.compile(r'^([a-z]|_)*$')\n",
    "lower_colon = re.compile(r'^([a-z]|_)*:([a-z]|_)*$')\n",
    "problemchars = re.compile(r'[=\\+/&<>;\\'\"\\?%#$@\\,\\. \\t\\r\\n]')\n",
    "\n",
    "\n",
    "def key_type(element, keys):\n",
    "\n",
    "    if element.tag == \"tag\":\n",
    "        # find the k value for each element\n",
    "        k_value = element.attrib['k']\n",
    "        \n",
    "        # check to see if k value is described by each regex\n",
    "        if lower.search(k_value):\n",
    "            keys['lower'] += 1\n",
    "        elif lower_colon.search(k_value):\n",
    "            keys['lower_colon'] += 1\n",
    "        elif problemchars.search(k_value):\n",
    "            keys['problemchars'] += 1\n",
    "        else:\n",
    "            keys['other'] += 1\n",
    "        \n",
    "        pass\n",
    "        \n",
    "    return keys\n",
    "\n",
    "\n",
    "\n",
    "def process_map(filename):\n",
    "    keys = {\"lower\": 0, \"lower_colon\": 0, \"problemchars\": 0, \"other\": 0}\n",
    "    for _, element in ET.iterparse(filename):\n",
    "        \n",
    "        # with each iteration of .iterparse(), key_type method is called\n",
    "        keys = key_type(element, keys)\n",
    "\n",
    "    return keys\n",
    "\n",
    "\n",
    "\n",
    "def test():\n",
    "    # You can use another testfile 'map.osm' to look at your solution\n",
    "    # Note that the assertion below will be incorrect then.\n",
    "    # Note as well that the test function here is only used in the Test Run;\n",
    "    # when you submit, your code will be checked against a different dataset.\n",
    "    \n",
    "    # a dict \n",
    "    keys = process_map('sample-data/example2.osm')\n",
    "    pprint.pprint(keys)\n",
    "    assert keys == {'lower': 5, 'lower_colon': 0, 'other': 1, 'problemchars': 1}\n",
    "\n",
    "\n",
    "if __name__ == \"__main__\":\n",
    "    test()"
   ]
  },
  {
   "cell_type": "markdown",
   "metadata": {},
   "source": [
    "Script to take sample every kth elem:"
   ]
  },
  {
   "cell_type": "code",
   "execution_count": 3,
   "metadata": {},
   "outputs": [],
   "source": [
    "import xml.etree.ElementTree as ET\n",
    "\n",
    "OSM_FILE = \"/Users/mchana/GitHub/udacity/large_files/new-orleans_region.osm\"\n",
    "SAMPLE_FILE = \"/Users/mchana/GitHub/udacity/P3/PROJECT/supporting_files/new-orleans_region_sample_k10.osm\"\n",
    "\n",
    "k = 10 # Parameter: take every k-th top level element\n",
    "\n",
    "def get_element(osm_file, tags=('node', 'way', 'relation')):\n",
    "    \"\"\"Yield element if it is the right type of tag\n",
    "\n",
    "    Reference:\n",
    "    http://stackoverflow.com/questions/3095434/inserting-newlines-in-xml-file-generated-via-xml-etree-elementtree-in-python\n",
    "    \"\"\"\n",
    "    context = ET.iterparse(osm_file, events=('start', 'end'))\n",
    "    _, root = next(context)\n",
    "    for event, elem in context:\n",
    "        if event == 'end' and elem.tag in tags:\n",
    "            yield elem\n",
    "        root.clear()\n",
    "\n",
    "\n",
    "with open(SAMPLE_FILE, 'w') as output:\n",
    "    output.write('<?xml version=\"1.0\" encoding=\"UTF-8\"?>\\n')\n",
    "    output.write('<osm>\\n  ')\n",
    "\n",
    "    # Write every kth top level element\n",
    "    for i, element in enumerate(get_element(OSM_FILE)):\n",
    "        if i % k == 0:\n",
    "            output.write(ET.tostring(element, encoding='unicode'))\n",
    "\n",
    "    output.write('</osm>')"
   ]
  },
  {
   "cell_type": "code",
   "execution_count": null,
   "metadata": {
    "collapsed": true
   },
   "outputs": [],
   "source": []
  }
 ],
 "metadata": {
  "anaconda-cloud": {},
  "kernelspec": {
   "display_name": "Python 3",
   "language": "python",
   "name": "python3"
  },
  "language_info": {
   "codemirror_mode": {
    "name": "ipython",
    "version": 3
   },
   "file_extension": ".py",
   "mimetype": "text/x-python",
   "name": "python",
   "nbconvert_exporter": "python",
   "pygments_lexer": "ipython3",
   "version": "3.6.0"
  },
  "latex_envs": {
   "LaTeX_envs_menu_present": true,
   "bibliofile": "biblio.bib",
   "cite_by": "apalike",
   "current_citInitial": 1,
   "eqLabelWithNumbers": true,
   "eqNumInitial": 1,
   "hotkeys": {
    "equation": "Ctrl-E",
    "itemize": "Ctrl-I"
   },
   "labels_anchors": false,
   "latex_user_defs": false,
   "report_style_numbering": false,
   "user_envs_cfg": false
  }
 },
 "nbformat": 4,
 "nbformat_minor": 1
}
