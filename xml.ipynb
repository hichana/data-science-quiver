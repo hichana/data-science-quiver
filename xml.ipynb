{
 "cells": [
  {
   "cell_type": "markdown",
   "metadata": {},
   "source": [
    "# XML"
   ]
  },
  {
   "cell_type": "code",
   "execution_count": 1,
   "metadata": {
    "collapsed": false
   },
   "outputs": [
    {
     "data": {
      "text/plain": [
       "xml.etree.ElementTree.ElementTree"
      ]
     },
     "execution_count": 1,
     "metadata": {},
     "output_type": "execute_result"
    }
   ],
   "source": [
    "# import XML package\n",
    "import xml.etree.ElementTree as ET\n",
    "\n",
    "# create the XML Element Tree object\n",
    "tree = ET.parse('supporting-files/exampleresearcharticle.xml')\n",
    "type(tree)"
   ]
  },
  {
   "cell_type": "code",
   "execution_count": 2,
   "metadata": {
    "collapsed": false
   },
   "outputs": [
    {
     "data": {
      "text/plain": [
       "xml.etree.ElementTree.Element"
      ]
     },
     "execution_count": 2,
     "metadata": {},
     "output_type": "execute_result"
    }
   ],
   "source": [
    "# find the element that I want\n",
    "root = tree.getroot()\n",
    "type(root)"
   ]
  },
  {
   "cell_type": "code",
   "execution_count": 9,
   "metadata": {
    "collapsed": false
   },
   "outputs": [
    {
     "name": "stdout",
     "output_type": "stream",
     "text": [
      "\n",
      "Children of root\n",
      "ui\n",
      "ji\n",
      "fm\n",
      "bdy\n",
      "bm\n"
     ]
    }
   ],
   "source": [
    "print(\"\\nChildren of root\")\n",
    "\n",
    "# print out each direct child element's tag in the root object\n",
    "for child in root:\n",
    "    # .tag attribute being used here\n",
    "    print(child.tag)"
   ]
  },
  {
   "cell_type": "markdown",
   "metadata": {},
   "source": [
    "##### Use XPATH to find specific elements"
   ]
  },
  {
   "cell_type": "code",
   "execution_count": 31,
   "metadata": {
    "collapsed": false
   },
   "outputs": [
    {
     "data": {
      "text/plain": [
       "<Element 'title' at 0x10486f048>"
      ]
     },
     "execution_count": 31,
     "metadata": {},
     "output_type": "execute_result"
    }
   ],
   "source": [
    "# find the first element matching the xpath request\n",
    "title = root.find('./fm/bibl/title')\n",
    "title"
   ]
  },
  {
   "cell_type": "markdown",
   "metadata": {},
   "source": [
    "Pull out the title:"
   ]
  },
  {
   "cell_type": "code",
   "execution_count": 32,
   "metadata": {
    "collapsed": false
   },
   "outputs": [
    {
     "data": {
      "text/plain": [
       "'Standardization of the functional syndesmosis widening by dynamic U.S examination'"
      ]
     },
     "execution_count": 32,
     "metadata": {},
     "output_type": "execute_result"
    }
   ],
   "source": [
    "# placeholder for text\n",
    "title_text = \"\"\n",
    "\n",
    "# loops through title element\n",
    "for p in title:\n",
    "    # in-place appends placeholder for text\n",
    "    title_text += p.text\n",
    "title_text"
   ]
  },
  {
   "cell_type": "markdown",
   "metadata": {},
   "source": [
    "Pull out the Author's email address:"
   ]
  },
  {
   "cell_type": "code",
   "execution_count": 35,
   "metadata": {
    "collapsed": false
   },
   "outputs": [
    {
     "name": "stdout",
     "output_type": "stream",
     "text": [
      "omer@extremegate.com\n",
      "mcarmont@hotmail.com\n",
      "laver17@gmail.com\n",
      "nyska@internet-zahav.net\n",
      "kammarh@gmail.com\n",
      "gideon.mann.md@gmail.com\n",
      "barns.nz@gmail.com\n",
      "eukots@gmail.com\n"
     ]
    }
   ],
   "source": [
    "# element.findall() method finds all matching subelements by tag name or path\n",
    "# loops and prints for each item found\n",
    "for a in root.findall('./fm/bibl/aug/au'):\n",
    "    email = a.find('email').text\n",
    "    if email is not None:\n",
    "        print(email)"
   ]
  },
  {
   "cell_type": "markdown",
   "metadata": {},
   "source": [
    "##### Focus in on more specific data scraping"
   ]
  },
  {
   "cell_type": "code",
   "execution_count": 39,
   "metadata": {
    "collapsed": false
   },
   "outputs": [
    {
     "data": {
      "text/plain": [
       "[{'email': 'omer@extremegate.com',\n",
       "  'fnm': 'Omer',\n",
       "  'insr': ['I1'],\n",
       "  'snm': 'Mei-Dan'},\n",
       " {'email': 'mcarmont@hotmail.com',\n",
       "  'fnm': 'Mike',\n",
       "  'insr': ['I2'],\n",
       "  'snm': 'Carmont'},\n",
       " {'email': 'laver17@gmail.com',\n",
       "  'fnm': 'Lior',\n",
       "  'insr': ['I3', 'I4'],\n",
       "  'snm': 'Laver'},\n",
       " {'email': 'nyska@internet-zahav.net',\n",
       "  'fnm': 'Meir',\n",
       "  'insr': ['I3'],\n",
       "  'snm': 'Nyska'},\n",
       " {'email': 'kammarh@gmail.com',\n",
       "  'fnm': 'Hagay',\n",
       "  'insr': ['I8'],\n",
       "  'snm': 'Kammar'},\n",
       " {'email': 'gideon.mann.md@gmail.com',\n",
       "  'fnm': 'Gideon',\n",
       "  'insr': ['I3', 'I5'],\n",
       "  'snm': 'Mann'},\n",
       " {'email': 'barns.nz@gmail.com',\n",
       "  'fnm': 'Barnaby',\n",
       "  'insr': ['I6'],\n",
       "  'snm': 'Clarck'},\n",
       " {'email': 'eukots@gmail.com', 'fnm': 'Eugene', 'insr': ['I7'], 'snm': 'Kots'}]"
      ]
     },
     "execution_count": 39,
     "metadata": {},
     "output_type": "execute_result"
    }
   ],
   "source": [
    "article_file = \"supporting-files/exampleResearchArticle.xml\"\n",
    "\n",
    "def get_root(fname):\n",
    "    tree = ET.parse(fname)\n",
    "    return tree.getroot()\n",
    "\n",
    "\n",
    "def get_authors(root):\n",
    "    authors = []\n",
    "    for author in root.findall('./fm/bibl/aug/au'):\n",
    "        data = {\n",
    "                \"fnm\": None,\n",
    "                \"snm\": None,\n",
    "                \"email\": None,\n",
    "                \"insr\": []\n",
    "        }\n",
    "\n",
    "        # YOUR CODE HERE\n",
    "        data['fnm'] = author.find('fnm').text\n",
    "        data['snm'] = author.find('snm').text\n",
    "        data['email'] = author.find('email').text\n",
    "        insr = author.findall('./insr')\n",
    "        for i in insr:\n",
    "            data['insr'].append(i.attrib['iid'])\n",
    "\n",
    "        authors.append(data)\n",
    "\n",
    "    return authors\n",
    "root = get_root(article_file)\n",
    "data = get_authors(root)\n",
    "data"
   ]
  },
  {
   "cell_type": "markdown",
   "metadata": {},
   "source": [
    "##### Use parsing to count number of tags in an XML file"
   ]
  },
  {
   "cell_type": "code",
   "execution_count": 25,
   "metadata": {
    "collapsed": false
   },
   "outputs": [
    {
     "data": {
      "text/plain": [
       "{'bounds': 1,\n",
       " 'member': 3,\n",
       " 'nd': 4,\n",
       " 'node': 20,\n",
       " 'osm': 1,\n",
       " 'relation': 1,\n",
       " 'tag': 7,\n",
       " 'way': 1}"
      ]
     },
     "execution_count": 25,
     "metadata": {},
     "output_type": "execute_result"
    }
   ],
   "source": [
    "import xml.etree.ElementTree as ET\n",
    "\n",
    "# REQS:\n",
    "    # make dict\n",
    "# EX:\n",
    "    # REQS:\n",
    "        # make dict\n",
    "    # RULES:\n",
    "        # node must be uniquely identified\n",
    "        # node must be added to a dict and not repeated\n",
    "        # use xml package to make root\n",
    "    # COMP:\n",
    "        # iterate over each line\n",
    "            # if does not contain '/'\n",
    "                # add to dict\n",
    "                    # if exists already, add and increment value by 1\n",
    "                    # else, just add\n",
    "    # DECOMP:\n",
    "        # Iterate over each line, add node name to dict with value 1\n",
    "            # if item is not in dict already, add and make value 1\n",
    "            # if in dict already, increment that key's value by 1\n",
    "    \n",
    "def count_tags(filename):\n",
    "    # create XML tree objet\n",
    "    tree = ET.parse(filename)\n",
    "    \n",
    "    # create root object to parse the XML tree\n",
    "    root = tree.getroot()\n",
    "    \n",
    "    # holds all tags (keys) and counts for each instance of key (value)\n",
    "    tags_dict = {}\n",
    "    \n",
    "    # fills in dict with tags and counts\n",
    "    for element in tree.iter():\n",
    "        if element.tag in tags_dict:\n",
    "            tags_dict[element.tag] += 1\n",
    "        else:\n",
    "            tags_dict[element.tag] = 1\n",
    "            \n",
    "    return tags_dict\n",
    "\n",
    "file = 'sample-data/example.osm'\n",
    "count_tags(file)"
   ]
  },
  {
   "cell_type": "markdown",
   "metadata": {},
   "source": [
    "##### Use ITERATIVE parsing to count number of tags in an XML file"
   ]
  },
  {
   "cell_type": "code",
   "execution_count": 30,
   "metadata": {
    "collapsed": false
   },
   "outputs": [
    {
     "name": "stdout",
     "output_type": "stream",
     "text": [
      "start\n",
      "start\n",
      "start\n",
      "<Element 'node' at 0x104935a98>\n",
      "<Element 'node' at 0x104871b88>\n",
      "<Element 'node' at 0x104871868>\n",
      "<Element 'node' at 0x1048faef8>\n",
      "<Element 'node' at 0x1048fa458>\n",
      "<Element 'node' at 0x1048fa728>\n",
      "<Element 'node' at 0x1048fa818>\n",
      "<Element 'node' at 0x1048fa7c8>\n",
      "<Element 'node' at 0x1049837c8>\n",
      "<Element 'node' at 0x104983ae8>\n",
      "<Element 'node' at 0x104983ea8>\n",
      "<Element 'node' at 0x1049bd9a8>\n",
      "<Element 'node' at 0x1049bd9f8>\n",
      "<Element 'node' at 0x1049bd728>\n",
      "<Element 'node' at 0x1049bd048>\n",
      "<Element 'node' at 0x1049bd868>\n",
      "<Element 'node' at 0x1049bd7c8>\n",
      "start\n",
      "<Element 'node' at 0x1049bdea8>\n",
      "<Element 'node' at 0x1049bdf48>\n",
      "<Element 'tag' at 0x1049bdf98>\n",
      "<Element 'tag' at 0x1049bd318>\n",
      "<Element 'tag' at 0x1049bd228>\n",
      "start\n",
      "start\n",
      "<Element 'nd' at 0x1049bdd18>\n",
      "<Element 'nd' at 0x1049bdb88>\n",
      "<Element 'nd' at 0x1049bddb8>\n",
      "<Element 'tag' at 0x1049bdc28>\n",
      "start\n",
      "start\n",
      "<Element 'member' at 0x104989048>\n",
      "<Element 'member' at 0x104989098>\n",
      "<Element 'tag' at 0x1049890e8>\n",
      "<Element 'tag' at 0x104989138>\n"
     ]
    },
    {
     "data": {
      "text/plain": [
       "{'bounds': 1,\n",
       " 'member': 3,\n",
       " 'nd': 4,\n",
       " 'node': 20,\n",
       " 'osm': 1,\n",
       " 'relation': 1,\n",
       " 'tag': 7,\n",
       " 'way': 1}"
      ]
     },
     "execution_count": 30,
     "metadata": {},
     "output_type": "execute_result"
    }
   ],
   "source": [
    "import xml.etree.ElementTree as ET\n",
    "\n",
    "# REQS:\n",
    "    # make dict\n",
    "# EX:\n",
    "    # REQS:\n",
    "        # make dict\n",
    "    # RULES:\n",
    "        # node must be uniquely identified\n",
    "        # node must be added to a dict and not repeated\n",
    "        # use xml package to make root\n",
    "    # COMP:\n",
    "        # iterate over each line\n",
    "            # if does not contain '/'\n",
    "                # add to dict\n",
    "                    # if exists already, add and increment value by 1\n",
    "                    # else, just add\n",
    "    # DECOMP:\n",
    "        # Iterate over each line, add node name to dict with value 1\n",
    "            # if item is not in dict already, add and make value 1\n",
    "            # if in dict already, increment that key's value by 1\n",
    "    \n",
    "def count_tags(filename):\n",
    "    # holds all tags (keys) and counts for each instance of key (value)\n",
    "    tags_dict = {}\n",
    "    \n",
    "    # fills in dict with tags and counts\n",
    "    # note, here every time a start event is found\n",
    "    # the event and the element that it found\n",
    "    for event, element in ET.iterparse(filename, events=('start',)):\n",
    "        if element.tag in tags_dict:\n",
    "            tags_dict[element.tag] += 1\n",
    "            # just to show that .iterparse() returns the element\n",
    "            print(element)\n",
    "        else:\n",
    "            tags_dict[element.tag] = 1\n",
    "            # just to show that .iterparse() returns the event\n",
    "            print(event)\n",
    "            \n",
    "    return tags_dict\n",
    "\n",
    "file = 'sample-data/example.osm'\n",
    "count_tags(file)"
   ]
  },
  {
   "cell_type": "code",
   "execution_count": 31,
   "metadata": {
    "collapsed": false
   },
   "outputs": [
    {
     "name": "stdout",
     "output_type": "stream",
     "text": [
      "{'lower': 5, 'lower_colon': 0, 'other': 1, 'problemchars': 1}\n"
     ]
    }
   ],
   "source": [
    "#!/usr/bin/env python\n",
    "# -*- coding: utf-8 -*-\n",
    "import xml.etree.cElementTree as ET\n",
    "import pprint\n",
    "import re\n",
    "\"\"\"\n",
    "Your task is to explore the data a bit more.\n",
    "Before you process the data and add it into your database, you should check the\n",
    "\"k\" value for each \"<tag>\" and see if there are any potential problems.\n",
    "    # the k value is the key for a tag of something\n",
    "\n",
    "We have provided you with 3 regular expressions to check for certain patterns\n",
    "in the tags. As we saw in the quiz earlier, we would like to change the data\n",
    "model and expand the \"addr:street\" type of keys to a dictionary like this:\n",
    "{\"address\": {\"street\": \"Some value\"}}\n",
    "So, we have to see if we have such tags, and if we have any tags with\n",
    "problematic characters.\n",
    "\n",
    "Please complete the function 'key_type', such that we have a count of each of\n",
    "four tag categories in a dictionary:\n",
    "  \"lower\", for tags that contain only lowercase letters and are valid,\n",
    "  \"lower_colon\", for otherwise valid tags with a colon in their names,\n",
    "  \"problemchars\", for tags with problematic characters, and\n",
    "  \"other\", for other tags that do not fall into the other three categories.\n",
    "See the 'process_map' and 'test' functions for examples of the expected format.\n",
    "\"\"\"\n",
    "\n",
    "# REQS\n",
    "    # return a count of each of four tag types in a dict\n",
    "# EXEC\n",
    "    # key_type\n",
    "        # REQS\n",
    "            # input: element tag and keys dict\n",
    "            # output: an updated keys dict\n",
    "        # RULES\n",
    "            # k value of \"tag\" element must in one of the four categories\n",
    "        # COMP\n",
    "            # if not lower, then if not lower_colon, then if not problemchars, then other\n",
    "        # DECOMP\n",
    "            # EXPERIMENT: how to compare a string against a regex statement\n",
    "            # TRY: Set up regex comp and implement if/else\n",
    "                # EXPERIMENT: pull out the k value from <tag> elements\n",
    "                    # element.attrib['k']\n",
    "                # INVESTIGATE: why dict has wrong counts?\n",
    "                    # needed to use .seach instead of .match\n",
    "\n",
    "\n",
    "lower = re.compile(r'^([a-z]|_)*$')\n",
    "lower_colon = re.compile(r'^([a-z]|_)*:([a-z]|_)*$')\n",
    "problemchars = re.compile(r'[=\\+/&<>;\\'\"\\?%#$@\\,\\. \\t\\r\\n]')\n",
    "\n",
    "\n",
    "def key_type(element, keys):\n",
    "\n",
    "    if element.tag == \"tag\":\n",
    "        # find the k value for each element\n",
    "        k_value = element.attrib['k']\n",
    "        \n",
    "        # check to see if k value is described by each regex\n",
    "        if lower.search(k_value):\n",
    "            keys['lower'] += 1\n",
    "        elif lower_colon.search(k_value):\n",
    "            keys['lower_colon'] += 1\n",
    "        elif problemchars.search(k_value):\n",
    "            keys['problemchars'] += 1\n",
    "        else:\n",
    "            keys['other'] += 1\n",
    "        \n",
    "        pass\n",
    "        \n",
    "    return keys\n",
    "\n",
    "\n",
    "\n",
    "def process_map(filename):\n",
    "    keys = {\"lower\": 0, \"lower_colon\": 0, \"problemchars\": 0, \"other\": 0}\n",
    "    for _, element in ET.iterparse(filename):\n",
    "        \n",
    "        # with each iteration of .iterparse(), key_type method is called\n",
    "        keys = key_type(element, keys)\n",
    "\n",
    "    return keys\n",
    "\n",
    "\n",
    "\n",
    "def test():\n",
    "    # You can use another testfile 'map.osm' to look at your solution\n",
    "    # Note that the assertion below will be incorrect then.\n",
    "    # Note as well that the test function here is only used in the Test Run;\n",
    "    # when you submit, your code will be checked against a different dataset.\n",
    "    \n",
    "    # a dict \n",
    "    keys = process_map('sample-data/example2.osm')\n",
    "    pprint.pprint(keys)\n",
    "    assert keys == {'lower': 5, 'lower_colon': 0, 'other': 1, 'problemchars': 1}\n",
    "\n",
    "\n",
    "if __name__ == \"__main__\":\n",
    "    test()"
   ]
  },
  {
   "cell_type": "code",
   "execution_count": null,
   "metadata": {
    "collapsed": true
   },
   "outputs": [],
   "source": []
  }
 ],
 "metadata": {
  "anaconda-cloud": {},
  "kernelspec": {
   "display_name": "Python [conda env:bunnies]",
   "language": "python",
   "name": "conda-env-bunnies-py"
  },
  "language_info": {
   "codemirror_mode": {
    "name": "ipython",
    "version": 3
   },
   "file_extension": ".py",
   "mimetype": "text/x-python",
   "name": "python",
   "nbconvert_exporter": "python",
   "pygments_lexer": "ipython3",
   "version": "3.5.2"
  },
  "latex_envs": {
   "LaTeX_envs_menu_present": true,
   "bibliofile": "biblio.bib",
   "cite_by": "apalike",
   "current_citInitial": 1,
   "eqLabelWithNumbers": true,
   "eqNumInitial": 1,
   "hotkeys": {
    "equation": "Ctrl-E",
    "itemize": "Ctrl-I"
   },
   "labels_anchors": false,
   "latex_user_defs": false,
   "report_style_numbering": false,
   "user_envs_cfg": false
  }
 },
 "nbformat": 4,
 "nbformat_minor": 1
}
