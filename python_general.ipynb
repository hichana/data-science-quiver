{
 "cells": [
  {
   "cell_type": "markdown",
   "metadata": {},
   "source": [
    "# Python General"
   ]
  },
  {
   "cell_type": "markdown",
   "metadata": {},
   "source": [
    "### Function Arguments, \\*args and \\*kwargs"
   ]
  },
  {
   "cell_type": "code",
   "execution_count": null,
   "metadata": {
    "collapsed": false
   },
   "outputs": [],
   "source": [
    "# *args allows for a variable number of \n",
    "# arguments to be used in a function call\n",
    "def sum(*args):\n",
    "    s = 0\n",
    "    for i in args:\n",
    "        s += i\n",
    "    print(\"sum is\", s)\n",
    "sum(1, 2, 2, 123)"
   ]
  },
  {
   "cell_type": "code",
   "execution_count": null,
   "metadata": {
    "collapsed": false
   },
   "outputs": [],
   "source": [
    "# **kwargs is the same but for keyword arguments\n",
    "def sum_kwargs(**kwargs):\n",
    "    s = 0\n",
    "    for i, j in kwargs.items():\n",
    "        s += j\n",
    "    print(s)\n",
    "sum_kwargs(one=1, two=2, three=3)"
   ]
  },
  {
   "cell_type": "code",
   "execution_count": null,
   "metadata": {
    "collapsed": false
   },
   "outputs": [],
   "source": [
    "def my_func(**kwargs):\n",
    "    for i, j in kwargs.items():\n",
    "        print(i, j)\n",
    "my_func(name='tim', sport='baseball', score=19)"
   ]
  },
  {
   "cell_type": "code",
   "execution_count": null,
   "metadata": {
    "collapsed": false
   },
   "outputs": [],
   "source": [
    "# *args and **kwargs can be used in a function call\n",
    "def my_three(a, b, c):\n",
    "    print(a, b, c)\n",
    "# note, a is a list\n",
    "a = [1,2,3]\n",
    "my_three(*a)\n",
    "#note, b is a dict\n",
    "b = {'a':1, 'b':2, 'c':3}\n",
    "my_three(**b)"
   ]
  },
  {
   "cell_type": "code",
   "execution_count": null,
   "metadata": {
    "collapsed": false
   },
   "outputs": [],
   "source": [
    "b"
   ]
  },
  {
   "cell_type": "code",
   "execution_count": null,
   "metadata": {
    "collapsed": false
   },
   "outputs": [],
   "source": [
    "b[\"newItem\"] = 4\n",
    "b"
   ]
  },
  {
   "cell_type": "markdown",
   "metadata": {},
   "source": [
    "### Nested dict inside a dict"
   ]
  },
  {
   "cell_type": "code",
   "execution_count": null,
   "metadata": {
    "collapsed": false
   },
   "outputs": [],
   "source": [
    "# nested dicts in a dict\n",
    "query_type = {  \"simple\": {},\n",
    "                \"atr\": {\"inc\": \"aliases+tags+ratings\"},\n",
    "                \"aliases\": {\"inc\": \"aliases\"},\n",
    "                \"releases\": {\"inc\": \"releases\"}}\n",
    "x = query_type[\"atr\"]\n",
    "x"
   ]
  },
  {
   "cell_type": "code",
   "execution_count": null,
   "metadata": {
    "collapsed": false
   },
   "outputs": [],
   "source": [
    "# return type is a dict\n",
    "type(x)"
   ]
  },
  {
   "cell_type": "markdown",
   "metadata": {},
   "source": [
    "### Looping - through a dict"
   ]
  },
  {
   "cell_type": "code",
   "execution_count": null,
   "metadata": {
    "collapsed": false
   },
   "outputs": [],
   "source": [
    "# a dict\n",
    "knights = {'gallahad': 'the pure', 'robin':'the brave'}\n",
    "# the dict.items() method allows for the key and corresponding\n",
    "# value to be retrieved at the same time. # note that k points\n",
    "# to the key and v to the value.\n",
    "for k, v in knights.items():\n",
    "    print(k, v)"
   ]
  },
  {
   "cell_type": "markdown",
   "metadata": {},
   "source": [
    "### List Comprehension\n",
    "\n",
    "List comprehensions are a tool for transforming one list (any iterable actually) into another list. During this transformation, elements can be conditionally included in the new list and each element can be transformed as needed."
   ]
  },
  {
   "cell_type": "markdown",
   "metadata": {},
   "source": [
    "##### Create a list with a loop"
   ]
  },
  {
   "cell_type": "code",
   "execution_count": 1,
   "metadata": {
    "collapsed": true
   },
   "outputs": [],
   "source": [
    "# create an empty list\n",
    "my_list = []"
   ]
  },
  {
   "cell_type": "code",
   "execution_count": 2,
   "metadata": {
    "collapsed": false
   },
   "outputs": [
    {
     "data": {
      "text/plain": [
       "[2, 1, 0]"
      ]
     },
     "execution_count": 2,
     "metadata": {},
     "output_type": "execute_result"
    }
   ],
   "source": [
    "# after looping and appending the list is filled\n",
    "looping_list = [2,1,0]\n",
    "for item in [2,1,0]:\n",
    "    my_list.append(item)\n",
    "my_list"
   ]
  },
  {
   "cell_type": "markdown",
   "metadata": {},
   "source": [
    "##### Now create a list with list comprehension"
   ]
  },
  {
   "cell_type": "code",
   "execution_count": 3,
   "metadata": {
    "collapsed": true
   },
   "outputs": [],
   "source": [
    "my_list = []\n",
    "looping_list = [2,1,0]"
   ]
  },
  {
   "cell_type": "code",
   "execution_count": 15,
   "metadata": {
    "collapsed": false
   },
   "outputs": [
    {
     "data": {
      "text/plain": [
       "[2, 1, 0]"
      ]
     },
     "execution_count": 15,
     "metadata": {},
     "output_type": "execute_result"
    }
   ],
   "source": [
    "my_list = [item for item in looping_list]\n",
    "my_list"
   ]
  },
  {
   "cell_type": "markdown",
   "metadata": {},
   "source": [
    "List Comprehension can be used for operations that would also be done with vectorized operations in pandas."
   ]
  },
  {
   "cell_type": "code",
   "execution_count": 5,
   "metadata": {
    "collapsed": true
   },
   "outputs": [],
   "source": [
    "# a function to apply to my list comprehension\n",
    "def my_func(num):\n",
    "    return num*.324234"
   ]
  },
  {
   "cell_type": "code",
   "execution_count": 6,
   "metadata": {
    "collapsed": false
   },
   "outputs": [
    {
     "name": "stdout",
     "output_type": "stream",
     "text": [
      "[0.648468, 0.324234, 0.0]\n",
      "[200, 100, 0]\n",
      "[[200], [100], [0]]\n"
     ]
    }
   ],
   "source": [
    "my_list1 = [my_func(item) for item in looping_list]\n",
    "my_list2 = [item*100 for item in looping_list]\n",
    "my_list3 = [[item*100] for item in looping_list]\n",
    "print(my_list1) # a list with my_func() applied to each item\n",
    "print(my_list2) # a list with each item multiplied by 100\n",
    "print(my_list3) # a list of lists with each item multiplied by 100"
   ]
  },
  {
   "cell_type": "markdown",
   "metadata": {},
   "source": [
    "Place a conditional requirment on the item being grabbed from the list:"
   ]
  },
  {
   "cell_type": "code",
   "execution_count": 20,
   "metadata": {
    "collapsed": false
   },
   "outputs": [
    {
     "data": {
      "text/plain": [
       "[200]"
      ]
     },
     "execution_count": 20,
     "metadata": {},
     "output_type": "execute_result"
    }
   ],
   "source": [
    "# only if item from reference list meets condition, place in new list\n",
    "my_list= [item * 100 for item in looping_list if item == 2]\n",
    "my_list"
   ]
  },
  {
   "cell_type": "code",
   "execution_count": 4,
   "metadata": {
    "collapsed": false
   },
   "outputs": [
    {
     "data": {
      "text/plain": [
       "range(0, 10)"
      ]
     },
     "execution_count": 4,
     "metadata": {},
     "output_type": "execute_result"
    }
   ],
   "source": [
    "# figure this one out\n",
    "line = '1234567890'\n",
    "n = 2\n",
    "new_line = [line[i:i+n] for i in range(0,len(line), n)]\n",
    "# new_line\n",
    "range(0,len(line))"
   ]
  },
  {
   "cell_type": "markdown",
   "metadata": {
    "collapsed": true
   },
   "source": [
    "### Modules"
   ]
  },
  {
   "cell_type": "markdown",
   "metadata": {},
   "source": [
    "##### How the Python interpreter handles execution\n",
    "Article [A module's \\__name\\__](http://ibiblio.org/g2swap/byteofpython/read/module-name.html)\n",
    "\n",
    "Python's interpreter sets up a global name space when running a script. It uses \"dunder\" notation - for example \"\\__name\\__\" is it's way to keep track of what is being executed at any given time.\n",
    "\n",
    "When a script is initially executed, \\__name\\__ is set to \\__main\\__ before any of the actual code in the script is evaluated. So the Python interpreter knows that this \"main\" script is the one currently being run. However, once an import declaration is evaluated (usually the first things at the top of a Python script), \\__name\\__ is then set to the name of the file being imported (this may be a module with a .\\__init\\__ hidden file in it's folder or just another python file in the same root director). The interpreter now knows it's focusing its attention on executing the code in this new file.\n",
    "\n",
    "In the supporting-files folder there is a file1.py. It contains \"if \\__name\\__ == '\\__main\\__':\" in its code, which is a logical test that I can throw in any script to gain control over what code I want to be executed if the file is run directly as the \"main\" program, or what I want to be run if it's being imported into another script.\n",
    "\n",
    "In the Unix prompt, running 'python file1.py' prints the first statement because \\__name\\__ is set to \\__main\\__. However, if I import file1 into another script called file2.py, then \\__name\\__ is changed from \\__main\\__ to \\__file1\\__ during the time the import file is being executed from within file2.py, and because at that time \\__name\\__ is set to \\__file1\\__, which is not equal to \\__main\\__, the second print statement is executed.\n",
    "\n",
    "** *see file1.py and file2.py in the sample-data folder* **"
   ]
  },
  {
   "cell_type": "markdown",
   "metadata": {
    "collapsed": true
   },
   "source": [
    "### Built-in Functions"
   ]
  },
  {
   "cell_type": "markdown",
   "metadata": {},
   "source": [
    "##### enumerate()"
   ]
  },
  {
   "cell_type": "code",
   "execution_count": 7,
   "metadata": {
    "collapsed": false
   },
   "outputs": [
    {
     "data": {
      "text/plain": [
       "[(0, 'Spring'), (1, 'Summer'), (2, 'Fall'), (3, 'Winter')]"
      ]
     },
     "execution_count": 7,
     "metadata": {},
     "output_type": "execute_result"
    }
   ],
   "source": [
    "seasons = ['Spring', 'Summer', 'Fall', 'Winter']\n",
    "list(enumerate(seasons))"
   ]
  },
  {
   "cell_type": "code",
   "execution_count": 11,
   "metadata": {
    "collapsed": false
   },
   "outputs": [
    {
     "name": "stdout",
     "output_type": "stream",
     "text": [
      "Count is: 0\n",
      "Item is: Spring\n",
      "\n",
      "Count is: 1\n",
      "Item is: Summer\n",
      "\n",
      "Count is: 2\n",
      "Item is: Fall\n",
      "\n",
      "Count is: 3\n",
      "Item is: Winter\n",
      "\n"
     ]
    }
   ],
   "source": [
    "# loop through both the the count and item\n",
    "for i, x in enumerate(seasons):\n",
    "    print(\"Count is: %s\" %i)\n",
    "    print(\"Item is: %s\\n\" %x)"
   ]
  },
  {
   "cell_type": "markdown",
   "metadata": {
    "collapsed": true
   },
   "source": [
    "With-open stuff - add"
   ]
  },
  {
   "cell_type": "code",
   "execution_count": null,
   "metadata": {
    "collapsed": true
   },
   "outputs": [],
   "source": [
    "#!/usr/bin/env python\n",
    "# -*- coding: utf-8 -*-\n",
    "# So, the problem is that the gigantic file is actually not a valid XML, because\n",
    "# it has several root elements, and XML declarations.\n",
    "# It is, a matter of fact, a collection of a lot of concatenated XML documents.\n",
    "# So, one solution would be to split the file into separate documents,\n",
    "# so that you can process the resulting files as valid XML documents.\n",
    "\n",
    "\"\"\"\n",
    "    Split the input file into separate files, each containing a single patent.\n",
    "    As a hint - each patent declaration starts with the same line that was\n",
    "    causing the error found in the previous exercises.\n",
    "    \n",
    "    The new files should be saved with filename in the following format:\n",
    "    \"{}-{}\".format(filename, n) where n is a counter, starting from 0.\n",
    "\"\"\"\n",
    "\n",
    "\n",
    "import xml.etree.ElementTree as ET\n",
    "PATENTS = 'supporting-files/patent.data'\n",
    "\n",
    "def get_root(fname):\n",
    "    tree = ET.parse(fname)\n",
    "    return tree.getroot()\n",
    "\n",
    "\n",
    "def split_file(filename):\n",
    "\n",
    "    # open file and throw all rows into a list\n",
    "    doc_list = []\n",
    "    with open (filename, 'r') as f:\n",
    "        for row in f:\n",
    "            doc_list.append(row)\n",
    "    \n",
    "    \n",
    "    # find indices where xml header appears\n",
    "    search_str = '<?xml version=\"1.0\" encoding=\"UTF-8\"?>\\n'\n",
    "    indices = [i for i, x in enumerate(doc_list) if x == search_str]\n",
    "    \n",
    "\n",
    "    # make new list with nest list of each document\n",
    "    indices.append(len(doc_list))\n",
    "    s_doc_list = [doc_list[indices[i]:indices[i+1]] for i in range(len(indices)-1)]\n",
    "    \n",
    "    for n in range(len(s_doc_list)):\n",
    "        content = s_doc_list[n]\n",
    "        with open(\"{}-{}\".format(filename, n), 'w') as w:\n",
    "            for string in content:\n",
    "                w.write(string)\n",
    "    \n",
    "    pass\n",
    "\n",
    "split_file(PATENTS)"
   ]
  }
 ],
 "metadata": {
  "anaconda-cloud": {},
  "kernelspec": {
   "display_name": "Python [default]",
   "language": "python",
   "name": "python3"
  },
  "language_info": {
   "codemirror_mode": {
    "name": "ipython",
    "version": 3
   },
   "file_extension": ".py",
   "mimetype": "text/x-python",
   "name": "python",
   "nbconvert_exporter": "python",
   "pygments_lexer": "ipython3",
   "version": "3.5.2"
  },
  "latex_envs": {
   "LaTeX_envs_menu_present": true,
   "bibliofile": "biblio.bib",
   "cite_by": "apalike",
   "current_citInitial": 1,
   "eqLabelWithNumbers": true,
   "eqNumInitial": 1,
   "hotkeys": {
    "equation": "Ctrl-E",
    "itemize": "Ctrl-I"
   },
   "labels_anchors": false,
   "latex_user_defs": false,
   "report_style_numbering": false,
   "user_envs_cfg": false
  }
 },
 "nbformat": 4,
 "nbformat_minor": 1
}
