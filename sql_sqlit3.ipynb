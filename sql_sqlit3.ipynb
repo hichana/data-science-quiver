{
 "cells": [
  {
   "cell_type": "markdown",
   "metadata": {},
   "source": [
    "# SQLite3"
   ]
  },
  {
   "cell_type": "markdown",
   "metadata": {},
   "source": [
    "### Notes:\n",
    "* [DB Browser for SQLite](http://sqlitebrowser.org/) is an excellent way to graphically browse the database"
   ]
  },
  {
   "cell_type": "markdown",
   "metadata": {},
   "source": [
    "### Basic Concept\n",
    "\n",
    "[Using sqlite3 Python module](https://docs.python.org/3.5/library/sqlite3.html?highlight=sqlite#module-sqlite3)"
   ]
  },
  {
   "cell_type": "markdown",
   "metadata": {
    "collapsed": true
   },
   "source": [
    "import sqlite3"
   ]
  },
  {
   "cell_type": "code",
   "execution_count": 2,
   "metadata": {
    "collapsed": true
   },
   "outputs": [],
   "source": [
    "# set up a connection with the database\n",
    "conn = sqlite3.connect('sample_data/chinook.db')"
   ]
  },
  {
   "cell_type": "code",
   "execution_count": 3,
   "metadata": {
    "collapsed": true
   },
   "outputs": [],
   "source": [
    "# create a cursor object\n",
    "c = conn.cursor()"
   ]
  },
  {
   "cell_type": "code",
   "execution_count": 4,
   "metadata": {
    "collapsed": true
   },
   "outputs": [],
   "source": [
    "# use the cursor object's execute() method to perform a query\n",
    "x = c.execute(\"SELECT * FROM Album\")"
   ]
  },
  {
   "cell_type": "code",
   "execution_count": 5,
   "metadata": {
    "scrolled": true
   },
   "outputs": [
    {
     "name": "stdout",
     "output_type": "stream",
     "text": [
      "(1, 'For Those About To Rock We Salute You', 1)\n",
      "(2, 'Balls to the Wall', 2)\n",
      "(3, 'Restless and Wild', 2)\n",
      "(4, 'Let There Be Rock', 1)\n",
      "(5, 'Big Ones', 3)\n",
      "(6, 'Jagged Little Pill', 4)\n",
      "(7, 'Facelift', 5)\n",
      "(8, 'Warner 25 Anos', 6)\n",
      "(9, 'Plays Metallica By Four Cellos', 7)\n",
      "(10, 'Audioslave', 8)\n",
      "(11, 'Out Of Exile', 8)\n",
      "(12, 'BackBeat Soundtrack', 9)\n",
      "(13, 'The Best Of Billy Cobham', 10)\n",
      "(14, 'Alcohol Fueled Brewtality Live! [Disc 1]', 11)\n",
      "(15, 'Alcohol Fueled Brewtality Live! [Disc 2]', 11)\n",
      "(16, 'Black Sabbath', 12)\n",
      "(17, 'Black Sabbath Vol. 4 (Remaster)', 12)\n",
      "(18, 'Body Count', 13)\n",
      "(19, 'Chemical Wedding', 14)\n",
      "(20, 'The Best Of Buddy Guy - The Millenium Collection', 15)\n",
      "(21, 'Prenda Minha', 16)\n",
      "(22, 'Sozinho Remix Ao Vivo', 16)\n",
      "(23, 'Minha Historia', 17)\n",
      "(24, 'Afrociberdelia', 18)\n",
      "(25, 'Da Lama Ao Caos', 18)\n",
      "(26, 'Acústico MTV [Live]', 19)\n",
      "(27, 'Cidade Negra - Hits', 19)\n",
      "(28, 'Na Pista', 20)\n",
      "(29, 'Axé Bahia 2001', 21)\n",
      "(30, 'BBC Sessions [Disc 1] [Live]', 22)\n",
      "(31, 'Bongo Fury', 23)\n",
      "(32, 'Carnaval 2001', 21)\n",
      "(33, 'Chill: Brazil (Disc 1)', 24)\n",
      "(34, 'Chill: Brazil (Disc 2)', 6)\n",
      "(35, 'Garage Inc. (Disc 1)', 50)\n",
      "(36, 'Greatest Hits II', 51)\n",
      "(37, 'Greatest Kiss', 52)\n",
      "(38, 'Heart of the Night', 53)\n",
      "(39, 'International Superhits', 54)\n",
      "(40, 'Into The Light', 55)\n",
      "(41, 'Meus Momentos', 56)\n",
      "(42, 'Minha História', 57)\n",
      "(43, 'MK III The Final Concerts [Disc 1]', 58)\n",
      "(44, 'Physical Graffiti [Disc 1]', 22)\n",
      "(45, 'Sambas De Enredo 2001', 21)\n",
      "(46, 'Supernatural', 59)\n",
      "(47, 'The Best of Ed Motta', 37)\n",
      "(48, 'The Essential Miles Davis [Disc 1]', 68)\n",
      "(49, 'The Essential Miles Davis [Disc 2]', 68)\n",
      "(50, 'The Final Concerts (Disc 2)', 58)\n",
      "(51, \"Up An' Atom\", 69)\n",
      "(52, 'Vinícius De Moraes - Sem Limite', 70)\n",
      "(53, 'Vozes do MPB', 21)\n",
      "(54, 'Chronicle, Vol. 1', 76)\n",
      "(55, 'Chronicle, Vol. 2', 76)\n",
      "(56, 'Cássia Eller - Coleção Sem Limite [Disc 2]', 77)\n",
      "(57, 'Cássia Eller - Sem Limite [Disc 1]', 77)\n",
      "(58, 'Come Taste The Band', 58)\n",
      "(59, 'Deep Purple In Rock', 58)\n",
      "(60, 'Fireball', 58)\n",
      "(61, \"Knocking at Your Back Door: The Best Of Deep Purple in the 80's\", 58)\n",
      "(62, 'Machine Head', 58)\n",
      "(63, 'Purpendicular', 58)\n",
      "(64, 'Slaves And Masters', 58)\n",
      "(65, 'Stormbringer', 58)\n",
      "(66, 'The Battle Rages On', 58)\n",
      "(67, \"Vault: Def Leppard's Greatest Hits\", 78)\n",
      "(68, 'Outbreak', 79)\n",
      "(69, 'Djavan Ao Vivo - Vol. 02', 80)\n",
      "(70, 'Djavan Ao Vivo - Vol. 1', 80)\n",
      "(71, 'Elis Regina-Minha História', 41)\n",
      "(72, 'The Cream Of Clapton', 81)\n",
      "(73, 'Unplugged', 81)\n",
      "(74, 'Album Of The Year', 82)\n",
      "(75, 'Angel Dust', 82)\n",
      "(76, 'King For A Day Fool For A Lifetime', 82)\n",
      "(77, 'The Real Thing', 82)\n",
      "(78, 'Deixa Entrar', 83)\n",
      "(79, 'In Your Honor [Disc 1]', 84)\n",
      "(80, 'In Your Honor [Disc 2]', 84)\n",
      "(81, 'One By One', 84)\n",
      "(82, 'The Colour And The Shape', 84)\n",
      "(83, 'My Way: The Best Of Frank Sinatra [Disc 1]', 85)\n",
      "(84, 'Roda De Funk', 86)\n",
      "(85, 'As Canções de Eu Tu Eles', 27)\n",
      "(86, 'Quanta Gente Veio Ver (Live)', 27)\n",
      "(87, 'Quanta Gente Veio ver--Bônus De Carnaval', 27)\n",
      "(88, 'Faceless', 87)\n",
      "(89, 'American Idiot', 54)\n",
      "(90, 'Appetite for Destruction', 88)\n",
      "(91, 'Use Your Illusion I', 88)\n",
      "(92, 'Use Your Illusion II', 88)\n",
      "(93, 'Blue Moods', 89)\n",
      "(94, 'A Matter of Life and Death', 90)\n",
      "(95, 'A Real Dead One', 90)\n",
      "(96, 'A Real Live One', 90)\n",
      "(97, 'Brave New World', 90)\n",
      "(98, 'Dance Of Death', 90)\n",
      "(99, 'Fear Of The Dark', 90)\n",
      "(100, 'Iron Maiden', 90)\n",
      "(101, 'Killers', 90)\n",
      "(102, 'Live After Death', 90)\n",
      "(103, 'Live At Donington 1992 (Disc 1)', 90)\n",
      "(104, 'Live At Donington 1992 (Disc 2)', 90)\n",
      "(105, 'No Prayer For The Dying', 90)\n",
      "(106, 'Piece Of Mind', 90)\n",
      "(107, 'Powerslave', 90)\n",
      "(108, 'Rock In Rio [CD1]', 90)\n",
      "(109, 'Rock In Rio [CD2]', 90)\n",
      "(110, 'Seventh Son of a Seventh Son', 90)\n",
      "(111, 'Somewhere in Time', 90)\n",
      "(112, 'The Number of The Beast', 90)\n",
      "(113, 'The X Factor', 90)\n",
      "(114, 'Virtual XI', 90)\n",
      "(115, 'Sex Machine', 91)\n",
      "(116, 'Emergency On Planet Earth', 92)\n",
      "(117, 'Synkronized', 92)\n",
      "(118, 'The Return Of The Space Cowboy', 92)\n",
      "(119, 'Get Born', 93)\n",
      "(120, 'Are You Experienced?', 94)\n",
      "(121, 'Surfing with the Alien (Remastered)', 95)\n",
      "(122, 'Jorge Ben Jor 25 Anos', 46)\n",
      "(123, 'Jota Quest-1995', 96)\n",
      "(124, 'Cafezinho', 97)\n",
      "(125, 'Living After Midnight', 98)\n",
      "(126, 'Unplugged [Live]', 52)\n",
      "(127, 'BBC Sessions [Disc 2] [Live]', 22)\n",
      "(128, 'Coda', 22)\n",
      "(129, 'Houses Of The Holy', 22)\n",
      "(130, 'In Through The Out Door', 22)\n",
      "(131, 'IV', 22)\n",
      "(132, 'Led Zeppelin I', 22)\n",
      "(133, 'Led Zeppelin II', 22)\n",
      "(134, 'Led Zeppelin III', 22)\n",
      "(135, 'Physical Graffiti [Disc 2]', 22)\n",
      "(136, 'Presence', 22)\n",
      "(137, 'The Song Remains The Same (Disc 1)', 22)\n",
      "(138, 'The Song Remains The Same (Disc 2)', 22)\n",
      "(139, 'A TempestadeTempestade Ou O Livro Dos Dias', 99)\n",
      "(140, 'Mais Do Mesmo', 99)\n",
      "(141, 'Greatest Hits', 100)\n",
      "(142, 'Lulu Santos - RCA 100 Anos De Música - Álbum 01', 101)\n",
      "(143, 'Lulu Santos - RCA 100 Anos De Música - Álbum 02', 101)\n",
      "(144, 'Misplaced Childhood', 102)\n",
      "(145, 'Barulhinho Bom', 103)\n",
      "(146, 'Seek And Shall Find: More Of The Best (1963-1981)', 104)\n",
      "(147, 'The Best Of Men At Work', 105)\n",
      "(148, 'Black Album', 50)\n",
      "(149, 'Garage Inc. (Disc 2)', 50)\n",
      "(150, \"Kill 'Em All\", 50)\n",
      "(151, 'Load', 50)\n",
      "(152, 'Master Of Puppets', 50)\n",
      "(153, 'ReLoad', 50)\n",
      "(154, 'Ride The Lightning', 50)\n",
      "(155, 'St. Anger', 50)\n",
      "(156, '...And Justice For All', 50)\n",
      "(157, 'Miles Ahead', 68)\n",
      "(158, 'Milton Nascimento Ao Vivo', 42)\n",
      "(159, 'Minas', 42)\n",
      "(160, 'Ace Of Spades', 106)\n",
      "(161, 'Demorou...', 108)\n",
      "(162, 'Motley Crue Greatest Hits', 109)\n",
      "(163, 'From The Muddy Banks Of The Wishkah [Live]', 110)\n",
      "(164, 'Nevermind', 110)\n",
      "(165, 'Compositores', 111)\n",
      "(166, 'Olodum', 112)\n",
      "(167, 'Acústico MTV', 113)\n",
      "(168, 'Arquivo II', 113)\n",
      "(169, 'Arquivo Os Paralamas Do Sucesso', 113)\n",
      "(170, 'Bark at the Moon (Remastered)', 114)\n",
      "(171, 'Blizzard of Ozz', 114)\n",
      "(172, 'Diary of a Madman (Remastered)', 114)\n",
      "(173, 'No More Tears (Remastered)', 114)\n",
      "(174, 'Tribute', 114)\n",
      "(175, 'Walking Into Clarksdale', 115)\n",
      "(176, 'Original Soundtracks 1', 116)\n",
      "(177, 'The Beast Live', 117)\n",
      "(178, 'Live On Two Legs [Live]', 118)\n",
      "(179, 'Pearl Jam', 118)\n",
      "(180, 'Riot Act', 118)\n",
      "(181, 'Ten', 118)\n",
      "(182, 'Vs.', 118)\n",
      "(183, 'Dark Side Of The Moon', 120)\n",
      "(184, 'Os Cães Ladram Mas A Caravana Não Pára', 121)\n",
      "(185, 'Greatest Hits I', 51)\n",
      "(186, 'News Of The World', 51)\n",
      "(187, 'Out Of Time', 122)\n",
      "(188, 'Green', 124)\n",
      "(189, 'New Adventures In Hi-Fi', 124)\n",
      "(190, 'The Best Of R.E.M.: The IRS Years', 124)\n",
      "(191, 'Cesta Básica', 125)\n",
      "(192, 'Raul Seixas', 126)\n",
      "(193, 'Blood Sugar Sex Magik', 127)\n",
      "(194, 'By The Way', 127)\n",
      "(195, 'Californication', 127)\n",
      "(196, 'Retrospective I (1974-1980)', 128)\n",
      "(197, 'Santana - As Years Go By', 59)\n",
      "(198, 'Santana Live', 59)\n",
      "(199, 'Maquinarama', 130)\n",
      "(200, 'O Samba Poconé', 130)\n",
      "(201, 'Judas 0: B-Sides and Rarities', 131)\n",
      "(202, 'Rotten Apples: Greatest Hits', 131)\n",
      "(203, 'A-Sides', 132)\n",
      "(204, 'Morning Dance', 53)\n",
      "(205, 'In Step', 133)\n",
      "(206, 'Core', 134)\n",
      "(207, 'Mezmerize', 135)\n",
      "(208, '[1997] Black Light Syndrome', 136)\n",
      "(209, 'Live [Disc 1]', 137)\n",
      "(210, 'Live [Disc 2]', 137)\n",
      "(211, 'The Singles', 138)\n",
      "(212, 'Beyond Good And Evil', 139)\n",
      "(213, 'Pure Cult: The Best Of The Cult (For Rockers, Ravers, Lovers & Sinners) [UK]', 139)\n",
      "(214, 'The Doors', 140)\n",
      "(215, 'The Police Greatest Hits', 141)\n",
      "(216, 'Hot Rocks, 1964-1971 (Disc 1)', 142)\n",
      "(217, 'No Security', 142)\n",
      "(218, 'Voodoo Lounge', 142)\n",
      "(219, 'Tangents', 143)\n",
      "(220, 'Transmission', 143)\n",
      "(221, 'My Generation - The Very Best Of The Who', 144)\n",
      "(222, 'Serie Sem Limite (Disc 1)', 145)\n",
      "(223, 'Serie Sem Limite (Disc 2)', 145)\n",
      "(224, 'Acústico', 146)\n",
      "(225, 'Volume Dois', 146)\n",
      "(226, 'Battlestar Galactica: The Story So Far', 147)\n",
      "(227, 'Battlestar Galactica, Season 3', 147)\n",
      "(228, 'Heroes, Season 1', 148)\n",
      "(229, 'Lost, Season 3', 149)\n",
      "(230, 'Lost, Season 1', 149)\n",
      "(231, 'Lost, Season 2', 149)\n",
      "(232, 'Achtung Baby', 150)\n",
      "(233, \"All That You Can't Leave Behind\", 150)\n",
      "(234, 'B-Sides 1980-1990', 150)\n",
      "(235, 'How To Dismantle An Atomic Bomb', 150)\n",
      "(236, 'Pop', 150)\n",
      "(237, 'Rattle And Hum', 150)\n",
      "(238, 'The Best Of 1980-1990', 150)\n",
      "(239, 'War', 150)\n",
      "(240, 'Zooropa', 150)\n",
      "(241, 'UB40 The Best Of - Volume Two [UK]', 151)\n",
      "(242, 'Diver Down', 152)\n",
      "(243, 'The Best Of Van Halen, Vol. I', 152)\n",
      "(244, 'Van Halen', 152)\n",
      "(245, 'Van Halen III', 152)\n",
      "(246, 'Contraband', 153)\n",
      "(247, 'Vinicius De Moraes', 72)\n",
      "(248, 'Ao Vivo [IMPORT]', 155)\n",
      "(249, 'The Office, Season 1', 156)\n",
      "(250, 'The Office, Season 2', 156)\n",
      "(251, 'The Office, Season 3', 156)\n",
      "(252, 'Un-Led-Ed', 157)\n",
      "(253, 'Battlestar Galactica (Classic), Season 1', 158)\n",
      "(254, 'Aquaman', 159)\n",
      "(255, 'Instant Karma: The Amnesty International Campaign to Save Darfur', 150)\n",
      "(256, 'Speak of the Devil', 114)\n",
      "(257, '20th Century Masters - The Millennium Collection: The Best of Scorpions', 179)\n",
      "(258, 'House of Pain', 180)\n",
      "(259, 'Radio Brasil (O Som da Jovem Vanguarda) - Seleccao de Henrique Amaro', 36)\n",
      "(260, 'Cake: B-Sides and Rarities', 196)\n",
      "(261, 'LOST, Season 4', 149)\n",
      "(262, 'Quiet Songs', 197)\n",
      "(263, 'Muso Ko', 198)\n",
      "(264, 'Realize', 199)\n",
      "(265, 'Every Kind of Light', 200)\n",
      "(266, 'Duos II', 201)\n",
      "(267, 'Worlds', 202)\n",
      "(268, 'The Best of Beethoven', 203)\n",
      "(269, 'Temple of the Dog', 204)\n",
      "(270, 'Carry On', 205)\n",
      "(271, 'Revelations', 8)\n",
      "(272, 'Adorate Deum: Gregorian Chant from the Proper of the Mass', 206)\n",
      "(273, 'Allegri: Miserere', 207)\n",
      "(274, 'Pachelbel: Canon & Gigue', 208)\n",
      "(275, 'Vivaldi: The Four Seasons', 209)\n",
      "(276, 'Bach: Violin Concertos', 210)\n",
      "(277, 'Bach: Goldberg Variations', 211)\n",
      "(278, 'Bach: The Cello Suites', 212)\n",
      "(279, 'Handel: The Messiah (Highlights)', 213)\n",
      "(280, 'The World of Classical Favourites', 214)\n",
      "(281, 'Sir Neville Marriner: A Celebration', 215)\n",
      "(282, 'Mozart: Wind Concertos', 216)\n",
      "(283, 'Haydn: Symphonies 99 - 104', 217)\n",
      "(284, 'Beethoven: Symhonies Nos. 5 & 6', 218)\n",
      "(285, 'A Soprano Inspired', 219)\n",
      "(286, 'Great Opera Choruses', 220)\n",
      "(287, 'Wagner: Favourite Overtures', 221)\n",
      "(288, 'Fauré: Requiem, Ravel: Pavane & Others', 222)\n",
      "(289, 'Tchaikovsky: The Nutcracker', 223)\n",
      "(290, 'The Last Night of the Proms', 224)\n",
      "(291, 'Puccini: Madama Butterfly - Highlights', 225)\n",
      "(292, 'Holst: The Planets, Op. 32 & Vaughan Williams: Fantasies', 226)\n",
      "(293, \"Pavarotti's Opera Made Easy\", 227)\n",
      "(294, \"Great Performances - Barber's Adagio and Other Romantic Favorites for Strings\", 228)\n",
      "(295, 'Carmina Burana', 229)\n",
      "(296, 'A Copland Celebration, Vol. I', 230)\n",
      "(297, 'Bach: Toccata & Fugue in D Minor', 231)\n",
      "(298, 'Prokofiev: Symphony No.1', 232)\n",
      "(299, 'Scheherazade', 233)\n",
      "(300, 'Bach: The Brandenburg Concertos', 234)\n",
      "(301, 'Chopin: Piano Concertos Nos. 1 & 2', 235)\n",
      "(302, 'Mascagni: Cavalleria Rusticana', 236)\n",
      "(303, 'Sibelius: Finlandia', 237)\n",
      "(304, 'Beethoven Piano Sonatas: Moonlight & Pastorale', 238)\n",
      "(305, 'Great Recordings of the Century - Mahler: Das Lied von der Erde', 240)\n",
      "(306, 'Elgar: Cello Concerto & Vaughan Williams: Fantasias', 241)\n",
      "(307, 'Adams, John: The Chairman Dances', 242)\n",
      "(308, \"Tchaikovsky: 1812 Festival Overture, Op.49, Capriccio Italien & Beethoven: Wellington's Victory\", 243)\n",
      "(309, 'Palestrina: Missa Papae Marcelli & Allegri: Miserere', 244)\n",
      "(310, 'Prokofiev: Romeo & Juliet', 245)\n",
      "(311, 'Strauss: Waltzes', 226)\n",
      "(312, 'Berlioz: Symphonie Fantastique', 245)\n",
      "(313, 'Bizet: Carmen Highlights', 246)\n",
      "(314, 'English Renaissance', 247)\n",
      "(315, 'Handel: Music for the Royal Fireworks (Original Version 1749)', 208)\n",
      "(316, 'Grieg: Peer Gynt Suites & Sibelius: Pelléas et Mélisande', 248)\n",
      "(317, 'Mozart Gala: Famous Arias', 249)\n",
      "(318, 'SCRIABIN: Vers la flamme', 250)\n",
      "(319, 'Armada: Music from the Courts of England and Spain', 251)\n",
      "(320, 'Mozart: Symphonies Nos. 40 & 41', 248)\n",
      "(321, 'Back to Black', 252)\n",
      "(322, 'Frank', 252)\n",
      "(323, 'Carried to Dust (Bonus Track Version)', 253)\n",
      "(324, \"Beethoven: Symphony No. 6 'Pastoral' Etc.\", 254)\n",
      "(325, 'Bartok: Violin & Viola Concertos', 255)\n",
      "(326, \"Mendelssohn: A Midsummer Night's Dream\", 256)\n",
      "(327, 'Bach: Orchestral Suites Nos. 1 - 4', 257)\n",
      "(328, 'Charpentier: Divertissements, Airs & Concerts', 258)\n",
      "(329, 'South American Getaway', 259)\n",
      "(330, 'Górecki: Symphony No. 3', 260)\n",
      "(331, 'Purcell: The Fairy Queen', 261)\n",
      "(332, 'The Ultimate Relexation Album', 262)\n",
      "(333, 'Purcell: Music for the Queen Mary', 263)\n",
      "(334, 'Weill: The Seven Deadly Sins', 264)\n",
      "(335, 'J.S. Bach: Chaconne, Suite in E Minor, Partita in E Major & Prelude, Fugue and Allegro', 265)\n",
      "(336, 'Prokofiev: Symphony No.5 & Stravinksy: Le Sacre Du Printemps', 248)\n",
      "(337, 'Szymanowski: Piano Works, Vol. 1', 266)\n",
      "(338, 'Nielsen: The Six Symphonies', 267)\n",
      "(339, \"Great Recordings of the Century: Paganini's 24 Caprices\", 268)\n",
      "(340, \"Liszt - 12 Études D'Execution Transcendante\", 269)\n",
      "(341, 'Great Recordings of the Century - Shubert: Schwanengesang, 4 Lieder', 270)\n",
      "(342, 'Locatelli: Concertos for Violin, Strings and Continuo, Vol. 3', 271)\n",
      "(343, 'Respighi:Pines of Rome', 226)\n",
      "(344, \"Schubert: The Late String Quartets & String Quintet (3 CD's)\", 272)\n",
      "(345, \"Monteverdi: L'Orfeo\", 273)\n",
      "(346, 'Mozart: Chamber Music', 274)\n",
      "(347, 'Koyaanisqatsi (Soundtrack from the Motion Picture)', 275)\n",
      "(348, 'yodfkj', 278)\n",
      "(350, 'yodfkj', 280)\n"
     ]
    }
   ],
   "source": [
    "# print out all rows from the execute method\n",
    "for row in x:\n",
    "    print(row)"
   ]
  },
  {
   "cell_type": "code",
   "execution_count": 6,
   "metadata": {
    "collapsed": true
   },
   "outputs": [],
   "source": [
    "# be sure to close the connection to the database when done\n",
    "conn.close()"
   ]
  },
  {
   "cell_type": "markdown",
   "metadata": {},
   "source": [
    "### Use-Case"
   ]
  },
  {
   "cell_type": "markdown",
   "metadata": {},
   "source": [
    "##### Queries"
   ]
  },
  {
   "cell_type": "code",
   "execution_count": 7,
   "metadata": {},
   "outputs": [
    {
     "data": {
      "text/plain": [
       "<sqlite3.Connection at 0x1173232d0>"
      ]
     },
     "execution_count": 7,
     "metadata": {},
     "output_type": "execute_result"
    }
   ],
   "source": [
    "# Use pandas to render table as a dataframe\n",
    "import pandas as pd\n",
    "import sqlite3\n",
    "\n",
    "# create object to connect to database\n",
    "conn = sqlite3.connect('sample_data/chinook.db')\n",
    "conn"
   ]
  },
  {
   "cell_type": "code",
   "execution_count": 8,
   "metadata": {
    "collapsed": true
   },
   "outputs": [],
   "source": [
    "# make any Query\n",
    "query = \"SELECT * FROM Album\""
   ]
  },
  {
   "cell_type": "code",
   "execution_count": null,
   "metadata": {
    "collapsed": true
   },
   "outputs": [],
   "source": [
    "# render query as dataframe\n",
    "df = pd.read_sql_query(query, conn)\n",
    "df.head()"
   ]
  },
  {
   "cell_type": "markdown",
   "metadata": {},
   "source": [
    "##### Commands - Adding rows"
   ]
  },
  {
   "cell_type": "code",
   "execution_count": null,
   "metadata": {
    "collapsed": true
   },
   "outputs": [],
   "source": [
    "# create cursor object\n",
    "c = conn.cursor()\n",
    "c"
   ]
  },
  {
   "cell_type": "code",
   "execution_count": null,
   "metadata": {
    "collapsed": true
   },
   "outputs": [],
   "source": [
    "# create a command to add something to the table\n",
    "command = \"INSERT INTO Album VALUES (3723,'grapes',273)\"\n",
    "\n",
    "# execute a query agaist the cursor object\n",
    "c.execute(command)"
   ]
  },
  {
   "cell_type": "code",
   "execution_count": null,
   "metadata": {
    "collapsed": true
   },
   "outputs": [],
   "source": [
    "# commit the changes to the database\n",
    "conn.commit()"
   ]
  },
  {
   "cell_type": "code",
   "execution_count": null,
   "metadata": {
    "collapsed": true
   },
   "outputs": [],
   "source": [
    "# render dataframe using the original query object\n",
    "df = pd.read_sql(query, conn)\n",
    "df.tail()"
   ]
  },
  {
   "cell_type": "markdown",
   "metadata": {},
   "source": [
    "##### Commands - Delete rows"
   ]
  },
  {
   "cell_type": "code",
   "execution_count": null,
   "metadata": {
    "collapsed": true
   },
   "outputs": [],
   "source": [
    "# create a command to delete something from the table\n",
    "command = '''\n",
    "DELETE FROM Album \n",
    "WHERE AlbumId in (3723, 353)\n",
    "'''\n",
    "\n",
    "# execute a query agaist the cursor object\n",
    "c.execute(command)"
   ]
  },
  {
   "cell_type": "code",
   "execution_count": null,
   "metadata": {
    "collapsed": true
   },
   "outputs": [],
   "source": [
    "# commit the changes to the database\n",
    "conn.commit()"
   ]
  },
  {
   "cell_type": "code",
   "execution_count": null,
   "metadata": {
    "collapsed": true
   },
   "outputs": [],
   "source": [
    "# render dataframe\n",
    "df = pd.read_sql(query, conn)\n",
    "df.tail()"
   ]
  },
  {
   "cell_type": "code",
   "execution_count": null,
   "metadata": {
    "collapsed": true
   },
   "outputs": [],
   "source": [
    "# be sure to close the connection to the database when done\n",
    "conn.close()"
   ]
  },
  {
   "cell_type": "markdown",
   "metadata": {},
   "source": [
    "##### Commands - Add Schema (create a new database)"
   ]
  },
  {
   "cell_type": "code",
   "execution_count": null,
   "metadata": {
    "collapsed": true
   },
   "outputs": [],
   "source": [
    "# set up the connection, import declaratinos and the cursor\n",
    "import sqlite3\n",
    "import pandas as pd\n",
    "\n",
    "conn = sqlite3.connect('sample_data/UdaciousMusic.db')\n",
    "\n",
    "c = conn.cursor()\n",
    "c"
   ]
  },
  {
   "cell_type": "code",
   "execution_count": null,
   "metadata": {
    "collapsed": true
   },
   "outputs": [],
   "source": [
    "# run the command\n",
    "command = '''CREATE TABLE InvoiceLine3\n",
    "(\n",
    "    InvoiceLineId INTEGER PRIMARY KEY,\n",
    "    InvoiceId INTEGER,\n",
    "    TrackId INTEGER,\n",
    "    UnitPrice NUMERIC(10,2),\n",
    "    Quantity INTEGER,\n",
    "    FOREIGN KEY (InvoiceId) REFERENCES Invoice (InvoiceId),\n",
    "    FOREIGN KEY (TrackId) REFERENCES Track (TrackId)\n",
    ");\n",
    "'''\n",
    "\n",
    "c.execute(command)"
   ]
  },
  {
   "cell_type": "markdown",
   "metadata": {},
   "source": [
    "Add data to the new table:"
   ]
  },
  {
   "cell_type": "code",
   "execution_count": null,
   "metadata": {
    "collapsed": true
   },
   "outputs": [],
   "source": [
    "sql_command_list = [\n",
    "    \"INSERT INTO [InvoiceLine2] ([InvoiceLineId], [InvoiceId], [TrackId], [UnitPrice], [Quantity]) VALUES (1, 1, 2, 0.99, 1);\",\n",
    "    \"INSERT INTO [InvoiceLine2] ([InvoiceLineId], [InvoiceId], [TrackId], [UnitPrice], [Quantity]) VALUES (2, 1, 4, 0.99, 1);\",\n",
    "    \"INSERT INTO [InvoiceLine2] ([InvoiceLineId], [InvoiceId], [TrackId], [UnitPrice], [Quantity]) VALUES (3, 2, 6, 0.99, 1);\",\n",
    "    \"INSERT INTO [InvoiceLine2] ([InvoiceLineId], [InvoiceId], [TrackId], [UnitPrice], [Quantity]) VALUES (4, 2, 8, 0.99, 1);\",\n",
    "    \"INSERT INTO [InvoiceLine2] ([InvoiceLineId], [InvoiceId], [TrackId], [UnitPrice], [Quantity]) VALUES (5, 2, 10, 0.99, 1);\",\n",
    "    \"INSERT INTO [InvoiceLine2] ([InvoiceLineId], [InvoiceId], [TrackId], [UnitPrice], [Quantity]) VALUES (6, 2, 12, 0.99, 1);\",\n",
    "    \"INSERT INTO [InvoiceLine2] ([InvoiceLineId], [InvoiceId], [TrackId], [UnitPrice], [Quantity]) VALUES (7, 3, 16, 0.99, 1);\",\n",
    "    \"INSERT INTO [InvoiceLine2] ([InvoiceLineId], [InvoiceId], [TrackId], [UnitPrice], [Quantity]) VALUES (8, 4, 17, 1.99, 2);\"\n",
    "]\n",
    "for command in sql_command_list:\n",
    "    c.execute(command)"
   ]
  },
  {
   "cell_type": "code",
   "execution_count": null,
   "metadata": {
    "collapsed": true
   },
   "outputs": [],
   "source": [
    "query = \"SELECT * FROM InvoiceLine2\"\n",
    "\n",
    "df = pd.read_sql(query, conn)\n",
    "df"
   ]
  },
  {
   "cell_type": "code",
   "execution_count": null,
   "metadata": {
    "collapsed": true
   },
   "outputs": [],
   "source": [
    "# be sure to close the connection to the database when done\n",
    "conn.close()"
   ]
  },
  {
   "cell_type": "markdown",
   "metadata": {
    "collapsed": true
   },
   "source": [
    "### Queries on the Chinook database"
   ]
  },
  {
   "cell_type": "code",
   "execution_count": null,
   "metadata": {
    "collapsed": true
   },
   "outputs": [],
   "source": [
    "# set up the connection, import declaratinos and the cursor\n",
    "import sqlite3\n",
    "import pprint\n",
    "\n",
    "# connect to database\n",
    "conn = sqlite3.connect('sample_data/chinook.db')\n",
    "\n",
    "# make cursor object\n",
    "c = conn.cursor()\n",
    "c"
   ]
  },
  {
   "cell_type": "markdown",
   "metadata": {},
   "source": [
    "Create my own quick function for printing the rows from the queries:"
   ]
  },
  {
   "cell_type": "code",
   "execution_count": null,
   "metadata": {
    "collapsed": true
   },
   "outputs": [],
   "source": [
    "def ppdb(query):\n",
    "    for row in query:\n",
    "        print(row)"
   ]
  },
  {
   "cell_type": "code",
   "execution_count": null,
   "metadata": {
    "collapsed": true
   },
   "outputs": [],
   "source": [
    "##  First, you'd like to run a promotion targeting the 3 countries with the \n",
    "##  highest number of invoices.  \n",
    "\n",
    "##  Write a query that returns the 3 countries with the highest number of invoices, along with the number \n",
    "##  of invoices for these countries.\n",
    "\n",
    "# COUNT(*) essentially assignes a 1 to each row/column\n",
    "# GROUP BY condences all instances of someting into a single one\n",
    "# ORDER BY used with DESC imposes descending order based on aggregation\n",
    "query = c.execute(\"\"\"\n",
    "SELECT\n",
    "    Invoice.BillingCountry,\n",
    "    COUNT(*) AS Total\n",
    "FROM Invoice\n",
    "GROUP BY Invoice.BillingCountry\n",
    "ORDER BY Total DESC\n",
    "LIMIT 3\n",
    "\"\"\")\n",
    "\n",
    "ppdb(query)"
   ]
  },
  {
   "cell_type": "code",
   "execution_count": null,
   "metadata": {
    "collapsed": true
   },
   "outputs": [],
   "source": [
    "##  The customer who has spent the most money will be declared your best customer.\n",
    "##  They definitely deserve an email thanking them for their patronage :)  \n",
    "\n",
    "##  Build a query that returns the person who has the highest sum of all invoices,\n",
    "##  along with their email, first name, and last name.\n",
    "\n",
    "'''\n",
    "---VISUAL GUIDE---\n",
    "\n",
    "Before Query...\n",
    "\n",
    "###############         ####################   \n",
    "#  Customer   #         #     Invoice      #  \n",
    "###############         ####################   \n",
    "|  CustomerId | = ON  = | CustomerId       |  <-----  FROM/JOIN\n",
    "+=============+         +==================+  \n",
    "|  FirstName  |         | Total            |  <-----  sum Total and limit\n",
    "+=============+         +==================+          to highest sum\n",
    "|  LastName   |    \n",
    "+=============+    \n",
    "|  Email      |               \n",
    "+=============+\n",
    "\n",
    "After Query...\n",
    "\n",
    "###################################################   \n",
    "#             CustomerInvoice                     #   <-----  RESULT!\n",
    "###################################################   \n",
    "|  Email  |  FirstName | LastName    |    Total   |\n",
    "+=========+============+=============+============+\n",
    "\n",
    "'''\n",
    "\n",
    "query = c.execute(\"\"\"\n",
    "SELECT\n",
    "    Customer.Email,\n",
    "    Customer.FirstName,\n",
    "    Customer.LastName,\n",
    "    SUM(Invoice.Total) AS Total\n",
    "FROM Customer\n",
    "    LEFT JOIN Invoice\n",
    "        ON Customer.CustomerId = Invoice.CustomerId\n",
    "GROUP BY Customer.CustomerId\n",
    "ORDER BY Total DESC\n",
    "LIMIT 1\n",
    "\"\"\")\n",
    "\n",
    "ppdb(query)"
   ]
  },
  {
   "cell_type": "code",
   "execution_count": null,
   "metadata": {
    "collapsed": true
   },
   "outputs": [],
   "source": [
    "##  Rock Music Lives on!  After the success of your recent email campaign,  \n",
    "##  you're interested in targeting your long standing Rock Music audience!\n",
    "##  You'll need to collect a list of emails containing each of your Rock Music listeners.\n",
    "\n",
    "##  Use your query to return the email, first name, last name, and Genre of all Rock Music listeners!\n",
    "##  Return you list ordered alphabetically by email address starting with A.\n",
    "##  Can you find a way to deal with duplicate email addresses so no one receives multiple emails?\n",
    "\n",
    "query = c.execute(\"\"\"\n",
    "SELECT \n",
    "Customer.Email, \n",
    "Customer.FirstName, \n",
    "Customer.LastName, \n",
    "Genre.Name AS Genre \n",
    "FROM Customer \n",
    "    LEFT JOIN Invoice \n",
    "        ON Customer.CustomerId=Invoice.CustomerId\n",
    "    LEFT JOIN InvoiceLine \n",
    "        ON Invoice.InvoiceId=InvoiceLine.InvoiceId\n",
    "    LEFT JOIN Track\n",
    "        ON InvoiceLine.TrackId=Track.TrackId \n",
    "    LEFT JOIN Genre\n",
    "        ON Track.GenreId=Genre.GenreId\n",
    "WHERE Genre.GenreId = 1 \n",
    "GROUP BY Customer.CustomerId \n",
    "ORDER BY Customer.Email ASC\n",
    "\"\"\")\n",
    "\n",
    "ppdb(query)"
   ]
  },
  {
   "cell_type": "code",
   "execution_count": null,
   "metadata": {
    "collapsed": true
   },
   "outputs": [],
   "source": [
    "##  Let's throw a promotional Music Festival in the city with the best customers!\n",
    "##  Which city have you made the most money from?\n",
    "\n",
    "##  Write a query that returns the 1 city that has the highest sum of invoice totals.\n",
    "##  Return both the city name and the sum of all invoice totals.\n",
    "\n",
    "'''\n",
    "---VISUAL GUIDE---\n",
    "\n",
    "Before Query...\n",
    "\n",
    "#######################\n",
    "#        Invoice      #            <--- FROM \n",
    "#######################\n",
    "| BillingCity | Total |           <--- SELECT \n",
    "+-------------+-------+\n",
    "\n",
    "After Query...\n",
    "\n",
    "##################################   \n",
    "#          Invoice               #   <-----  RESULT!\n",
    "##################################   \n",
    "|  BillingCity  |  sum(Total)    |\n",
    "+===============+================+\n",
    "|   Top City      Total Invoices |\n",
    "+---------------+----------------+\n",
    "'''\n",
    "\n",
    "query = c.execute(\"\"\"\n",
    "SELECT \n",
    "BillingCity, SUM(Total ) \n",
    "FROM Invoice \n",
    "GROUP BY BillingCity \n",
    "ORDER BY SUM(Total) DESC\n",
    "limit 1\n",
    "\"\"\")\n",
    "\n",
    "ppdb(query)"
   ]
  },
  {
   "cell_type": "code",
   "execution_count": null,
   "metadata": {
    "collapsed": true
   },
   "outputs": [],
   "source": [
    "##  It would be really helpful to know what type of music everyone likes before \n",
    "##  throwing this festival.\n",
    "##  Lucky for us we've got the data to find out!  \n",
    "##  We should be able to tell what music people like by figuring out what music they're buying.\n",
    "\n",
    "##  Write a query that returns the BillingCity,total number of invoices \n",
    "##  associated with that particular genre, and the genre Name.\n",
    "\n",
    "##  Return the top 3 most popular music genres for the city Prague\n",
    "##  with the highest invoice total (you found this in the previous quiz!)\n",
    "\n",
    "'''\n",
    "---Visual Guide---\n",
    "\n",
    "Before Query...\n",
    "\n",
    "###############       #################       #############      #############\n",
    "#  Invoice    #       #  InvoiceLine  #       #   Track   #      #   Genre   #\n",
    "###############       #################       #############      #############\n",
    "|  InvoiceId  | --->  |  InvoiceId    |       |  GenreId  | ---> |  GenreId  |\n",
    "+-------------+       +---------------+       +-----------+      +-----------+\n",
    "|  BillingCity|       |  TrackId      |  ---> |  TrackId  |      |  Name     |  \n",
    "+-------------+       +---------------+       +-----------+      +-----------+\n",
    "\n",
    "After Query..\n",
    "\n",
    "#######################################\n",
    "#            InvoiceGenre             #\n",
    "#######################################\n",
    "|  BillingCity  |  COUNT(*)  |  Name  |\n",
    "+---------------+------------+--------+\n",
    "\n",
    "'''\n",
    "\n",
    "query = c.execute(\"\"\"\n",
    "SELECT \n",
    "Invoice.BillingCity,\n",
    "COUNT(Genre.Name),\n",
    "Genre.Name\n",
    "FROM Invoice \n",
    "    JOIN InvoiceLine\n",
    "        ON Invoice.InvoiceId=InvoiceLine.InvoiceId\n",
    "    JOIN Track\n",
    "        ON InvoiceLine.TrackId=Track.TrackID\n",
    "    JOIN Genre\n",
    "        ON Track.GenreId=Genre.GenreId\n",
    "WHERE Invoice.BillingCity = 'Prague'\n",
    "GROUP BY Genre.Name\n",
    "ORDER BY COUNT(Genre.Name) DESC\n",
    "limit 3\n",
    "\"\"\")\n",
    "\n",
    "ppdb(query)"
   ]
  },
  {
   "cell_type": "code",
   "execution_count": null,
   "metadata": {
    "collapsed": true
   },
   "outputs": [],
   "source": [
    "##  Now that we know that our customers love rock music, we can decide which musicians to \n",
    "##  invite to play at the concert. \n",
    "\n",
    "##  Let's invite the artists who have written the most rock music in our dataset.\n",
    "##  Write a query that returns the Artist name and total track count of the top 10 rock bands. \n",
    "\n",
    "'''\n",
    "---Visual Guide---\n",
    "\n",
    "Before Query...\n",
    "\n",
    "#############      #############      #############      ############\n",
    "#    Genre  #      #   Track   #      #   Album   #      #  Artist  #\n",
    "#############      #############      #############      ############\n",
    "|  GenreId  | ---> |  GenreId  |      |  ArtistId  | --->| ArtistId |\n",
    "+-----------+      +-----------+      +-----------+      +----------+\n",
    "|  Name     |      |  AlbumId   |---> |  AlbumId  |      |  Name    |\n",
    "+-----------+      +-----------+      +-----------+      +----------+\n",
    "\n",
    "After Query...\n",
    "\n",
    "#######################################\n",
    "#             GenreArtist             #\n",
    "#######################################\n",
    "|  Artist.Name  |  COUNT(Genre.Name)  |\n",
    "+---------------+---------------------+\n",
    "\n",
    "'''\n",
    "\n",
    "query = c.execute(\"\"\"\n",
    "SELECT \n",
    "Artist.Name as Artist, \n",
    "COUNT(Genre.Name) as count \n",
    "FROM Genre\n",
    "    JOIN Track\n",
    "        ON Genre.GenreId=Track.GenreId\n",
    "    JOIN Album\n",
    "        ON Track.AlbumId=Album.AlbumId\n",
    "    JOIN Artist\n",
    "        ON Album.ArtistId=Artist.ArtistId\n",
    "WHERE Genre.GenreId = 1\n",
    "GROUP BY Artist.Name\n",
    "ORDER BY COUNT(Genre.Name) DESC\n",
    "limit 10\n",
    "\"\"\")\n",
    "\n",
    "ppdb(query)"
   ]
  },
  {
   "cell_type": "code",
   "execution_count": null,
   "metadata": {
    "collapsed": true
   },
   "outputs": [],
   "source": [
    "##  The show was a huge hit! Congratulations on all your hard work :)  \n",
    "##  After the popularity of your first show you've decided to jump on the\n",
    "##  railway for an Alternative & Punk tour through France!  \n",
    "\n",
    "##  What does the alternative punk scene look like throughout French \n",
    "##  cities in your dataset?\n",
    "\n",
    "##  Return the BillingCities in France, followed by the total number of \n",
    "##  tracks purchased for Alternative & Punk music.\n",
    "\n",
    "##  Order your output so that the city with the highest total number of\n",
    "##  tracks purchased is on top.\n",
    "\n",
    "'''\n",
    "---Visual Guide---\n",
    "\n",
    "Before Query...\n",
    "\n",
    "#################       #################       #############      #############\n",
    "#    Invoice    #       #  InvoiceLine  #       #   Track   #      #   Genre   #\n",
    "#################       #################       #############      #############\n",
    "|  InvoiceId    | --->  |  InvoiceId    |       |  GenreId  | ---> |  GenreId  |\n",
    "+---------------+       +---------------+       +-----------+      +-----------+\n",
    "|  BillingCity| |       |  TrackId      |  ---> |  TrackId  |      |  Name     |  \n",
    "+---------------+       +---------------+       +-----------+      +-----------+\n",
    "| BillingCountry|\n",
    "+---------------+\n",
    "\n",
    "After Query..\n",
    "\n",
    "###############################\n",
    "#        InvoiceGenre         #\n",
    "###############################\n",
    "|  BillingCity  |  NumTracks  |\n",
    "+---------------+-------------+\n",
    "\n",
    "'''\n",
    "\n",
    "query = c.execute(\"\"\"\n",
    "SELECT\n",
    "Invoice.BillingCity,\n",
    "Count(Genre.Name) AS NumTracks\n",
    "FROM Invoice\n",
    "    JOIN InvoiceLine\n",
    "        ON Invoice.InvoiceId=InvoiceLine.InvoiceId\n",
    "    JOIN Track\n",
    "        ON InvoiceLine.TrackId=Track.TrackId\n",
    "    JOIN Genre\n",
    "        ON Track.GenreId=Genre.GenreId\n",
    "WHERE Genre.GenreId = 4 and Invoice.BillingCountry = 'France'\n",
    "GROUP BY Invoice.BillingCity\n",
    "ORDER BY NumTracks DESC\n",
    "\"\"\")\n",
    "\n",
    "ppdb(query)"
   ]
  }
 ],
 "metadata": {
  "anaconda-cloud": {},
  "kernelspec": {
   "display_name": "Python 3",
   "language": "python",
   "name": "python3"
  },
  "language_info": {
   "codemirror_mode": {
    "name": "ipython",
    "version": 3
   },
   "file_extension": ".py",
   "mimetype": "text/x-python",
   "name": "python",
   "nbconvert_exporter": "python",
   "pygments_lexer": "ipython3",
   "version": "3.6.0"
  },
  "latex_envs": {
   "LaTeX_envs_menu_present": true,
   "bibliofile": "biblio.bib",
   "cite_by": "apalike",
   "current_citInitial": 1,
   "eqLabelWithNumbers": true,
   "eqNumInitial": 1,
   "hotkeys": {
    "equation": "Ctrl-E",
    "itemize": "Ctrl-I"
   },
   "labels_anchors": false,
   "latex_user_defs": false,
   "report_style_numbering": false,
   "user_envs_cfg": false
  }
 },
 "nbformat": 4,
 "nbformat_minor": 1
}
