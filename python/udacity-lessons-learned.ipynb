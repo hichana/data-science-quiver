{
 "cells": [
  {
   "cell_type": "markdown",
   "metadata": {},
   "source": [
    "### P2\n",
    "- WHO am I making a statement about? Narrow focus accordingly.\n",
    "- Browse the raw data and make note of its unique needs and limitations. This can save time during EDA and help shape analysis.\n",
    "- I'm going to run into things I don't know how to do or things that throw errors. Do NOT get caught in a guessing-around loop. Instead, reason up from first principles. Start with a piece of paper and start connecting things from what I do know to what I need to know and then what spawns from there, eventually reasoning up to my goal.\n",
    "- Build for iterability and scale.\n",
    "- Don’t write the narrative of the report while conducting the analysis. Use a minimal outline and notes. Once everything is ready build up the notebook as a report.\n",
    "- At different stages during wrangling and analysis, confirm things are working as expected either programmatically within the notebook or by exporting and viewing csv files."
   ]
  },
  {
   "cell_type": "code",
   "execution_count": null,
   "metadata": {
    "collapsed": true
   },
   "outputs": [],
   "source": []
  }
 ],
 "metadata": {
  "anaconda-cloud": {},
  "kernelspec": {
   "display_name": "Python [conda env:bunnies]",
   "language": "python",
   "name": "conda-env-bunnies-py"
  },
  "language_info": {
   "codemirror_mode": {
    "name": "ipython",
    "version": 3
   },
   "file_extension": ".py",
   "mimetype": "text/x-python",
   "name": "python",
   "nbconvert_exporter": "python",
   "pygments_lexer": "ipython3",
   "version": "3.5.2"
  },
  "latex_envs": {
   "LaTeX_envs_menu_present": true,
   "bibliofile": "biblio.bib",
   "cite_by": "apalike",
   "current_citInitial": 1,
   "eqLabelWithNumbers": true,
   "eqNumInitial": 1,
   "hotkeys": {
    "equation": "Ctrl-E",
    "itemize": "Ctrl-I"
   },
   "labels_anchors": false,
   "latex_user_defs": false,
   "report_style_numbering": false,
   "user_envs_cfg": false
  }
 },
 "nbformat": 4,
 "nbformat_minor": 1
}
