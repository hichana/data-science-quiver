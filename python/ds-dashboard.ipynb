{
 "cells": [
  {
   "cell_type": "markdown",
   "metadata": {},
   "source": [
    "##### Blueprint for Cleaning Data\n",
    "* Audit data programmatically using some validation rules and create a report on the quality of the data. May even want to run a statistical analysis to check for outlier for example.\n",
    "\n",
    "* With the Audit, create a data cleaning plan\n",
    "    * Identify causes of dirty data\n",
    "    * Define operations that will correct the data\n",
    "    * Test to make sure data cleaning plan will do what is needed\n",
    "* Execute the plan (run the script)\n",
    "* May be necessary to manually correct some of the data\n",
    "* note, it's ok to loop back to the first step and imporove/iterate over this process "
   ]
  }
 ],
 "metadata": {
  "anaconda-cloud": {},
  "kernelspec": {
   "display_name": "Python [conda env:bunnies]",
   "language": "python",
   "name": "conda-env-bunnies-py"
  },
  "language_info": {
   "codemirror_mode": {
    "name": "ipython",
    "version": 3
   },
   "file_extension": ".py",
   "mimetype": "text/x-python",
   "name": "python",
   "nbconvert_exporter": "python",
   "pygments_lexer": "ipython3",
   "version": "3.5.2"
  },
  "latex_envs": {
   "LaTeX_envs_menu_present": true,
   "bibliofile": "biblio.bib",
   "cite_by": "apalike",
   "current_citInitial": 1,
   "eqLabelWithNumbers": true,
   "eqNumInitial": 1,
   "hotkeys": {
    "equation": "Ctrl-E",
    "itemize": "Ctrl-I"
   },
   "labels_anchors": false,
   "latex_user_defs": false,
   "report_style_numbering": false,
   "user_envs_cfg": false
  }
 },
 "nbformat": 4,
 "nbformat_minor": 1
}
