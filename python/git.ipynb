{
 "cells": [
  {
   "cell_type": "markdown",
   "metadata": {},
   "source": [
    "# Git"
   ]
  },
  {
   "cell_type": "markdown",
   "metadata": {},
   "source": [
    "##### General Notes\n",
    "* make one commit per logical change so that each commit message has one purpose that can be easily understood."
   ]
  },
  {
   "cell_type": "markdown",
   "metadata": {},
   "source": [
    "##### Git Commands List\n",
    "* git log: shows all the commits (q to exit expanding list)\n",
    "* git log --stat: shows all the commits plus number of insertions and deletions\n",
    "* git diff (commit ID 1) (commit ID 2): shows the differences between files in each commit"
   ]
  },
  {
   "cell_type": "markdown",
   "metadata": {
    "collapsed": true
   },
   "source": [
    "##### Basic Merging\n",
    "Assuming there is a dev and master branch both locally and remote."
   ]
  },
  {
   "cell_type": "markdown",
   "metadata": {},
   "source": [
    "After working on a dev branch and making changes I want:\n",
    "git checkout master\n",
    "\n",
    "Make sure origin is up to date:\n",
    "git pull origin master\n",
    "\n",
    "Now merge master with dev:\n",
    "git merge test\n",
    "\n",
    "Push the now merged master branch to remote:\n",
    "git push origin master"
   ]
  },
  {
   "cell_type": "code",
   "execution_count": null,
   "metadata": {
    "collapsed": true
   },
   "outputs": [],
   "source": []
  }
 ],
 "metadata": {
  "anaconda-cloud": {},
  "kernelspec": {
   "display_name": "Python 3",
   "language": "python",
   "name": "python3"
  },
  "language_info": {
   "codemirror_mode": {
    "name": "ipython",
    "version": 3
   },
   "file_extension": ".py",
   "mimetype": "text/x-python",
   "name": "python",
   "nbconvert_exporter": "python",
   "pygments_lexer": "ipython3",
   "version": "3.6.0"
  },
  "latex_envs": {
   "LaTeX_envs_menu_present": true,
   "bibliofile": "biblio.bib",
   "cite_by": "apalike",
   "current_citInitial": 1,
   "eqLabelWithNumbers": true,
   "eqNumInitial": 1,
   "hotkeys": {
    "equation": "Ctrl-E",
    "itemize": "Ctrl-I"
   },
   "labels_anchors": false,
   "latex_user_defs": false,
   "report_style_numbering": false,
   "user_envs_cfg": false
  }
 },
 "nbformat": 4,
 "nbformat_minor": 1
}
