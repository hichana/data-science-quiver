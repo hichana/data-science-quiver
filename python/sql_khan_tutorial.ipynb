{
 "cells": [
  {
   "cell_type": "markdown",
   "metadata": {},
   "source": [
    "# SQL Khan Academy Tutorial"
   ]
  },
  {
   "cell_type": "markdown",
   "metadata": {},
   "source": [
    "### Intro"
   ]
  },
  {
   "cell_type": "markdown",
   "metadata": {},
   "source": [
    "Set up the database:"
   ]
  },
  {
   "cell_type": "code",
   "execution_count": null,
   "metadata": {
    "collapsed": true
   },
   "outputs": [],
   "source": [
    "import sqlite3\n",
    "import pandas as pd\n",
    "\n",
    "conn = sqlite3.connect('sample_data/khan1.db')\n",
    "cur = conn.cursor()"
   ]
  },
  {
   "cell_type": "markdown",
   "metadata": {},
   "source": [
    "Create a function for easy printing of a query into a dataframe (note, the pd.read_sql() function executes the query for me):"
   ]
  },
  {
   "cell_type": "code",
   "execution_count": null,
   "metadata": {
    "collapsed": true
   },
   "outputs": [],
   "source": [
    "def df_maker(query):\n",
    "    df = pd.read_sql_query(query, conn)\n",
    "    return df"
   ]
  },
  {
   "cell_type": "markdown",
   "metadata": {},
   "source": [
    "My data:"
   ]
  },
  {
   "cell_type": "code",
   "execution_count": null,
   "metadata": {
    "collapsed": true
   },
   "outputs": [],
   "source": [
    "\"\"\"\n",
    "Grocery list:\n",
    "Bananas (4)\n",
    "Peanut Butter (1)\n",
    "Dark Chocolate Bars (2)\n",
    "\"\"\""
   ]
  },
  {
   "cell_type": "markdown",
   "metadata": {},
   "source": [
    "Add the schema:"
   ]
  },
  {
   "cell_type": "code",
   "execution_count": null,
   "metadata": {
    "collapsed": true
   },
   "outputs": [],
   "source": [
    "new_schema = \"\"\"\n",
    "CREATE TABLE groceries\n",
    "(id INTEGER PRIMARY KEY, name TEXT, quantity INTEGER, aisle INTEGER)\n",
    "\"\"\"\n",
    "\n",
    "cur.execute(new_schema)\n",
    "conn.commit()"
   ]
  },
  {
   "cell_type": "markdown",
   "metadata": {},
   "source": [
    "Add some data:"
   ]
  },
  {
   "cell_type": "code",
   "execution_count": null,
   "metadata": {
    "collapsed": true
   },
   "outputs": [],
   "source": [
    "add_to_db = [\n",
    "    \"INSERT INTO groceries VALUES (1, 'Bananas', 4, 7)\",\n",
    "    \"INSERT INTO groceries VALUES (2, 'Peanut Butter', 1, 2)\",\n",
    "    \"INSERT INTO groceries VALUES (3, 'Dark chocolate bars', 2, 2)\",\n",
    "    \"INSERT INTO groceries VALUES (4, 'Ice creame', 1, 12)\",\n",
    "    \"INSERT INTO groceries VALUES (5, 'Cherries', 6, 2)\",\n",
    "    \"INSERT INTO groceries VALUES (6, 'Chocolate syrup', 1, 4)\"\n",
    "]\n",
    "\n",
    "for query in add_to_db:\n",
    "    cur.execute(query)\n",
    "    conn.commit()"
   ]
  },
  {
   "cell_type": "markdown",
   "metadata": {},
   "source": [
    "Use query to show the data:"
   ]
  },
  {
   "cell_type": "code",
   "execution_count": null,
   "metadata": {
    "collapsed": true
   },
   "outputs": [],
   "source": [
    "query = \"\"\"\n",
    "SELECT * FROM groceries\n",
    "\"\"\"\n",
    "\n",
    "table = df_maker(query)\n",
    "table"
   ]
  },
  {
   "cell_type": "markdown",
   "metadata": {},
   "source": [
    "Show all rows with aisle greater than 5. Order by aisle number:"
   ]
  },
  {
   "cell_type": "code",
   "execution_count": null,
   "metadata": {
    "collapsed": true
   },
   "outputs": [],
   "source": [
    "query = \"\"\"\n",
    "SELECT *\n",
    "FROM groceries\n",
    "WHERE aisle > 5\n",
    "ORDER BY aisle DESC\n",
    "\"\"\"\n",
    "\n",
    "df_maker(query)"
   ]
  },
  {
   "cell_type": "markdown",
   "metadata": {},
   "source": [
    "Now sum up all the items in the quantity field:"
   ]
  },
  {
   "cell_type": "code",
   "execution_count": null,
   "metadata": {
    "collapsed": true
   },
   "outputs": [],
   "source": [
    "query = \"\"\"\n",
    "SELECT\n",
    "    SUM(quantity)\n",
    "FROM groceries\n",
    "\"\"\"\n",
    "\n",
    "df_maker(query)"
   ]
  },
  {
   "cell_type": "markdown",
   "metadata": {},
   "source": [
    "Find the item with the greatest quantity:"
   ]
  },
  {
   "cell_type": "code",
   "execution_count": null,
   "metadata": {
    "collapsed": true
   },
   "outputs": [],
   "source": [
    "query = \"\"\"\n",
    "SELECT\n",
    "    MAX(quantity)\n",
    "FROM groceries\n",
    "\"\"\"\n",
    "\n",
    "df_maker(query)"
   ]
  },
  {
   "cell_type": "markdown",
   "metadata": {
    "collapsed": true
   },
   "source": [
    "Find number of items per aisle:"
   ]
  },
  {
   "cell_type": "code",
   "execution_count": null,
   "metadata": {
    "collapsed": true
   },
   "outputs": [],
   "source": [
    "query = \"\"\"\n",
    "SELECT\n",
    "    aisle,\n",
    "    SUM(quantity)\n",
    "FROM groceries\n",
    "GROUP BY aisle\n",
    "\"\"\"\n",
    "\n",
    "df_maker(query)"
   ]
  },
  {
   "cell_type": "markdown",
   "metadata": {},
   "source": [
    "Note, selecting a different item than what is being grouped by may give a nosensical result. First, remember the main table:"
   ]
  },
  {
   "cell_type": "code",
   "execution_count": null,
   "metadata": {
    "collapsed": true
   },
   "outputs": [],
   "source": [
    "table"
   ]
  },
  {
   "cell_type": "code",
   "execution_count": null,
   "metadata": {
    "collapsed": true
   },
   "outputs": [],
   "source": [
    "query = \"\"\"\n",
    "SELECT\n",
    "    name,\n",
    "    SUM(quantity)\n",
    "FROM groceries\n",
    "GROUP BY aisle\n",
    "\"\"\"\n",
    "\n",
    "df_maker(query)"
   ]
  },
  {
   "cell_type": "markdown",
   "metadata": {},
   "source": [
    "But the SQL engine only selects the top-most name to represent what I'm grouping by - though the SUM(quantity) is actually the total items per aisle, regardless of what they are."
   ]
  },
  {
   "cell_type": "code",
   "execution_count": null,
   "metadata": {
    "collapsed": true
   },
   "outputs": [],
   "source": [
    "conn.close()"
   ]
  },
  {
   "cell_type": "markdown",
   "metadata": {},
   "source": [
    "### More Complex Queries"
   ]
  },
  {
   "cell_type": "markdown",
   "metadata": {},
   "source": [
    "Set up a new database:"
   ]
  },
  {
   "cell_type": "code",
   "execution_count": null,
   "metadata": {
    "collapsed": true
   },
   "outputs": [],
   "source": [
    "import sqlite3\n",
    "import pandas as pd\n",
    "\n",
    "conn = sqlite3.connect('sample_data/khan2.db')\n",
    "cur = conn.cursor()"
   ]
  },
  {
   "cell_type": "markdown",
   "metadata": {},
   "source": [
    "Function to load and view table into a dataframe:"
   ]
  },
  {
   "cell_type": "code",
   "execution_count": null,
   "metadata": {
    "collapsed": true
   },
   "outputs": [],
   "source": [
    "import pandas as pd\n",
    "\n",
    "def df_maker(query):\n",
    "    df = pd.read_sql(query, conn)\n",
    "    return df"
   ]
  },
  {
   "cell_type": "markdown",
   "metadata": {},
   "source": [
    "Add schema:"
   ]
  },
  {
   "cell_type": "code",
   "execution_count": null,
   "metadata": {
    "collapsed": true
   },
   "outputs": [],
   "source": [
    "new_schema = \"\"\"\n",
    "CREATE TABLE exercise_logs\n",
    "    (id INTEGER PRIMARY KEY AUTOINCREMENT,\n",
    "    type TEXT,\n",
    "    minutes INTEGER, \n",
    "    calories INTEGER,\n",
    "    heart_rate INTEGER)\n",
    "\"\"\"\n",
    "\n",
    "cur.execute(new_schema)\n",
    "conn.commit()"
   ]
  },
  {
   "cell_type": "markdown",
   "metadata": {},
   "source": [
    "Add some data:"
   ]
  },
  {
   "cell_type": "code",
   "execution_count": null,
   "metadata": {
    "collapsed": true
   },
   "outputs": [],
   "source": [
    "add_to_db = [\n",
    "    \"INSERT INTO exercise_logs(type, minutes, calories, heart_rate) VALUES ('biking', 30, 100, 110)\",\n",
    "    \"INSERT INTO exercise_logs(type, minutes, calories, heart_rate) VALUES ('biking', 10, 30, 105)\",\n",
    "    \"INSERT INTO exercise_logs(type, minutes, calories, heart_rate) VALUES ('dancing', 15, 200, 120)\",\n",
    "    \"INSERT INTO exercise_logs(type, minutes, calories, heart_rate) VALUES ('tree climbing', 30, 70, 90)\",\n",
    "    \"INSERT INTO exercise_logs(type, minutes, calories, heart_rate) VALUES ('tree climbing', 25, 72, 80)\",\n",
    "    \"INSERT INTO exercise_logs(type, minutes, calories, heart_rate) VALUES ('rowing', 30, 70, 90)\",\n",
    "    \"INSERT INTO exercise_logs(type, minutes, calories, heart_rate) VALUES ('hiking', 60, 80, 85)\"\n",
    "]\n",
    "\n",
    "for query in add_to_db:\n",
    "    cur.execute(query)\n",
    "    conn.commit()"
   ]
  },
  {
   "cell_type": "markdown",
   "metadata": {},
   "source": [
    "View the table:"
   ]
  },
  {
   "cell_type": "code",
   "execution_count": null,
   "metadata": {
    "collapsed": true
   },
   "outputs": [],
   "source": [
    "exercise_logs_query = \"\"\"\n",
    "SELECT * FROM exercise_logs\n",
    "\"\"\"\n",
    "\n",
    "exercise_logs = df_maker(exercise_logs_query)\n",
    "exercise_logs"
   ]
  },
  {
   "cell_type": "markdown",
   "metadata": {},
   "source": [
    "Filter where calories greater than 50. Order by calories:"
   ]
  },
  {
   "cell_type": "code",
   "execution_count": null,
   "metadata": {
    "collapsed": true
   },
   "outputs": [],
   "source": [
    "query = \"\"\"\n",
    "SELECT *\n",
    "FROM exercise_logs\n",
    "WHERE calories > 50\n",
    "ORDER BY calories\n",
    "\"\"\"\n",
    "\n",
    "df_maker(query)"
   ]
  },
  {
   "cell_type": "markdown",
   "metadata": {},
   "source": [
    "Chain together conditions with the AND operator:"
   ]
  },
  {
   "cell_type": "code",
   "execution_count": null,
   "metadata": {
    "collapsed": true
   },
   "outputs": [],
   "source": [
    "query = \"\"\"\n",
    "SELECT *\n",
    "FROM exercise_logs\n",
    "WHERE calories > 50 AND minutes < 30\n",
    "\"\"\"\n",
    "\n",
    "df_maker(query)"
   ]
  },
  {
   "cell_type": "markdown",
   "metadata": {},
   "source": [
    "Now with the OR operator:"
   ]
  },
  {
   "cell_type": "code",
   "execution_count": null,
   "metadata": {
    "collapsed": true
   },
   "outputs": [],
   "source": [
    "query = \"\"\"\n",
    "SELECT *\n",
    "FROM exercise_logs\n",
    "WHERE calories > 50 OR heart_rate > 100\n",
    "\"\"\"\n",
    "\n",
    "df_maker(query)"
   ]
  },
  {
   "cell_type": "markdown",
   "metadata": {},
   "source": [
    "Find all matching a list using the IN operator:"
   ]
  },
  {
   "cell_type": "code",
   "execution_count": null,
   "metadata": {
    "collapsed": true
   },
   "outputs": [],
   "source": [
    "query = \"\"\"\n",
    "SELECT *\n",
    "FROM\n",
    "    exercise_logs\n",
    "WHERE type IN\n",
    "    (\n",
    "    'biking',\n",
    "    'hiking',\n",
    "    'tree climbing',\n",
    "    'rowing'\n",
    "    )\n",
    "\"\"\"\n",
    "\n",
    "df_maker(query)"
   ]
  },
  {
   "cell_type": "markdown",
   "metadata": {},
   "source": [
    "Can also use NOT IN to do the opposite:"
   ]
  },
  {
   "cell_type": "code",
   "execution_count": null,
   "metadata": {
    "collapsed": true
   },
   "outputs": [],
   "source": [
    "query = \"\"\"\n",
    "SELECT *\n",
    "FROM\n",
    "    exercise_logs\n",
    "WHERE type NOT IN\n",
    "    (\n",
    "    'biking',\n",
    "    'hiking',\n",
    "    'tree climbing',\n",
    "    'rowing'\n",
    "    )\n",
    "\"\"\"\n",
    "\n",
    "df_maker(query)"
   ]
  },
  {
   "cell_type": "markdown",
   "metadata": {},
   "source": [
    "Now create a new table with doctor-recommended activities:"
   ]
  },
  {
   "cell_type": "code",
   "execution_count": null,
   "metadata": {
    "collapsed": true
   },
   "outputs": [],
   "source": [
    "new_schema = \"\"\"\n",
    "CREATE TABLE drs_favorites\n",
    "    (id INTEGER PRIMARY KEY,\n",
    "    type TEXT,\n",
    "    reason TEXT);\n",
    "\"\"\"\n",
    "\n",
    "cur.execute(new_schema)\n",
    "conn.commit()"
   ]
  },
  {
   "cell_type": "markdown",
   "metadata": {
    "collapsed": true
   },
   "source": [
    "Add some data:\n"
   ]
  },
  {
   "cell_type": "code",
   "execution_count": null,
   "metadata": {
    "collapsed": true
   },
   "outputs": [],
   "source": [
    "add_to_db = [\n",
    "    \"INSERT INTO drs_favorites(type, reason) VALUES ('biking', 'Improves endurance and flexibility.')\",\n",
    "    \"INSERT INTO drs_favorites(type, reason) VALUES ('hiking', 'Increases cardiovascular health.')\"\n",
    "]\n",
    "\n",
    "for query in add_to_db:\n",
    "    cur.execute(query)\n",
    "    conn.commit()"
   ]
  },
  {
   "cell_type": "code",
   "execution_count": null,
   "metadata": {
    "collapsed": true
   },
   "outputs": [],
   "source": [
    "drs_favorites_query = \"\"\"\n",
    "SELECT * FROM drs_favorites\n",
    "\"\"\"\n",
    "\n",
    "drs_favorites = df_maker(drs_favorites_query)\n",
    "drs_favorites"
   ]
  },
  {
   "cell_type": "markdown",
   "metadata": {},
   "source": [
    "Now show all exercise logs corresponding to doctor-recommended activities using a sub-query. Remember exercise_logs first:"
   ]
  },
  {
   "cell_type": "code",
   "execution_count": null,
   "metadata": {
    "collapsed": true
   },
   "outputs": [],
   "source": [
    "exercise_logs"
   ]
  },
  {
   "cell_type": "code",
   "execution_count": null,
   "metadata": {
    "collapsed": true
   },
   "outputs": [],
   "source": [
    "query = \"\"\"\n",
    "SELECT *\n",
    "FROM\n",
    "    exercise_logs\n",
    "WHERE type IN (\n",
    "    SELECT type\n",
    "    FROM drs_favorites\n",
    ")\n",
    "\"\"\"\n",
    "\n",
    "df_maker(query)"
   ]
  },
  {
   "cell_type": "markdown",
   "metadata": {},
   "source": [
    "Use a subquery to search for a category that contains the word 'cardiovascular':"
   ]
  },
  {
   "cell_type": "code",
   "execution_count": null,
   "metadata": {
    "collapsed": true
   },
   "outputs": [],
   "source": [
    "query = \"\"\"\n",
    "SELECT * \n",
    "FROM exercise_logs WHERE type IN (\n",
    "    SELECT type \n",
    "    FROM drs_favorites\n",
    "    WHERE reason LIKE \"%cardiovascular%\")\n",
    "\"\"\"\n",
    "\n",
    "df_maker(query)"
   ]
  },
  {
   "cell_type": "markdown",
   "metadata": {},
   "source": [
    "Now use HAVING to see how many calories burned per type of exercise:"
   ]
  },
  {
   "cell_type": "code",
   "execution_count": null,
   "metadata": {
    "collapsed": true
   },
   "outputs": [],
   "source": [
    "query = \"\"\"\n",
    "SELECT\n",
    "    type,\n",
    "    SUM(calories) AS total_calories\n",
    "FROM exercise_logs\n",
    "GROUP BY type\n",
    "\"\"\"\n",
    "\n",
    "df_maker(query)"
   ]
  },
  {
   "cell_type": "markdown",
   "metadata": {},
   "source": [
    "Now only show activities where more than 150 are burned:"
   ]
  },
  {
   "cell_type": "code",
   "execution_count": null,
   "metadata": {
    "collapsed": true
   },
   "outputs": [],
   "source": [
    "query = \"\"\"\n",
    "SELECT\n",
    "    type,\n",
    "    SUM(calories) AS total_calories\n",
    "FROM exercise_logs\n",
    "GROUP BY type\n",
    "HAVING total_calories > 140\n",
    "\"\"\"\n",
    "\n",
    "df_maker(query)"
   ]
  },
  {
   "cell_type": "markdown",
   "metadata": {},
   "source": [
    "Average calories for each type of exercise greater than a certain amount:"
   ]
  },
  {
   "cell_type": "code",
   "execution_count": null,
   "metadata": {
    "collapsed": true
   },
   "outputs": [],
   "source": [
    "query = \"\"\"\n",
    "SELECT\n",
    "    type,\n",
    "    AVG(calories) AS avg_calories\n",
    "FROM exercise_logs\n",
    "GROUP BY type\n",
    "HAVING avg_calories > 70\n",
    "\"\"\"\n",
    "\n",
    "df_maker(query)"
   ]
  },
  {
   "cell_type": "markdown",
   "metadata": {},
   "source": [
    "Find all exercises where heart_rate exceeds my maximum heart rate for my age (there should be none...):"
   ]
  },
  {
   "cell_type": "code",
   "execution_count": null,
   "metadata": {
    "collapsed": true
   },
   "outputs": [],
   "source": [
    "query = \"\"\"\n",
    "SELECT *\n",
    "FROM exercise_logs\n",
    "WHERE heart_rate > 220 - 36\n",
    "\"\"\"\n",
    "\n",
    "df_maker(query)"
   ]
  },
  {
   "cell_type": "markdown",
   "metadata": {},
   "source": [
    "Now find where heart_rate is between 50 and 90% of max:"
   ]
  },
  {
   "cell_type": "code",
   "execution_count": null,
   "metadata": {
    "collapsed": true
   },
   "outputs": [],
   "source": [
    "query = \"\"\"\n",
    "SELECT *\n",
    "FROM exercise_logs\n",
    "WHERE\n",
    "    heart_rate >= ROUND(0.50 * (220-36))\n",
    "    AND\n",
    "    heart_rate <= ROUND(0.90 * (220-36))\n",
    "\"\"\"\n",
    "\n",
    "df_maker(query)"
   ]
  },
  {
   "cell_type": "markdown",
   "metadata": {},
   "source": [
    "Also can just count how many activities fall into this category:"
   ]
  },
  {
   "cell_type": "code",
   "execution_count": null,
   "metadata": {
    "collapsed": true
   },
   "outputs": [],
   "source": [
    "query = \"\"\"\n",
    "SELECT COUNT(*)\n",
    "FROM exercise_logs\n",
    "WHERE\n",
    "    heart_rate >= ROUND(0.50 * (220-36))\n",
    "    AND\n",
    "    heart_rate <= ROUND(0.90 * (220-36))\n",
    "\"\"\"\n",
    "\n",
    "df_maker(query)"
   ]
  },
  {
   "cell_type": "markdown",
   "metadata": {},
   "source": [
    "Categorize each activity according to which zone the heart is in. First, narrow down exercise_logs table:"
   ]
  },
  {
   "cell_type": "code",
   "execution_count": null,
   "metadata": {
    "collapsed": true
   },
   "outputs": [],
   "source": [
    "query = \"\"\"\n",
    "SELECT\n",
    "    type,\n",
    "    heart_rate\n",
    "FROM exercise_logs\n",
    "\"\"\"\n",
    "\n",
    "df_maker(query)"
   ]
  },
  {
   "cell_type": "markdown",
   "metadata": {},
   "source": [
    "Create a new column with a category for each row:"
   ]
  },
  {
   "cell_type": "code",
   "execution_count": null,
   "metadata": {
    "collapsed": true
   },
   "outputs": [],
   "source": [
    "query = \"\"\"\n",
    "SELECT\n",
    "    type,\n",
    "    heart_rate,\n",
    "CASE\n",
    "    WHEN heart_rate > 220-30 THEN \"above max\"\n",
    "    WHEN heart_rate > ROUND(0.90 * (220-30)) THEN \"above target\"\n",
    "    WHEN heart_rate > ROUND(0.50 * (220-30)) THEN \"within target\"\n",
    "    ELSE \"below target\"\n",
    "END as \"hr_zone\"\n",
    "FROM exercise_logs\n",
    "\"\"\"\n",
    "\n",
    "df_maker(query)"
   ]
  },
  {
   "cell_type": "markdown",
   "metadata": {},
   "source": [
    "Now do the same thing but group by a certain HR zone:"
   ]
  },
  {
   "cell_type": "code",
   "execution_count": null,
   "metadata": {
    "collapsed": true
   },
   "outputs": [],
   "source": [
    "query = \"\"\"\n",
    "SELECT\n",
    "    type,\n",
    "    heart_rate,\n",
    "CASE\n",
    "    WHEN heart_rate > 220-30 THEN \"above max\"\n",
    "    WHEN heart_rate > ROUND(0.90 * (220-30)) THEN \"above target\"\n",
    "    WHEN heart_rate > ROUND(0.50 * (220-30)) THEN \"within target\"\n",
    "    ELSE \"below target\"\n",
    "END as \"hr_zone\"\n",
    "FROM exercise_logs\n",
    "GROUP BY hr_zone\n",
    "\"\"\"\n",
    "\n",
    "df_maker(query)"
   ]
  },
  {
   "cell_type": "markdown",
   "metadata": {},
   "source": [
    "### Joins"
   ]
  },
  {
   "cell_type": "code",
   "execution_count": 1,
   "metadata": {
    "collapsed": true
   },
   "outputs": [],
   "source": [
    "import sqlite3\n",
    "import pandas as pd\n",
    "\n",
    "conn = sqlite3.connect(\"sample_data/khan3.db\")\n",
    "c = conn.cursor()\n",
    "\n",
    "def df_maker(query):\n",
    "    df = pd.read_sql(query, conn)\n",
    "    return df"
   ]
  },
  {
   "cell_type": "code",
   "execution_count": 2,
   "metadata": {
    "collapsed": true
   },
   "outputs": [],
   "source": [
    "new_schema = [\n",
    "\"\"\"\n",
    "CREATE TABLE students (id INTEGER PRIMARY KEY,\n",
    "    first_name TEXT,\n",
    "    last_name TEXT,\n",
    "    email TEXT,\n",
    "    phone TEXT,\n",
    "    birthdate TEXT,\n",
    "    buddy_id INTEGER);\n",
    "\"\"\",\n",
    "\"\"\"\n",
    "CREATE TABLE student_grades (id INTEGER PRIMARY KEY,\n",
    "    student_id INTEGER,\n",
    "    test TEXT,\n",
    "    grade INTEGER)\n",
    "\"\"\",\n",
    "\"\"\"\n",
    "CREATE TABLE student_projects (id INTEGER PRIMARY KEY,\n",
    "    student_id INTEGER,\n",
    "    title TEXT)\n",
    "\"\"\",\n",
    "\"\"\"\n",
    "CREATE TABLE project_pairs (id INTEGER PRIMARY KEY,\n",
    "    project1_id INTEGER,\n",
    "    project2_id INTEGER)\n",
    "\"\"\"\n",
    "]\n",
    "for schema in new_schema:\n",
    "    c.execute(schema)\n",
    "\n",
    "new_rows = [\n",
    "    \"INSERT INTO students VALUES (1, 'Peter','Rabbit', 'peter@rabbit.com', '555-6666','2002-06-24', 2)\",\n",
    "    \"INSERT INTO students VALUES (2, 'Alice', 'Wonderland', 'alice@wonderland.com', '555-4444','2002-07-04', 1)\",\n",
    "    \"INSERT INTO students VALUES (3, 'Aladdin', 'Lampland', 'aladdin@lampland.com', '555-3333', '2001-05-10', 4)\",\n",
    "    \"INSERT INTO students VALUES (4, 'Simba', 'Kingston', 'simba@kingston.com', '555-1111', '2001-12-24', 3)\",\n",
    "    \"INSERT INTO student_grades (student_id, test, grade) VALUES (1, 'Nutrition', 95)\",\n",
    "    \"INSERT INTO student_grades (student_id, test, grade) VALUES (2, 'Nutrition', 92)\",\n",
    "    \"INSERT INTO student_grades (student_id, test, grade) VALUES (1, 'Chemistry', 85)\",\n",
    "    \"INSERT INTO student_grades (student_id, test, grade) VALUES (2, 'Chemistry', 95)\",\n",
    "    \"INSERT INTO student_projects (student_id, title) VALUES (1, 'Carrotapault')\",\n",
    "    \"INSERT INTO student_projects (student_id, title) VALUES (2, 'Mad Hattery')\",\n",
    "    \"INSERT INTO student_projects (student_id, title) VALUES (3, 'Carpet Physics')\",\n",
    "    \"INSERT INTO project_pairs (project1_id, project2_id) VALUES(1, 2)\",\n",
    "    \"INSERT INTO project_pairs (project1_id, project2_id) VALUES(3, 4)\"\n",
    "]\n",
    "for row in new_rows:\n",
    "    c.execute(row)\n",
    "    \n",
    "\n",
    "# \"INSERT INTO student_projects (student_id, title) VALUES (4, 'Hyena Habitats')\","
   ]
  },
  {
   "cell_type": "markdown",
   "metadata": {},
   "source": [
    "Check out my tables:"
   ]
  },
  {
   "cell_type": "code",
   "execution_count": 3,
   "metadata": {},
   "outputs": [
    {
     "data": {
      "text/html": [
       "<div>\n",
       "<table border=\"1\" class=\"dataframe\">\n",
       "  <thead>\n",
       "    <tr style=\"text-align: right;\">\n",
       "      <th></th>\n",
       "      <th>id</th>\n",
       "      <th>first_name</th>\n",
       "      <th>last_name</th>\n",
       "      <th>email</th>\n",
       "      <th>phone</th>\n",
       "      <th>birthdate</th>\n",
       "      <th>buddy_id</th>\n",
       "    </tr>\n",
       "  </thead>\n",
       "  <tbody>\n",
       "    <tr>\n",
       "      <th>0</th>\n",
       "      <td>1</td>\n",
       "      <td>Peter</td>\n",
       "      <td>Rabbit</td>\n",
       "      <td>peter@rabbit.com</td>\n",
       "      <td>555-6666</td>\n",
       "      <td>2002-06-24</td>\n",
       "      <td>2</td>\n",
       "    </tr>\n",
       "    <tr>\n",
       "      <th>1</th>\n",
       "      <td>2</td>\n",
       "      <td>Alice</td>\n",
       "      <td>Wonderland</td>\n",
       "      <td>alice@wonderland.com</td>\n",
       "      <td>555-4444</td>\n",
       "      <td>2002-07-04</td>\n",
       "      <td>1</td>\n",
       "    </tr>\n",
       "    <tr>\n",
       "      <th>2</th>\n",
       "      <td>3</td>\n",
       "      <td>Aladdin</td>\n",
       "      <td>Lampland</td>\n",
       "      <td>aladdin@lampland.com</td>\n",
       "      <td>555-3333</td>\n",
       "      <td>2001-05-10</td>\n",
       "      <td>4</td>\n",
       "    </tr>\n",
       "    <tr>\n",
       "      <th>3</th>\n",
       "      <td>4</td>\n",
       "      <td>Simba</td>\n",
       "      <td>Kingston</td>\n",
       "      <td>simba@kingston.com</td>\n",
       "      <td>555-1111</td>\n",
       "      <td>2001-12-24</td>\n",
       "      <td>3</td>\n",
       "    </tr>\n",
       "  </tbody>\n",
       "</table>\n",
       "</div>"
      ],
      "text/plain": [
       "   id first_name   last_name                 email     phone   birthdate  \\\n",
       "0   1      Peter      Rabbit      peter@rabbit.com  555-6666  2002-06-24   \n",
       "1   2      Alice  Wonderland  alice@wonderland.com  555-4444  2002-07-04   \n",
       "2   3    Aladdin    Lampland  aladdin@lampland.com  555-3333  2001-05-10   \n",
       "3   4      Simba    Kingston    simba@kingston.com  555-1111  2001-12-24   \n",
       "\n",
       "   buddy_id  \n",
       "0         2  \n",
       "1         1  \n",
       "2         4  \n",
       "3         3  "
      ]
     },
     "execution_count": 3,
     "metadata": {},
     "output_type": "execute_result"
    }
   ],
   "source": [
    "query = \"\"\"\n",
    "SELECT * FROM students\n",
    "\"\"\"\n",
    "\n",
    "df_maker(query)"
   ]
  },
  {
   "cell_type": "code",
   "execution_count": 4,
   "metadata": {},
   "outputs": [
    {
     "data": {
      "text/html": [
       "<div>\n",
       "<table border=\"1\" class=\"dataframe\">\n",
       "  <thead>\n",
       "    <tr style=\"text-align: right;\">\n",
       "      <th></th>\n",
       "      <th>id</th>\n",
       "      <th>student_id</th>\n",
       "      <th>test</th>\n",
       "      <th>grade</th>\n",
       "    </tr>\n",
       "  </thead>\n",
       "  <tbody>\n",
       "    <tr>\n",
       "      <th>0</th>\n",
       "      <td>1</td>\n",
       "      <td>1</td>\n",
       "      <td>Nutrition</td>\n",
       "      <td>95</td>\n",
       "    </tr>\n",
       "    <tr>\n",
       "      <th>1</th>\n",
       "      <td>2</td>\n",
       "      <td>2</td>\n",
       "      <td>Nutrition</td>\n",
       "      <td>92</td>\n",
       "    </tr>\n",
       "    <tr>\n",
       "      <th>2</th>\n",
       "      <td>3</td>\n",
       "      <td>1</td>\n",
       "      <td>Chemistry</td>\n",
       "      <td>85</td>\n",
       "    </tr>\n",
       "    <tr>\n",
       "      <th>3</th>\n",
       "      <td>4</td>\n",
       "      <td>2</td>\n",
       "      <td>Chemistry</td>\n",
       "      <td>95</td>\n",
       "    </tr>\n",
       "  </tbody>\n",
       "</table>\n",
       "</div>"
      ],
      "text/plain": [
       "   id  student_id       test  grade\n",
       "0   1           1  Nutrition     95\n",
       "1   2           2  Nutrition     92\n",
       "2   3           1  Chemistry     85\n",
       "3   4           2  Chemistry     95"
      ]
     },
     "execution_count": 4,
     "metadata": {},
     "output_type": "execute_result"
    }
   ],
   "source": [
    "query = \"\"\"\n",
    "SELECT * FROM student_grades\n",
    "\"\"\"\n",
    "\n",
    "df_maker(query)"
   ]
  },
  {
   "cell_type": "code",
   "execution_count": 5,
   "metadata": {},
   "outputs": [
    {
     "data": {
      "text/html": [
       "<div>\n",
       "<table border=\"1\" class=\"dataframe\">\n",
       "  <thead>\n",
       "    <tr style=\"text-align: right;\">\n",
       "      <th></th>\n",
       "      <th>id</th>\n",
       "      <th>student_id</th>\n",
       "      <th>title</th>\n",
       "    </tr>\n",
       "  </thead>\n",
       "  <tbody>\n",
       "    <tr>\n",
       "      <th>0</th>\n",
       "      <td>1</td>\n",
       "      <td>1</td>\n",
       "      <td>Carrotapault</td>\n",
       "    </tr>\n",
       "    <tr>\n",
       "      <th>1</th>\n",
       "      <td>2</td>\n",
       "      <td>2</td>\n",
       "      <td>Mad Hattery</td>\n",
       "    </tr>\n",
       "    <tr>\n",
       "      <th>2</th>\n",
       "      <td>3</td>\n",
       "      <td>3</td>\n",
       "      <td>Carpet Physics</td>\n",
       "    </tr>\n",
       "  </tbody>\n",
       "</table>\n",
       "</div>"
      ],
      "text/plain": [
       "   id  student_id           title\n",
       "0   1           1    Carrotapault\n",
       "1   2           2     Mad Hattery\n",
       "2   3           3  Carpet Physics"
      ]
     },
     "execution_count": 5,
     "metadata": {},
     "output_type": "execute_result"
    }
   ],
   "source": [
    "query = \"\"\"\n",
    "SELECT * FROM student_projects\n",
    "\"\"\"\n",
    "\n",
    "df_maker(query)"
   ]
  },
  {
   "cell_type": "code",
   "execution_count": 6,
   "metadata": {},
   "outputs": [
    {
     "data": {
      "text/html": [
       "<div>\n",
       "<table border=\"1\" class=\"dataframe\">\n",
       "  <thead>\n",
       "    <tr style=\"text-align: right;\">\n",
       "      <th></th>\n",
       "      <th>id</th>\n",
       "      <th>project1_id</th>\n",
       "      <th>project2_id</th>\n",
       "    </tr>\n",
       "  </thead>\n",
       "  <tbody>\n",
       "    <tr>\n",
       "      <th>0</th>\n",
       "      <td>1</td>\n",
       "      <td>1</td>\n",
       "      <td>2</td>\n",
       "    </tr>\n",
       "    <tr>\n",
       "      <th>1</th>\n",
       "      <td>2</td>\n",
       "      <td>3</td>\n",
       "      <td>4</td>\n",
       "    </tr>\n",
       "  </tbody>\n",
       "</table>\n",
       "</div>"
      ],
      "text/plain": [
       "   id  project1_id  project2_id\n",
       "0   1            1            2\n",
       "1   2            3            4"
      ]
     },
     "execution_count": 6,
     "metadata": {},
     "output_type": "execute_result"
    }
   ],
   "source": [
    "query = \"\"\"\n",
    "SELECT * FROM project_pairs\n",
    "\"\"\"\n",
    "\n",
    "df_maker(query)"
   ]
  },
  {
   "cell_type": "markdown",
   "metadata": {},
   "source": [
    "Now make a cross join (note, the following is an 'implicit' inner join):"
   ]
  },
  {
   "cell_type": "code",
   "execution_count": 7,
   "metadata": {},
   "outputs": [
    {
     "data": {
      "text/html": [
       "<div>\n",
       "<table border=\"1\" class=\"dataframe\">\n",
       "  <thead>\n",
       "    <tr style=\"text-align: right;\">\n",
       "      <th></th>\n",
       "      <th>id</th>\n",
       "      <th>student_id</th>\n",
       "      <th>test</th>\n",
       "      <th>grade</th>\n",
       "      <th>id</th>\n",
       "      <th>first_name</th>\n",
       "      <th>last_name</th>\n",
       "      <th>email</th>\n",
       "      <th>phone</th>\n",
       "      <th>birthdate</th>\n",
       "      <th>buddy_id</th>\n",
       "    </tr>\n",
       "  </thead>\n",
       "  <tbody>\n",
       "    <tr>\n",
       "      <th>0</th>\n",
       "      <td>1</td>\n",
       "      <td>1</td>\n",
       "      <td>Nutrition</td>\n",
       "      <td>95</td>\n",
       "      <td>1</td>\n",
       "      <td>Peter</td>\n",
       "      <td>Rabbit</td>\n",
       "      <td>peter@rabbit.com</td>\n",
       "      <td>555-6666</td>\n",
       "      <td>2002-06-24</td>\n",
       "      <td>2</td>\n",
       "    </tr>\n",
       "    <tr>\n",
       "      <th>1</th>\n",
       "      <td>1</td>\n",
       "      <td>1</td>\n",
       "      <td>Nutrition</td>\n",
       "      <td>95</td>\n",
       "      <td>2</td>\n",
       "      <td>Alice</td>\n",
       "      <td>Wonderland</td>\n",
       "      <td>alice@wonderland.com</td>\n",
       "      <td>555-4444</td>\n",
       "      <td>2002-07-04</td>\n",
       "      <td>1</td>\n",
       "    </tr>\n",
       "    <tr>\n",
       "      <th>2</th>\n",
       "      <td>1</td>\n",
       "      <td>1</td>\n",
       "      <td>Nutrition</td>\n",
       "      <td>95</td>\n",
       "      <td>3</td>\n",
       "      <td>Aladdin</td>\n",
       "      <td>Lampland</td>\n",
       "      <td>aladdin@lampland.com</td>\n",
       "      <td>555-3333</td>\n",
       "      <td>2001-05-10</td>\n",
       "      <td>4</td>\n",
       "    </tr>\n",
       "    <tr>\n",
       "      <th>3</th>\n",
       "      <td>1</td>\n",
       "      <td>1</td>\n",
       "      <td>Nutrition</td>\n",
       "      <td>95</td>\n",
       "      <td>4</td>\n",
       "      <td>Simba</td>\n",
       "      <td>Kingston</td>\n",
       "      <td>simba@kingston.com</td>\n",
       "      <td>555-1111</td>\n",
       "      <td>2001-12-24</td>\n",
       "      <td>3</td>\n",
       "    </tr>\n",
       "    <tr>\n",
       "      <th>4</th>\n",
       "      <td>2</td>\n",
       "      <td>2</td>\n",
       "      <td>Nutrition</td>\n",
       "      <td>92</td>\n",
       "      <td>1</td>\n",
       "      <td>Peter</td>\n",
       "      <td>Rabbit</td>\n",
       "      <td>peter@rabbit.com</td>\n",
       "      <td>555-6666</td>\n",
       "      <td>2002-06-24</td>\n",
       "      <td>2</td>\n",
       "    </tr>\n",
       "    <tr>\n",
       "      <th>5</th>\n",
       "      <td>2</td>\n",
       "      <td>2</td>\n",
       "      <td>Nutrition</td>\n",
       "      <td>92</td>\n",
       "      <td>2</td>\n",
       "      <td>Alice</td>\n",
       "      <td>Wonderland</td>\n",
       "      <td>alice@wonderland.com</td>\n",
       "      <td>555-4444</td>\n",
       "      <td>2002-07-04</td>\n",
       "      <td>1</td>\n",
       "    </tr>\n",
       "    <tr>\n",
       "      <th>6</th>\n",
       "      <td>2</td>\n",
       "      <td>2</td>\n",
       "      <td>Nutrition</td>\n",
       "      <td>92</td>\n",
       "      <td>3</td>\n",
       "      <td>Aladdin</td>\n",
       "      <td>Lampland</td>\n",
       "      <td>aladdin@lampland.com</td>\n",
       "      <td>555-3333</td>\n",
       "      <td>2001-05-10</td>\n",
       "      <td>4</td>\n",
       "    </tr>\n",
       "    <tr>\n",
       "      <th>7</th>\n",
       "      <td>2</td>\n",
       "      <td>2</td>\n",
       "      <td>Nutrition</td>\n",
       "      <td>92</td>\n",
       "      <td>4</td>\n",
       "      <td>Simba</td>\n",
       "      <td>Kingston</td>\n",
       "      <td>simba@kingston.com</td>\n",
       "      <td>555-1111</td>\n",
       "      <td>2001-12-24</td>\n",
       "      <td>3</td>\n",
       "    </tr>\n",
       "    <tr>\n",
       "      <th>8</th>\n",
       "      <td>3</td>\n",
       "      <td>1</td>\n",
       "      <td>Chemistry</td>\n",
       "      <td>85</td>\n",
       "      <td>1</td>\n",
       "      <td>Peter</td>\n",
       "      <td>Rabbit</td>\n",
       "      <td>peter@rabbit.com</td>\n",
       "      <td>555-6666</td>\n",
       "      <td>2002-06-24</td>\n",
       "      <td>2</td>\n",
       "    </tr>\n",
       "    <tr>\n",
       "      <th>9</th>\n",
       "      <td>3</td>\n",
       "      <td>1</td>\n",
       "      <td>Chemistry</td>\n",
       "      <td>85</td>\n",
       "      <td>2</td>\n",
       "      <td>Alice</td>\n",
       "      <td>Wonderland</td>\n",
       "      <td>alice@wonderland.com</td>\n",
       "      <td>555-4444</td>\n",
       "      <td>2002-07-04</td>\n",
       "      <td>1</td>\n",
       "    </tr>\n",
       "    <tr>\n",
       "      <th>10</th>\n",
       "      <td>3</td>\n",
       "      <td>1</td>\n",
       "      <td>Chemistry</td>\n",
       "      <td>85</td>\n",
       "      <td>3</td>\n",
       "      <td>Aladdin</td>\n",
       "      <td>Lampland</td>\n",
       "      <td>aladdin@lampland.com</td>\n",
       "      <td>555-3333</td>\n",
       "      <td>2001-05-10</td>\n",
       "      <td>4</td>\n",
       "    </tr>\n",
       "    <tr>\n",
       "      <th>11</th>\n",
       "      <td>3</td>\n",
       "      <td>1</td>\n",
       "      <td>Chemistry</td>\n",
       "      <td>85</td>\n",
       "      <td>4</td>\n",
       "      <td>Simba</td>\n",
       "      <td>Kingston</td>\n",
       "      <td>simba@kingston.com</td>\n",
       "      <td>555-1111</td>\n",
       "      <td>2001-12-24</td>\n",
       "      <td>3</td>\n",
       "    </tr>\n",
       "    <tr>\n",
       "      <th>12</th>\n",
       "      <td>4</td>\n",
       "      <td>2</td>\n",
       "      <td>Chemistry</td>\n",
       "      <td>95</td>\n",
       "      <td>1</td>\n",
       "      <td>Peter</td>\n",
       "      <td>Rabbit</td>\n",
       "      <td>peter@rabbit.com</td>\n",
       "      <td>555-6666</td>\n",
       "      <td>2002-06-24</td>\n",
       "      <td>2</td>\n",
       "    </tr>\n",
       "    <tr>\n",
       "      <th>13</th>\n",
       "      <td>4</td>\n",
       "      <td>2</td>\n",
       "      <td>Chemistry</td>\n",
       "      <td>95</td>\n",
       "      <td>2</td>\n",
       "      <td>Alice</td>\n",
       "      <td>Wonderland</td>\n",
       "      <td>alice@wonderland.com</td>\n",
       "      <td>555-4444</td>\n",
       "      <td>2002-07-04</td>\n",
       "      <td>1</td>\n",
       "    </tr>\n",
       "    <tr>\n",
       "      <th>14</th>\n",
       "      <td>4</td>\n",
       "      <td>2</td>\n",
       "      <td>Chemistry</td>\n",
       "      <td>95</td>\n",
       "      <td>3</td>\n",
       "      <td>Aladdin</td>\n",
       "      <td>Lampland</td>\n",
       "      <td>aladdin@lampland.com</td>\n",
       "      <td>555-3333</td>\n",
       "      <td>2001-05-10</td>\n",
       "      <td>4</td>\n",
       "    </tr>\n",
       "    <tr>\n",
       "      <th>15</th>\n",
       "      <td>4</td>\n",
       "      <td>2</td>\n",
       "      <td>Chemistry</td>\n",
       "      <td>95</td>\n",
       "      <td>4</td>\n",
       "      <td>Simba</td>\n",
       "      <td>Kingston</td>\n",
       "      <td>simba@kingston.com</td>\n",
       "      <td>555-1111</td>\n",
       "      <td>2001-12-24</td>\n",
       "      <td>3</td>\n",
       "    </tr>\n",
       "  </tbody>\n",
       "</table>\n",
       "</div>"
      ],
      "text/plain": [
       "    id  student_id       test  grade  id first_name   last_name  \\\n",
       "0    1           1  Nutrition     95   1      Peter      Rabbit   \n",
       "1    1           1  Nutrition     95   2      Alice  Wonderland   \n",
       "2    1           1  Nutrition     95   3    Aladdin    Lampland   \n",
       "3    1           1  Nutrition     95   4      Simba    Kingston   \n",
       "4    2           2  Nutrition     92   1      Peter      Rabbit   \n",
       "5    2           2  Nutrition     92   2      Alice  Wonderland   \n",
       "6    2           2  Nutrition     92   3    Aladdin    Lampland   \n",
       "7    2           2  Nutrition     92   4      Simba    Kingston   \n",
       "8    3           1  Chemistry     85   1      Peter      Rabbit   \n",
       "9    3           1  Chemistry     85   2      Alice  Wonderland   \n",
       "10   3           1  Chemistry     85   3    Aladdin    Lampland   \n",
       "11   3           1  Chemistry     85   4      Simba    Kingston   \n",
       "12   4           2  Chemistry     95   1      Peter      Rabbit   \n",
       "13   4           2  Chemistry     95   2      Alice  Wonderland   \n",
       "14   4           2  Chemistry     95   3    Aladdin    Lampland   \n",
       "15   4           2  Chemistry     95   4      Simba    Kingston   \n",
       "\n",
       "                   email     phone   birthdate  buddy_id  \n",
       "0       peter@rabbit.com  555-6666  2002-06-24         2  \n",
       "1   alice@wonderland.com  555-4444  2002-07-04         1  \n",
       "2   aladdin@lampland.com  555-3333  2001-05-10         4  \n",
       "3     simba@kingston.com  555-1111  2001-12-24         3  \n",
       "4       peter@rabbit.com  555-6666  2002-06-24         2  \n",
       "5   alice@wonderland.com  555-4444  2002-07-04         1  \n",
       "6   aladdin@lampland.com  555-3333  2001-05-10         4  \n",
       "7     simba@kingston.com  555-1111  2001-12-24         3  \n",
       "8       peter@rabbit.com  555-6666  2002-06-24         2  \n",
       "9   alice@wonderland.com  555-4444  2002-07-04         1  \n",
       "10  aladdin@lampland.com  555-3333  2001-05-10         4  \n",
       "11    simba@kingston.com  555-1111  2001-12-24         3  \n",
       "12      peter@rabbit.com  555-6666  2002-06-24         2  \n",
       "13  alice@wonderland.com  555-4444  2002-07-04         1  \n",
       "14  aladdin@lampland.com  555-3333  2001-05-10         4  \n",
       "15    simba@kingston.com  555-1111  2001-12-24         3  "
      ]
     },
     "execution_count": 7,
     "metadata": {},
     "output_type": "execute_result"
    }
   ],
   "source": [
    "query = \"\"\"\n",
    "SELECT * FROM student_grades, students\n",
    "\"\"\"\n",
    "\n",
    "df_maker(query)"
   ]
  },
  {
   "cell_type": "markdown",
   "metadata": {},
   "source": [
    "But this is not useful. what we want is for the sudent_id from student_grades to match to id from students. So do inner join by putting student_grades first and imposing the restriction using the WHERE statement (notice, left table rows are duplicated where needed to match a row on the right):"
   ]
  },
  {
   "cell_type": "code",
   "execution_count": 8,
   "metadata": {},
   "outputs": [
    {
     "data": {
      "text/html": [
       "<div>\n",
       "<table border=\"1\" class=\"dataframe\">\n",
       "  <thead>\n",
       "    <tr style=\"text-align: right;\">\n",
       "      <th></th>\n",
       "      <th>id</th>\n",
       "      <th>student_id</th>\n",
       "      <th>test</th>\n",
       "      <th>grade</th>\n",
       "      <th>id</th>\n",
       "      <th>first_name</th>\n",
       "      <th>last_name</th>\n",
       "      <th>email</th>\n",
       "      <th>phone</th>\n",
       "      <th>birthdate</th>\n",
       "      <th>buddy_id</th>\n",
       "    </tr>\n",
       "  </thead>\n",
       "  <tbody>\n",
       "    <tr>\n",
       "      <th>0</th>\n",
       "      <td>1</td>\n",
       "      <td>1</td>\n",
       "      <td>Nutrition</td>\n",
       "      <td>95</td>\n",
       "      <td>1</td>\n",
       "      <td>Peter</td>\n",
       "      <td>Rabbit</td>\n",
       "      <td>peter@rabbit.com</td>\n",
       "      <td>555-6666</td>\n",
       "      <td>2002-06-24</td>\n",
       "      <td>2</td>\n",
       "    </tr>\n",
       "    <tr>\n",
       "      <th>1</th>\n",
       "      <td>2</td>\n",
       "      <td>2</td>\n",
       "      <td>Nutrition</td>\n",
       "      <td>92</td>\n",
       "      <td>2</td>\n",
       "      <td>Alice</td>\n",
       "      <td>Wonderland</td>\n",
       "      <td>alice@wonderland.com</td>\n",
       "      <td>555-4444</td>\n",
       "      <td>2002-07-04</td>\n",
       "      <td>1</td>\n",
       "    </tr>\n",
       "    <tr>\n",
       "      <th>2</th>\n",
       "      <td>3</td>\n",
       "      <td>1</td>\n",
       "      <td>Chemistry</td>\n",
       "      <td>85</td>\n",
       "      <td>1</td>\n",
       "      <td>Peter</td>\n",
       "      <td>Rabbit</td>\n",
       "      <td>peter@rabbit.com</td>\n",
       "      <td>555-6666</td>\n",
       "      <td>2002-06-24</td>\n",
       "      <td>2</td>\n",
       "    </tr>\n",
       "    <tr>\n",
       "      <th>3</th>\n",
       "      <td>4</td>\n",
       "      <td>2</td>\n",
       "      <td>Chemistry</td>\n",
       "      <td>95</td>\n",
       "      <td>2</td>\n",
       "      <td>Alice</td>\n",
       "      <td>Wonderland</td>\n",
       "      <td>alice@wonderland.com</td>\n",
       "      <td>555-4444</td>\n",
       "      <td>2002-07-04</td>\n",
       "      <td>1</td>\n",
       "    </tr>\n",
       "  </tbody>\n",
       "</table>\n",
       "</div>"
      ],
      "text/plain": [
       "   id  student_id       test  grade  id first_name   last_name  \\\n",
       "0   1           1  Nutrition     95   1      Peter      Rabbit   \n",
       "1   2           2  Nutrition     92   2      Alice  Wonderland   \n",
       "2   3           1  Chemistry     85   1      Peter      Rabbit   \n",
       "3   4           2  Chemistry     95   2      Alice  Wonderland   \n",
       "\n",
       "                  email     phone   birthdate  buddy_id  \n",
       "0      peter@rabbit.com  555-6666  2002-06-24         2  \n",
       "1  alice@wonderland.com  555-4444  2002-07-04         1  \n",
       "2      peter@rabbit.com  555-6666  2002-06-24         2  \n",
       "3  alice@wonderland.com  555-4444  2002-07-04         1  "
      ]
     },
     "execution_count": 8,
     "metadata": {},
     "output_type": "execute_result"
    }
   ],
   "source": [
    "query = \"\"\"\n",
    "SELECT * FROM student_grades, students\n",
    "WHERE\n",
    "    student_grades.student_id=students.id\n",
    "\"\"\"\n",
    "\n",
    "df_maker(query)"
   ]
  },
  {
   "cell_type": "markdown",
   "metadata": {},
   "source": [
    "Now do an explicit inner join:"
   ]
  },
  {
   "cell_type": "code",
   "execution_count": 9,
   "metadata": {},
   "outputs": [
    {
     "data": {
      "text/html": [
       "<div>\n",
       "<table border=\"1\" class=\"dataframe\">\n",
       "  <thead>\n",
       "    <tr style=\"text-align: right;\">\n",
       "      <th></th>\n",
       "      <th>first_name</th>\n",
       "      <th>last_name</th>\n",
       "      <th>email</th>\n",
       "      <th>test</th>\n",
       "      <th>grade</th>\n",
       "    </tr>\n",
       "  </thead>\n",
       "  <tbody>\n",
       "    <tr>\n",
       "      <th>0</th>\n",
       "      <td>Peter</td>\n",
       "      <td>Rabbit</td>\n",
       "      <td>peter@rabbit.com</td>\n",
       "      <td>Nutrition</td>\n",
       "      <td>95</td>\n",
       "    </tr>\n",
       "    <tr>\n",
       "      <th>1</th>\n",
       "      <td>Alice</td>\n",
       "      <td>Wonderland</td>\n",
       "      <td>alice@wonderland.com</td>\n",
       "      <td>Nutrition</td>\n",
       "      <td>92</td>\n",
       "    </tr>\n",
       "    <tr>\n",
       "      <th>2</th>\n",
       "      <td>Peter</td>\n",
       "      <td>Rabbit</td>\n",
       "      <td>peter@rabbit.com</td>\n",
       "      <td>Chemistry</td>\n",
       "      <td>85</td>\n",
       "    </tr>\n",
       "    <tr>\n",
       "      <th>3</th>\n",
       "      <td>Alice</td>\n",
       "      <td>Wonderland</td>\n",
       "      <td>alice@wonderland.com</td>\n",
       "      <td>Chemistry</td>\n",
       "      <td>95</td>\n",
       "    </tr>\n",
       "  </tbody>\n",
       "</table>\n",
       "</div>"
      ],
      "text/plain": [
       "  first_name   last_name                 email       test  grade\n",
       "0      Peter      Rabbit      peter@rabbit.com  Nutrition     95\n",
       "1      Alice  Wonderland  alice@wonderland.com  Nutrition     92\n",
       "2      Peter      Rabbit      peter@rabbit.com  Chemistry     85\n",
       "3      Alice  Wonderland  alice@wonderland.com  Chemistry     95"
      ]
     },
     "execution_count": 9,
     "metadata": {},
     "output_type": "execute_result"
    }
   ],
   "source": [
    "query = \"\"\"\n",
    "SELECT\n",
    "    students.first_name,\n",
    "    students.last_name,\n",
    "    students.email,\n",
    "    student_grades.test,\n",
    "    student_grades.grade\n",
    "FROM students\n",
    "    JOIN student_grades\n",
    "        ON students.id=student_grades.student_id\n",
    "\"\"\"\n",
    "\n",
    "df_maker(query)"
   ]
  },
  {
   "cell_type": "markdown",
   "metadata": {},
   "source": [
    "Again, note that where there is a match, data from the lead table (students) will be duplicated to align to the trailing table. Now only show grades above 90:"
   ]
  },
  {
   "cell_type": "code",
   "execution_count": 10,
   "metadata": {},
   "outputs": [
    {
     "data": {
      "text/html": [
       "<div>\n",
       "<table border=\"1\" class=\"dataframe\">\n",
       "  <thead>\n",
       "    <tr style=\"text-align: right;\">\n",
       "      <th></th>\n",
       "      <th>first_name</th>\n",
       "      <th>last_name</th>\n",
       "      <th>email</th>\n",
       "      <th>test</th>\n",
       "      <th>grade</th>\n",
       "    </tr>\n",
       "  </thead>\n",
       "  <tbody>\n",
       "    <tr>\n",
       "      <th>0</th>\n",
       "      <td>Peter</td>\n",
       "      <td>Rabbit</td>\n",
       "      <td>peter@rabbit.com</td>\n",
       "      <td>Nutrition</td>\n",
       "      <td>95</td>\n",
       "    </tr>\n",
       "    <tr>\n",
       "      <th>1</th>\n",
       "      <td>Alice</td>\n",
       "      <td>Wonderland</td>\n",
       "      <td>alice@wonderland.com</td>\n",
       "      <td>Nutrition</td>\n",
       "      <td>92</td>\n",
       "    </tr>\n",
       "    <tr>\n",
       "      <th>2</th>\n",
       "      <td>Alice</td>\n",
       "      <td>Wonderland</td>\n",
       "      <td>alice@wonderland.com</td>\n",
       "      <td>Chemistry</td>\n",
       "      <td>95</td>\n",
       "    </tr>\n",
       "  </tbody>\n",
       "</table>\n",
       "</div>"
      ],
      "text/plain": [
       "  first_name   last_name                 email       test  grade\n",
       "0      Peter      Rabbit      peter@rabbit.com  Nutrition     95\n",
       "1      Alice  Wonderland  alice@wonderland.com  Nutrition     92\n",
       "2      Alice  Wonderland  alice@wonderland.com  Chemistry     95"
      ]
     },
     "execution_count": 10,
     "metadata": {},
     "output_type": "execute_result"
    }
   ],
   "source": [
    "query = \"\"\"\n",
    "SELECT\n",
    "    students.first_name,\n",
    "    students.last_name,\n",
    "    students.email,\n",
    "    student_grades.test,\n",
    "    student_grades.grade\n",
    "FROM students\n",
    "    JOIN student_grades\n",
    "        ON students.id=student_grades.student_id\n",
    "WHERE student_grades.grade > 90\n",
    "\"\"\"\n",
    "\n",
    "df_maker(query)"
   ]
  },
  {
   "cell_type": "markdown",
   "metadata": {},
   "source": [
    "Now inner join to find students and their projects:"
   ]
  },
  {
   "cell_type": "code",
   "execution_count": 11,
   "metadata": {},
   "outputs": [
    {
     "data": {
      "text/html": [
       "<div>\n",
       "<table border=\"1\" class=\"dataframe\">\n",
       "  <thead>\n",
       "    <tr style=\"text-align: right;\">\n",
       "      <th></th>\n",
       "      <th>first_name</th>\n",
       "      <th>last_name</th>\n",
       "      <th>title</th>\n",
       "    </tr>\n",
       "  </thead>\n",
       "  <tbody>\n",
       "    <tr>\n",
       "      <th>0</th>\n",
       "      <td>Peter</td>\n",
       "      <td>Rabbit</td>\n",
       "      <td>Carrotapault</td>\n",
       "    </tr>\n",
       "    <tr>\n",
       "      <th>1</th>\n",
       "      <td>Alice</td>\n",
       "      <td>Wonderland</td>\n",
       "      <td>Mad Hattery</td>\n",
       "    </tr>\n",
       "    <tr>\n",
       "      <th>2</th>\n",
       "      <td>Aladdin</td>\n",
       "      <td>Lampland</td>\n",
       "      <td>Carpet Physics</td>\n",
       "    </tr>\n",
       "  </tbody>\n",
       "</table>\n",
       "</div>"
      ],
      "text/plain": [
       "  first_name   last_name           title\n",
       "0      Peter      Rabbit    Carrotapault\n",
       "1      Alice  Wonderland     Mad Hattery\n",
       "2    Aladdin    Lampland  Carpet Physics"
      ]
     },
     "execution_count": 11,
     "metadata": {},
     "output_type": "execute_result"
    }
   ],
   "source": [
    "query = \"\"\"\n",
    "SELECT\n",
    "    students.first_name,\n",
    "    students.last_name,\n",
    "    student_projects.title\n",
    "FROM students\n",
    "    JOIN student_projects\n",
    "        ON students.id = student_projects.student_id\n",
    "\"\"\"\n",
    "\n",
    "df_maker(query)"
   ]
  },
  {
   "cell_type": "markdown",
   "metadata": {},
   "source": [
    "But now we're only showing people with a project. What if we want everyone, and the people with a project? A left outer join can do this:"
   ]
  },
  {
   "cell_type": "code",
   "execution_count": 12,
   "metadata": {},
   "outputs": [
    {
     "data": {
      "text/html": [
       "<div>\n",
       "<table border=\"1\" class=\"dataframe\">\n",
       "  <thead>\n",
       "    <tr style=\"text-align: right;\">\n",
       "      <th></th>\n",
       "      <th>first_name</th>\n",
       "      <th>last_name</th>\n",
       "      <th>title</th>\n",
       "    </tr>\n",
       "  </thead>\n",
       "  <tbody>\n",
       "    <tr>\n",
       "      <th>0</th>\n",
       "      <td>Peter</td>\n",
       "      <td>Rabbit</td>\n",
       "      <td>Carrotapault</td>\n",
       "    </tr>\n",
       "    <tr>\n",
       "      <th>1</th>\n",
       "      <td>Alice</td>\n",
       "      <td>Wonderland</td>\n",
       "      <td>Mad Hattery</td>\n",
       "    </tr>\n",
       "    <tr>\n",
       "      <th>2</th>\n",
       "      <td>Aladdin</td>\n",
       "      <td>Lampland</td>\n",
       "      <td>Carpet Physics</td>\n",
       "    </tr>\n",
       "    <tr>\n",
       "      <th>3</th>\n",
       "      <td>Simba</td>\n",
       "      <td>Kingston</td>\n",
       "      <td>None</td>\n",
       "    </tr>\n",
       "  </tbody>\n",
       "</table>\n",
       "</div>"
      ],
      "text/plain": [
       "  first_name   last_name           title\n",
       "0      Peter      Rabbit    Carrotapault\n",
       "1      Alice  Wonderland     Mad Hattery\n",
       "2    Aladdin    Lampland  Carpet Physics\n",
       "3      Simba    Kingston            None"
      ]
     },
     "execution_count": 12,
     "metadata": {},
     "output_type": "execute_result"
    }
   ],
   "source": [
    "query = \"\"\"\n",
    "SELECT\n",
    "    students.first_name,\n",
    "    students.last_name,\n",
    "    student_projects.title\n",
    "FROM students\n",
    "    LEFT OUTER JOIN student_projects\n",
    "        ON students.id = student_projects.student_id\n",
    "\"\"\"\n",
    "\n",
    "df_maker(query)"
   ]
  },
  {
   "cell_type": "markdown",
   "metadata": {},
   "source": [
    "Note, switching table order when making a join is the same as doing a right outer join. Let's show the names of the students next to the email of the buddy. So join a table to itself. Will need to use an alias. Notice that if no table exists, SQL will assume it's an alias for the current table with the matching field:"
   ]
  },
  {
   "cell_type": "code",
   "execution_count": 14,
   "metadata": {},
   "outputs": [
    {
     "data": {
      "text/html": [
       "<div>\n",
       "<table border=\"1\" class=\"dataframe\">\n",
       "  <thead>\n",
       "    <tr style=\"text-align: right;\">\n",
       "      <th></th>\n",
       "      <th>first_name</th>\n",
       "      <th>last_name</th>\n",
       "      <th>buddy_email</th>\n",
       "    </tr>\n",
       "  </thead>\n",
       "  <tbody>\n",
       "    <tr>\n",
       "      <th>0</th>\n",
       "      <td>Peter</td>\n",
       "      <td>Rabbit</td>\n",
       "      <td>alice@wonderland.com</td>\n",
       "    </tr>\n",
       "    <tr>\n",
       "      <th>1</th>\n",
       "      <td>Alice</td>\n",
       "      <td>Wonderland</td>\n",
       "      <td>peter@rabbit.com</td>\n",
       "    </tr>\n",
       "    <tr>\n",
       "      <th>2</th>\n",
       "      <td>Aladdin</td>\n",
       "      <td>Lampland</td>\n",
       "      <td>simba@kingston.com</td>\n",
       "    </tr>\n",
       "    <tr>\n",
       "      <th>3</th>\n",
       "      <td>Simba</td>\n",
       "      <td>Kingston</td>\n",
       "      <td>aladdin@lampland.com</td>\n",
       "    </tr>\n",
       "  </tbody>\n",
       "</table>\n",
       "</div>"
      ],
      "text/plain": [
       "  first_name   last_name           buddy_email\n",
       "0      Peter      Rabbit  alice@wonderland.com\n",
       "1      Alice  Wonderland      peter@rabbit.com\n",
       "2    Aladdin    Lampland    simba@kingston.com\n",
       "3      Simba    Kingston  aladdin@lampland.com"
      ]
     },
     "execution_count": 14,
     "metadata": {},
     "output_type": "execute_result"
    }
   ],
   "source": [
    "query = \"\"\"\n",
    "SELECT\n",
    "    students.first_name,\n",
    "    students.last_name,\n",
    "    non_existant_buddy_alias.email as buddy_email\n",
    "FROM students\n",
    "    JOIN students non_existant_buddy_alias\n",
    "        ON students.buddy_id = non_existant_buddy_alias.id\n",
    "\"\"\"\n",
    "\n",
    "df_maker(query)"
   ]
  },
  {
   "cell_type": "markdown",
   "metadata": {},
   "source": [
    "The project_pairs table represents project-pairs which will indicate to students who they should team up with the review the project:"
   ]
  },
  {
   "cell_type": "code",
   "execution_count": 15,
   "metadata": {},
   "outputs": [
    {
     "data": {
      "text/html": [
       "<div>\n",
       "<table border=\"1\" class=\"dataframe\">\n",
       "  <thead>\n",
       "    <tr style=\"text-align: right;\">\n",
       "      <th></th>\n",
       "      <th>id</th>\n",
       "      <th>project1_id</th>\n",
       "      <th>project2_id</th>\n",
       "    </tr>\n",
       "  </thead>\n",
       "  <tbody>\n",
       "    <tr>\n",
       "      <th>0</th>\n",
       "      <td>1</td>\n",
       "      <td>1</td>\n",
       "      <td>2</td>\n",
       "    </tr>\n",
       "    <tr>\n",
       "      <th>1</th>\n",
       "      <td>2</td>\n",
       "      <td>3</td>\n",
       "      <td>4</td>\n",
       "    </tr>\n",
       "  </tbody>\n",
       "</table>\n",
       "</div>"
      ],
      "text/plain": [
       "   id  project1_id  project2_id\n",
       "0   1            1            2\n",
       "1   2            3            4"
      ]
     },
     "execution_count": 15,
     "metadata": {},
     "output_type": "execute_result"
    }
   ],
   "source": [
    "query = \"\"\"\n",
    "SELECT * FROM project_pairs\n",
    "\"\"\"\n",
    "\n",
    "df_maker(query)"
   ]
  },
  {
   "cell_type": "code",
   "execution_count": 16,
   "metadata": {},
   "outputs": [
    {
     "data": {
      "text/html": [
       "<div>\n",
       "<table border=\"1\" class=\"dataframe\">\n",
       "  <thead>\n",
       "    <tr style=\"text-align: right;\">\n",
       "      <th></th>\n",
       "      <th>id</th>\n",
       "      <th>student_id</th>\n",
       "      <th>title</th>\n",
       "    </tr>\n",
       "  </thead>\n",
       "  <tbody>\n",
       "    <tr>\n",
       "      <th>0</th>\n",
       "      <td>1</td>\n",
       "      <td>1</td>\n",
       "      <td>Carrotapault</td>\n",
       "    </tr>\n",
       "    <tr>\n",
       "      <th>1</th>\n",
       "      <td>2</td>\n",
       "      <td>2</td>\n",
       "      <td>Mad Hattery</td>\n",
       "    </tr>\n",
       "    <tr>\n",
       "      <th>2</th>\n",
       "      <td>3</td>\n",
       "      <td>3</td>\n",
       "      <td>Carpet Physics</td>\n",
       "    </tr>\n",
       "  </tbody>\n",
       "</table>\n",
       "</div>"
      ],
      "text/plain": [
       "   id  student_id           title\n",
       "0   1           1    Carrotapault\n",
       "1   2           2     Mad Hattery\n",
       "2   3           3  Carpet Physics"
      ]
     },
     "execution_count": 16,
     "metadata": {},
     "output_type": "execute_result"
    }
   ],
   "source": [
    "query = \"\"\"\n",
    "SELECT * FROM student_projects\n",
    "\"\"\"\n",
    "\n",
    "df_maker(query)"
   ]
  },
  {
   "cell_type": "markdown",
   "metadata": {},
   "source": [
    "The goal here is to map the numbers in project_pairs to their corresponding project name:"
   ]
  },
  {
   "cell_type": "code",
   "execution_count": 17,
   "metadata": {},
   "outputs": [
    {
     "data": {
      "text/html": [
       "<div>\n",
       "<table border=\"1\" class=\"dataframe\">\n",
       "  <thead>\n",
       "    <tr style=\"text-align: right;\">\n",
       "      <th></th>\n",
       "      <th>title</th>\n",
       "      <th>title</th>\n",
       "    </tr>\n",
       "  </thead>\n",
       "  <tbody>\n",
       "    <tr>\n",
       "      <th>0</th>\n",
       "      <td>Carrotapault</td>\n",
       "      <td>Mad Hattery</td>\n",
       "    </tr>\n",
       "  </tbody>\n",
       "</table>\n",
       "</div>"
      ],
      "text/plain": [
       "          title        title\n",
       "0  Carrotapault  Mad Hattery"
      ]
     },
     "execution_count": 17,
     "metadata": {},
     "output_type": "execute_result"
    }
   ],
   "source": [
    "query = \"\"\"\n",
    "SELECT\n",
    "    a.title,\n",
    "    b.title\n",
    "FROM project_pairs\n",
    "    JOIN student_projects a\n",
    "    ON project_pairs.project1_id = a.id\n",
    "    JOIN student_projects b\n",
    "    ON project_pairs.project2_id = b.id\n",
    "\"\"\"\n",
    "\n",
    "df_maker(query)"
   ]
  }
 ],
 "metadata": {
  "kernelspec": {
   "display_name": "Python 3",
   "language": "python",
   "name": "python3"
  },
  "language_info": {
   "codemirror_mode": {
    "name": "ipython",
    "version": 3
   },
   "file_extension": ".py",
   "mimetype": "text/x-python",
   "name": "python",
   "nbconvert_exporter": "python",
   "pygments_lexer": "ipython3",
   "version": "3.6.0"
  }
 },
 "nbformat": 4,
 "nbformat_minor": 2
}
