{
 "cells": [
  {
   "cell_type": "code",
   "execution_count": 2,
   "metadata": {
    "collapsed": false
   },
   "outputs": [],
   "source": [
    "import pandas as pd\n",
    "import numpy as np\n",
    "import matplotlib.pyplot as plt"
   ]
  },
  {
   "cell_type": "code",
   "execution_count": 3,
   "metadata": {
    "collapsed": false
   },
   "outputs": [
    {
     "data": {
      "text/plain": [
       "0    1.0\n",
       "1    3.0\n",
       "2    5.0\n",
       "3    NaN\n",
       "4    6.0\n",
       "5    8.0\n",
       "dtype: float64"
      ]
     },
     "execution_count": 3,
     "metadata": {},
     "output_type": "execute_result"
    }
   ],
   "source": [
    "# create a Series\n",
    "s = pd.Series([1,3,5,np.nan,6,8])\n",
    "s"
   ]
  },
  {
   "cell_type": "code",
   "execution_count": 4,
   "metadata": {
    "collapsed": false
   },
   "outputs": [
    {
     "data": {
      "text/plain": [
       "DatetimeIndex(['2013-01-01', '2013-01-02', '2013-01-03', '2013-01-04',\n",
       "               '2013-01-05', '2013-01-06'],\n",
       "              dtype='datetime64[ns]', freq='D')"
      ]
     },
     "execution_count": 4,
     "metadata": {},
     "output_type": "execute_result"
    }
   ],
   "source": [
    "# use objects like date_range (returns a DatetimeIndex immutable ndarray) \n",
    "dates = pd.date_range('20130101', periods=6)\n",
    "dates"
   ]
  },
  {
   "cell_type": "code",
   "execution_count": 5,
   "metadata": {
    "collapsed": false
   },
   "outputs": [
    {
     "data": {
      "text/html": [
       "<div>\n",
       "<table border=\"1\" class=\"dataframe\">\n",
       "  <thead>\n",
       "    <tr style=\"text-align: right;\">\n",
       "      <th></th>\n",
       "      <th>A</th>\n",
       "      <th>B</th>\n",
       "      <th>C</th>\n",
       "      <th>D</th>\n",
       "    </tr>\n",
       "  </thead>\n",
       "  <tbody>\n",
       "    <tr>\n",
       "      <th>2013-01-01</th>\n",
       "      <td>-1.189493</td>\n",
       "      <td>-1.390220</td>\n",
       "      <td>-1.322253</td>\n",
       "      <td>0.253678</td>\n",
       "    </tr>\n",
       "    <tr>\n",
       "      <th>2013-01-02</th>\n",
       "      <td>-1.529953</td>\n",
       "      <td>-0.047242</td>\n",
       "      <td>-0.013585</td>\n",
       "      <td>1.729523</td>\n",
       "    </tr>\n",
       "    <tr>\n",
       "      <th>2013-01-03</th>\n",
       "      <td>0.422622</td>\n",
       "      <td>1.309599</td>\n",
       "      <td>-0.432622</td>\n",
       "      <td>0.840627</td>\n",
       "    </tr>\n",
       "    <tr>\n",
       "      <th>2013-01-04</th>\n",
       "      <td>0.717219</td>\n",
       "      <td>-0.928676</td>\n",
       "      <td>-0.497471</td>\n",
       "      <td>-0.745599</td>\n",
       "    </tr>\n",
       "    <tr>\n",
       "      <th>2013-01-05</th>\n",
       "      <td>-0.131589</td>\n",
       "      <td>-1.061204</td>\n",
       "      <td>-0.159379</td>\n",
       "      <td>0.380774</td>\n",
       "    </tr>\n",
       "    <tr>\n",
       "      <th>2013-01-06</th>\n",
       "      <td>0.799942</td>\n",
       "      <td>0.138410</td>\n",
       "      <td>0.188820</td>\n",
       "      <td>-0.042922</td>\n",
       "    </tr>\n",
       "  </tbody>\n",
       "</table>\n",
       "</div>"
      ],
      "text/plain": [
       "                   A         B         C         D\n",
       "2013-01-01 -1.189493 -1.390220 -1.322253  0.253678\n",
       "2013-01-02 -1.529953 -0.047242 -0.013585  1.729523\n",
       "2013-01-03  0.422622  1.309599 -0.432622  0.840627\n",
       "2013-01-04  0.717219 -0.928676 -0.497471 -0.745599\n",
       "2013-01-05 -0.131589 -1.061204 -0.159379  0.380774\n",
       "2013-01-06  0.799942  0.138410  0.188820 -0.042922"
      ]
     },
     "execution_count": 5,
     "metadata": {},
     "output_type": "execute_result"
    }
   ],
   "source": [
    "# dates become row labels and a list made from a string become column labels\n",
    "# note here np.random.randn(6,4) returns values randomly from z dist with 6,4 dimensions\n",
    "df = pd.DataFrame(np.random.randn(6,4), index=dates, columns=list('ABCD'))\n",
    "df"
   ]
  },
  {
   "cell_type": "code",
   "execution_count": 6,
   "metadata": {
    "collapsed": false
   },
   "outputs": [
    {
     "data": {
      "text/html": [
       "<div>\n",
       "<table border=\"1\" class=\"dataframe\">\n",
       "  <thead>\n",
       "    <tr style=\"text-align: right;\">\n",
       "      <th></th>\n",
       "      <th>A</th>\n",
       "      <th>B</th>\n",
       "      <th>C</th>\n",
       "      <th>D</th>\n",
       "      <th>E</th>\n",
       "      <th>F</th>\n",
       "    </tr>\n",
       "  </thead>\n",
       "  <tbody>\n",
       "    <tr>\n",
       "      <th>0</th>\n",
       "      <td>1.0</td>\n",
       "      <td>2013-01-02</td>\n",
       "      <td>1.0</td>\n",
       "      <td>3</td>\n",
       "      <td>test</td>\n",
       "      <td>foo</td>\n",
       "    </tr>\n",
       "    <tr>\n",
       "      <th>1</th>\n",
       "      <td>1.0</td>\n",
       "      <td>2013-01-02</td>\n",
       "      <td>1.0</td>\n",
       "      <td>3</td>\n",
       "      <td>train</td>\n",
       "      <td>foo</td>\n",
       "    </tr>\n",
       "    <tr>\n",
       "      <th>2</th>\n",
       "      <td>1.0</td>\n",
       "      <td>2013-01-02</td>\n",
       "      <td>1.0</td>\n",
       "      <td>3</td>\n",
       "      <td>test</td>\n",
       "      <td>foo</td>\n",
       "    </tr>\n",
       "    <tr>\n",
       "      <th>3</th>\n",
       "      <td>1.0</td>\n",
       "      <td>2013-01-02</td>\n",
       "      <td>1.0</td>\n",
       "      <td>3</td>\n",
       "      <td>train</td>\n",
       "      <td>foo</td>\n",
       "    </tr>\n",
       "  </tbody>\n",
       "</table>\n",
       "</div>"
      ],
      "text/plain": [
       "     A          B    C  D      E    F\n",
       "0  1.0 2013-01-02  1.0  3   test  foo\n",
       "1  1.0 2013-01-02  1.0  3  train  foo\n",
       "2  1.0 2013-01-02  1.0  3   test  foo\n",
       "3  1.0 2013-01-02  1.0  3  train  foo"
      ]
     },
     "execution_count": 6,
     "metadata": {},
     "output_type": "execute_result"
    }
   ],
   "source": [
    "# a dict of objects, all either extensible infinitely or containing length of 4\n",
    "df2 = pd.DataFrame({'A':1.,\n",
    "                   'B': pd.Timestamp('20130102'),\n",
    "                   'C': pd.Series(1,index=list(range(4)),dtype='float32'),\n",
    "                   'D': np.array([3] * 4,dtype='int32'),\n",
    "                   'E': pd.Categorical([\"test\",\"train\",\"test\",\"train\"]),\n",
    "                   'F': 'foo'})\n",
    "df2"
   ]
  },
  {
   "cell_type": "code",
   "execution_count": 7,
   "metadata": {
    "collapsed": false
   },
   "outputs": [
    {
     "data": {
      "text/plain": [
       "A           float64\n",
       "B    datetime64[ns]\n",
       "C           float32\n",
       "D             int32\n",
       "E          category\n",
       "F            object\n",
       "dtype: object"
      ]
     },
     "execution_count": 7,
     "metadata": {},
     "output_type": "execute_result"
    }
   ],
   "source": [
    "# show the data types\n",
    "df2.dtypes"
   ]
  },
  {
   "cell_type": "code",
   "execution_count": 8,
   "metadata": {
    "collapsed": false
   },
   "outputs": [
    {
     "data": {
      "text/html": [
       "<div>\n",
       "<table border=\"1\" class=\"dataframe\">\n",
       "  <thead>\n",
       "    <tr style=\"text-align: right;\">\n",
       "      <th></th>\n",
       "      <th>A</th>\n",
       "      <th>B</th>\n",
       "      <th>C</th>\n",
       "      <th>D</th>\n",
       "      <th>E</th>\n",
       "      <th>F</th>\n",
       "    </tr>\n",
       "  </thead>\n",
       "  <tbody>\n",
       "    <tr>\n",
       "      <th>0</th>\n",
       "      <td>1.0</td>\n",
       "      <td>2013-01-02</td>\n",
       "      <td>1.0</td>\n",
       "      <td>3</td>\n",
       "      <td>test</td>\n",
       "      <td>foo</td>\n",
       "    </tr>\n",
       "    <tr>\n",
       "      <th>1</th>\n",
       "      <td>1.0</td>\n",
       "      <td>2013-01-02</td>\n",
       "      <td>1.0</td>\n",
       "      <td>3</td>\n",
       "      <td>train</td>\n",
       "      <td>foo</td>\n",
       "    </tr>\n",
       "  </tbody>\n",
       "</table>\n",
       "</div>"
      ],
      "text/plain": [
       "     A          B    C  D      E    F\n",
       "0  1.0 2013-01-02  1.0  3   test  foo\n",
       "1  1.0 2013-01-02  1.0  3  train  foo"
      ]
     },
     "execution_count": 8,
     "metadata": {},
     "output_type": "execute_result"
    }
   ],
   "source": [
    "# see top number of rows\n",
    "df2.head(n=2)"
   ]
  },
  {
   "cell_type": "code",
   "execution_count": 9,
   "metadata": {
    "collapsed": false
   },
   "outputs": [
    {
     "data": {
      "text/html": [
       "<div>\n",
       "<table border=\"1\" class=\"dataframe\">\n",
       "  <thead>\n",
       "    <tr style=\"text-align: right;\">\n",
       "      <th></th>\n",
       "      <th>A</th>\n",
       "      <th>B</th>\n",
       "      <th>C</th>\n",
       "      <th>D</th>\n",
       "      <th>E</th>\n",
       "      <th>F</th>\n",
       "    </tr>\n",
       "  </thead>\n",
       "  <tbody>\n",
       "    <tr>\n",
       "      <th>2</th>\n",
       "      <td>1.0</td>\n",
       "      <td>2013-01-02</td>\n",
       "      <td>1.0</td>\n",
       "      <td>3</td>\n",
       "      <td>test</td>\n",
       "      <td>foo</td>\n",
       "    </tr>\n",
       "    <tr>\n",
       "      <th>3</th>\n",
       "      <td>1.0</td>\n",
       "      <td>2013-01-02</td>\n",
       "      <td>1.0</td>\n",
       "      <td>3</td>\n",
       "      <td>train</td>\n",
       "      <td>foo</td>\n",
       "    </tr>\n",
       "  </tbody>\n",
       "</table>\n",
       "</div>"
      ],
      "text/plain": [
       "     A          B    C  D      E    F\n",
       "2  1.0 2013-01-02  1.0  3   test  foo\n",
       "3  1.0 2013-01-02  1.0  3  train  foo"
      ]
     },
     "execution_count": 9,
     "metadata": {},
     "output_type": "execute_result"
    }
   ],
   "source": [
    "# see bottom number of rows\n",
    "df2.tail(2)"
   ]
  },
  {
   "cell_type": "code",
   "execution_count": 10,
   "metadata": {
    "collapsed": false
   },
   "outputs": [
    {
     "data": {
      "text/plain": [
       "Int64Index([0, 1, 2, 3], dtype='int64')"
      ]
     },
     "execution_count": 10,
     "metadata": {},
     "output_type": "execute_result"
    }
   ],
   "source": [
    "# display index (rows), columns and underlying numpy data\n",
    "df2.index"
   ]
  },
  {
   "cell_type": "code",
   "execution_count": 11,
   "metadata": {
    "collapsed": false
   },
   "outputs": [
    {
     "data": {
      "text/plain": [
       "Index(['A', 'B', 'C', 'D', 'E', 'F'], dtype='object')"
      ]
     },
     "execution_count": 11,
     "metadata": {},
     "output_type": "execute_result"
    }
   ],
   "source": [
    "# display columns\n",
    "df2.columns"
   ]
  },
  {
   "cell_type": "code",
   "execution_count": 12,
   "metadata": {
    "collapsed": false
   },
   "outputs": [
    {
     "data": {
      "text/html": [
       "<div>\n",
       "<table border=\"1\" class=\"dataframe\">\n",
       "  <thead>\n",
       "    <tr style=\"text-align: right;\">\n",
       "      <th></th>\n",
       "      <th>A</th>\n",
       "      <th>B</th>\n",
       "      <th>C</th>\n",
       "      <th>D</th>\n",
       "    </tr>\n",
       "  </thead>\n",
       "  <tbody>\n",
       "    <tr>\n",
       "      <th>count</th>\n",
       "      <td>6.000000</td>\n",
       "      <td>6.000000</td>\n",
       "      <td>6.000000</td>\n",
       "      <td>6.000000</td>\n",
       "    </tr>\n",
       "    <tr>\n",
       "      <th>mean</th>\n",
       "      <td>-0.151875</td>\n",
       "      <td>-0.329889</td>\n",
       "      <td>-0.372748</td>\n",
       "      <td>0.402680</td>\n",
       "    </tr>\n",
       "    <tr>\n",
       "      <th>std</th>\n",
       "      <td>0.996744</td>\n",
       "      <td>1.000478</td>\n",
       "      <td>0.531146</td>\n",
       "      <td>0.835715</td>\n",
       "    </tr>\n",
       "    <tr>\n",
       "      <th>min</th>\n",
       "      <td>-1.529953</td>\n",
       "      <td>-1.390220</td>\n",
       "      <td>-1.322253</td>\n",
       "      <td>-0.745599</td>\n",
       "    </tr>\n",
       "    <tr>\n",
       "      <th>25%</th>\n",
       "      <td>-0.925017</td>\n",
       "      <td>-1.028072</td>\n",
       "      <td>-0.481258</td>\n",
       "      <td>0.031228</td>\n",
       "    </tr>\n",
       "    <tr>\n",
       "      <th>50%</th>\n",
       "      <td>0.145516</td>\n",
       "      <td>-0.487959</td>\n",
       "      <td>-0.296000</td>\n",
       "      <td>0.317226</td>\n",
       "    </tr>\n",
       "    <tr>\n",
       "      <th>75%</th>\n",
       "      <td>0.643570</td>\n",
       "      <td>0.091997</td>\n",
       "      <td>-0.050033</td>\n",
       "      <td>0.725664</td>\n",
       "    </tr>\n",
       "    <tr>\n",
       "      <th>max</th>\n",
       "      <td>0.799942</td>\n",
       "      <td>1.309599</td>\n",
       "      <td>0.188820</td>\n",
       "      <td>1.729523</td>\n",
       "    </tr>\n",
       "  </tbody>\n",
       "</table>\n",
       "</div>"
      ],
      "text/plain": [
       "              A         B         C         D\n",
       "count  6.000000  6.000000  6.000000  6.000000\n",
       "mean  -0.151875 -0.329889 -0.372748  0.402680\n",
       "std    0.996744  1.000478  0.531146  0.835715\n",
       "min   -1.529953 -1.390220 -1.322253 -0.745599\n",
       "25%   -0.925017 -1.028072 -0.481258  0.031228\n",
       "50%    0.145516 -0.487959 -0.296000  0.317226\n",
       "75%    0.643570  0.091997 -0.050033  0.725664\n",
       "max    0.799942  1.309599  0.188820  1.729523"
      ]
     },
     "execution_count": 12,
     "metadata": {},
     "output_type": "execute_result"
    }
   ],
   "source": [
    "# show a quick statistical summary of the data\n",
    "df.describe()"
   ]
  },
  {
   "cell_type": "code",
   "execution_count": 13,
   "metadata": {
    "collapsed": false
   },
   "outputs": [
    {
     "data": {
      "text/html": [
       "<div>\n",
       "<table border=\"1\" class=\"dataframe\">\n",
       "  <thead>\n",
       "    <tr style=\"text-align: right;\">\n",
       "      <th></th>\n",
       "      <th>A</th>\n",
       "      <th>B</th>\n",
       "      <th>C</th>\n",
       "      <th>D</th>\n",
       "    </tr>\n",
       "  </thead>\n",
       "  <tbody>\n",
       "    <tr>\n",
       "      <th>2013-01-01</th>\n",
       "      <td>-1.189493</td>\n",
       "      <td>-1.390220</td>\n",
       "      <td>-1.322253</td>\n",
       "      <td>0.253678</td>\n",
       "    </tr>\n",
       "    <tr>\n",
       "      <th>2013-01-02</th>\n",
       "      <td>-1.529953</td>\n",
       "      <td>-0.047242</td>\n",
       "      <td>-0.013585</td>\n",
       "      <td>1.729523</td>\n",
       "    </tr>\n",
       "    <tr>\n",
       "      <th>2013-01-03</th>\n",
       "      <td>0.422622</td>\n",
       "      <td>1.309599</td>\n",
       "      <td>-0.432622</td>\n",
       "      <td>0.840627</td>\n",
       "    </tr>\n",
       "    <tr>\n",
       "      <th>2013-01-04</th>\n",
       "      <td>0.717219</td>\n",
       "      <td>-0.928676</td>\n",
       "      <td>-0.497471</td>\n",
       "      <td>-0.745599</td>\n",
       "    </tr>\n",
       "    <tr>\n",
       "      <th>2013-01-05</th>\n",
       "      <td>-0.131589</td>\n",
       "      <td>-1.061204</td>\n",
       "      <td>-0.159379</td>\n",
       "      <td>0.380774</td>\n",
       "    </tr>\n",
       "    <tr>\n",
       "      <th>2013-01-06</th>\n",
       "      <td>0.799942</td>\n",
       "      <td>0.138410</td>\n",
       "      <td>0.188820</td>\n",
       "      <td>-0.042922</td>\n",
       "    </tr>\n",
       "  </tbody>\n",
       "</table>\n",
       "</div>"
      ],
      "text/plain": [
       "                   A         B         C         D\n",
       "2013-01-01 -1.189493 -1.390220 -1.322253  0.253678\n",
       "2013-01-02 -1.529953 -0.047242 -0.013585  1.729523\n",
       "2013-01-03  0.422622  1.309599 -0.432622  0.840627\n",
       "2013-01-04  0.717219 -0.928676 -0.497471 -0.745599\n",
       "2013-01-05 -0.131589 -1.061204 -0.159379  0.380774\n",
       "2013-01-06  0.799942  0.138410  0.188820 -0.042922"
      ]
     },
     "execution_count": 13,
     "metadata": {},
     "output_type": "execute_result"
    }
   ],
   "source": [
    "# transpose the data\n",
    "# original data\n",
    "df"
   ]
  },
  {
   "cell_type": "code",
   "execution_count": 14,
   "metadata": {
    "collapsed": false
   },
   "outputs": [
    {
     "data": {
      "text/html": [
       "<div>\n",
       "<table border=\"1\" class=\"dataframe\">\n",
       "  <thead>\n",
       "    <tr style=\"text-align: right;\">\n",
       "      <th></th>\n",
       "      <th>2013-01-01 00:00:00</th>\n",
       "      <th>2013-01-02 00:00:00</th>\n",
       "      <th>2013-01-03 00:00:00</th>\n",
       "      <th>2013-01-04 00:00:00</th>\n",
       "      <th>2013-01-05 00:00:00</th>\n",
       "      <th>2013-01-06 00:00:00</th>\n",
       "    </tr>\n",
       "  </thead>\n",
       "  <tbody>\n",
       "    <tr>\n",
       "      <th>A</th>\n",
       "      <td>-1.189493</td>\n",
       "      <td>-1.529953</td>\n",
       "      <td>0.422622</td>\n",
       "      <td>0.717219</td>\n",
       "      <td>-0.131589</td>\n",
       "      <td>0.799942</td>\n",
       "    </tr>\n",
       "    <tr>\n",
       "      <th>B</th>\n",
       "      <td>-1.390220</td>\n",
       "      <td>-0.047242</td>\n",
       "      <td>1.309599</td>\n",
       "      <td>-0.928676</td>\n",
       "      <td>-1.061204</td>\n",
       "      <td>0.138410</td>\n",
       "    </tr>\n",
       "    <tr>\n",
       "      <th>C</th>\n",
       "      <td>-1.322253</td>\n",
       "      <td>-0.013585</td>\n",
       "      <td>-0.432622</td>\n",
       "      <td>-0.497471</td>\n",
       "      <td>-0.159379</td>\n",
       "      <td>0.188820</td>\n",
       "    </tr>\n",
       "    <tr>\n",
       "      <th>D</th>\n",
       "      <td>0.253678</td>\n",
       "      <td>1.729523</td>\n",
       "      <td>0.840627</td>\n",
       "      <td>-0.745599</td>\n",
       "      <td>0.380774</td>\n",
       "      <td>-0.042922</td>\n",
       "    </tr>\n",
       "  </tbody>\n",
       "</table>\n",
       "</div>"
      ],
      "text/plain": [
       "   2013-01-01  2013-01-02  2013-01-03  2013-01-04  2013-01-05  2013-01-06\n",
       "A   -1.189493   -1.529953    0.422622    0.717219   -0.131589    0.799942\n",
       "B   -1.390220   -0.047242    1.309599   -0.928676   -1.061204    0.138410\n",
       "C   -1.322253   -0.013585   -0.432622   -0.497471   -0.159379    0.188820\n",
       "D    0.253678    1.729523    0.840627   -0.745599    0.380774   -0.042922"
      ]
     },
     "execution_count": 14,
     "metadata": {},
     "output_type": "execute_result"
    }
   ],
   "source": [
    "df.T"
   ]
  },
  {
   "cell_type": "code",
   "execution_count": 15,
   "metadata": {
    "collapsed": false
   },
   "outputs": [
    {
     "data": {
      "text/html": [
       "<div>\n",
       "<table border=\"1\" class=\"dataframe\">\n",
       "  <thead>\n",
       "    <tr style=\"text-align: right;\">\n",
       "      <th></th>\n",
       "      <th>D</th>\n",
       "      <th>C</th>\n",
       "      <th>B</th>\n",
       "      <th>A</th>\n",
       "    </tr>\n",
       "  </thead>\n",
       "  <tbody>\n",
       "    <tr>\n",
       "      <th>2013-01-01</th>\n",
       "      <td>0.253678</td>\n",
       "      <td>-1.322253</td>\n",
       "      <td>-1.390220</td>\n",
       "      <td>-1.189493</td>\n",
       "    </tr>\n",
       "    <tr>\n",
       "      <th>2013-01-02</th>\n",
       "      <td>1.729523</td>\n",
       "      <td>-0.013585</td>\n",
       "      <td>-0.047242</td>\n",
       "      <td>-1.529953</td>\n",
       "    </tr>\n",
       "    <tr>\n",
       "      <th>2013-01-03</th>\n",
       "      <td>0.840627</td>\n",
       "      <td>-0.432622</td>\n",
       "      <td>1.309599</td>\n",
       "      <td>0.422622</td>\n",
       "    </tr>\n",
       "    <tr>\n",
       "      <th>2013-01-04</th>\n",
       "      <td>-0.745599</td>\n",
       "      <td>-0.497471</td>\n",
       "      <td>-0.928676</td>\n",
       "      <td>0.717219</td>\n",
       "    </tr>\n",
       "    <tr>\n",
       "      <th>2013-01-05</th>\n",
       "      <td>0.380774</td>\n",
       "      <td>-0.159379</td>\n",
       "      <td>-1.061204</td>\n",
       "      <td>-0.131589</td>\n",
       "    </tr>\n",
       "    <tr>\n",
       "      <th>2013-01-06</th>\n",
       "      <td>-0.042922</td>\n",
       "      <td>0.188820</td>\n",
       "      <td>0.138410</td>\n",
       "      <td>0.799942</td>\n",
       "    </tr>\n",
       "  </tbody>\n",
       "</table>\n",
       "</div>"
      ],
      "text/plain": [
       "                   D         C         B         A\n",
       "2013-01-01  0.253678 -1.322253 -1.390220 -1.189493\n",
       "2013-01-02  1.729523 -0.013585 -0.047242 -1.529953\n",
       "2013-01-03  0.840627 -0.432622  1.309599  0.422622\n",
       "2013-01-04 -0.745599 -0.497471 -0.928676  0.717219\n",
       "2013-01-05  0.380774 -0.159379 -1.061204 -0.131589\n",
       "2013-01-06 -0.042922  0.188820  0.138410  0.799942"
      ]
     },
     "execution_count": 15,
     "metadata": {},
     "output_type": "execute_result"
    }
   ],
   "source": [
    "# sort by an axis\n",
    "df.sort_index(axis=1, ascending=False)\n",
    "# axis=0 sorts by rows in either ascending or decending (ascending=True or ascending=Falase)\n",
    "# axis = 1 sorts by columns"
   ]
  },
  {
   "cell_type": "code",
   "execution_count": 16,
   "metadata": {
    "collapsed": false
   },
   "outputs": [
    {
     "data": {
      "text/html": [
       "<div>\n",
       "<table border=\"1\" class=\"dataframe\">\n",
       "  <thead>\n",
       "    <tr style=\"text-align: right;\">\n",
       "      <th></th>\n",
       "      <th>A</th>\n",
       "      <th>B</th>\n",
       "      <th>C</th>\n",
       "      <th>D</th>\n",
       "    </tr>\n",
       "  </thead>\n",
       "  <tbody>\n",
       "    <tr>\n",
       "      <th>2013-01-01</th>\n",
       "      <td>-1.189493</td>\n",
       "      <td>-1.390220</td>\n",
       "      <td>-1.322253</td>\n",
       "      <td>0.253678</td>\n",
       "    </tr>\n",
       "    <tr>\n",
       "      <th>2013-01-05</th>\n",
       "      <td>-0.131589</td>\n",
       "      <td>-1.061204</td>\n",
       "      <td>-0.159379</td>\n",
       "      <td>0.380774</td>\n",
       "    </tr>\n",
       "    <tr>\n",
       "      <th>2013-01-04</th>\n",
       "      <td>0.717219</td>\n",
       "      <td>-0.928676</td>\n",
       "      <td>-0.497471</td>\n",
       "      <td>-0.745599</td>\n",
       "    </tr>\n",
       "    <tr>\n",
       "      <th>2013-01-02</th>\n",
       "      <td>-1.529953</td>\n",
       "      <td>-0.047242</td>\n",
       "      <td>-0.013585</td>\n",
       "      <td>1.729523</td>\n",
       "    </tr>\n",
       "    <tr>\n",
       "      <th>2013-01-06</th>\n",
       "      <td>0.799942</td>\n",
       "      <td>0.138410</td>\n",
       "      <td>0.188820</td>\n",
       "      <td>-0.042922</td>\n",
       "    </tr>\n",
       "    <tr>\n",
       "      <th>2013-01-03</th>\n",
       "      <td>0.422622</td>\n",
       "      <td>1.309599</td>\n",
       "      <td>-0.432622</td>\n",
       "      <td>0.840627</td>\n",
       "    </tr>\n",
       "  </tbody>\n",
       "</table>\n",
       "</div>"
      ],
      "text/plain": [
       "                   A         B         C         D\n",
       "2013-01-01 -1.189493 -1.390220 -1.322253  0.253678\n",
       "2013-01-05 -0.131589 -1.061204 -0.159379  0.380774\n",
       "2013-01-04  0.717219 -0.928676 -0.497471 -0.745599\n",
       "2013-01-02 -1.529953 -0.047242 -0.013585  1.729523\n",
       "2013-01-06  0.799942  0.138410  0.188820 -0.042922\n",
       "2013-01-03  0.422622  1.309599 -0.432622  0.840627"
      ]
     },
     "execution_count": 16,
     "metadata": {},
     "output_type": "execute_result"
    }
   ],
   "source": [
    "# sort by values of a particular column\n",
    "df.sort_values(by='B', ascending=True)"
   ]
  },
  {
   "cell_type": "code",
   "execution_count": 17,
   "metadata": {
    "collapsed": true
   },
   "outputs": [],
   "source": [
    "# Python / Numpy expressions for selecting and setting are fine, but \n",
    "# for production code use pandas data access methods:\n",
    "# .at, .iat, .loc, .iloc and .ix"
   ]
  },
  {
   "cell_type": "code",
   "execution_count": 18,
   "metadata": {
    "collapsed": false
   },
   "outputs": [
    {
     "data": {
      "text/html": [
       "<div>\n",
       "<table border=\"1\" class=\"dataframe\">\n",
       "  <thead>\n",
       "    <tr style=\"text-align: right;\">\n",
       "      <th></th>\n",
       "      <th>A</th>\n",
       "      <th>B</th>\n",
       "      <th>C</th>\n",
       "      <th>D</th>\n",
       "    </tr>\n",
       "  </thead>\n",
       "  <tbody>\n",
       "    <tr>\n",
       "      <th>2013-01-01</th>\n",
       "      <td>-1.189493</td>\n",
       "      <td>-1.390220</td>\n",
       "      <td>-1.322253</td>\n",
       "      <td>0.253678</td>\n",
       "    </tr>\n",
       "    <tr>\n",
       "      <th>2013-01-02</th>\n",
       "      <td>-1.529953</td>\n",
       "      <td>-0.047242</td>\n",
       "      <td>-0.013585</td>\n",
       "      <td>1.729523</td>\n",
       "    </tr>\n",
       "    <tr>\n",
       "      <th>2013-01-03</th>\n",
       "      <td>0.422622</td>\n",
       "      <td>1.309599</td>\n",
       "      <td>-0.432622</td>\n",
       "      <td>0.840627</td>\n",
       "    </tr>\n",
       "    <tr>\n",
       "      <th>2013-01-04</th>\n",
       "      <td>0.717219</td>\n",
       "      <td>-0.928676</td>\n",
       "      <td>-0.497471</td>\n",
       "      <td>-0.745599</td>\n",
       "    </tr>\n",
       "    <tr>\n",
       "      <th>2013-01-05</th>\n",
       "      <td>-0.131589</td>\n",
       "      <td>-1.061204</td>\n",
       "      <td>-0.159379</td>\n",
       "      <td>0.380774</td>\n",
       "    </tr>\n",
       "    <tr>\n",
       "      <th>2013-01-06</th>\n",
       "      <td>0.799942</td>\n",
       "      <td>0.138410</td>\n",
       "      <td>0.188820</td>\n",
       "      <td>-0.042922</td>\n",
       "    </tr>\n",
       "  </tbody>\n",
       "</table>\n",
       "</div>"
      ],
      "text/plain": [
       "                   A         B         C         D\n",
       "2013-01-01 -1.189493 -1.390220 -1.322253  0.253678\n",
       "2013-01-02 -1.529953 -0.047242 -0.013585  1.729523\n",
       "2013-01-03  0.422622  1.309599 -0.432622  0.840627\n",
       "2013-01-04  0.717219 -0.928676 -0.497471 -0.745599\n",
       "2013-01-05 -0.131589 -1.061204 -0.159379  0.380774\n",
       "2013-01-06  0.799942  0.138410  0.188820 -0.042922"
      ]
     },
     "execution_count": 18,
     "metadata": {},
     "output_type": "execute_result"
    }
   ],
   "source": [
    "# show original df dataframe\n",
    "df"
   ]
  },
  {
   "cell_type": "code",
   "execution_count": 19,
   "metadata": {
    "collapsed": false
   },
   "outputs": [
    {
     "data": {
      "text/plain": [
       "2013-01-01   -1.189493\n",
       "2013-01-02   -1.529953\n",
       "2013-01-03    0.422622\n",
       "2013-01-04    0.717219\n",
       "2013-01-05   -0.131589\n",
       "2013-01-06    0.799942\n",
       "Freq: D, Name: A, dtype: float64"
      ]
     },
     "execution_count": 19,
     "metadata": {},
     "output_type": "execute_result"
    }
   ],
   "source": [
    "# Selecting a single column, which yields a Series, equivalent to df.A\n",
    "df['A']"
   ]
  },
  {
   "cell_type": "code",
   "execution_count": 20,
   "metadata": {
    "collapsed": false
   },
   "outputs": [
    {
     "data": {
      "text/plain": [
       "2013-01-01   -1.189493\n",
       "2013-01-02   -1.529953\n",
       "2013-01-03    0.422622\n",
       "2013-01-04    0.717219\n",
       "2013-01-05   -0.131589\n",
       "2013-01-06    0.799942\n",
       "Freq: D, Name: A, dtype: float64"
      ]
     },
     "execution_count": 20,
     "metadata": {},
     "output_type": "execute_result"
    }
   ],
   "source": [
    "df.A"
   ]
  },
  {
   "cell_type": "code",
   "execution_count": 21,
   "metadata": {
    "collapsed": false
   },
   "outputs": [
    {
     "data": {
      "text/html": [
       "<div>\n",
       "<table border=\"1\" class=\"dataframe\">\n",
       "  <thead>\n",
       "    <tr style=\"text-align: right;\">\n",
       "      <th></th>\n",
       "      <th>A</th>\n",
       "      <th>B</th>\n",
       "      <th>C</th>\n",
       "      <th>D</th>\n",
       "    </tr>\n",
       "  </thead>\n",
       "  <tbody>\n",
       "    <tr>\n",
       "      <th>2013-01-01</th>\n",
       "      <td>-1.189493</td>\n",
       "      <td>-1.390220</td>\n",
       "      <td>-1.322253</td>\n",
       "      <td>0.253678</td>\n",
       "    </tr>\n",
       "    <tr>\n",
       "      <th>2013-01-02</th>\n",
       "      <td>-1.529953</td>\n",
       "      <td>-0.047242</td>\n",
       "      <td>-0.013585</td>\n",
       "      <td>1.729523</td>\n",
       "    </tr>\n",
       "  </tbody>\n",
       "</table>\n",
       "</div>"
      ],
      "text/plain": [
       "                   A         B         C         D\n",
       "2013-01-01 -1.189493 -1.390220 -1.322253  0.253678\n",
       "2013-01-02 -1.529953 -0.047242 -0.013585  1.729523"
      ]
     },
     "execution_count": 21,
     "metadata": {},
     "output_type": "execute_result"
    }
   ],
   "source": [
    "# select via [] which slices at indices\n",
    "df[0:2]"
   ]
  },
  {
   "cell_type": "code",
   "execution_count": 22,
   "metadata": {
    "collapsed": false
   },
   "outputs": [
    {
     "data": {
      "text/html": [
       "<div>\n",
       "<table border=\"1\" class=\"dataframe\">\n",
       "  <thead>\n",
       "    <tr style=\"text-align: right;\">\n",
       "      <th></th>\n",
       "      <th>A</th>\n",
       "      <th>B</th>\n",
       "      <th>C</th>\n",
       "      <th>D</th>\n",
       "    </tr>\n",
       "  </thead>\n",
       "  <tbody>\n",
       "    <tr>\n",
       "      <th>2013-01-01</th>\n",
       "      <td>-1.189493</td>\n",
       "      <td>-1.390220</td>\n",
       "      <td>-1.322253</td>\n",
       "      <td>0.253678</td>\n",
       "    </tr>\n",
       "    <tr>\n",
       "      <th>2013-01-02</th>\n",
       "      <td>-1.529953</td>\n",
       "      <td>-0.047242</td>\n",
       "      <td>-0.013585</td>\n",
       "      <td>1.729523</td>\n",
       "    </tr>\n",
       "  </tbody>\n",
       "</table>\n",
       "</div>"
      ],
      "text/plain": [
       "                   A         B         C         D\n",
       "2013-01-01 -1.189493 -1.390220 -1.322253  0.253678\n",
       "2013-01-02 -1.529953 -0.047242 -0.013585  1.729523"
      ]
     },
     "execution_count": 22,
     "metadata": {},
     "output_type": "execute_result"
    }
   ],
   "source": [
    "# slice using index keywords\n",
    "# note endpoint is included\n",
    "df['20130101':'20130102']"
   ]
  },
  {
   "cell_type": "code",
   "execution_count": 23,
   "metadata": {
    "collapsed": false
   },
   "outputs": [
    {
     "data": {
      "text/plain": [
       "A   -1.189493\n",
       "B   -1.390220\n",
       "C   -1.322253\n",
       "D    0.253678\n",
       "Name: 2013-01-01 00:00:00, dtype: float64"
      ]
     },
     "execution_count": 23,
     "metadata": {},
     "output_type": "execute_result"
    }
   ],
   "source": [
    "# selection by label\n",
    "df.loc[dates[0]]"
   ]
  },
  {
   "cell_type": "code",
   "execution_count": 24,
   "metadata": {
    "collapsed": false
   },
   "outputs": [
    {
     "data": {
      "text/html": [
       "<div>\n",
       "<table border=\"1\" class=\"dataframe\">\n",
       "  <thead>\n",
       "    <tr style=\"text-align: right;\">\n",
       "      <th></th>\n",
       "      <th>A</th>\n",
       "      <th>B</th>\n",
       "      <th>C</th>\n",
       "      <th>D</th>\n",
       "    </tr>\n",
       "  </thead>\n",
       "  <tbody>\n",
       "    <tr>\n",
       "      <th>2013-01-01</th>\n",
       "      <td>-1.189493</td>\n",
       "      <td>-1.390220</td>\n",
       "      <td>-1.322253</td>\n",
       "      <td>0.253678</td>\n",
       "    </tr>\n",
       "    <tr>\n",
       "      <th>2013-01-02</th>\n",
       "      <td>-1.529953</td>\n",
       "      <td>-0.047242</td>\n",
       "      <td>-0.013585</td>\n",
       "      <td>1.729523</td>\n",
       "    </tr>\n",
       "    <tr>\n",
       "      <th>2013-01-03</th>\n",
       "      <td>0.422622</td>\n",
       "      <td>1.309599</td>\n",
       "      <td>-0.432622</td>\n",
       "      <td>0.840627</td>\n",
       "    </tr>\n",
       "    <tr>\n",
       "      <th>2013-01-04</th>\n",
       "      <td>0.717219</td>\n",
       "      <td>-0.928676</td>\n",
       "      <td>-0.497471</td>\n",
       "      <td>-0.745599</td>\n",
       "    </tr>\n",
       "    <tr>\n",
       "      <th>2013-01-05</th>\n",
       "      <td>-0.131589</td>\n",
       "      <td>-1.061204</td>\n",
       "      <td>-0.159379</td>\n",
       "      <td>0.380774</td>\n",
       "    </tr>\n",
       "    <tr>\n",
       "      <th>2013-01-06</th>\n",
       "      <td>0.799942</td>\n",
       "      <td>0.138410</td>\n",
       "      <td>0.188820</td>\n",
       "      <td>-0.042922</td>\n",
       "    </tr>\n",
       "  </tbody>\n",
       "</table>\n",
       "</div>"
      ],
      "text/plain": [
       "                   A         B         C         D\n",
       "2013-01-01 -1.189493 -1.390220 -1.322253  0.253678\n",
       "2013-01-02 -1.529953 -0.047242 -0.013585  1.729523\n",
       "2013-01-03  0.422622  1.309599 -0.432622  0.840627\n",
       "2013-01-04  0.717219 -0.928676 -0.497471 -0.745599\n",
       "2013-01-05 -0.131589 -1.061204 -0.159379  0.380774\n",
       "2013-01-06  0.799942  0.138410  0.188820 -0.042922"
      ]
     },
     "execution_count": 24,
     "metadata": {},
     "output_type": "execute_result"
    }
   ],
   "source": [
    "# show original set again\n",
    "df"
   ]
  },
  {
   "cell_type": "code",
   "execution_count": 25,
   "metadata": {
    "collapsed": false
   },
   "outputs": [
    {
     "data": {
      "text/plain": [
       "DatetimeIndex(['2013-01-01', '2013-01-02', '2013-01-03', '2013-01-04',\n",
       "               '2013-01-05', '2013-01-06'],\n",
       "              dtype='datetime64[ns]', freq='D')"
      ]
     },
     "execution_count": 25,
     "metadata": {},
     "output_type": "execute_result"
    }
   ],
   "source": [
    "# remember, that the index was made via the variable 'dates'\n",
    "dates"
   ]
  },
  {
   "cell_type": "code",
   "execution_count": 26,
   "metadata": {
    "collapsed": false
   },
   "outputs": [
    {
     "data": {
      "text/plain": [
       "A   -1.189493\n",
       "B   -1.390220\n",
       "C   -1.322253\n",
       "D    0.253678\n",
       "Name: 2013-01-01 00:00:00, dtype: float64"
      ]
     },
     "execution_count": 26,
     "metadata": {},
     "output_type": "execute_result"
    }
   ],
   "source": [
    "# get a cross section with the first label in dates\n",
    "df.loc[dates[0]]"
   ]
  },
  {
   "cell_type": "code",
   "execution_count": 27,
   "metadata": {
    "collapsed": false
   },
   "outputs": [
    {
     "data": {
      "text/html": [
       "<div>\n",
       "<table border=\"1\" class=\"dataframe\">\n",
       "  <thead>\n",
       "    <tr style=\"text-align: right;\">\n",
       "      <th></th>\n",
       "      <th>A</th>\n",
       "      <th>B</th>\n",
       "    </tr>\n",
       "  </thead>\n",
       "  <tbody>\n",
       "    <tr>\n",
       "      <th>2013-01-01</th>\n",
       "      <td>-1.189493</td>\n",
       "      <td>-1.390220</td>\n",
       "    </tr>\n",
       "    <tr>\n",
       "      <th>2013-01-02</th>\n",
       "      <td>-1.529953</td>\n",
       "      <td>-0.047242</td>\n",
       "    </tr>\n",
       "    <tr>\n",
       "      <th>2013-01-03</th>\n",
       "      <td>0.422622</td>\n",
       "      <td>1.309599</td>\n",
       "    </tr>\n",
       "    <tr>\n",
       "      <th>2013-01-04</th>\n",
       "      <td>0.717219</td>\n",
       "      <td>-0.928676</td>\n",
       "    </tr>\n",
       "    <tr>\n",
       "      <th>2013-01-05</th>\n",
       "      <td>-0.131589</td>\n",
       "      <td>-1.061204</td>\n",
       "    </tr>\n",
       "    <tr>\n",
       "      <th>2013-01-06</th>\n",
       "      <td>0.799942</td>\n",
       "      <td>0.138410</td>\n",
       "    </tr>\n",
       "  </tbody>\n",
       "</table>\n",
       "</div>"
      ],
      "text/plain": [
       "                   A         B\n",
       "2013-01-01 -1.189493 -1.390220\n",
       "2013-01-02 -1.529953 -0.047242\n",
       "2013-01-03  0.422622  1.309599\n",
       "2013-01-04  0.717219 -0.928676\n",
       "2013-01-05 -0.131589 -1.061204\n",
       "2013-01-06  0.799942  0.138410"
      ]
     },
     "execution_count": 27,
     "metadata": {},
     "output_type": "execute_result"
    }
   ],
   "source": [
    "# select all the rows and just columns A and B\n",
    "df.loc[:,['A','B']]"
   ]
  },
  {
   "cell_type": "code",
   "execution_count": 28,
   "metadata": {
    "collapsed": false
   },
   "outputs": [
    {
     "data": {
      "text/html": [
       "<div>\n",
       "<table border=\"1\" class=\"dataframe\">\n",
       "  <thead>\n",
       "    <tr style=\"text-align: right;\">\n",
       "      <th></th>\n",
       "      <th>A</th>\n",
       "      <th>B</th>\n",
       "    </tr>\n",
       "  </thead>\n",
       "  <tbody>\n",
       "    <tr>\n",
       "      <th>2013-01-01</th>\n",
       "      <td>-1.189493</td>\n",
       "      <td>-1.390220</td>\n",
       "    </tr>\n",
       "    <tr>\n",
       "      <th>2013-01-02</th>\n",
       "      <td>-1.529953</td>\n",
       "      <td>-0.047242</td>\n",
       "    </tr>\n",
       "    <tr>\n",
       "      <th>2013-01-03</th>\n",
       "      <td>0.422622</td>\n",
       "      <td>1.309599</td>\n",
       "    </tr>\n",
       "    <tr>\n",
       "      <th>2013-01-04</th>\n",
       "      <td>0.717219</td>\n",
       "      <td>-0.928676</td>\n",
       "    </tr>\n",
       "    <tr>\n",
       "      <th>2013-01-05</th>\n",
       "      <td>-0.131589</td>\n",
       "      <td>-1.061204</td>\n",
       "    </tr>\n",
       "    <tr>\n",
       "      <th>2013-01-06</th>\n",
       "      <td>0.799942</td>\n",
       "      <td>0.138410</td>\n",
       "    </tr>\n",
       "  </tbody>\n",
       "</table>\n",
       "</div>"
      ],
      "text/plain": [
       "                   A         B\n",
       "2013-01-01 -1.189493 -1.390220\n",
       "2013-01-02 -1.529953 -0.047242\n",
       "2013-01-03  0.422622  1.309599\n",
       "2013-01-04  0.717219 -0.928676\n",
       "2013-01-05 -0.131589 -1.061204\n",
       "2013-01-06  0.799942  0.138410"
      ]
     },
     "execution_count": 28,
     "metadata": {},
     "output_type": "execute_result"
    }
   ],
   "source": [
    "# same selection but using index labels\n",
    "df.loc['20130101':'20130106',['A','B']]"
   ]
  },
  {
   "cell_type": "code",
   "execution_count": 29,
   "metadata": {
    "collapsed": false
   },
   "outputs": [
    {
     "data": {
      "text/plain": [
       "A   -1.529953\n",
       "B   -0.047242\n",
       "Name: 2013-01-02 00:00:00, dtype: float64"
      ]
     },
     "execution_count": 29,
     "metadata": {},
     "output_type": "execute_result"
    }
   ],
   "source": [
    "# just from a single row and columns A and B\n",
    "df.loc['20130102', ['A','B']]"
   ]
  },
  {
   "cell_type": "code",
   "execution_count": 30,
   "metadata": {
    "collapsed": false
   },
   "outputs": [
    {
     "data": {
      "text/plain": [
       "-1.1894929599149628"
      ]
     },
     "execution_count": 30,
     "metadata": {},
     "output_type": "execute_result"
    }
   ],
   "source": [
    "# get a single value (scalar)\n",
    "df.loc[dates[0],'A']"
   ]
  },
  {
   "cell_type": "code",
   "execution_count": 31,
   "metadata": {
    "collapsed": false
   },
   "outputs": [
    {
     "data": {
      "text/plain": [
       "-1.1894929599149628"
      ]
     },
     "execution_count": 31,
     "metadata": {},
     "output_type": "execute_result"
    }
   ],
   "source": [
    "# note, can also use the label\n",
    "df.loc['20130101','A']"
   ]
  },
  {
   "cell_type": "code",
   "execution_count": 32,
   "metadata": {
    "collapsed": false
   },
   "outputs": [
    {
     "data": {
      "text/plain": [
       "-1.1894929599149628"
      ]
     },
     "execution_count": 32,
     "metadata": {},
     "output_type": "execute_result"
    }
   ],
   "source": [
    "# also, this is same as above two\n",
    "df.at[dates[0],'A']"
   ]
  },
  {
   "cell_type": "markdown",
   "metadata": {},
   "source": [
    "#### selection by Position"
   ]
  },
  {
   "cell_type": "code",
   "execution_count": 33,
   "metadata": {
    "collapsed": false
   },
   "outputs": [
    {
     "data": {
      "text/html": [
       "<div>\n",
       "<table border=\"1\" class=\"dataframe\">\n",
       "  <thead>\n",
       "    <tr style=\"text-align: right;\">\n",
       "      <th></th>\n",
       "      <th>A</th>\n",
       "      <th>B</th>\n",
       "      <th>C</th>\n",
       "      <th>D</th>\n",
       "    </tr>\n",
       "  </thead>\n",
       "  <tbody>\n",
       "    <tr>\n",
       "      <th>2013-01-01</th>\n",
       "      <td>-1.189493</td>\n",
       "      <td>-1.390220</td>\n",
       "      <td>-1.322253</td>\n",
       "      <td>0.253678</td>\n",
       "    </tr>\n",
       "    <tr>\n",
       "      <th>2013-01-02</th>\n",
       "      <td>-1.529953</td>\n",
       "      <td>-0.047242</td>\n",
       "      <td>-0.013585</td>\n",
       "      <td>1.729523</td>\n",
       "    </tr>\n",
       "    <tr>\n",
       "      <th>2013-01-03</th>\n",
       "      <td>0.422622</td>\n",
       "      <td>1.309599</td>\n",
       "      <td>-0.432622</td>\n",
       "      <td>0.840627</td>\n",
       "    </tr>\n",
       "    <tr>\n",
       "      <th>2013-01-04</th>\n",
       "      <td>0.717219</td>\n",
       "      <td>-0.928676</td>\n",
       "      <td>-0.497471</td>\n",
       "      <td>-0.745599</td>\n",
       "    </tr>\n",
       "    <tr>\n",
       "      <th>2013-01-05</th>\n",
       "      <td>-0.131589</td>\n",
       "      <td>-1.061204</td>\n",
       "      <td>-0.159379</td>\n",
       "      <td>0.380774</td>\n",
       "    </tr>\n",
       "    <tr>\n",
       "      <th>2013-01-06</th>\n",
       "      <td>0.799942</td>\n",
       "      <td>0.138410</td>\n",
       "      <td>0.188820</td>\n",
       "      <td>-0.042922</td>\n",
       "    </tr>\n",
       "  </tbody>\n",
       "</table>\n",
       "</div>"
      ],
      "text/plain": [
       "                   A         B         C         D\n",
       "2013-01-01 -1.189493 -1.390220 -1.322253  0.253678\n",
       "2013-01-02 -1.529953 -0.047242 -0.013585  1.729523\n",
       "2013-01-03  0.422622  1.309599 -0.432622  0.840627\n",
       "2013-01-04  0.717219 -0.928676 -0.497471 -0.745599\n",
       "2013-01-05 -0.131589 -1.061204 -0.159379  0.380774\n",
       "2013-01-06  0.799942  0.138410  0.188820 -0.042922"
      ]
     },
     "execution_count": 33,
     "metadata": {},
     "output_type": "execute_result"
    }
   ],
   "source": [
    "# show df dataframe again\n",
    "df"
   ]
  },
  {
   "cell_type": "code",
   "execution_count": 34,
   "metadata": {
    "collapsed": false
   },
   "outputs": [
    {
     "data": {
      "text/plain": [
       "A    0.717219\n",
       "B   -0.928676\n",
       "C   -0.497471\n",
       "D   -0.745599\n",
       "Name: 2013-01-04 00:00:00, dtype: float64"
      ]
     },
     "execution_count": 34,
     "metadata": {},
     "output_type": "execute_result"
    }
   ],
   "source": [
    "# show row at the 3th\n",
    "df.iloc[3]"
   ]
  },
  {
   "cell_type": "code",
   "execution_count": 35,
   "metadata": {
    "collapsed": false
   },
   "outputs": [
    {
     "data": {
      "text/html": [
       "<div>\n",
       "<table border=\"1\" class=\"dataframe\">\n",
       "  <thead>\n",
       "    <tr style=\"text-align: right;\">\n",
       "      <th></th>\n",
       "      <th>A</th>\n",
       "      <th>B</th>\n",
       "    </tr>\n",
       "  </thead>\n",
       "  <tbody>\n",
       "    <tr>\n",
       "      <th>2013-01-04</th>\n",
       "      <td>0.717219</td>\n",
       "      <td>-0.928676</td>\n",
       "    </tr>\n",
       "    <tr>\n",
       "      <th>2013-01-05</th>\n",
       "      <td>-0.131589</td>\n",
       "      <td>-1.061204</td>\n",
       "    </tr>\n",
       "  </tbody>\n",
       "</table>\n",
       "</div>"
      ],
      "text/plain": [
       "                   A         B\n",
       "2013-01-04  0.717219 -0.928676\n",
       "2013-01-05 -0.131589 -1.061204"
      ]
     },
     "execution_count": 35,
     "metadata": {},
     "output_type": "execute_result"
    }
   ],
   "source": [
    "# slice rows and columns in numpy/python style\n",
    "df.iloc[3:5,0:2]"
   ]
  },
  {
   "cell_type": "code",
   "execution_count": 36,
   "metadata": {
    "collapsed": false
   },
   "outputs": [
    {
     "data": {
      "text/html": [
       "<div>\n",
       "<table border=\"1\" class=\"dataframe\">\n",
       "  <thead>\n",
       "    <tr style=\"text-align: right;\">\n",
       "      <th></th>\n",
       "      <th>A</th>\n",
       "      <th>C</th>\n",
       "    </tr>\n",
       "  </thead>\n",
       "  <tbody>\n",
       "    <tr>\n",
       "      <th>2013-01-02</th>\n",
       "      <td>-1.529953</td>\n",
       "      <td>-0.013585</td>\n",
       "    </tr>\n",
       "    <tr>\n",
       "      <th>2013-01-03</th>\n",
       "      <td>0.422622</td>\n",
       "      <td>-0.432622</td>\n",
       "    </tr>\n",
       "    <tr>\n",
       "      <th>2013-01-05</th>\n",
       "      <td>-0.131589</td>\n",
       "      <td>-0.159379</td>\n",
       "    </tr>\n",
       "  </tbody>\n",
       "</table>\n",
       "</div>"
      ],
      "text/plain": [
       "                   A         C\n",
       "2013-01-02 -1.529953 -0.013585\n",
       "2013-01-03  0.422622 -0.432622\n",
       "2013-01-05 -0.131589 -0.159379"
      ]
     },
     "execution_count": 36,
     "metadata": {},
     "output_type": "execute_result"
    }
   ],
   "source": [
    "# by lists of integer position locations\n",
    "# shows the 1th, 2th and 4th rows, 0th and 2th columns\n",
    "df.iloc[[1,2,4],[0,2]]"
   ]
  },
  {
   "cell_type": "code",
   "execution_count": 37,
   "metadata": {
    "collapsed": false
   },
   "outputs": [
    {
     "data": {
      "text/html": [
       "<div>\n",
       "<table border=\"1\" class=\"dataframe\">\n",
       "  <thead>\n",
       "    <tr style=\"text-align: right;\">\n",
       "      <th></th>\n",
       "      <th>B</th>\n",
       "      <th>C</th>\n",
       "    </tr>\n",
       "  </thead>\n",
       "  <tbody>\n",
       "    <tr>\n",
       "      <th>2013-01-01</th>\n",
       "      <td>-1.390220</td>\n",
       "      <td>-1.322253</td>\n",
       "    </tr>\n",
       "    <tr>\n",
       "      <th>2013-01-02</th>\n",
       "      <td>-0.047242</td>\n",
       "      <td>-0.013585</td>\n",
       "    </tr>\n",
       "    <tr>\n",
       "      <th>2013-01-03</th>\n",
       "      <td>1.309599</td>\n",
       "      <td>-0.432622</td>\n",
       "    </tr>\n",
       "    <tr>\n",
       "      <th>2013-01-04</th>\n",
       "      <td>-0.928676</td>\n",
       "      <td>-0.497471</td>\n",
       "    </tr>\n",
       "    <tr>\n",
       "      <th>2013-01-05</th>\n",
       "      <td>-1.061204</td>\n",
       "      <td>-0.159379</td>\n",
       "    </tr>\n",
       "    <tr>\n",
       "      <th>2013-01-06</th>\n",
       "      <td>0.138410</td>\n",
       "      <td>0.188820</td>\n",
       "    </tr>\n",
       "  </tbody>\n",
       "</table>\n",
       "</div>"
      ],
      "text/plain": [
       "                   B         C\n",
       "2013-01-01 -1.390220 -1.322253\n",
       "2013-01-02 -0.047242 -0.013585\n",
       "2013-01-03  1.309599 -0.432622\n",
       "2013-01-04 -0.928676 -0.497471\n",
       "2013-01-05 -1.061204 -0.159379\n",
       "2013-01-06  0.138410  0.188820"
      ]
     },
     "execution_count": 37,
     "metadata": {},
     "output_type": "execute_result"
    }
   ],
   "source": [
    "# for slicing columns explicitly\n",
    "# all rows, 1th (inclusive) to 3th (exclusiv) columns\n",
    "df.iloc[:,1:3]"
   ]
  },
  {
   "cell_type": "code",
   "execution_count": 38,
   "metadata": {
    "collapsed": false
   },
   "outputs": [
    {
     "data": {
      "text/plain": [
       "-0.047242397545546655"
      ]
     },
     "execution_count": 38,
     "metadata": {},
     "output_type": "execute_result"
    }
   ],
   "source": [
    "# explicitly get a value\n",
    "df.iloc[1,1]"
   ]
  },
  {
   "cell_type": "code",
   "execution_count": 39,
   "metadata": {
    "collapsed": false
   },
   "outputs": [
    {
     "data": {
      "text/plain": [
       "-0.047242397545546655"
      ]
     },
     "execution_count": 39,
     "metadata": {},
     "output_type": "execute_result"
    }
   ],
   "source": [
    "# fast access to a scalar(same effect as above method)\n",
    "df.iat[1,1]"
   ]
  },
  {
   "cell_type": "markdown",
   "metadata": {},
   "source": [
    "#### Boolean indexing"
   ]
  },
  {
   "cell_type": "code",
   "execution_count": 40,
   "metadata": {
    "collapsed": false
   },
   "outputs": [
    {
     "data": {
      "text/html": [
       "<div>\n",
       "<table border=\"1\" class=\"dataframe\">\n",
       "  <thead>\n",
       "    <tr style=\"text-align: right;\">\n",
       "      <th></th>\n",
       "      <th>A</th>\n",
       "      <th>B</th>\n",
       "      <th>C</th>\n",
       "      <th>D</th>\n",
       "    </tr>\n",
       "  </thead>\n",
       "  <tbody>\n",
       "    <tr>\n",
       "      <th>2013-01-01</th>\n",
       "      <td>-1.189493</td>\n",
       "      <td>-1.390220</td>\n",
       "      <td>-1.322253</td>\n",
       "      <td>0.253678</td>\n",
       "    </tr>\n",
       "    <tr>\n",
       "      <th>2013-01-02</th>\n",
       "      <td>-1.529953</td>\n",
       "      <td>-0.047242</td>\n",
       "      <td>-0.013585</td>\n",
       "      <td>1.729523</td>\n",
       "    </tr>\n",
       "    <tr>\n",
       "      <th>2013-01-03</th>\n",
       "      <td>0.422622</td>\n",
       "      <td>1.309599</td>\n",
       "      <td>-0.432622</td>\n",
       "      <td>0.840627</td>\n",
       "    </tr>\n",
       "    <tr>\n",
       "      <th>2013-01-04</th>\n",
       "      <td>0.717219</td>\n",
       "      <td>-0.928676</td>\n",
       "      <td>-0.497471</td>\n",
       "      <td>-0.745599</td>\n",
       "    </tr>\n",
       "    <tr>\n",
       "      <th>2013-01-05</th>\n",
       "      <td>-0.131589</td>\n",
       "      <td>-1.061204</td>\n",
       "      <td>-0.159379</td>\n",
       "      <td>0.380774</td>\n",
       "    </tr>\n",
       "    <tr>\n",
       "      <th>2013-01-06</th>\n",
       "      <td>0.799942</td>\n",
       "      <td>0.138410</td>\n",
       "      <td>0.188820</td>\n",
       "      <td>-0.042922</td>\n",
       "    </tr>\n",
       "  </tbody>\n",
       "</table>\n",
       "</div>"
      ],
      "text/plain": [
       "                   A         B         C         D\n",
       "2013-01-01 -1.189493 -1.390220 -1.322253  0.253678\n",
       "2013-01-02 -1.529953 -0.047242 -0.013585  1.729523\n",
       "2013-01-03  0.422622  1.309599 -0.432622  0.840627\n",
       "2013-01-04  0.717219 -0.928676 -0.497471 -0.745599\n",
       "2013-01-05 -0.131589 -1.061204 -0.159379  0.380774\n",
       "2013-01-06  0.799942  0.138410  0.188820 -0.042922"
      ]
     },
     "execution_count": 40,
     "metadata": {},
     "output_type": "execute_result"
    }
   ],
   "source": [
    "# show original dataframe\n",
    "df"
   ]
  },
  {
   "cell_type": "code",
   "execution_count": 41,
   "metadata": {
    "collapsed": false
   },
   "outputs": [
    {
     "data": {
      "text/html": [
       "<div>\n",
       "<table border=\"1\" class=\"dataframe\">\n",
       "  <thead>\n",
       "    <tr style=\"text-align: right;\">\n",
       "      <th></th>\n",
       "      <th>A</th>\n",
       "      <th>B</th>\n",
       "      <th>C</th>\n",
       "      <th>D</th>\n",
       "    </tr>\n",
       "  </thead>\n",
       "  <tbody>\n",
       "    <tr>\n",
       "      <th>2013-01-03</th>\n",
       "      <td>0.422622</td>\n",
       "      <td>1.309599</td>\n",
       "      <td>-0.432622</td>\n",
       "      <td>0.840627</td>\n",
       "    </tr>\n",
       "    <tr>\n",
       "      <th>2013-01-04</th>\n",
       "      <td>0.717219</td>\n",
       "      <td>-0.928676</td>\n",
       "      <td>-0.497471</td>\n",
       "      <td>-0.745599</td>\n",
       "    </tr>\n",
       "    <tr>\n",
       "      <th>2013-01-06</th>\n",
       "      <td>0.799942</td>\n",
       "      <td>0.138410</td>\n",
       "      <td>0.188820</td>\n",
       "      <td>-0.042922</td>\n",
       "    </tr>\n",
       "  </tbody>\n",
       "</table>\n",
       "</div>"
      ],
      "text/plain": [
       "                   A         B         C         D\n",
       "2013-01-03  0.422622  1.309599 -0.432622  0.840627\n",
       "2013-01-04  0.717219 -0.928676 -0.497471 -0.745599\n",
       "2013-01-06  0.799942  0.138410  0.188820 -0.042922"
      ]
     },
     "execution_count": 41,
     "metadata": {},
     "output_type": "execute_result"
    }
   ],
   "source": [
    "# using a single column's values to select data\n",
    "# all rows where value in column A is greater than 0\n",
    "df[df.A > 0]"
   ]
  },
  {
   "cell_type": "code",
   "execution_count": 42,
   "metadata": {
    "collapsed": false
   },
   "outputs": [
    {
     "data": {
      "text/html": [
       "<div>\n",
       "<table border=\"1\" class=\"dataframe\">\n",
       "  <thead>\n",
       "    <tr style=\"text-align: right;\">\n",
       "      <th></th>\n",
       "      <th>A</th>\n",
       "      <th>B</th>\n",
       "      <th>C</th>\n",
       "      <th>D</th>\n",
       "    </tr>\n",
       "  </thead>\n",
       "  <tbody>\n",
       "    <tr>\n",
       "      <th>2013-01-01</th>\n",
       "      <td>NaN</td>\n",
       "      <td>NaN</td>\n",
       "      <td>NaN</td>\n",
       "      <td>0.253678</td>\n",
       "    </tr>\n",
       "    <tr>\n",
       "      <th>2013-01-02</th>\n",
       "      <td>NaN</td>\n",
       "      <td>NaN</td>\n",
       "      <td>NaN</td>\n",
       "      <td>1.729523</td>\n",
       "    </tr>\n",
       "    <tr>\n",
       "      <th>2013-01-03</th>\n",
       "      <td>0.422622</td>\n",
       "      <td>1.309599</td>\n",
       "      <td>NaN</td>\n",
       "      <td>0.840627</td>\n",
       "    </tr>\n",
       "    <tr>\n",
       "      <th>2013-01-04</th>\n",
       "      <td>0.717219</td>\n",
       "      <td>NaN</td>\n",
       "      <td>NaN</td>\n",
       "      <td>NaN</td>\n",
       "    </tr>\n",
       "    <tr>\n",
       "      <th>2013-01-05</th>\n",
       "      <td>NaN</td>\n",
       "      <td>NaN</td>\n",
       "      <td>NaN</td>\n",
       "      <td>0.380774</td>\n",
       "    </tr>\n",
       "    <tr>\n",
       "      <th>2013-01-06</th>\n",
       "      <td>0.799942</td>\n",
       "      <td>0.138410</td>\n",
       "      <td>0.18882</td>\n",
       "      <td>NaN</td>\n",
       "    </tr>\n",
       "  </tbody>\n",
       "</table>\n",
       "</div>"
      ],
      "text/plain": [
       "                   A         B        C         D\n",
       "2013-01-01       NaN       NaN      NaN  0.253678\n",
       "2013-01-02       NaN       NaN      NaN  1.729523\n",
       "2013-01-03  0.422622  1.309599      NaN  0.840627\n",
       "2013-01-04  0.717219       NaN      NaN       NaN\n",
       "2013-01-05       NaN       NaN      NaN  0.380774\n",
       "2013-01-06  0.799942  0.138410  0.18882       NaN"
      ]
     },
     "execution_count": 42,
     "metadata": {},
     "output_type": "execute_result"
    }
   ],
   "source": [
    "# only cells greater than 0\n",
    "df[df > 0]"
   ]
  },
  {
   "cell_type": "code",
   "execution_count": 43,
   "metadata": {
    "collapsed": false
   },
   "outputs": [
    {
     "data": {
      "text/html": [
       "<div>\n",
       "<table border=\"1\" class=\"dataframe\">\n",
       "  <thead>\n",
       "    <tr style=\"text-align: right;\">\n",
       "      <th></th>\n",
       "      <th>A</th>\n",
       "      <th>B</th>\n",
       "      <th>C</th>\n",
       "      <th>D</th>\n",
       "      <th>E</th>\n",
       "    </tr>\n",
       "  </thead>\n",
       "  <tbody>\n",
       "    <tr>\n",
       "      <th>2013-01-01</th>\n",
       "      <td>-1.189493</td>\n",
       "      <td>-1.390220</td>\n",
       "      <td>-1.322253</td>\n",
       "      <td>0.253678</td>\n",
       "      <td>one</td>\n",
       "    </tr>\n",
       "    <tr>\n",
       "      <th>2013-01-02</th>\n",
       "      <td>-1.529953</td>\n",
       "      <td>-0.047242</td>\n",
       "      <td>-0.013585</td>\n",
       "      <td>1.729523</td>\n",
       "      <td>one</td>\n",
       "    </tr>\n",
       "    <tr>\n",
       "      <th>2013-01-05</th>\n",
       "      <td>-0.131589</td>\n",
       "      <td>-1.061204</td>\n",
       "      <td>-0.159379</td>\n",
       "      <td>0.380774</td>\n",
       "      <td>four</td>\n",
       "    </tr>\n",
       "  </tbody>\n",
       "</table>\n",
       "</div>"
      ],
      "text/plain": [
       "                   A         B         C         D     E\n",
       "2013-01-01 -1.189493 -1.390220 -1.322253  0.253678   one\n",
       "2013-01-02 -1.529953 -0.047242 -0.013585  1.729523   one\n",
       "2013-01-05 -0.131589 -1.061204 -0.159379  0.380774  four"
      ]
     },
     "execution_count": 43,
     "metadata": {},
     "output_type": "execute_result"
    }
   ],
   "source": [
    "# filter through the datatable using isin()\n",
    "\n",
    "# make a copy of the dataframe\n",
    "df2 = df.copy()\n",
    "# add a new column\n",
    "df2['E'] = ['one', 'one', 'two', 'three', 'four', 'three']\n",
    "# select only rows with certain keywords that match\n",
    "df2[df2['E'].isin(['one', 'four'])]"
   ]
  },
  {
   "cell_type": "markdown",
   "metadata": {},
   "source": [
    "#### Setting"
   ]
  },
  {
   "cell_type": "code",
   "execution_count": 44,
   "metadata": {
    "collapsed": false
   },
   "outputs": [
    {
     "data": {
      "text/html": [
       "<div>\n",
       "<table border=\"1\" class=\"dataframe\">\n",
       "  <thead>\n",
       "    <tr style=\"text-align: right;\">\n",
       "      <th></th>\n",
       "      <th>A</th>\n",
       "      <th>B</th>\n",
       "      <th>C</th>\n",
       "      <th>D</th>\n",
       "    </tr>\n",
       "  </thead>\n",
       "  <tbody>\n",
       "    <tr>\n",
       "      <th>2013-01-01</th>\n",
       "      <td>-1.189493</td>\n",
       "      <td>-1.390220</td>\n",
       "      <td>-1.322253</td>\n",
       "      <td>0.253678</td>\n",
       "    </tr>\n",
       "    <tr>\n",
       "      <th>2013-01-02</th>\n",
       "      <td>-1.529953</td>\n",
       "      <td>-0.047242</td>\n",
       "      <td>-0.013585</td>\n",
       "      <td>1.729523</td>\n",
       "    </tr>\n",
       "    <tr>\n",
       "      <th>2013-01-03</th>\n",
       "      <td>0.422622</td>\n",
       "      <td>1.309599</td>\n",
       "      <td>-0.432622</td>\n",
       "      <td>0.840627</td>\n",
       "    </tr>\n",
       "    <tr>\n",
       "      <th>2013-01-04</th>\n",
       "      <td>0.717219</td>\n",
       "      <td>-0.928676</td>\n",
       "      <td>-0.497471</td>\n",
       "      <td>-0.745599</td>\n",
       "    </tr>\n",
       "    <tr>\n",
       "      <th>2013-01-05</th>\n",
       "      <td>-0.131589</td>\n",
       "      <td>-1.061204</td>\n",
       "      <td>-0.159379</td>\n",
       "      <td>0.380774</td>\n",
       "    </tr>\n",
       "    <tr>\n",
       "      <th>2013-01-06</th>\n",
       "      <td>0.799942</td>\n",
       "      <td>0.138410</td>\n",
       "      <td>0.188820</td>\n",
       "      <td>-0.042922</td>\n",
       "    </tr>\n",
       "  </tbody>\n",
       "</table>\n",
       "</div>"
      ],
      "text/plain": [
       "                   A         B         C         D\n",
       "2013-01-01 -1.189493 -1.390220 -1.322253  0.253678\n",
       "2013-01-02 -1.529953 -0.047242 -0.013585  1.729523\n",
       "2013-01-03  0.422622  1.309599 -0.432622  0.840627\n",
       "2013-01-04  0.717219 -0.928676 -0.497471 -0.745599\n",
       "2013-01-05 -0.131589 -1.061204 -0.159379  0.380774\n",
       "2013-01-06  0.799942  0.138410  0.188820 -0.042922"
      ]
     },
     "execution_count": 44,
     "metadata": {},
     "output_type": "execute_result"
    }
   ],
   "source": [
    "df"
   ]
  },
  {
   "cell_type": "code",
   "execution_count": 45,
   "metadata": {
    "collapsed": false
   },
   "outputs": [
    {
     "data": {
      "text/plain": [
       "2013-01-02    1\n",
       "2013-01-03    2\n",
       "2013-01-04    3\n",
       "2013-01-05    4\n",
       "2013-01-06    5\n",
       "2013-01-07    6\n",
       "Freq: D, dtype: int64"
      ]
     },
     "execution_count": 45,
     "metadata": {},
     "output_type": "execute_result"
    }
   ],
   "source": [
    "# make a new Series that I can add to the dataframe\n",
    "# !!! REMEMBER, a dataframe can be thought of as a dict of Series\n",
    "# where the Series labels for a union if redundant\n",
    "s1 = pd.Series([1,2,3,4,5,6], index=pd.date_range('20130102', periods=6))\n",
    "s1"
   ]
  },
  {
   "cell_type": "code",
   "execution_count": 46,
   "metadata": {
    "collapsed": false
   },
   "outputs": [
    {
     "data": {
      "text/html": [
       "<div>\n",
       "<table border=\"1\" class=\"dataframe\">\n",
       "  <thead>\n",
       "    <tr style=\"text-align: right;\">\n",
       "      <th></th>\n",
       "      <th>A</th>\n",
       "      <th>B</th>\n",
       "      <th>C</th>\n",
       "      <th>D</th>\n",
       "      <th>F</th>\n",
       "    </tr>\n",
       "  </thead>\n",
       "  <tbody>\n",
       "    <tr>\n",
       "      <th>2013-01-01</th>\n",
       "      <td>-1.189493</td>\n",
       "      <td>-1.390220</td>\n",
       "      <td>-1.322253</td>\n",
       "      <td>0.253678</td>\n",
       "      <td>NaN</td>\n",
       "    </tr>\n",
       "    <tr>\n",
       "      <th>2013-01-02</th>\n",
       "      <td>-1.529953</td>\n",
       "      <td>-0.047242</td>\n",
       "      <td>-0.013585</td>\n",
       "      <td>1.729523</td>\n",
       "      <td>1.0</td>\n",
       "    </tr>\n",
       "    <tr>\n",
       "      <th>2013-01-03</th>\n",
       "      <td>0.422622</td>\n",
       "      <td>1.309599</td>\n",
       "      <td>-0.432622</td>\n",
       "      <td>0.840627</td>\n",
       "      <td>2.0</td>\n",
       "    </tr>\n",
       "    <tr>\n",
       "      <th>2013-01-04</th>\n",
       "      <td>0.717219</td>\n",
       "      <td>-0.928676</td>\n",
       "      <td>-0.497471</td>\n",
       "      <td>-0.745599</td>\n",
       "      <td>3.0</td>\n",
       "    </tr>\n",
       "    <tr>\n",
       "      <th>2013-01-05</th>\n",
       "      <td>-0.131589</td>\n",
       "      <td>-1.061204</td>\n",
       "      <td>-0.159379</td>\n",
       "      <td>0.380774</td>\n",
       "      <td>4.0</td>\n",
       "    </tr>\n",
       "    <tr>\n",
       "      <th>2013-01-06</th>\n",
       "      <td>0.799942</td>\n",
       "      <td>0.138410</td>\n",
       "      <td>0.188820</td>\n",
       "      <td>-0.042922</td>\n",
       "      <td>5.0</td>\n",
       "    </tr>\n",
       "  </tbody>\n",
       "</table>\n",
       "</div>"
      ],
      "text/plain": [
       "                   A         B         C         D    F\n",
       "2013-01-01 -1.189493 -1.390220 -1.322253  0.253678  NaN\n",
       "2013-01-02 -1.529953 -0.047242 -0.013585  1.729523  1.0\n",
       "2013-01-03  0.422622  1.309599 -0.432622  0.840627  2.0\n",
       "2013-01-04  0.717219 -0.928676 -0.497471 -0.745599  3.0\n",
       "2013-01-05 -0.131589 -1.061204 -0.159379  0.380774  4.0\n",
       "2013-01-06  0.799942  0.138410  0.188820 -0.042922  5.0"
      ]
     },
     "execution_count": 46,
     "metadata": {},
     "output_type": "execute_result"
    }
   ],
   "source": [
    "# now add it to df dataframe as column 'F'\n",
    "# notice that column F didn't start from 20130101 so its value there is Nan\n",
    "df['F'] = s1\n",
    "df"
   ]
  },
  {
   "cell_type": "code",
   "execution_count": 47,
   "metadata": {
    "collapsed": false
   },
   "outputs": [
    {
     "data": {
      "text/html": [
       "<div>\n",
       "<table border=\"1\" class=\"dataframe\">\n",
       "  <thead>\n",
       "    <tr style=\"text-align: right;\">\n",
       "      <th></th>\n",
       "      <th>A</th>\n",
       "      <th>B</th>\n",
       "      <th>C</th>\n",
       "      <th>D</th>\n",
       "      <th>F</th>\n",
       "    </tr>\n",
       "  </thead>\n",
       "  <tbody>\n",
       "    <tr>\n",
       "      <th>2013-01-01</th>\n",
       "      <td>0.000000</td>\n",
       "      <td>-1.390220</td>\n",
       "      <td>-1.322253</td>\n",
       "      <td>0.253678</td>\n",
       "      <td>NaN</td>\n",
       "    </tr>\n",
       "    <tr>\n",
       "      <th>2013-01-02</th>\n",
       "      <td>-1.529953</td>\n",
       "      <td>-0.047242</td>\n",
       "      <td>-0.013585</td>\n",
       "      <td>1.729523</td>\n",
       "      <td>1.0</td>\n",
       "    </tr>\n",
       "    <tr>\n",
       "      <th>2013-01-03</th>\n",
       "      <td>0.422622</td>\n",
       "      <td>1.309599</td>\n",
       "      <td>-0.432622</td>\n",
       "      <td>0.840627</td>\n",
       "      <td>2.0</td>\n",
       "    </tr>\n",
       "    <tr>\n",
       "      <th>2013-01-04</th>\n",
       "      <td>0.717219</td>\n",
       "      <td>-0.928676</td>\n",
       "      <td>-0.497471</td>\n",
       "      <td>-0.745599</td>\n",
       "      <td>3.0</td>\n",
       "    </tr>\n",
       "    <tr>\n",
       "      <th>2013-01-05</th>\n",
       "      <td>-0.131589</td>\n",
       "      <td>-1.061204</td>\n",
       "      <td>-0.159379</td>\n",
       "      <td>0.380774</td>\n",
       "      <td>4.0</td>\n",
       "    </tr>\n",
       "    <tr>\n",
       "      <th>2013-01-06</th>\n",
       "      <td>0.799942</td>\n",
       "      <td>0.138410</td>\n",
       "      <td>0.188820</td>\n",
       "      <td>-0.042922</td>\n",
       "      <td>5.0</td>\n",
       "    </tr>\n",
       "  </tbody>\n",
       "</table>\n",
       "</div>"
      ],
      "text/plain": [
       "                   A         B         C         D    F\n",
       "2013-01-01  0.000000 -1.390220 -1.322253  0.253678  NaN\n",
       "2013-01-02 -1.529953 -0.047242 -0.013585  1.729523  1.0\n",
       "2013-01-03  0.422622  1.309599 -0.432622  0.840627  2.0\n",
       "2013-01-04  0.717219 -0.928676 -0.497471 -0.745599  3.0\n",
       "2013-01-05 -0.131589 -1.061204 -0.159379  0.380774  4.0\n",
       "2013-01-06  0.799942  0.138410  0.188820 -0.042922  5.0"
      ]
     },
     "execution_count": 47,
     "metadata": {},
     "output_type": "execute_result"
    }
   ],
   "source": [
    "# now set values by label index and column label\n",
    "df.at[dates[0], 'A'] = 0\n",
    "df"
   ]
  },
  {
   "cell_type": "code",
   "execution_count": 48,
   "metadata": {
    "collapsed": false
   },
   "outputs": [
    {
     "data": {
      "text/html": [
       "<div>\n",
       "<table border=\"1\" class=\"dataframe\">\n",
       "  <thead>\n",
       "    <tr style=\"text-align: right;\">\n",
       "      <th></th>\n",
       "      <th>A</th>\n",
       "      <th>B</th>\n",
       "      <th>C</th>\n",
       "      <th>D</th>\n",
       "      <th>F</th>\n",
       "    </tr>\n",
       "  </thead>\n",
       "  <tbody>\n",
       "    <tr>\n",
       "      <th>2013-01-01</th>\n",
       "      <td>0.000000</td>\n",
       "      <td>0.000000</td>\n",
       "      <td>-1.322253</td>\n",
       "      <td>0.253678</td>\n",
       "      <td>NaN</td>\n",
       "    </tr>\n",
       "    <tr>\n",
       "      <th>2013-01-02</th>\n",
       "      <td>-1.529953</td>\n",
       "      <td>-0.047242</td>\n",
       "      <td>-0.013585</td>\n",
       "      <td>1.729523</td>\n",
       "      <td>1.0</td>\n",
       "    </tr>\n",
       "    <tr>\n",
       "      <th>2013-01-03</th>\n",
       "      <td>0.422622</td>\n",
       "      <td>1.309599</td>\n",
       "      <td>-0.432622</td>\n",
       "      <td>0.840627</td>\n",
       "      <td>2.0</td>\n",
       "    </tr>\n",
       "    <tr>\n",
       "      <th>2013-01-04</th>\n",
       "      <td>0.717219</td>\n",
       "      <td>-0.928676</td>\n",
       "      <td>-0.497471</td>\n",
       "      <td>-0.745599</td>\n",
       "      <td>3.0</td>\n",
       "    </tr>\n",
       "    <tr>\n",
       "      <th>2013-01-05</th>\n",
       "      <td>-0.131589</td>\n",
       "      <td>-1.061204</td>\n",
       "      <td>-0.159379</td>\n",
       "      <td>0.380774</td>\n",
       "      <td>4.0</td>\n",
       "    </tr>\n",
       "    <tr>\n",
       "      <th>2013-01-06</th>\n",
       "      <td>0.799942</td>\n",
       "      <td>0.138410</td>\n",
       "      <td>0.188820</td>\n",
       "      <td>-0.042922</td>\n",
       "      <td>5.0</td>\n",
       "    </tr>\n",
       "  </tbody>\n",
       "</table>\n",
       "</div>"
      ],
      "text/plain": [
       "                   A         B         C         D    F\n",
       "2013-01-01  0.000000  0.000000 -1.322253  0.253678  NaN\n",
       "2013-01-02 -1.529953 -0.047242 -0.013585  1.729523  1.0\n",
       "2013-01-03  0.422622  1.309599 -0.432622  0.840627  2.0\n",
       "2013-01-04  0.717219 -0.928676 -0.497471 -0.745599  3.0\n",
       "2013-01-05 -0.131589 -1.061204 -0.159379  0.380774  4.0\n",
       "2013-01-06  0.799942  0.138410  0.188820 -0.042922  5.0"
      ]
     },
     "execution_count": 48,
     "metadata": {},
     "output_type": "execute_result"
    }
   ],
   "source": [
    "# set values by position index\n",
    "df.iat[0,1] = 0\n",
    "df"
   ]
  },
  {
   "cell_type": "code",
   "execution_count": 49,
   "metadata": {
    "collapsed": false
   },
   "outputs": [
    {
     "data": {
      "text/html": [
       "<div>\n",
       "<table border=\"1\" class=\"dataframe\">\n",
       "  <thead>\n",
       "    <tr style=\"text-align: right;\">\n",
       "      <th></th>\n",
       "      <th>A</th>\n",
       "      <th>B</th>\n",
       "      <th>C</th>\n",
       "      <th>D</th>\n",
       "      <th>F</th>\n",
       "    </tr>\n",
       "  </thead>\n",
       "  <tbody>\n",
       "    <tr>\n",
       "      <th>2013-01-01</th>\n",
       "      <td>0.000000</td>\n",
       "      <td>0.000000</td>\n",
       "      <td>-1.322253</td>\n",
       "      <td>5</td>\n",
       "      <td>NaN</td>\n",
       "    </tr>\n",
       "    <tr>\n",
       "      <th>2013-01-02</th>\n",
       "      <td>-1.529953</td>\n",
       "      <td>-0.047242</td>\n",
       "      <td>-0.013585</td>\n",
       "      <td>5</td>\n",
       "      <td>1.0</td>\n",
       "    </tr>\n",
       "    <tr>\n",
       "      <th>2013-01-03</th>\n",
       "      <td>0.422622</td>\n",
       "      <td>1.309599</td>\n",
       "      <td>-0.432622</td>\n",
       "      <td>5</td>\n",
       "      <td>2.0</td>\n",
       "    </tr>\n",
       "    <tr>\n",
       "      <th>2013-01-04</th>\n",
       "      <td>0.717219</td>\n",
       "      <td>-0.928676</td>\n",
       "      <td>-0.497471</td>\n",
       "      <td>5</td>\n",
       "      <td>3.0</td>\n",
       "    </tr>\n",
       "    <tr>\n",
       "      <th>2013-01-05</th>\n",
       "      <td>-0.131589</td>\n",
       "      <td>-1.061204</td>\n",
       "      <td>-0.159379</td>\n",
       "      <td>5</td>\n",
       "      <td>4.0</td>\n",
       "    </tr>\n",
       "    <tr>\n",
       "      <th>2013-01-06</th>\n",
       "      <td>0.799942</td>\n",
       "      <td>0.138410</td>\n",
       "      <td>0.188820</td>\n",
       "      <td>5</td>\n",
       "      <td>5.0</td>\n",
       "    </tr>\n",
       "  </tbody>\n",
       "</table>\n",
       "</div>"
      ],
      "text/plain": [
       "                   A         B         C  D    F\n",
       "2013-01-01  0.000000  0.000000 -1.322253  5  NaN\n",
       "2013-01-02 -1.529953 -0.047242 -0.013585  5  1.0\n",
       "2013-01-03  0.422622  1.309599 -0.432622  5  2.0\n",
       "2013-01-04  0.717219 -0.928676 -0.497471  5  3.0\n",
       "2013-01-05 -0.131589 -1.061204 -0.159379  5  4.0\n",
       "2013-01-06  0.799942  0.138410  0.188820  5  5.0"
      ]
     },
     "execution_count": 49,
     "metadata": {},
     "output_type": "execute_result"
    }
   ],
   "source": [
    "# replaces all rows in column D with an ndarray of 5's of length of df dataframe\n",
    "df.loc[:,'D'] = np.array([5] * len(df))\n",
    "df"
   ]
  },
  {
   "cell_type": "code",
   "execution_count": 50,
   "metadata": {
    "collapsed": false
   },
   "outputs": [
    {
     "data": {
      "text/html": [
       "<div>\n",
       "<table border=\"1\" class=\"dataframe\">\n",
       "  <thead>\n",
       "    <tr style=\"text-align: right;\">\n",
       "      <th></th>\n",
       "      <th>A</th>\n",
       "      <th>B</th>\n",
       "      <th>C</th>\n",
       "      <th>D</th>\n",
       "      <th>F</th>\n",
       "    </tr>\n",
       "  </thead>\n",
       "  <tbody>\n",
       "    <tr>\n",
       "      <th>2013-01-01</th>\n",
       "      <td>0.000000</td>\n",
       "      <td>0.000000</td>\n",
       "      <td>-1.322253</td>\n",
       "      <td>-5</td>\n",
       "      <td>NaN</td>\n",
       "    </tr>\n",
       "    <tr>\n",
       "      <th>2013-01-02</th>\n",
       "      <td>-1.529953</td>\n",
       "      <td>-0.047242</td>\n",
       "      <td>-0.013585</td>\n",
       "      <td>-5</td>\n",
       "      <td>-1.0</td>\n",
       "    </tr>\n",
       "    <tr>\n",
       "      <th>2013-01-03</th>\n",
       "      <td>-0.422622</td>\n",
       "      <td>-1.309599</td>\n",
       "      <td>-0.432622</td>\n",
       "      <td>-5</td>\n",
       "      <td>-2.0</td>\n",
       "    </tr>\n",
       "    <tr>\n",
       "      <th>2013-01-04</th>\n",
       "      <td>-0.717219</td>\n",
       "      <td>-0.928676</td>\n",
       "      <td>-0.497471</td>\n",
       "      <td>-5</td>\n",
       "      <td>-3.0</td>\n",
       "    </tr>\n",
       "    <tr>\n",
       "      <th>2013-01-05</th>\n",
       "      <td>-0.131589</td>\n",
       "      <td>-1.061204</td>\n",
       "      <td>-0.159379</td>\n",
       "      <td>-5</td>\n",
       "      <td>-4.0</td>\n",
       "    </tr>\n",
       "    <tr>\n",
       "      <th>2013-01-06</th>\n",
       "      <td>-0.799942</td>\n",
       "      <td>-0.138410</td>\n",
       "      <td>-0.188820</td>\n",
       "      <td>-5</td>\n",
       "      <td>-5.0</td>\n",
       "    </tr>\n",
       "  </tbody>\n",
       "</table>\n",
       "</div>"
      ],
      "text/plain": [
       "                   A         B         C  D    F\n",
       "2013-01-01  0.000000  0.000000 -1.322253 -5  NaN\n",
       "2013-01-02 -1.529953 -0.047242 -0.013585 -5 -1.0\n",
       "2013-01-03 -0.422622 -1.309599 -0.432622 -5 -2.0\n",
       "2013-01-04 -0.717219 -0.928676 -0.497471 -5 -3.0\n",
       "2013-01-05 -0.131589 -1.061204 -0.159379 -5 -4.0\n",
       "2013-01-06 -0.799942 -0.138410 -0.188820 -5 -5.0"
      ]
     },
     "execution_count": 50,
     "metadata": {},
     "output_type": "execute_result"
    }
   ],
   "source": [
    "# conduct a where operation to replace any value greater than zero with \n",
    "# its inverse\n",
    "df2 = df.copy()\n",
    "df2[df2 > 0] = -df2\n",
    "df2"
   ]
  },
  {
   "cell_type": "markdown",
   "metadata": {},
   "source": [
    "#### Missing Data"
   ]
  },
  {
   "cell_type": "code",
   "execution_count": 51,
   "metadata": {
    "collapsed": false
   },
   "outputs": [
    {
     "data": {
      "text/html": [
       "<div>\n",
       "<table border=\"1\" class=\"dataframe\">\n",
       "  <thead>\n",
       "    <tr style=\"text-align: right;\">\n",
       "      <th></th>\n",
       "      <th>A</th>\n",
       "      <th>B</th>\n",
       "      <th>C</th>\n",
       "      <th>D</th>\n",
       "      <th>F</th>\n",
       "    </tr>\n",
       "  </thead>\n",
       "  <tbody>\n",
       "    <tr>\n",
       "      <th>2013-01-01</th>\n",
       "      <td>0.000000</td>\n",
       "      <td>0.000000</td>\n",
       "      <td>-1.322253</td>\n",
       "      <td>5</td>\n",
       "      <td>NaN</td>\n",
       "    </tr>\n",
       "    <tr>\n",
       "      <th>2013-01-02</th>\n",
       "      <td>-1.529953</td>\n",
       "      <td>-0.047242</td>\n",
       "      <td>-0.013585</td>\n",
       "      <td>5</td>\n",
       "      <td>1.0</td>\n",
       "    </tr>\n",
       "    <tr>\n",
       "      <th>2013-01-03</th>\n",
       "      <td>0.422622</td>\n",
       "      <td>1.309599</td>\n",
       "      <td>-0.432622</td>\n",
       "      <td>5</td>\n",
       "      <td>2.0</td>\n",
       "    </tr>\n",
       "    <tr>\n",
       "      <th>2013-01-04</th>\n",
       "      <td>0.717219</td>\n",
       "      <td>-0.928676</td>\n",
       "      <td>-0.497471</td>\n",
       "      <td>5</td>\n",
       "      <td>3.0</td>\n",
       "    </tr>\n",
       "    <tr>\n",
       "      <th>2013-01-05</th>\n",
       "      <td>-0.131589</td>\n",
       "      <td>-1.061204</td>\n",
       "      <td>-0.159379</td>\n",
       "      <td>5</td>\n",
       "      <td>4.0</td>\n",
       "    </tr>\n",
       "    <tr>\n",
       "      <th>2013-01-06</th>\n",
       "      <td>0.799942</td>\n",
       "      <td>0.138410</td>\n",
       "      <td>0.188820</td>\n",
       "      <td>5</td>\n",
       "      <td>5.0</td>\n",
       "    </tr>\n",
       "  </tbody>\n",
       "</table>\n",
       "</div>"
      ],
      "text/plain": [
       "                   A         B         C  D    F\n",
       "2013-01-01  0.000000  0.000000 -1.322253  5  NaN\n",
       "2013-01-02 -1.529953 -0.047242 -0.013585  5  1.0\n",
       "2013-01-03  0.422622  1.309599 -0.432622  5  2.0\n",
       "2013-01-04  0.717219 -0.928676 -0.497471  5  3.0\n",
       "2013-01-05 -0.131589 -1.061204 -0.159379  5  4.0\n",
       "2013-01-06  0.799942  0.138410  0.188820  5  5.0"
      ]
     },
     "execution_count": 51,
     "metadata": {},
     "output_type": "execute_result"
    }
   ],
   "source": [
    "# show original dataframe\n",
    "df"
   ]
  },
  {
   "cell_type": "code",
   "execution_count": 52,
   "metadata": {
    "collapsed": false
   },
   "outputs": [
    {
     "data": {
      "text/html": [
       "<div>\n",
       "<table border=\"1\" class=\"dataframe\">\n",
       "  <thead>\n",
       "    <tr style=\"text-align: right;\">\n",
       "      <th></th>\n",
       "      <th>A</th>\n",
       "      <th>B</th>\n",
       "      <th>C</th>\n",
       "      <th>D</th>\n",
       "      <th>F</th>\n",
       "      <th>E</th>\n",
       "    </tr>\n",
       "  </thead>\n",
       "  <tbody>\n",
       "    <tr>\n",
       "      <th>2013-01-01</th>\n",
       "      <td>0.000000</td>\n",
       "      <td>0.000000</td>\n",
       "      <td>-1.322253</td>\n",
       "      <td>5</td>\n",
       "      <td>NaN</td>\n",
       "      <td>NaN</td>\n",
       "    </tr>\n",
       "    <tr>\n",
       "      <th>2013-01-02</th>\n",
       "      <td>-1.529953</td>\n",
       "      <td>-0.047242</td>\n",
       "      <td>-0.013585</td>\n",
       "      <td>5</td>\n",
       "      <td>1.0</td>\n",
       "      <td>NaN</td>\n",
       "    </tr>\n",
       "    <tr>\n",
       "      <th>2013-01-03</th>\n",
       "      <td>0.422622</td>\n",
       "      <td>1.309599</td>\n",
       "      <td>-0.432622</td>\n",
       "      <td>5</td>\n",
       "      <td>2.0</td>\n",
       "      <td>NaN</td>\n",
       "    </tr>\n",
       "    <tr>\n",
       "      <th>2013-01-04</th>\n",
       "      <td>0.717219</td>\n",
       "      <td>-0.928676</td>\n",
       "      <td>-0.497471</td>\n",
       "      <td>5</td>\n",
       "      <td>3.0</td>\n",
       "      <td>NaN</td>\n",
       "    </tr>\n",
       "  </tbody>\n",
       "</table>\n",
       "</div>"
      ],
      "text/plain": [
       "                   A         B         C  D    F   E\n",
       "2013-01-01  0.000000  0.000000 -1.322253  5  NaN NaN\n",
       "2013-01-02 -1.529953 -0.047242 -0.013585  5  1.0 NaN\n",
       "2013-01-03  0.422622  1.309599 -0.432622  5  2.0 NaN\n",
       "2013-01-04  0.717219 -0.928676 -0.497471  5  3.0 NaN"
      ]
     },
     "execution_count": 52,
     "metadata": {},
     "output_type": "execute_result"
    }
   ],
   "source": [
    "# reindex allow you to change/add/delete the index of a specified axis\n",
    "\n",
    "# reindexes to only include 0th, 1th, 2th, 3th index (rows)\n",
    "# uses same columns but adds one call 'E' that initially has NaN in all\n",
    "df1 = df.reindex(index=dates[0:4], columns=list(df.columns) + ['E'])\n",
    "df1"
   ]
  },
  {
   "cell_type": "code",
   "execution_count": 53,
   "metadata": {
    "collapsed": false
   },
   "outputs": [
    {
     "data": {
      "text/html": [
       "<div>\n",
       "<table border=\"1\" class=\"dataframe\">\n",
       "  <thead>\n",
       "    <tr style=\"text-align: right;\">\n",
       "      <th></th>\n",
       "      <th>A</th>\n",
       "      <th>B</th>\n",
       "      <th>C</th>\n",
       "      <th>D</th>\n",
       "      <th>F</th>\n",
       "      <th>E</th>\n",
       "    </tr>\n",
       "  </thead>\n",
       "  <tbody>\n",
       "    <tr>\n",
       "      <th>2013-01-01</th>\n",
       "      <td>0.000000</td>\n",
       "      <td>0.000000</td>\n",
       "      <td>-1.322253</td>\n",
       "      <td>5</td>\n",
       "      <td>NaN</td>\n",
       "      <td>1.0</td>\n",
       "    </tr>\n",
       "    <tr>\n",
       "      <th>2013-01-02</th>\n",
       "      <td>-1.529953</td>\n",
       "      <td>-0.047242</td>\n",
       "      <td>-0.013585</td>\n",
       "      <td>5</td>\n",
       "      <td>1.0</td>\n",
       "      <td>1.0</td>\n",
       "    </tr>\n",
       "    <tr>\n",
       "      <th>2013-01-03</th>\n",
       "      <td>0.422622</td>\n",
       "      <td>1.309599</td>\n",
       "      <td>-0.432622</td>\n",
       "      <td>5</td>\n",
       "      <td>2.0</td>\n",
       "      <td>NaN</td>\n",
       "    </tr>\n",
       "    <tr>\n",
       "      <th>2013-01-04</th>\n",
       "      <td>0.717219</td>\n",
       "      <td>-0.928676</td>\n",
       "      <td>-0.497471</td>\n",
       "      <td>5</td>\n",
       "      <td>3.0</td>\n",
       "      <td>NaN</td>\n",
       "    </tr>\n",
       "  </tbody>\n",
       "</table>\n",
       "</div>"
      ],
      "text/plain": [
       "                   A         B         C  D    F    E\n",
       "2013-01-01  0.000000  0.000000 -1.322253  5  NaN  1.0\n",
       "2013-01-02 -1.529953 -0.047242 -0.013585  5  1.0  1.0\n",
       "2013-01-03  0.422622  1.309599 -0.432622  5  2.0  NaN\n",
       "2013-01-04  0.717219 -0.928676 -0.497471  5  3.0  NaN"
      ]
     },
     "execution_count": 53,
     "metadata": {},
     "output_type": "execute_result"
    }
   ],
   "source": [
    "# change the 0th and 1th values to 1.0\n",
    "df1.loc[dates[0]:dates[1], 'E'] = 1 # notice enpoint on rows is inclusive\n",
    "df1"
   ]
  },
  {
   "cell_type": "code",
   "execution_count": 54,
   "metadata": {
    "collapsed": false
   },
   "outputs": [
    {
     "data": {
      "text/html": [
       "<div>\n",
       "<table border=\"1\" class=\"dataframe\">\n",
       "  <thead>\n",
       "    <tr style=\"text-align: right;\">\n",
       "      <th></th>\n",
       "      <th>A</th>\n",
       "      <th>B</th>\n",
       "      <th>C</th>\n",
       "      <th>D</th>\n",
       "      <th>F</th>\n",
       "      <th>E</th>\n",
       "    </tr>\n",
       "  </thead>\n",
       "  <tbody>\n",
       "    <tr>\n",
       "      <th>2013-01-02</th>\n",
       "      <td>-1.529953</td>\n",
       "      <td>-0.047242</td>\n",
       "      <td>-0.013585</td>\n",
       "      <td>5</td>\n",
       "      <td>1.0</td>\n",
       "      <td>1.0</td>\n",
       "    </tr>\n",
       "  </tbody>\n",
       "</table>\n",
       "</div>"
      ],
      "text/plain": [
       "                   A         B         C  D    F    E\n",
       "2013-01-02 -1.529953 -0.047242 -0.013585  5  1.0  1.0"
      ]
     },
     "execution_count": 54,
     "metadata": {},
     "output_type": "execute_result"
    }
   ],
   "source": [
    "# drop any rows that have missing data\n",
    "df1.dropna(how='any')"
   ]
  },
  {
   "cell_type": "code",
   "execution_count": 55,
   "metadata": {
    "collapsed": false
   },
   "outputs": [
    {
     "data": {
      "text/html": [
       "<div>\n",
       "<table border=\"1\" class=\"dataframe\">\n",
       "  <thead>\n",
       "    <tr style=\"text-align: right;\">\n",
       "      <th></th>\n",
       "      <th>A</th>\n",
       "      <th>B</th>\n",
       "      <th>C</th>\n",
       "      <th>D</th>\n",
       "      <th>F</th>\n",
       "      <th>E</th>\n",
       "    </tr>\n",
       "  </thead>\n",
       "  <tbody>\n",
       "    <tr>\n",
       "      <th>2013-01-01</th>\n",
       "      <td>0.000000</td>\n",
       "      <td>0.000000</td>\n",
       "      <td>-1.322253</td>\n",
       "      <td>5</td>\n",
       "      <td>5.0</td>\n",
       "      <td>1.0</td>\n",
       "    </tr>\n",
       "    <tr>\n",
       "      <th>2013-01-02</th>\n",
       "      <td>-1.529953</td>\n",
       "      <td>-0.047242</td>\n",
       "      <td>-0.013585</td>\n",
       "      <td>5</td>\n",
       "      <td>1.0</td>\n",
       "      <td>1.0</td>\n",
       "    </tr>\n",
       "    <tr>\n",
       "      <th>2013-01-03</th>\n",
       "      <td>0.422622</td>\n",
       "      <td>1.309599</td>\n",
       "      <td>-0.432622</td>\n",
       "      <td>5</td>\n",
       "      <td>2.0</td>\n",
       "      <td>5.0</td>\n",
       "    </tr>\n",
       "    <tr>\n",
       "      <th>2013-01-04</th>\n",
       "      <td>0.717219</td>\n",
       "      <td>-0.928676</td>\n",
       "      <td>-0.497471</td>\n",
       "      <td>5</td>\n",
       "      <td>3.0</td>\n",
       "      <td>5.0</td>\n",
       "    </tr>\n",
       "  </tbody>\n",
       "</table>\n",
       "</div>"
      ],
      "text/plain": [
       "                   A         B         C  D    F    E\n",
       "2013-01-01  0.000000  0.000000 -1.322253  5  5.0  1.0\n",
       "2013-01-02 -1.529953 -0.047242 -0.013585  5  1.0  1.0\n",
       "2013-01-03  0.422622  1.309599 -0.432622  5  2.0  5.0\n",
       "2013-01-04  0.717219 -0.928676 -0.497471  5  3.0  5.0"
      ]
     },
     "execution_count": 55,
     "metadata": {},
     "output_type": "execute_result"
    }
   ],
   "source": [
    "# fill in missing data\n",
    "df1.fillna(value=5)"
   ]
  },
  {
   "cell_type": "code",
   "execution_count": 56,
   "metadata": {
    "collapsed": false
   },
   "outputs": [
    {
     "data": {
      "text/html": [
       "<div>\n",
       "<table border=\"1\" class=\"dataframe\">\n",
       "  <thead>\n",
       "    <tr style=\"text-align: right;\">\n",
       "      <th></th>\n",
       "      <th>A</th>\n",
       "      <th>B</th>\n",
       "      <th>C</th>\n",
       "      <th>D</th>\n",
       "      <th>F</th>\n",
       "      <th>E</th>\n",
       "    </tr>\n",
       "  </thead>\n",
       "  <tbody>\n",
       "    <tr>\n",
       "      <th>2013-01-01</th>\n",
       "      <td>False</td>\n",
       "      <td>False</td>\n",
       "      <td>False</td>\n",
       "      <td>False</td>\n",
       "      <td>True</td>\n",
       "      <td>False</td>\n",
       "    </tr>\n",
       "    <tr>\n",
       "      <th>2013-01-02</th>\n",
       "      <td>False</td>\n",
       "      <td>False</td>\n",
       "      <td>False</td>\n",
       "      <td>False</td>\n",
       "      <td>False</td>\n",
       "      <td>False</td>\n",
       "    </tr>\n",
       "    <tr>\n",
       "      <th>2013-01-03</th>\n",
       "      <td>False</td>\n",
       "      <td>False</td>\n",
       "      <td>False</td>\n",
       "      <td>False</td>\n",
       "      <td>False</td>\n",
       "      <td>True</td>\n",
       "    </tr>\n",
       "    <tr>\n",
       "      <th>2013-01-04</th>\n",
       "      <td>False</td>\n",
       "      <td>False</td>\n",
       "      <td>False</td>\n",
       "      <td>False</td>\n",
       "      <td>False</td>\n",
       "      <td>True</td>\n",
       "    </tr>\n",
       "  </tbody>\n",
       "</table>\n",
       "</div>"
      ],
      "text/plain": [
       "                A      B      C      D      F      E\n",
       "2013-01-01  False  False  False  False   True  False\n",
       "2013-01-02  False  False  False  False  False  False\n",
       "2013-01-03  False  False  False  False  False   True\n",
       "2013-01-04  False  False  False  False  False   True"
      ]
     },
     "execution_count": 56,
     "metadata": {},
     "output_type": "execute_result"
    }
   ],
   "source": [
    "# get boolean mask where values are nan\n",
    "pd.isnull(df1)"
   ]
  },
  {
   "cell_type": "markdown",
   "metadata": {},
   "source": [
    "### Operations"
   ]
  },
  {
   "cell_type": "markdown",
   "metadata": {},
   "source": [
    "#### Stats"
   ]
  },
  {
   "cell_type": "code",
   "execution_count": 57,
   "metadata": {
    "collapsed": false
   },
   "outputs": [
    {
     "data": {
      "text/html": [
       "<div>\n",
       "<table border=\"1\" class=\"dataframe\">\n",
       "  <thead>\n",
       "    <tr style=\"text-align: right;\">\n",
       "      <th></th>\n",
       "      <th>A</th>\n",
       "      <th>B</th>\n",
       "      <th>C</th>\n",
       "      <th>D</th>\n",
       "      <th>F</th>\n",
       "    </tr>\n",
       "  </thead>\n",
       "  <tbody>\n",
       "    <tr>\n",
       "      <th>2013-01-01</th>\n",
       "      <td>0.000000</td>\n",
       "      <td>0.000000</td>\n",
       "      <td>-1.322253</td>\n",
       "      <td>5</td>\n",
       "      <td>NaN</td>\n",
       "    </tr>\n",
       "    <tr>\n",
       "      <th>2013-01-02</th>\n",
       "      <td>-1.529953</td>\n",
       "      <td>-0.047242</td>\n",
       "      <td>-0.013585</td>\n",
       "      <td>5</td>\n",
       "      <td>1.0</td>\n",
       "    </tr>\n",
       "    <tr>\n",
       "      <th>2013-01-03</th>\n",
       "      <td>0.422622</td>\n",
       "      <td>1.309599</td>\n",
       "      <td>-0.432622</td>\n",
       "      <td>5</td>\n",
       "      <td>2.0</td>\n",
       "    </tr>\n",
       "    <tr>\n",
       "      <th>2013-01-04</th>\n",
       "      <td>0.717219</td>\n",
       "      <td>-0.928676</td>\n",
       "      <td>-0.497471</td>\n",
       "      <td>5</td>\n",
       "      <td>3.0</td>\n",
       "    </tr>\n",
       "    <tr>\n",
       "      <th>2013-01-05</th>\n",
       "      <td>-0.131589</td>\n",
       "      <td>-1.061204</td>\n",
       "      <td>-0.159379</td>\n",
       "      <td>5</td>\n",
       "      <td>4.0</td>\n",
       "    </tr>\n",
       "    <tr>\n",
       "      <th>2013-01-06</th>\n",
       "      <td>0.799942</td>\n",
       "      <td>0.138410</td>\n",
       "      <td>0.188820</td>\n",
       "      <td>5</td>\n",
       "      <td>5.0</td>\n",
       "    </tr>\n",
       "  </tbody>\n",
       "</table>\n",
       "</div>"
      ],
      "text/plain": [
       "                   A         B         C  D    F\n",
       "2013-01-01  0.000000  0.000000 -1.322253  5  NaN\n",
       "2013-01-02 -1.529953 -0.047242 -0.013585  5  1.0\n",
       "2013-01-03  0.422622  1.309599 -0.432622  5  2.0\n",
       "2013-01-04  0.717219 -0.928676 -0.497471  5  3.0\n",
       "2013-01-05 -0.131589 -1.061204 -0.159379  5  4.0\n",
       "2013-01-06  0.799942  0.138410  0.188820  5  5.0"
      ]
     },
     "execution_count": 57,
     "metadata": {},
     "output_type": "execute_result"
    }
   ],
   "source": [
    "# show original dataframe\n",
    "df"
   ]
  },
  {
   "cell_type": "code",
   "execution_count": 58,
   "metadata": {
    "collapsed": false
   },
   "outputs": [
    {
     "data": {
      "text/plain": [
       "A    0.046373\n",
       "B   -0.098186\n",
       "C   -0.372748\n",
       "D    5.000000\n",
       "F    3.000000\n",
       "dtype: float64"
      ]
     },
     "execution_count": 58,
     "metadata": {},
     "output_type": "execute_result"
    }
   ],
   "source": [
    "# the mean of each column\n",
    "df.mean()"
   ]
  },
  {
   "cell_type": "code",
   "execution_count": 59,
   "metadata": {
    "collapsed": false
   },
   "outputs": [
    {
     "data": {
      "text/plain": [
       "2013-01-01    0.919437\n",
       "2013-01-02    0.881844\n",
       "2013-01-03    1.659920\n",
       "2013-01-04    1.458215\n",
       "2013-01-05    1.529566\n",
       "2013-01-06    2.225434\n",
       "Freq: D, dtype: float64"
      ]
     },
     "execution_count": 59,
     "metadata": {},
     "output_type": "execute_result"
    }
   ],
   "source": [
    "# mean across rows\n",
    "df.mean(1)"
   ]
  },
  {
   "cell_type": "code",
   "execution_count": 60,
   "metadata": {
    "collapsed": false
   },
   "outputs": [
    {
     "data": {
      "text/plain": [
       "2013-01-01    1.0\n",
       "2013-01-02    3.0\n",
       "2013-01-03    5.0\n",
       "2013-01-04    NaN\n",
       "2013-01-05    6.0\n",
       "2013-01-06    8.0\n",
       "Freq: D, dtype: float64"
      ]
     },
     "execution_count": 60,
     "metadata": {},
     "output_type": "execute_result"
    }
   ],
   "source": [
    "s = pd.Series([1,3,5,np.nan,6,8], index=dates)\n",
    "s"
   ]
  },
  {
   "cell_type": "code",
   "execution_count": 61,
   "metadata": {
    "collapsed": false
   },
   "outputs": [
    {
     "data": {
      "text/plain": [
       "2013-01-01    NaN\n",
       "2013-01-02    NaN\n",
       "2013-01-03    1.0\n",
       "2013-01-04    3.0\n",
       "2013-01-05    5.0\n",
       "2013-01-06    NaN\n",
       "Freq: D, dtype: float64"
      ]
     },
     "execution_count": 61,
     "metadata": {},
     "output_type": "execute_result"
    }
   ],
   "source": [
    "# shift all values down 2 (newly freed values are now NaN)\n",
    "s.shift(2)"
   ]
  },
  {
   "cell_type": "code",
   "execution_count": 62,
   "metadata": {
    "collapsed": false
   },
   "outputs": [
    {
     "data": {
      "text/html": [
       "<div>\n",
       "<table border=\"1\" class=\"dataframe\">\n",
       "  <thead>\n",
       "    <tr style=\"text-align: right;\">\n",
       "      <th></th>\n",
       "      <th>A</th>\n",
       "      <th>B</th>\n",
       "      <th>C</th>\n",
       "      <th>D</th>\n",
       "      <th>F</th>\n",
       "    </tr>\n",
       "  </thead>\n",
       "  <tbody>\n",
       "    <tr>\n",
       "      <th>2013-01-01</th>\n",
       "      <td>0.000000</td>\n",
       "      <td>0.000000</td>\n",
       "      <td>-1.322253</td>\n",
       "      <td>5</td>\n",
       "      <td>NaN</td>\n",
       "    </tr>\n",
       "    <tr>\n",
       "      <th>2013-01-02</th>\n",
       "      <td>-1.529953</td>\n",
       "      <td>-0.047242</td>\n",
       "      <td>-0.013585</td>\n",
       "      <td>5</td>\n",
       "      <td>1.0</td>\n",
       "    </tr>\n",
       "    <tr>\n",
       "      <th>2013-01-03</th>\n",
       "      <td>0.422622</td>\n",
       "      <td>1.309599</td>\n",
       "      <td>-0.432622</td>\n",
       "      <td>5</td>\n",
       "      <td>2.0</td>\n",
       "    </tr>\n",
       "    <tr>\n",
       "      <th>2013-01-04</th>\n",
       "      <td>0.717219</td>\n",
       "      <td>-0.928676</td>\n",
       "      <td>-0.497471</td>\n",
       "      <td>5</td>\n",
       "      <td>3.0</td>\n",
       "    </tr>\n",
       "    <tr>\n",
       "      <th>2013-01-05</th>\n",
       "      <td>-0.131589</td>\n",
       "      <td>-1.061204</td>\n",
       "      <td>-0.159379</td>\n",
       "      <td>5</td>\n",
       "      <td>4.0</td>\n",
       "    </tr>\n",
       "    <tr>\n",
       "      <th>2013-01-06</th>\n",
       "      <td>0.799942</td>\n",
       "      <td>0.138410</td>\n",
       "      <td>0.188820</td>\n",
       "      <td>5</td>\n",
       "      <td>5.0</td>\n",
       "    </tr>\n",
       "  </tbody>\n",
       "</table>\n",
       "</div>"
      ],
      "text/plain": [
       "                   A         B         C  D    F\n",
       "2013-01-01  0.000000  0.000000 -1.322253  5  NaN\n",
       "2013-01-02 -1.529953 -0.047242 -0.013585  5  1.0\n",
       "2013-01-03  0.422622  1.309599 -0.432622  5  2.0\n",
       "2013-01-04  0.717219 -0.928676 -0.497471  5  3.0\n",
       "2013-01-05 -0.131589 -1.061204 -0.159379  5  4.0\n",
       "2013-01-06  0.799942  0.138410  0.188820  5  5.0"
      ]
     },
     "execution_count": 62,
     "metadata": {},
     "output_type": "execute_result"
    }
   ],
   "source": [
    "# show df dataframe again\n",
    "df"
   ]
  },
  {
   "cell_type": "code",
   "execution_count": 63,
   "metadata": {
    "collapsed": false
   },
   "outputs": [
    {
     "data": {
      "text/html": [
       "<div>\n",
       "<table border=\"1\" class=\"dataframe\">\n",
       "  <thead>\n",
       "    <tr style=\"text-align: right;\">\n",
       "      <th></th>\n",
       "      <th>A</th>\n",
       "      <th>B</th>\n",
       "      <th>C</th>\n",
       "      <th>D</th>\n",
       "      <th>F</th>\n",
       "    </tr>\n",
       "  </thead>\n",
       "  <tbody>\n",
       "    <tr>\n",
       "      <th>2013-01-01</th>\n",
       "      <td>-1.000000</td>\n",
       "      <td>-1.000000</td>\n",
       "      <td>-2.322253</td>\n",
       "      <td>4.0</td>\n",
       "      <td>NaN</td>\n",
       "    </tr>\n",
       "    <tr>\n",
       "      <th>2013-01-02</th>\n",
       "      <td>-4.529953</td>\n",
       "      <td>-3.047242</td>\n",
       "      <td>-3.013585</td>\n",
       "      <td>2.0</td>\n",
       "      <td>-2.0</td>\n",
       "    </tr>\n",
       "    <tr>\n",
       "      <th>2013-01-03</th>\n",
       "      <td>-4.577378</td>\n",
       "      <td>-3.690401</td>\n",
       "      <td>-5.432622</td>\n",
       "      <td>0.0</td>\n",
       "      <td>-3.0</td>\n",
       "    </tr>\n",
       "    <tr>\n",
       "      <th>2013-01-04</th>\n",
       "      <td>NaN</td>\n",
       "      <td>NaN</td>\n",
       "      <td>NaN</td>\n",
       "      <td>NaN</td>\n",
       "      <td>NaN</td>\n",
       "    </tr>\n",
       "    <tr>\n",
       "      <th>2013-01-05</th>\n",
       "      <td>-6.131589</td>\n",
       "      <td>-7.061204</td>\n",
       "      <td>-6.159379</td>\n",
       "      <td>-1.0</td>\n",
       "      <td>-2.0</td>\n",
       "    </tr>\n",
       "    <tr>\n",
       "      <th>2013-01-06</th>\n",
       "      <td>-7.200058</td>\n",
       "      <td>-7.861590</td>\n",
       "      <td>-7.811180</td>\n",
       "      <td>-3.0</td>\n",
       "      <td>-3.0</td>\n",
       "    </tr>\n",
       "  </tbody>\n",
       "</table>\n",
       "</div>"
      ],
      "text/plain": [
       "                   A         B         C    D    F\n",
       "2013-01-01 -1.000000 -1.000000 -2.322253  4.0  NaN\n",
       "2013-01-02 -4.529953 -3.047242 -3.013585  2.0 -2.0\n",
       "2013-01-03 -4.577378 -3.690401 -5.432622  0.0 -3.0\n",
       "2013-01-04       NaN       NaN       NaN  NaN  NaN\n",
       "2013-01-05 -6.131589 -7.061204 -6.159379 -1.0 -2.0\n",
       "2013-01-06 -7.200058 -7.861590 -7.811180 -3.0 -3.0"
      ]
     },
     "execution_count": 63,
     "metadata": {},
     "output_type": "execute_result"
    }
   ],
   "source": [
    "# s is a series. .sub with the 'index' axis means to subtract each corresponding\n",
    "# value across each item across the indices (rows)\n",
    "df.sub(s, axis='index')"
   ]
  },
  {
   "cell_type": "markdown",
   "metadata": {},
   "source": [
    "#### Apply"
   ]
  },
  {
   "cell_type": "code",
   "execution_count": 64,
   "metadata": {
    "collapsed": false
   },
   "outputs": [
    {
     "data": {
      "text/html": [
       "<div>\n",
       "<table border=\"1\" class=\"dataframe\">\n",
       "  <thead>\n",
       "    <tr style=\"text-align: right;\">\n",
       "      <th></th>\n",
       "      <th>A</th>\n",
       "      <th>B</th>\n",
       "      <th>C</th>\n",
       "      <th>D</th>\n",
       "      <th>F</th>\n",
       "    </tr>\n",
       "  </thead>\n",
       "  <tbody>\n",
       "    <tr>\n",
       "      <th>2013-01-01</th>\n",
       "      <td>0.000000</td>\n",
       "      <td>0.000000</td>\n",
       "      <td>-1.322253</td>\n",
       "      <td>5</td>\n",
       "      <td>NaN</td>\n",
       "    </tr>\n",
       "    <tr>\n",
       "      <th>2013-01-02</th>\n",
       "      <td>-1.529953</td>\n",
       "      <td>-0.047242</td>\n",
       "      <td>-0.013585</td>\n",
       "      <td>5</td>\n",
       "      <td>1.0</td>\n",
       "    </tr>\n",
       "    <tr>\n",
       "      <th>2013-01-03</th>\n",
       "      <td>0.422622</td>\n",
       "      <td>1.309599</td>\n",
       "      <td>-0.432622</td>\n",
       "      <td>5</td>\n",
       "      <td>2.0</td>\n",
       "    </tr>\n",
       "    <tr>\n",
       "      <th>2013-01-04</th>\n",
       "      <td>0.717219</td>\n",
       "      <td>-0.928676</td>\n",
       "      <td>-0.497471</td>\n",
       "      <td>5</td>\n",
       "      <td>3.0</td>\n",
       "    </tr>\n",
       "    <tr>\n",
       "      <th>2013-01-05</th>\n",
       "      <td>-0.131589</td>\n",
       "      <td>-1.061204</td>\n",
       "      <td>-0.159379</td>\n",
       "      <td>5</td>\n",
       "      <td>4.0</td>\n",
       "    </tr>\n",
       "    <tr>\n",
       "      <th>2013-01-06</th>\n",
       "      <td>0.799942</td>\n",
       "      <td>0.138410</td>\n",
       "      <td>0.188820</td>\n",
       "      <td>5</td>\n",
       "      <td>5.0</td>\n",
       "    </tr>\n",
       "  </tbody>\n",
       "</table>\n",
       "</div>"
      ],
      "text/plain": [
       "                   A         B         C  D    F\n",
       "2013-01-01  0.000000  0.000000 -1.322253  5  NaN\n",
       "2013-01-02 -1.529953 -0.047242 -0.013585  5  1.0\n",
       "2013-01-03  0.422622  1.309599 -0.432622  5  2.0\n",
       "2013-01-04  0.717219 -0.928676 -0.497471  5  3.0\n",
       "2013-01-05 -0.131589 -1.061204 -0.159379  5  4.0\n",
       "2013-01-06  0.799942  0.138410  0.188820  5  5.0"
      ]
     },
     "execution_count": 64,
     "metadata": {},
     "output_type": "execute_result"
    }
   ],
   "source": [
    "df"
   ]
  },
  {
   "cell_type": "code",
   "execution_count": 65,
   "metadata": {
    "collapsed": false
   },
   "outputs": [
    {
     "data": {
      "text/html": [
       "<div>\n",
       "<table border=\"1\" class=\"dataframe\">\n",
       "  <thead>\n",
       "    <tr style=\"text-align: right;\">\n",
       "      <th></th>\n",
       "      <th>A</th>\n",
       "      <th>B</th>\n",
       "      <th>C</th>\n",
       "      <th>D</th>\n",
       "      <th>F</th>\n",
       "    </tr>\n",
       "  </thead>\n",
       "  <tbody>\n",
       "    <tr>\n",
       "      <th>2013-01-01</th>\n",
       "      <td>0.000000</td>\n",
       "      <td>0.000000</td>\n",
       "      <td>-1.322253</td>\n",
       "      <td>5</td>\n",
       "      <td>NaN</td>\n",
       "    </tr>\n",
       "    <tr>\n",
       "      <th>2013-01-02</th>\n",
       "      <td>-1.529953</td>\n",
       "      <td>-0.047242</td>\n",
       "      <td>-1.335837</td>\n",
       "      <td>10</td>\n",
       "      <td>1.0</td>\n",
       "    </tr>\n",
       "    <tr>\n",
       "      <th>2013-01-03</th>\n",
       "      <td>-1.107332</td>\n",
       "      <td>1.262356</td>\n",
       "      <td>-1.768459</td>\n",
       "      <td>15</td>\n",
       "      <td>3.0</td>\n",
       "    </tr>\n",
       "    <tr>\n",
       "      <th>2013-01-04</th>\n",
       "      <td>-0.390112</td>\n",
       "      <td>0.333681</td>\n",
       "      <td>-2.265930</td>\n",
       "      <td>20</td>\n",
       "      <td>6.0</td>\n",
       "    </tr>\n",
       "    <tr>\n",
       "      <th>2013-01-05</th>\n",
       "      <td>-0.521702</td>\n",
       "      <td>-0.727523</td>\n",
       "      <td>-2.425308</td>\n",
       "      <td>25</td>\n",
       "      <td>10.0</td>\n",
       "    </tr>\n",
       "    <tr>\n",
       "      <th>2013-01-06</th>\n",
       "      <td>0.278240</td>\n",
       "      <td>-0.589114</td>\n",
       "      <td>-2.236489</td>\n",
       "      <td>30</td>\n",
       "      <td>15.0</td>\n",
       "    </tr>\n",
       "  </tbody>\n",
       "</table>\n",
       "</div>"
      ],
      "text/plain": [
       "                   A         B         C   D     F\n",
       "2013-01-01  0.000000  0.000000 -1.322253   5   NaN\n",
       "2013-01-02 -1.529953 -0.047242 -1.335837  10   1.0\n",
       "2013-01-03 -1.107332  1.262356 -1.768459  15   3.0\n",
       "2013-01-04 -0.390112  0.333681 -2.265930  20   6.0\n",
       "2013-01-05 -0.521702 -0.727523 -2.425308  25  10.0\n",
       "2013-01-06  0.278240 -0.589114 -2.236489  30  15.0"
      ]
     },
     "execution_count": 65,
     "metadata": {},
     "output_type": "execute_result"
    }
   ],
   "source": [
    "# .apply applies a function along the input axis ('index' by default)\n",
    "# np.cumsum is cumulative sum function from numpy, which adds up as it goes down\n",
    "df.apply(np.cumsum)"
   ]
  },
  {
   "cell_type": "markdown",
   "metadata": {},
   "source": [
    "#### Histogramming"
   ]
  },
  {
   "cell_type": "code",
   "execution_count": 66,
   "metadata": {
    "collapsed": false
   },
   "outputs": [
    {
     "data": {
      "text/plain": [
       "0    5\n",
       "1    3\n",
       "2    5\n",
       "3    5\n",
       "4    6\n",
       "5    5\n",
       "6    0\n",
       "7    3\n",
       "8    0\n",
       "9    4\n",
       "dtype: int64"
      ]
     },
     "execution_count": 66,
     "metadata": {},
     "output_type": "execute_result"
    }
   ],
   "source": [
    "# numpy function np.random.randint(low inclusive, high exclusive, how many to make)\n",
    "s = pd.Series(np.random.randint(0,7, size=10))\n",
    "s"
   ]
  },
  {
   "cell_type": "code",
   "execution_count": 67,
   "metadata": {
    "collapsed": false
   },
   "outputs": [
    {
     "data": {
      "text/plain": [
       "5    4\n",
       "3    2\n",
       "0    2\n",
       "6    1\n",
       "4    1\n",
       "dtype: int64"
      ]
     },
     "execution_count": 67,
     "metadata": {},
     "output_type": "execute_result"
    }
   ],
   "source": [
    "# count frequency of each value\n",
    "# value on left (x sub j), frequency on right\n",
    "s.value_counts()"
   ]
  },
  {
   "cell_type": "markdown",
   "metadata": {},
   "source": [
    "#### String Methods"
   ]
  },
  {
   "cell_type": "code",
   "execution_count": 68,
   "metadata": {
    "collapsed": false
   },
   "outputs": [
    {
     "data": {
      "text/plain": [
       "0       a\n",
       "1       b\n",
       "2       c\n",
       "3    aaba\n",
       "4    baca\n",
       "5     NaN\n",
       "6    caba\n",
       "7     dog\n",
       "8     cat\n",
       "dtype: object"
      ]
     },
     "execution_count": 68,
     "metadata": {},
     "output_type": "execute_result"
    }
   ],
   "source": [
    "# Series can process strings. Uses regular expressions in many cases\n",
    "s = pd.Series(['A', 'B', 'C', 'Aaba', 'Baca', np.nan, 'CABA', 'dog', 'cat'])\n",
    "# make all lowercase\n",
    "s.str.lower()"
   ]
  },
  {
   "cell_type": "markdown",
   "metadata": {},
   "source": [
    "#### Merge"
   ]
  },
  {
   "cell_type": "code",
   "execution_count": 69,
   "metadata": {
    "collapsed": false
   },
   "outputs": [
    {
     "data": {
      "text/html": [
       "<div>\n",
       "<table border=\"1\" class=\"dataframe\">\n",
       "  <thead>\n",
       "    <tr style=\"text-align: right;\">\n",
       "      <th></th>\n",
       "      <th>0</th>\n",
       "      <th>1</th>\n",
       "      <th>2</th>\n",
       "      <th>3</th>\n",
       "    </tr>\n",
       "  </thead>\n",
       "  <tbody>\n",
       "    <tr>\n",
       "      <th>0</th>\n",
       "      <td>0.258373</td>\n",
       "      <td>0.173749</td>\n",
       "      <td>0.308842</td>\n",
       "      <td>-0.880909</td>\n",
       "    </tr>\n",
       "    <tr>\n",
       "      <th>1</th>\n",
       "      <td>-1.043235</td>\n",
       "      <td>0.082614</td>\n",
       "      <td>-1.010609</td>\n",
       "      <td>0.552225</td>\n",
       "    </tr>\n",
       "    <tr>\n",
       "      <th>2</th>\n",
       "      <td>-0.337871</td>\n",
       "      <td>-0.307367</td>\n",
       "      <td>-0.120029</td>\n",
       "      <td>-1.178602</td>\n",
       "    </tr>\n",
       "    <tr>\n",
       "      <th>3</th>\n",
       "      <td>1.317010</td>\n",
       "      <td>-0.460084</td>\n",
       "      <td>-0.964466</td>\n",
       "      <td>-0.069482</td>\n",
       "    </tr>\n",
       "    <tr>\n",
       "      <th>4</th>\n",
       "      <td>-0.694961</td>\n",
       "      <td>2.107041</td>\n",
       "      <td>0.091540</td>\n",
       "      <td>0.448991</td>\n",
       "    </tr>\n",
       "    <tr>\n",
       "      <th>5</th>\n",
       "      <td>-0.597445</td>\n",
       "      <td>0.368627</td>\n",
       "      <td>0.516787</td>\n",
       "      <td>0.867636</td>\n",
       "    </tr>\n",
       "    <tr>\n",
       "      <th>6</th>\n",
       "      <td>1.828728</td>\n",
       "      <td>1.432103</td>\n",
       "      <td>0.647725</td>\n",
       "      <td>0.063280</td>\n",
       "    </tr>\n",
       "    <tr>\n",
       "      <th>7</th>\n",
       "      <td>0.451698</td>\n",
       "      <td>0.218438</td>\n",
       "      <td>-0.701768</td>\n",
       "      <td>0.189568</td>\n",
       "    </tr>\n",
       "    <tr>\n",
       "      <th>8</th>\n",
       "      <td>-2.316664</td>\n",
       "      <td>0.474668</td>\n",
       "      <td>-2.195772</td>\n",
       "      <td>-2.529044</td>\n",
       "    </tr>\n",
       "    <tr>\n",
       "      <th>9</th>\n",
       "      <td>-2.249526</td>\n",
       "      <td>-0.611861</td>\n",
       "      <td>0.116151</td>\n",
       "      <td>-0.410878</td>\n",
       "    </tr>\n",
       "  </tbody>\n",
       "</table>\n",
       "</div>"
      ],
      "text/plain": [
       "          0         1         2         3\n",
       "0  0.258373  0.173749  0.308842 -0.880909\n",
       "1 -1.043235  0.082614 -1.010609  0.552225\n",
       "2 -0.337871 -0.307367 -0.120029 -1.178602\n",
       "3  1.317010 -0.460084 -0.964466 -0.069482\n",
       "4 -0.694961  2.107041  0.091540  0.448991\n",
       "5 -0.597445  0.368627  0.516787  0.867636\n",
       "6  1.828728  1.432103  0.647725  0.063280\n",
       "7  0.451698  0.218438 -0.701768  0.189568\n",
       "8 -2.316664  0.474668 -2.195772 -2.529044\n",
       "9 -2.249526 -0.611861  0.116151 -0.410878"
      ]
     },
     "execution_count": 69,
     "metadata": {},
     "output_type": "execute_result"
    }
   ],
   "source": [
    "# create a pandas dataframe with 10 x 4 random numbers (via numpy function)\n",
    "df = pd.DataFrame(np.random.randn(10,4))\n",
    "df"
   ]
  },
  {
   "cell_type": "code",
   "execution_count": 70,
   "metadata": {
    "collapsed": false
   },
   "outputs": [
    {
     "data": {
      "text/html": [
       "<div>\n",
       "<table border=\"1\" class=\"dataframe\">\n",
       "  <thead>\n",
       "    <tr style=\"text-align: right;\">\n",
       "      <th></th>\n",
       "      <th>0</th>\n",
       "      <th>1</th>\n",
       "      <th>2</th>\n",
       "      <th>3</th>\n",
       "    </tr>\n",
       "  </thead>\n",
       "  <tbody>\n",
       "    <tr>\n",
       "      <th>0</th>\n",
       "      <td>0.258373</td>\n",
       "      <td>0.173749</td>\n",
       "      <td>0.308842</td>\n",
       "      <td>-0.880909</td>\n",
       "    </tr>\n",
       "    <tr>\n",
       "      <th>1</th>\n",
       "      <td>-1.043235</td>\n",
       "      <td>0.082614</td>\n",
       "      <td>-1.010609</td>\n",
       "      <td>0.552225</td>\n",
       "    </tr>\n",
       "    <tr>\n",
       "      <th>2</th>\n",
       "      <td>-0.337871</td>\n",
       "      <td>-0.307367</td>\n",
       "      <td>-0.120029</td>\n",
       "      <td>-1.178602</td>\n",
       "    </tr>\n",
       "    <tr>\n",
       "      <th>3</th>\n",
       "      <td>1.317010</td>\n",
       "      <td>-0.460084</td>\n",
       "      <td>-0.964466</td>\n",
       "      <td>-0.069482</td>\n",
       "    </tr>\n",
       "    <tr>\n",
       "      <th>4</th>\n",
       "      <td>-0.694961</td>\n",
       "      <td>2.107041</td>\n",
       "      <td>0.091540</td>\n",
       "      <td>0.448991</td>\n",
       "    </tr>\n",
       "    <tr>\n",
       "      <th>5</th>\n",
       "      <td>-0.597445</td>\n",
       "      <td>0.368627</td>\n",
       "      <td>0.516787</td>\n",
       "      <td>0.867636</td>\n",
       "    </tr>\n",
       "    <tr>\n",
       "      <th>6</th>\n",
       "      <td>1.828728</td>\n",
       "      <td>1.432103</td>\n",
       "      <td>0.647725</td>\n",
       "      <td>0.063280</td>\n",
       "    </tr>\n",
       "    <tr>\n",
       "      <th>7</th>\n",
       "      <td>0.451698</td>\n",
       "      <td>0.218438</td>\n",
       "      <td>-0.701768</td>\n",
       "      <td>0.189568</td>\n",
       "    </tr>\n",
       "    <tr>\n",
       "      <th>8</th>\n",
       "      <td>-2.316664</td>\n",
       "      <td>0.474668</td>\n",
       "      <td>-2.195772</td>\n",
       "      <td>-2.529044</td>\n",
       "    </tr>\n",
       "    <tr>\n",
       "      <th>9</th>\n",
       "      <td>-2.249526</td>\n",
       "      <td>-0.611861</td>\n",
       "      <td>0.116151</td>\n",
       "      <td>-0.410878</td>\n",
       "    </tr>\n",
       "  </tbody>\n",
       "</table>\n",
       "</div>"
      ],
      "text/plain": [
       "          0         1         2         3\n",
       "0  0.258373  0.173749  0.308842 -0.880909\n",
       "1 -1.043235  0.082614 -1.010609  0.552225\n",
       "2 -0.337871 -0.307367 -0.120029 -1.178602\n",
       "3  1.317010 -0.460084 -0.964466 -0.069482\n",
       "4 -0.694961  2.107041  0.091540  0.448991\n",
       "5 -0.597445  0.368627  0.516787  0.867636\n",
       "6  1.828728  1.432103  0.647725  0.063280\n",
       "7  0.451698  0.218438 -0.701768  0.189568\n",
       "8 -2.316664  0.474668 -2.195772 -2.529044\n",
       "9 -2.249526 -0.611861  0.116151 -0.410878"
      ]
     },
     "execution_count": 70,
     "metadata": {},
     "output_type": "execute_result"
    }
   ],
   "source": [
    "# break it into pieces - a list with slices\n",
    "piece1 = df[:3]\n",
    "piece2 = df[3:7]\n",
    "piece3 = df[7:]\n",
    "\n",
    "# throw the pieces into a list and add to the pd.concat function to \n",
    "# put it all together again\n",
    "pd.concat([piece1, piece2, piece3])"
   ]
  },
  {
   "cell_type": "markdown",
   "metadata": {},
   "source": [
    "#### Join"
   ]
  },
  {
   "cell_type": "code",
   "execution_count": 71,
   "metadata": {
    "collapsed": false
   },
   "outputs": [
    {
     "data": {
      "text/html": [
       "<div>\n",
       "<table border=\"1\" class=\"dataframe\">\n",
       "  <thead>\n",
       "    <tr style=\"text-align: right;\">\n",
       "      <th></th>\n",
       "      <th>key</th>\n",
       "      <th>lval</th>\n",
       "    </tr>\n",
       "  </thead>\n",
       "  <tbody>\n",
       "    <tr>\n",
       "      <th>0</th>\n",
       "      <td>foo</td>\n",
       "      <td>1</td>\n",
       "    </tr>\n",
       "    <tr>\n",
       "      <th>1</th>\n",
       "      <td>foo</td>\n",
       "      <td>2</td>\n",
       "    </tr>\n",
       "  </tbody>\n",
       "</table>\n",
       "</div>"
      ],
      "text/plain": [
       "   key  lval\n",
       "0  foo     1\n",
       "1  foo     2"
      ]
     },
     "execution_count": 71,
     "metadata": {},
     "output_type": "execute_result"
    }
   ],
   "source": [
    "# SQL style merges\n",
    "left = pd.DataFrame({'key': ['foo', 'foo'], 'lval':[1,2]})\n",
    "right = pd.DataFrame({'key': ['foo', 'foo'], 'rval':[4,5]})\n",
    "left"
   ]
  },
  {
   "cell_type": "code",
   "execution_count": 72,
   "metadata": {
    "collapsed": false
   },
   "outputs": [
    {
     "data": {
      "text/html": [
       "<div>\n",
       "<table border=\"1\" class=\"dataframe\">\n",
       "  <thead>\n",
       "    <tr style=\"text-align: right;\">\n",
       "      <th></th>\n",
       "      <th>key</th>\n",
       "      <th>rval</th>\n",
       "    </tr>\n",
       "  </thead>\n",
       "  <tbody>\n",
       "    <tr>\n",
       "      <th>0</th>\n",
       "      <td>foo</td>\n",
       "      <td>4</td>\n",
       "    </tr>\n",
       "    <tr>\n",
       "      <th>1</th>\n",
       "      <td>foo</td>\n",
       "      <td>5</td>\n",
       "    </tr>\n",
       "  </tbody>\n",
       "</table>\n",
       "</div>"
      ],
      "text/plain": [
       "   key  rval\n",
       "0  foo     4\n",
       "1  foo     5"
      ]
     },
     "execution_count": 72,
     "metadata": {},
     "output_type": "execute_result"
    }
   ],
   "source": [
    "right"
   ]
  },
  {
   "cell_type": "code",
   "execution_count": 73,
   "metadata": {
    "collapsed": false
   },
   "outputs": [
    {
     "data": {
      "text/html": [
       "<div>\n",
       "<table border=\"1\" class=\"dataframe\">\n",
       "  <thead>\n",
       "    <tr style=\"text-align: right;\">\n",
       "      <th></th>\n",
       "      <th>key</th>\n",
       "      <th>lval</th>\n",
       "      <th>rval</th>\n",
       "    </tr>\n",
       "  </thead>\n",
       "  <tbody>\n",
       "    <tr>\n",
       "      <th>0</th>\n",
       "      <td>foo</td>\n",
       "      <td>1</td>\n",
       "      <td>4</td>\n",
       "    </tr>\n",
       "    <tr>\n",
       "      <th>1</th>\n",
       "      <td>foo</td>\n",
       "      <td>1</td>\n",
       "      <td>5</td>\n",
       "    </tr>\n",
       "    <tr>\n",
       "      <th>2</th>\n",
       "      <td>foo</td>\n",
       "      <td>2</td>\n",
       "      <td>4</td>\n",
       "    </tr>\n",
       "    <tr>\n",
       "      <th>3</th>\n",
       "      <td>foo</td>\n",
       "      <td>2</td>\n",
       "      <td>5</td>\n",
       "    </tr>\n",
       "  </tbody>\n",
       "</table>\n",
       "</div>"
      ],
      "text/plain": [
       "   key  lval  rval\n",
       "0  foo     1     4\n",
       "1  foo     1     5\n",
       "2  foo     2     4\n",
       "3  foo     2     5"
      ]
     },
     "execution_count": 73,
     "metadata": {},
     "output_type": "execute_result"
    }
   ],
   "source": [
    "# on='key' matches a value with others given the same key\n",
    "# so 1 merges with 4 and 5, and then 2 merges with 4 and 4 as well\n",
    "pd.merge(left, right, on='key')"
   ]
  },
  {
   "cell_type": "code",
   "execution_count": 74,
   "metadata": {
    "collapsed": false
   },
   "outputs": [
    {
     "data": {
      "text/html": [
       "<div>\n",
       "<table border=\"1\" class=\"dataframe\">\n",
       "  <thead>\n",
       "    <tr style=\"text-align: right;\">\n",
       "      <th></th>\n",
       "      <th>key</th>\n",
       "      <th>lval</th>\n",
       "    </tr>\n",
       "  </thead>\n",
       "  <tbody>\n",
       "    <tr>\n",
       "      <th>0</th>\n",
       "      <td>foo</td>\n",
       "      <td>1</td>\n",
       "    </tr>\n",
       "    <tr>\n",
       "      <th>1</th>\n",
       "      <td>bar</td>\n",
       "      <td>2</td>\n",
       "    </tr>\n",
       "  </tbody>\n",
       "</table>\n",
       "</div>"
      ],
      "text/plain": [
       "   key  lval\n",
       "0  foo     1\n",
       "1  bar     2"
      ]
     },
     "execution_count": 74,
     "metadata": {},
     "output_type": "execute_result"
    }
   ],
   "source": [
    "# OR...\n",
    "left = pd.DataFrame({'key':['foo', 'bar'], 'lval':[1,2]})\n",
    "right = pd.DataFrame({'key':['foo','bar'], 'rval':[4,5]})\n",
    "left"
   ]
  },
  {
   "cell_type": "code",
   "execution_count": 75,
   "metadata": {
    "collapsed": false
   },
   "outputs": [
    {
     "data": {
      "text/html": [
       "<div>\n",
       "<table border=\"1\" class=\"dataframe\">\n",
       "  <thead>\n",
       "    <tr style=\"text-align: right;\">\n",
       "      <th></th>\n",
       "      <th>key</th>\n",
       "      <th>rval</th>\n",
       "    </tr>\n",
       "  </thead>\n",
       "  <tbody>\n",
       "    <tr>\n",
       "      <th>0</th>\n",
       "      <td>foo</td>\n",
       "      <td>4</td>\n",
       "    </tr>\n",
       "    <tr>\n",
       "      <th>1</th>\n",
       "      <td>bar</td>\n",
       "      <td>5</td>\n",
       "    </tr>\n",
       "  </tbody>\n",
       "</table>\n",
       "</div>"
      ],
      "text/plain": [
       "   key  rval\n",
       "0  foo     4\n",
       "1  bar     5"
      ]
     },
     "execution_count": 75,
     "metadata": {},
     "output_type": "execute_result"
    }
   ],
   "source": [
    "right"
   ]
  },
  {
   "cell_type": "code",
   "execution_count": 76,
   "metadata": {
    "collapsed": false
   },
   "outputs": [
    {
     "data": {
      "text/html": [
       "<div>\n",
       "<table border=\"1\" class=\"dataframe\">\n",
       "  <thead>\n",
       "    <tr style=\"text-align: right;\">\n",
       "      <th></th>\n",
       "      <th>key</th>\n",
       "      <th>lval</th>\n",
       "      <th>rval</th>\n",
       "    </tr>\n",
       "  </thead>\n",
       "  <tbody>\n",
       "    <tr>\n",
       "      <th>0</th>\n",
       "      <td>foo</td>\n",
       "      <td>1</td>\n",
       "      <td>4</td>\n",
       "    </tr>\n",
       "    <tr>\n",
       "      <th>1</th>\n",
       "      <td>bar</td>\n",
       "      <td>2</td>\n",
       "      <td>5</td>\n",
       "    </tr>\n",
       "  </tbody>\n",
       "</table>\n",
       "</div>"
      ],
      "text/plain": [
       "   key  lval  rval\n",
       "0  foo     1     4\n",
       "1  bar     2     5"
      ]
     },
     "execution_count": 76,
     "metadata": {},
     "output_type": "execute_result"
    }
   ],
   "source": [
    "# here, because there is only one matching 'foo', 1 merges with 4\n",
    "# and 2 merges with 5\n",
    "pd.merge(left, right, on='key')"
   ]
  },
  {
   "cell_type": "markdown",
   "metadata": {},
   "source": [
    "#### Append rows to a dataframe"
   ]
  },
  {
   "cell_type": "code",
   "execution_count": 77,
   "metadata": {
    "collapsed": false
   },
   "outputs": [
    {
     "name": "stdout",
     "output_type": "stream",
     "text": [
      "[[-1.20714896 -1.14787762  1.52423189  0.40803505]\n",
      " [-0.5025024  -0.05242337  0.24856337 -0.10083979]\n",
      " [ 2.42772351  0.01565429  0.05720924 -0.29944175]\n",
      " [ 1.3619791   0.0195566  -0.03021882 -0.73249338]\n",
      " [ 0.32047919  0.33208083  0.55475544  0.62749437]\n",
      " [ 0.26082506 -2.4320144   0.47788609  0.54282325]\n",
      " [ 1.3950106  -1.93048357  0.67579633 -0.90666284]\n",
      " [-1.6392893   0.71432532 -1.49714045 -1.13197772]]\n"
     ]
    }
   ],
   "source": [
    "# first remember that np.random.randn(8, 4) will create an 8x4 ndarray\n",
    "# which is just a list of 8 lists with 4 items in each\n",
    "# contents will be randomly generated floats from the z dist\n",
    "print(np.random.randn(8, 4))"
   ]
  },
  {
   "cell_type": "code",
   "execution_count": 78,
   "metadata": {
    "collapsed": false
   },
   "outputs": [
    {
     "data": {
      "text/html": [
       "<div>\n",
       "<table border=\"1\" class=\"dataframe\">\n",
       "  <thead>\n",
       "    <tr style=\"text-align: right;\">\n",
       "      <th></th>\n",
       "      <th>A</th>\n",
       "      <th>B</th>\n",
       "      <th>C</th>\n",
       "      <th>D</th>\n",
       "    </tr>\n",
       "  </thead>\n",
       "  <tbody>\n",
       "    <tr>\n",
       "      <th>0</th>\n",
       "      <td>-2.288712</td>\n",
       "      <td>-1.436783</td>\n",
       "      <td>-0.464511</td>\n",
       "      <td>0.384231</td>\n",
       "    </tr>\n",
       "    <tr>\n",
       "      <th>1</th>\n",
       "      <td>0.666102</td>\n",
       "      <td>0.499951</td>\n",
       "      <td>1.790957</td>\n",
       "      <td>0.768327</td>\n",
       "    </tr>\n",
       "    <tr>\n",
       "      <th>2</th>\n",
       "      <td>-1.214533</td>\n",
       "      <td>0.853775</td>\n",
       "      <td>-0.769805</td>\n",
       "      <td>0.857925</td>\n",
       "    </tr>\n",
       "    <tr>\n",
       "      <th>3</th>\n",
       "      <td>-0.028744</td>\n",
       "      <td>0.696811</td>\n",
       "      <td>-1.042793</td>\n",
       "      <td>0.456059</td>\n",
       "    </tr>\n",
       "    <tr>\n",
       "      <th>4</th>\n",
       "      <td>-0.775098</td>\n",
       "      <td>-1.922730</td>\n",
       "      <td>0.621376</td>\n",
       "      <td>0.098636</td>\n",
       "    </tr>\n",
       "    <tr>\n",
       "      <th>5</th>\n",
       "      <td>-0.203385</td>\n",
       "      <td>-1.641765</td>\n",
       "      <td>-0.029536</td>\n",
       "      <td>0.856810</td>\n",
       "    </tr>\n",
       "    <tr>\n",
       "      <th>6</th>\n",
       "      <td>-0.380972</td>\n",
       "      <td>-0.329888</td>\n",
       "      <td>1.297703</td>\n",
       "      <td>-0.108151</td>\n",
       "    </tr>\n",
       "    <tr>\n",
       "      <th>7</th>\n",
       "      <td>-1.377262</td>\n",
       "      <td>0.502247</td>\n",
       "      <td>0.010635</td>\n",
       "      <td>1.044921</td>\n",
       "    </tr>\n",
       "  </tbody>\n",
       "</table>\n",
       "</div>"
      ],
      "text/plain": [
       "          A         B         C         D\n",
       "0 -2.288712 -1.436783 -0.464511  0.384231\n",
       "1  0.666102  0.499951  1.790957  0.768327\n",
       "2 -1.214533  0.853775 -0.769805  0.857925\n",
       "3 -0.028744  0.696811 -1.042793  0.456059\n",
       "4 -0.775098 -1.922730  0.621376  0.098636\n",
       "5 -0.203385 -1.641765 -0.029536  0.856810\n",
       "6 -0.380972 -0.329888  1.297703 -0.108151\n",
       "7 -1.377262  0.502247  0.010635  1.044921"
      ]
     },
     "execution_count": 78,
     "metadata": {},
     "output_type": "execute_result"
    }
   ],
   "source": [
    "# create the dataframe\n",
    "df = pd.DataFrame(np.random.randn(8, 4), columns=['A','B','C','D'])\n",
    "df"
   ]
  },
  {
   "cell_type": "code",
   "execution_count": 79,
   "metadata": {
    "collapsed": false
   },
   "outputs": [
    {
     "data": {
      "text/plain": [
       "A   -0.028744\n",
       "B    0.696811\n",
       "C   -1.042793\n",
       "D    0.456059\n",
       "Name: 3, dtype: float64"
      ]
     },
     "execution_count": 79,
     "metadata": {},
     "output_type": "execute_result"
    }
   ],
   "source": [
    "# retreive the 3th row\n",
    "s = df.iloc[3]\n",
    "s"
   ]
  },
  {
   "cell_type": "code",
   "execution_count": 80,
   "metadata": {
    "collapsed": false
   },
   "outputs": [
    {
     "data": {
      "text/html": [
       "<div>\n",
       "<table border=\"1\" class=\"dataframe\">\n",
       "  <thead>\n",
       "    <tr style=\"text-align: right;\">\n",
       "      <th></th>\n",
       "      <th>A</th>\n",
       "      <th>B</th>\n",
       "      <th>C</th>\n",
       "      <th>D</th>\n",
       "    </tr>\n",
       "  </thead>\n",
       "  <tbody>\n",
       "    <tr>\n",
       "      <th>0</th>\n",
       "      <td>-2.288712</td>\n",
       "      <td>-1.436783</td>\n",
       "      <td>-0.464511</td>\n",
       "      <td>0.384231</td>\n",
       "    </tr>\n",
       "    <tr>\n",
       "      <th>1</th>\n",
       "      <td>0.666102</td>\n",
       "      <td>0.499951</td>\n",
       "      <td>1.790957</td>\n",
       "      <td>0.768327</td>\n",
       "    </tr>\n",
       "    <tr>\n",
       "      <th>2</th>\n",
       "      <td>-1.214533</td>\n",
       "      <td>0.853775</td>\n",
       "      <td>-0.769805</td>\n",
       "      <td>0.857925</td>\n",
       "    </tr>\n",
       "    <tr>\n",
       "      <th>3</th>\n",
       "      <td>-0.028744</td>\n",
       "      <td>0.696811</td>\n",
       "      <td>-1.042793</td>\n",
       "      <td>0.456059</td>\n",
       "    </tr>\n",
       "    <tr>\n",
       "      <th>4</th>\n",
       "      <td>-0.775098</td>\n",
       "      <td>-1.922730</td>\n",
       "      <td>0.621376</td>\n",
       "      <td>0.098636</td>\n",
       "    </tr>\n",
       "    <tr>\n",
       "      <th>5</th>\n",
       "      <td>-0.203385</td>\n",
       "      <td>-1.641765</td>\n",
       "      <td>-0.029536</td>\n",
       "      <td>0.856810</td>\n",
       "    </tr>\n",
       "    <tr>\n",
       "      <th>6</th>\n",
       "      <td>-0.380972</td>\n",
       "      <td>-0.329888</td>\n",
       "      <td>1.297703</td>\n",
       "      <td>-0.108151</td>\n",
       "    </tr>\n",
       "    <tr>\n",
       "      <th>7</th>\n",
       "      <td>-1.377262</td>\n",
       "      <td>0.502247</td>\n",
       "      <td>0.010635</td>\n",
       "      <td>1.044921</td>\n",
       "    </tr>\n",
       "    <tr>\n",
       "      <th>8</th>\n",
       "      <td>-0.028744</td>\n",
       "      <td>0.696811</td>\n",
       "      <td>-1.042793</td>\n",
       "      <td>0.456059</td>\n",
       "    </tr>\n",
       "  </tbody>\n",
       "</table>\n",
       "</div>"
      ],
      "text/plain": [
       "          A         B         C         D\n",
       "0 -2.288712 -1.436783 -0.464511  0.384231\n",
       "1  0.666102  0.499951  1.790957  0.768327\n",
       "2 -1.214533  0.853775 -0.769805  0.857925\n",
       "3 -0.028744  0.696811 -1.042793  0.456059\n",
       "4 -0.775098 -1.922730  0.621376  0.098636\n",
       "5 -0.203385 -1.641765 -0.029536  0.856810\n",
       "6 -0.380972 -0.329888  1.297703 -0.108151\n",
       "7 -1.377262  0.502247  0.010635  1.044921\n",
       "8 -0.028744  0.696811 -1.042793  0.456059"
      ]
     },
     "execution_count": 80,
     "metadata": {},
     "output_type": "execute_result"
    }
   ],
   "source": [
    "# copy into a new appended row in dataframe\n",
    "df.append(s, ignore_index=True)"
   ]
  },
  {
   "cell_type": "markdown",
   "metadata": {},
   "source": [
    "#### Grouping"
   ]
  },
  {
   "cell_type": "code",
   "execution_count": 81,
   "metadata": {
    "collapsed": false
   },
   "outputs": [
    {
     "data": {
      "text/html": [
       "<div>\n",
       "<table border=\"1\" class=\"dataframe\">\n",
       "  <thead>\n",
       "    <tr style=\"text-align: right;\">\n",
       "      <th></th>\n",
       "      <th>A</th>\n",
       "      <th>B</th>\n",
       "      <th>C</th>\n",
       "      <th>D</th>\n",
       "    </tr>\n",
       "  </thead>\n",
       "  <tbody>\n",
       "    <tr>\n",
       "      <th>0</th>\n",
       "      <td>foo</td>\n",
       "      <td>one</td>\n",
       "      <td>0.132018</td>\n",
       "      <td>0.396835</td>\n",
       "    </tr>\n",
       "    <tr>\n",
       "      <th>1</th>\n",
       "      <td>bar</td>\n",
       "      <td>one</td>\n",
       "      <td>2.605155</td>\n",
       "      <td>-0.369765</td>\n",
       "    </tr>\n",
       "    <tr>\n",
       "      <th>2</th>\n",
       "      <td>foo</td>\n",
       "      <td>two</td>\n",
       "      <td>0.445866</td>\n",
       "      <td>2.778172</td>\n",
       "    </tr>\n",
       "    <tr>\n",
       "      <th>3</th>\n",
       "      <td>bar</td>\n",
       "      <td>three</td>\n",
       "      <td>-0.812548</td>\n",
       "      <td>1.173325</td>\n",
       "    </tr>\n",
       "    <tr>\n",
       "      <th>4</th>\n",
       "      <td>foo</td>\n",
       "      <td>two</td>\n",
       "      <td>0.908384</td>\n",
       "      <td>1.777824</td>\n",
       "    </tr>\n",
       "    <tr>\n",
       "      <th>5</th>\n",
       "      <td>bar</td>\n",
       "      <td>two</td>\n",
       "      <td>-1.072309</td>\n",
       "      <td>2.458881</td>\n",
       "    </tr>\n",
       "    <tr>\n",
       "      <th>6</th>\n",
       "      <td>foo</td>\n",
       "      <td>one</td>\n",
       "      <td>-0.468584</td>\n",
       "      <td>-0.246135</td>\n",
       "    </tr>\n",
       "    <tr>\n",
       "      <th>7</th>\n",
       "      <td>foo</td>\n",
       "      <td>three</td>\n",
       "      <td>-0.230137</td>\n",
       "      <td>0.934048</td>\n",
       "    </tr>\n",
       "  </tbody>\n",
       "</table>\n",
       "</div>"
      ],
      "text/plain": [
       "     A      B         C         D\n",
       "0  foo    one  0.132018  0.396835\n",
       "1  bar    one  2.605155 -0.369765\n",
       "2  foo    two  0.445866  2.778172\n",
       "3  bar  three -0.812548  1.173325\n",
       "4  foo    two  0.908384  1.777824\n",
       "5  bar    two -1.072309  2.458881\n",
       "6  foo    one -0.468584 -0.246135\n",
       "7  foo  three -0.230137  0.934048"
      ]
     },
     "execution_count": 81,
     "metadata": {},
     "output_type": "execute_result"
    }
   ],
   "source": [
    "# create new dataframe\n",
    "df = pd.DataFrame({'A': ['foo','bar','foo','bar','foo','bar','foo','foo'],\n",
    "                  'B': ['one','one','two','three','two','two','one','three'],\n",
    "                  'C': np.random.randn(8),\n",
    "                  'D': np.random.randn(8)})\n",
    "df"
   ]
  },
  {
   "cell_type": "code",
   "execution_count": 82,
   "metadata": {
    "collapsed": false
   },
   "outputs": [
    {
     "data": {
      "text/html": [
       "<div>\n",
       "<table border=\"1\" class=\"dataframe\">\n",
       "  <thead>\n",
       "    <tr style=\"text-align: right;\">\n",
       "      <th></th>\n",
       "      <th>C</th>\n",
       "      <th>D</th>\n",
       "    </tr>\n",
       "    <tr>\n",
       "      <th>A</th>\n",
       "      <th></th>\n",
       "      <th></th>\n",
       "    </tr>\n",
       "  </thead>\n",
       "  <tbody>\n",
       "    <tr>\n",
       "      <th>bar</th>\n",
       "      <td>0.720298</td>\n",
       "      <td>3.262442</td>\n",
       "    </tr>\n",
       "    <tr>\n",
       "      <th>foo</th>\n",
       "      <td>0.787549</td>\n",
       "      <td>5.640744</td>\n",
       "    </tr>\n",
       "  </tbody>\n",
       "</table>\n",
       "</div>"
      ],
      "text/plain": [
       "            C         D\n",
       "A                      \n",
       "bar  0.720298  3.262442\n",
       "foo  0.787549  5.640744"
      ]
     },
     "execution_count": 82,
     "metadata": {},
     "output_type": "execute_result"
    }
   ],
   "source": [
    "# group items by unique items in column 'A', then sum them up to create new value\n",
    "df.groupby('A').sum()"
   ]
  },
  {
   "cell_type": "code",
   "execution_count": 83,
   "metadata": {
    "collapsed": false
   },
   "outputs": [
    {
     "data": {
      "text/html": [
       "<div>\n",
       "<table border=\"1\" class=\"dataframe\">\n",
       "  <thead>\n",
       "    <tr style=\"text-align: right;\">\n",
       "      <th></th>\n",
       "      <th></th>\n",
       "      <th>C</th>\n",
       "      <th>D</th>\n",
       "    </tr>\n",
       "    <tr>\n",
       "      <th>A</th>\n",
       "      <th>B</th>\n",
       "      <th></th>\n",
       "      <th></th>\n",
       "    </tr>\n",
       "  </thead>\n",
       "  <tbody>\n",
       "    <tr>\n",
       "      <th rowspan=\"3\" valign=\"top\">bar</th>\n",
       "      <th>one</th>\n",
       "      <td>2.605155</td>\n",
       "      <td>-0.369765</td>\n",
       "    </tr>\n",
       "    <tr>\n",
       "      <th>three</th>\n",
       "      <td>-0.812548</td>\n",
       "      <td>1.173325</td>\n",
       "    </tr>\n",
       "    <tr>\n",
       "      <th>two</th>\n",
       "      <td>-1.072309</td>\n",
       "      <td>2.458881</td>\n",
       "    </tr>\n",
       "    <tr>\n",
       "      <th rowspan=\"3\" valign=\"top\">foo</th>\n",
       "      <th>one</th>\n",
       "      <td>-0.336565</td>\n",
       "      <td>0.150700</td>\n",
       "    </tr>\n",
       "    <tr>\n",
       "      <th>three</th>\n",
       "      <td>-0.230137</td>\n",
       "      <td>0.934048</td>\n",
       "    </tr>\n",
       "    <tr>\n",
       "      <th>two</th>\n",
       "      <td>1.354251</td>\n",
       "      <td>4.555996</td>\n",
       "    </tr>\n",
       "  </tbody>\n",
       "</table>\n",
       "</div>"
      ],
      "text/plain": [
       "                  C         D\n",
       "A   B                        \n",
       "bar one    2.605155 -0.369765\n",
       "    three -0.812548  1.173325\n",
       "    two   -1.072309  2.458881\n",
       "foo one   -0.336565  0.150700\n",
       "    three -0.230137  0.934048\n",
       "    two    1.354251  4.555996"
      ]
     },
     "execution_count": 83,
     "metadata": {},
     "output_type": "execute_result"
    }
   ],
   "source": [
    "# group hierarchically, then sum up results\n",
    "df.groupby(['A','B']).sum()"
   ]
  },
  {
   "cell_type": "markdown",
   "metadata": {},
   "source": [
    "### Reshaping"
   ]
  },
  {
   "cell_type": "code",
   "execution_count": 84,
   "metadata": {
    "collapsed": false
   },
   "outputs": [
    {
     "data": {
      "text/plain": [
       "[('bar', 'one'),\n",
       " ('bar', 'two'),\n",
       " ('baz', 'one'),\n",
       " ('baz', 'two'),\n",
       " ('foo', 'one'),\n",
       " ('foo', 'two'),\n",
       " ('qux', 'one'),\n",
       " ('qux', 'two')]"
      ]
     },
     "execution_count": 84,
     "metadata": {},
     "output_type": "execute_result"
    }
   ],
   "source": [
    "# zip(*[[list of n lenght],[list of n length]]) converts things into tuples.\n",
    "# list() adds everything to a list\n",
    "\n",
    "# Here my goal is to make a stack like this:\n",
    "\"\"\"\n",
    "                     A         B\n",
    "first second                    \n",
    "bar   one     0.029399 -0.542108\n",
    "      two     0.282696 -0.087302\n",
    "baz   one    -1.575170  1.771208\n",
    "      two     0.816482  1.100230\n",
    "\"\"\"\n",
    "\n",
    "#first I make a list of tuples\n",
    "tuples = list(zip(*[['bar','bar','baz','baz','foo','foo','qux','qux'],\n",
    "     ['one','two','one','two','one','two','one','two']]))\n",
    "tuples"
   ]
  },
  {
   "cell_type": "code",
   "execution_count": 85,
   "metadata": {
    "collapsed": false
   },
   "outputs": [
    {
     "data": {
      "text/plain": [
       "MultiIndex(levels=[['bar', 'baz', 'foo', 'qux'], ['one', 'two']],\n",
       "           labels=[[0, 0, 1, 1, 2, 2, 3, 3], [0, 1, 0, 1, 0, 1, 0, 1]],\n",
       "           names=['first', 'second'])"
      ]
     },
     "execution_count": 85,
     "metadata": {},
     "output_type": "execute_result"
    }
   ],
   "source": [
    "# now I make the multi index object\n",
    "my_multi_index = pd.MultiIndex.from_tuples(tuples, names=['first','second'])\n",
    "my_multi_index"
   ]
  },
  {
   "cell_type": "code",
   "execution_count": 86,
   "metadata": {
    "collapsed": false
   },
   "outputs": [
    {
     "data": {
      "text/html": [
       "<div>\n",
       "<table border=\"1\" class=\"dataframe\">\n",
       "  <thead>\n",
       "    <tr style=\"text-align: right;\">\n",
       "      <th></th>\n",
       "      <th></th>\n",
       "      <th>A</th>\n",
       "      <th>B</th>\n",
       "    </tr>\n",
       "    <tr>\n",
       "      <th>first</th>\n",
       "      <th>second</th>\n",
       "      <th></th>\n",
       "      <th></th>\n",
       "    </tr>\n",
       "  </thead>\n",
       "  <tbody>\n",
       "    <tr>\n",
       "      <th rowspan=\"2\" valign=\"top\">bar</th>\n",
       "      <th>one</th>\n",
       "      <td>0.412608</td>\n",
       "      <td>0.127117</td>\n",
       "    </tr>\n",
       "    <tr>\n",
       "      <th>two</th>\n",
       "      <td>0.650780</td>\n",
       "      <td>-0.743324</td>\n",
       "    </tr>\n",
       "    <tr>\n",
       "      <th rowspan=\"2\" valign=\"top\">baz</th>\n",
       "      <th>one</th>\n",
       "      <td>1.308483</td>\n",
       "      <td>-1.156507</td>\n",
       "    </tr>\n",
       "    <tr>\n",
       "      <th>two</th>\n",
       "      <td>0.770438</td>\n",
       "      <td>0.168860</td>\n",
       "    </tr>\n",
       "    <tr>\n",
       "      <th rowspan=\"2\" valign=\"top\">foo</th>\n",
       "      <th>one</th>\n",
       "      <td>-0.152692</td>\n",
       "      <td>-1.159813</td>\n",
       "    </tr>\n",
       "    <tr>\n",
       "      <th>two</th>\n",
       "      <td>-0.327089</td>\n",
       "      <td>0.536114</td>\n",
       "    </tr>\n",
       "    <tr>\n",
       "      <th rowspan=\"2\" valign=\"top\">qux</th>\n",
       "      <th>one</th>\n",
       "      <td>0.765618</td>\n",
       "      <td>-0.431563</td>\n",
       "    </tr>\n",
       "    <tr>\n",
       "      <th>two</th>\n",
       "      <td>1.327563</td>\n",
       "      <td>-0.410191</td>\n",
       "    </tr>\n",
       "  </tbody>\n",
       "</table>\n",
       "</div>"
      ],
      "text/plain": [
       "                     A         B\n",
       "first second                    \n",
       "bar   one     0.412608  0.127117\n",
       "      two     0.650780 -0.743324\n",
       "baz   one     1.308483 -1.156507\n",
       "      two     0.770438  0.168860\n",
       "foo   one    -0.152692 -1.159813\n",
       "      two    -0.327089  0.536114\n",
       "qux   one     0.765618 -0.431563\n",
       "      two     1.327563 -0.410191"
      ]
     },
     "execution_count": 86,
     "metadata": {},
     "output_type": "execute_result"
    }
   ],
   "source": [
    "# now Mi make a dataframe with random numbers and the multi index\n",
    "# I also give the columns of the dataframe labels\n",
    "df = pd.DataFrame(np.random.randn(8,2), index=my_multi_index, columns=['A','B'])\n",
    "df"
   ]
  },
  {
   "cell_type": "code",
   "execution_count": 87,
   "metadata": {
    "collapsed": false
   },
   "outputs": [
    {
     "data": {
      "text/html": [
       "<div>\n",
       "<table border=\"1\" class=\"dataframe\">\n",
       "  <thead>\n",
       "    <tr style=\"text-align: right;\">\n",
       "      <th></th>\n",
       "      <th></th>\n",
       "      <th>A</th>\n",
       "      <th>B</th>\n",
       "    </tr>\n",
       "    <tr>\n",
       "      <th>first</th>\n",
       "      <th>second</th>\n",
       "      <th></th>\n",
       "      <th></th>\n",
       "    </tr>\n",
       "  </thead>\n",
       "  <tbody>\n",
       "    <tr>\n",
       "      <th rowspan=\"2\" valign=\"top\">bar</th>\n",
       "      <th>one</th>\n",
       "      <td>0.412608</td>\n",
       "      <td>0.127117</td>\n",
       "    </tr>\n",
       "    <tr>\n",
       "      <th>two</th>\n",
       "      <td>0.650780</td>\n",
       "      <td>-0.743324</td>\n",
       "    </tr>\n",
       "    <tr>\n",
       "      <th rowspan=\"2\" valign=\"top\">baz</th>\n",
       "      <th>one</th>\n",
       "      <td>1.308483</td>\n",
       "      <td>-1.156507</td>\n",
       "    </tr>\n",
       "    <tr>\n",
       "      <th>two</th>\n",
       "      <td>0.770438</td>\n",
       "      <td>0.168860</td>\n",
       "    </tr>\n",
       "  </tbody>\n",
       "</table>\n",
       "</div>"
      ],
      "text/plain": [
       "                     A         B\n",
       "first second                    \n",
       "bar   one     0.412608  0.127117\n",
       "      two     0.650780 -0.743324\n",
       "baz   one     1.308483 -1.156507\n",
       "      two     0.770438  0.168860"
      ]
     },
     "execution_count": 87,
     "metadata": {},
     "output_type": "execute_result"
    }
   ],
   "source": [
    "# I can slice it too if I want\n",
    "df2 = df[:4]\n",
    "df2"
   ]
  },
  {
   "cell_type": "code",
   "execution_count": 88,
   "metadata": {
    "collapsed": false
   },
   "outputs": [
    {
     "data": {
      "text/plain": [
       "first  second   \n",
       "bar    one     A    0.412608\n",
       "               B    0.127117\n",
       "       two     A    0.650780\n",
       "               B   -0.743324\n",
       "baz    one     A    1.308483\n",
       "               B   -1.156507\n",
       "       two     A    0.770438\n",
       "               B    0.168860\n",
       "dtype: float64"
      ]
     },
     "execution_count": 88,
     "metadata": {},
     "output_type": "execute_result"
    }
   ],
   "source": [
    "# stack() method \"compresses\" a level in the DataFrame's columns\n",
    "stacked = df2.stack()\n",
    "stacked"
   ]
  },
  {
   "cell_type": "code",
   "execution_count": 90,
   "metadata": {
    "collapsed": false
   },
   "outputs": [
    {
     "data": {
      "text/html": [
       "<div>\n",
       "<table border=\"1\" class=\"dataframe\">\n",
       "  <thead>\n",
       "    <tr style=\"text-align: right;\">\n",
       "      <th></th>\n",
       "      <th></th>\n",
       "      <th>A</th>\n",
       "      <th>B</th>\n",
       "    </tr>\n",
       "    <tr>\n",
       "      <th>first</th>\n",
       "      <th>second</th>\n",
       "      <th></th>\n",
       "      <th></th>\n",
       "    </tr>\n",
       "  </thead>\n",
       "  <tbody>\n",
       "    <tr>\n",
       "      <th rowspan=\"2\" valign=\"top\">bar</th>\n",
       "      <th>one</th>\n",
       "      <td>0.412608</td>\n",
       "      <td>0.127117</td>\n",
       "    </tr>\n",
       "    <tr>\n",
       "      <th>two</th>\n",
       "      <td>0.650780</td>\n",
       "      <td>-0.743324</td>\n",
       "    </tr>\n",
       "    <tr>\n",
       "      <th rowspan=\"2\" valign=\"top\">baz</th>\n",
       "      <th>one</th>\n",
       "      <td>1.308483</td>\n",
       "      <td>-1.156507</td>\n",
       "    </tr>\n",
       "    <tr>\n",
       "      <th>two</th>\n",
       "      <td>0.770438</td>\n",
       "      <td>0.168860</td>\n",
       "    </tr>\n",
       "  </tbody>\n",
       "</table>\n",
       "</div>"
      ],
      "text/plain": [
       "                     A         B\n",
       "first second                    \n",
       "bar   one     0.412608  0.127117\n",
       "      two     0.650780 -0.743324\n",
       "baz   one     1.308483 -1.156507\n",
       "      two     0.770438  0.168860"
      ]
     },
     "execution_count": 90,
     "metadata": {},
     "output_type": "execute_result"
    }
   ],
   "source": [
    "# and of course you can unstack it\n",
    "# note, this is done to multiple levels with a number inside the parens\n",
    "stacked.unstack()"
   ]
  },
  {
   "cell_type": "markdown",
   "metadata": {},
   "source": [
    "#### Pivot tables"
   ]
  },
  {
   "cell_type": "code",
   "execution_count": 96,
   "metadata": {
    "collapsed": false
   },
   "outputs": [
    {
     "data": {
      "text/html": [
       "<div>\n",
       "<table border=\"1\" class=\"dataframe\">\n",
       "  <thead>\n",
       "    <tr style=\"text-align: right;\">\n",
       "      <th></th>\n",
       "      <th>A</th>\n",
       "      <th>B</th>\n",
       "      <th>C</th>\n",
       "      <th>D</th>\n",
       "      <th>E</th>\n",
       "    </tr>\n",
       "  </thead>\n",
       "  <tbody>\n",
       "    <tr>\n",
       "      <th>0</th>\n",
       "      <td>one</td>\n",
       "      <td>A</td>\n",
       "      <td>foo</td>\n",
       "      <td>1</td>\n",
       "      <td>13</td>\n",
       "    </tr>\n",
       "    <tr>\n",
       "      <th>1</th>\n",
       "      <td>one</td>\n",
       "      <td>B</td>\n",
       "      <td>foo</td>\n",
       "      <td>2</td>\n",
       "      <td>14</td>\n",
       "    </tr>\n",
       "    <tr>\n",
       "      <th>2</th>\n",
       "      <td>two</td>\n",
       "      <td>C</td>\n",
       "      <td>foo</td>\n",
       "      <td>3</td>\n",
       "      <td>15</td>\n",
       "    </tr>\n",
       "    <tr>\n",
       "      <th>3</th>\n",
       "      <td>three</td>\n",
       "      <td>A</td>\n",
       "      <td>bar</td>\n",
       "      <td>4</td>\n",
       "      <td>16</td>\n",
       "    </tr>\n",
       "    <tr>\n",
       "      <th>4</th>\n",
       "      <td>one</td>\n",
       "      <td>B</td>\n",
       "      <td>bar</td>\n",
       "      <td>5</td>\n",
       "      <td>17</td>\n",
       "    </tr>\n",
       "    <tr>\n",
       "      <th>5</th>\n",
       "      <td>one</td>\n",
       "      <td>C</td>\n",
       "      <td>bar</td>\n",
       "      <td>6</td>\n",
       "      <td>18</td>\n",
       "    </tr>\n",
       "    <tr>\n",
       "      <th>6</th>\n",
       "      <td>two</td>\n",
       "      <td>A</td>\n",
       "      <td>foo</td>\n",
       "      <td>7</td>\n",
       "      <td>19</td>\n",
       "    </tr>\n",
       "    <tr>\n",
       "      <th>7</th>\n",
       "      <td>three</td>\n",
       "      <td>B</td>\n",
       "      <td>foo</td>\n",
       "      <td>8</td>\n",
       "      <td>20</td>\n",
       "    </tr>\n",
       "    <tr>\n",
       "      <th>8</th>\n",
       "      <td>one</td>\n",
       "      <td>C</td>\n",
       "      <td>foo</td>\n",
       "      <td>9</td>\n",
       "      <td>21</td>\n",
       "    </tr>\n",
       "    <tr>\n",
       "      <th>9</th>\n",
       "      <td>one</td>\n",
       "      <td>A</td>\n",
       "      <td>bar</td>\n",
       "      <td>10</td>\n",
       "      <td>22</td>\n",
       "    </tr>\n",
       "    <tr>\n",
       "      <th>10</th>\n",
       "      <td>two</td>\n",
       "      <td>B</td>\n",
       "      <td>bar</td>\n",
       "      <td>11</td>\n",
       "      <td>23</td>\n",
       "    </tr>\n",
       "    <tr>\n",
       "      <th>11</th>\n",
       "      <td>three</td>\n",
       "      <td>C</td>\n",
       "      <td>bar</td>\n",
       "      <td>12</td>\n",
       "      <td>24</td>\n",
       "    </tr>\n",
       "  </tbody>\n",
       "</table>\n",
       "</div>"
      ],
      "text/plain": [
       "        A  B    C   D   E\n",
       "0     one  A  foo   1  13\n",
       "1     one  B  foo   2  14\n",
       "2     two  C  foo   3  15\n",
       "3   three  A  bar   4  16\n",
       "4     one  B  bar   5  17\n",
       "5     one  C  bar   6  18\n",
       "6     two  A  foo   7  19\n",
       "7   three  B  foo   8  20\n",
       "8     one  C  foo   9  21\n",
       "9     one  A  bar  10  22\n",
       "10    two  B  bar  11  23\n",
       "11  three  C  bar  12  24"
      ]
     },
     "execution_count": 96,
     "metadata": {},
     "output_type": "execute_result"
    }
   ],
   "source": [
    "# create my dataframe using a dictionary\n",
    "df = pd.DataFrame({'A': ['one','one','two','three'] * 3,\n",
    "                  'B': ['A','B','C'] * 4,\n",
    "                  'C': ['foo','foo','foo','bar','bar','bar'] * 2,\n",
    "                  'D': [1,2,3,4,5,6,7,8,9,10,11,12],\n",
    "                  'E': [13,14,15,16,17,18,19,20,21,22,23,24]})\n",
    "df"
   ]
  },
  {
   "cell_type": "code",
   "execution_count": 97,
   "metadata": {
    "collapsed": false
   },
   "outputs": [
    {
     "data": {
      "text/html": [
       "<div>\n",
       "<table border=\"1\" class=\"dataframe\">\n",
       "  <thead>\n",
       "    <tr style=\"text-align: right;\">\n",
       "      <th></th>\n",
       "      <th>C</th>\n",
       "      <th>bar</th>\n",
       "      <th>foo</th>\n",
       "    </tr>\n",
       "    <tr>\n",
       "      <th>A</th>\n",
       "      <th>B</th>\n",
       "      <th></th>\n",
       "      <th></th>\n",
       "    </tr>\n",
       "  </thead>\n",
       "  <tbody>\n",
       "    <tr>\n",
       "      <th rowspan=\"3\" valign=\"top\">one</th>\n",
       "      <th>A</th>\n",
       "      <td>10.0</td>\n",
       "      <td>1.0</td>\n",
       "    </tr>\n",
       "    <tr>\n",
       "      <th>B</th>\n",
       "      <td>5.0</td>\n",
       "      <td>2.0</td>\n",
       "    </tr>\n",
       "    <tr>\n",
       "      <th>C</th>\n",
       "      <td>6.0</td>\n",
       "      <td>9.0</td>\n",
       "    </tr>\n",
       "    <tr>\n",
       "      <th rowspan=\"3\" valign=\"top\">three</th>\n",
       "      <th>A</th>\n",
       "      <td>4.0</td>\n",
       "      <td>NaN</td>\n",
       "    </tr>\n",
       "    <tr>\n",
       "      <th>B</th>\n",
       "      <td>NaN</td>\n",
       "      <td>8.0</td>\n",
       "    </tr>\n",
       "    <tr>\n",
       "      <th>C</th>\n",
       "      <td>12.0</td>\n",
       "      <td>NaN</td>\n",
       "    </tr>\n",
       "    <tr>\n",
       "      <th rowspan=\"3\" valign=\"top\">two</th>\n",
       "      <th>A</th>\n",
       "      <td>NaN</td>\n",
       "      <td>7.0</td>\n",
       "    </tr>\n",
       "    <tr>\n",
       "      <th>B</th>\n",
       "      <td>11.0</td>\n",
       "      <td>NaN</td>\n",
       "    </tr>\n",
       "    <tr>\n",
       "      <th>C</th>\n",
       "      <td>NaN</td>\n",
       "      <td>3.0</td>\n",
       "    </tr>\n",
       "  </tbody>\n",
       "</table>\n",
       "</div>"
      ],
      "text/plain": [
       "C         bar  foo\n",
       "A     B           \n",
       "one   A  10.0  1.0\n",
       "      B   5.0  2.0\n",
       "      C   6.0  9.0\n",
       "three A   4.0  NaN\n",
       "      B   NaN  8.0\n",
       "      C  12.0  NaN\n",
       "two   A   NaN  7.0\n",
       "      B  11.0  NaN\n",
       "      C   NaN  3.0"
      ]
     },
     "execution_count": 97,
     "metadata": {},
     "output_type": "execute_result"
    }
   ],
   "source": [
    "# make the pivot table\n",
    "pd.pivot_table(df, values='D', index=['A','B'], columns=['C'])"
   ]
  },
  {
   "cell_type": "markdown",
   "metadata": {},
   "source": [
    "#### Time Series"
   ]
  },
  {
   "cell_type": "code",
   "execution_count": 99,
   "metadata": {
    "collapsed": false
   },
   "outputs": [
    {
     "data": {
      "text/plain": [
       "DatetimeIndex(['2012-01-01 00:00:00', '2012-01-01 00:00:01',\n",
       "               '2012-01-01 00:00:02', '2012-01-01 00:00:03',\n",
       "               '2012-01-01 00:00:04', '2012-01-01 00:00:05',\n",
       "               '2012-01-01 00:00:06', '2012-01-01 00:00:07',\n",
       "               '2012-01-01 00:00:08', '2012-01-01 00:00:09',\n",
       "               '2012-01-01 00:00:10', '2012-01-01 00:00:11',\n",
       "               '2012-01-01 00:00:12', '2012-01-01 00:00:13',\n",
       "               '2012-01-01 00:00:14', '2012-01-01 00:00:15',\n",
       "               '2012-01-01 00:00:16', '2012-01-01 00:00:17',\n",
       "               '2012-01-01 00:00:18', '2012-01-01 00:00:19',\n",
       "               '2012-01-01 00:00:20', '2012-01-01 00:00:21',\n",
       "               '2012-01-01 00:00:22', '2012-01-01 00:00:23',\n",
       "               '2012-01-01 00:00:24', '2012-01-01 00:00:25',\n",
       "               '2012-01-01 00:00:26', '2012-01-01 00:00:27',\n",
       "               '2012-01-01 00:00:28', '2012-01-01 00:00:29',\n",
       "               '2012-01-01 00:00:30', '2012-01-01 00:00:31',\n",
       "               '2012-01-01 00:00:32', '2012-01-01 00:00:33',\n",
       "               '2012-01-01 00:00:34', '2012-01-01 00:00:35',\n",
       "               '2012-01-01 00:00:36', '2012-01-01 00:00:37',\n",
       "               '2012-01-01 00:00:38', '2012-01-01 00:00:39',\n",
       "               '2012-01-01 00:00:40', '2012-01-01 00:00:41',\n",
       "               '2012-01-01 00:00:42', '2012-01-01 00:00:43',\n",
       "               '2012-01-01 00:00:44', '2012-01-01 00:00:45',\n",
       "               '2012-01-01 00:00:46', '2012-01-01 00:00:47',\n",
       "               '2012-01-01 00:00:48', '2012-01-01 00:00:49',\n",
       "               '2012-01-01 00:00:50', '2012-01-01 00:00:51',\n",
       "               '2012-01-01 00:00:52', '2012-01-01 00:00:53',\n",
       "               '2012-01-01 00:00:54', '2012-01-01 00:00:55',\n",
       "               '2012-01-01 00:00:56', '2012-01-01 00:00:57',\n",
       "               '2012-01-01 00:00:58', '2012-01-01 00:00:59',\n",
       "               '2012-01-01 00:01:00', '2012-01-01 00:01:01',\n",
       "               '2012-01-01 00:01:02', '2012-01-01 00:01:03',\n",
       "               '2012-01-01 00:01:04', '2012-01-01 00:01:05',\n",
       "               '2012-01-01 00:01:06', '2012-01-01 00:01:07',\n",
       "               '2012-01-01 00:01:08', '2012-01-01 00:01:09',\n",
       "               '2012-01-01 00:01:10', '2012-01-01 00:01:11',\n",
       "               '2012-01-01 00:01:12', '2012-01-01 00:01:13',\n",
       "               '2012-01-01 00:01:14', '2012-01-01 00:01:15',\n",
       "               '2012-01-01 00:01:16', '2012-01-01 00:01:17',\n",
       "               '2012-01-01 00:01:18', '2012-01-01 00:01:19',\n",
       "               '2012-01-01 00:01:20', '2012-01-01 00:01:21',\n",
       "               '2012-01-01 00:01:22', '2012-01-01 00:01:23',\n",
       "               '2012-01-01 00:01:24', '2012-01-01 00:01:25',\n",
       "               '2012-01-01 00:01:26', '2012-01-01 00:01:27',\n",
       "               '2012-01-01 00:01:28', '2012-01-01 00:01:29',\n",
       "               '2012-01-01 00:01:30', '2012-01-01 00:01:31',\n",
       "               '2012-01-01 00:01:32', '2012-01-01 00:01:33',\n",
       "               '2012-01-01 00:01:34', '2012-01-01 00:01:35',\n",
       "               '2012-01-01 00:01:36', '2012-01-01 00:01:37',\n",
       "               '2012-01-01 00:01:38', '2012-01-01 00:01:39'],\n",
       "              dtype='datetime64[ns]', freq='S')"
      ]
     },
     "execution_count": 99,
     "metadata": {},
     "output_type": "execute_result"
    }
   ],
   "source": [
    "# create the date DateTimeIndex object using pandas date_range() function\n",
    "rng = pd.date_range('1/1/2012', periods=100, freq='S')\n",
    "rng"
   ]
  },
  {
   "cell_type": "code",
   "execution_count": 100,
   "metadata": {
    "collapsed": false
   },
   "outputs": [
    {
     "data": {
      "text/plain": [
       "2012-01-01 00:00:00    216\n",
       "2012-01-01 00:00:01      0\n",
       "2012-01-01 00:00:02    423\n",
       "2012-01-01 00:00:03    251\n",
       "2012-01-01 00:00:04    405\n",
       "2012-01-01 00:00:05    371\n",
       "2012-01-01 00:00:06    417\n",
       "2012-01-01 00:00:07    273\n",
       "2012-01-01 00:00:08    432\n",
       "2012-01-01 00:00:09    444\n",
       "2012-01-01 00:00:10    210\n",
       "2012-01-01 00:00:11    124\n",
       "2012-01-01 00:00:12    328\n",
       "2012-01-01 00:00:13    382\n",
       "2012-01-01 00:00:14    328\n",
       "2012-01-01 00:00:15    387\n",
       "2012-01-01 00:00:16    182\n",
       "2012-01-01 00:00:17    151\n",
       "2012-01-01 00:00:18    296\n",
       "2012-01-01 00:00:19     52\n",
       "2012-01-01 00:00:20    473\n",
       "2012-01-01 00:00:21    339\n",
       "2012-01-01 00:00:22     29\n",
       "2012-01-01 00:00:23    138\n",
       "2012-01-01 00:00:24    212\n",
       "2012-01-01 00:00:25    383\n",
       "2012-01-01 00:00:26    153\n",
       "2012-01-01 00:00:27     95\n",
       "2012-01-01 00:00:28    394\n",
       "2012-01-01 00:00:29    371\n",
       "                      ... \n",
       "2012-01-01 00:01:10    449\n",
       "2012-01-01 00:01:11     71\n",
       "2012-01-01 00:01:12    168\n",
       "2012-01-01 00:01:13    474\n",
       "2012-01-01 00:01:14    482\n",
       "2012-01-01 00:01:15    259\n",
       "2012-01-01 00:01:16    441\n",
       "2012-01-01 00:01:17    459\n",
       "2012-01-01 00:01:18    472\n",
       "2012-01-01 00:01:19     60\n",
       "2012-01-01 00:01:20     45\n",
       "2012-01-01 00:01:21    448\n",
       "2012-01-01 00:01:22     80\n",
       "2012-01-01 00:01:23    451\n",
       "2012-01-01 00:01:24    422\n",
       "2012-01-01 00:01:25    389\n",
       "2012-01-01 00:01:26     57\n",
       "2012-01-01 00:01:27    113\n",
       "2012-01-01 00:01:28    161\n",
       "2012-01-01 00:01:29    376\n",
       "2012-01-01 00:01:30    156\n",
       "2012-01-01 00:01:31    158\n",
       "2012-01-01 00:01:32    208\n",
       "2012-01-01 00:01:33    362\n",
       "2012-01-01 00:01:34    152\n",
       "2012-01-01 00:01:35    461\n",
       "2012-01-01 00:01:36    170\n",
       "2012-01-01 00:01:37    186\n",
       "2012-01-01 00:01:38    133\n",
       "2012-01-01 00:01:39     58\n",
       "Freq: S, dtype: int64"
      ]
     },
     "execution_count": 100,
     "metadata": {},
     "output_type": "execute_result"
    }
   ],
   "source": [
    "# create a Series object filled with random numbers between 0 and 500\n",
    "# index is rng\n",
    "ts = pd.Series(np.random.randint(0, 500, len(rng)), index=rng)\n",
    "ts"
   ]
  },
  {
   "cell_type": "code",
   "execution_count": 101,
   "metadata": {
    "collapsed": false
   },
   "outputs": [
    {
     "data": {
      "text/plain": [
       "2012-01-01 00:00:00+00:00    216\n",
       "2012-01-01 00:00:01+00:00      0\n",
       "2012-01-01 00:00:02+00:00    423\n",
       "2012-01-01 00:00:03+00:00    251\n",
       "2012-01-01 00:00:04+00:00    405\n",
       "2012-01-01 00:00:05+00:00    371\n",
       "2012-01-01 00:00:06+00:00    417\n",
       "2012-01-01 00:00:07+00:00    273\n",
       "2012-01-01 00:00:08+00:00    432\n",
       "2012-01-01 00:00:09+00:00    444\n",
       "2012-01-01 00:00:10+00:00    210\n",
       "2012-01-01 00:00:11+00:00    124\n",
       "2012-01-01 00:00:12+00:00    328\n",
       "2012-01-01 00:00:13+00:00    382\n",
       "2012-01-01 00:00:14+00:00    328\n",
       "2012-01-01 00:00:15+00:00    387\n",
       "2012-01-01 00:00:16+00:00    182\n",
       "2012-01-01 00:00:17+00:00    151\n",
       "2012-01-01 00:00:18+00:00    296\n",
       "2012-01-01 00:00:19+00:00     52\n",
       "2012-01-01 00:00:20+00:00    473\n",
       "2012-01-01 00:00:21+00:00    339\n",
       "2012-01-01 00:00:22+00:00     29\n",
       "2012-01-01 00:00:23+00:00    138\n",
       "2012-01-01 00:00:24+00:00    212\n",
       "2012-01-01 00:00:25+00:00    383\n",
       "2012-01-01 00:00:26+00:00    153\n",
       "2012-01-01 00:00:27+00:00     95\n",
       "2012-01-01 00:00:28+00:00    394\n",
       "2012-01-01 00:00:29+00:00    371\n",
       "                            ... \n",
       "2012-01-01 00:01:10+00:00    449\n",
       "2012-01-01 00:01:11+00:00     71\n",
       "2012-01-01 00:01:12+00:00    168\n",
       "2012-01-01 00:01:13+00:00    474\n",
       "2012-01-01 00:01:14+00:00    482\n",
       "2012-01-01 00:01:15+00:00    259\n",
       "2012-01-01 00:01:16+00:00    441\n",
       "2012-01-01 00:01:17+00:00    459\n",
       "2012-01-01 00:01:18+00:00    472\n",
       "2012-01-01 00:01:19+00:00     60\n",
       "2012-01-01 00:01:20+00:00     45\n",
       "2012-01-01 00:01:21+00:00    448\n",
       "2012-01-01 00:01:22+00:00     80\n",
       "2012-01-01 00:01:23+00:00    451\n",
       "2012-01-01 00:01:24+00:00    422\n",
       "2012-01-01 00:01:25+00:00    389\n",
       "2012-01-01 00:01:26+00:00     57\n",
       "2012-01-01 00:01:27+00:00    113\n",
       "2012-01-01 00:01:28+00:00    161\n",
       "2012-01-01 00:01:29+00:00    376\n",
       "2012-01-01 00:01:30+00:00    156\n",
       "2012-01-01 00:01:31+00:00    158\n",
       "2012-01-01 00:01:32+00:00    208\n",
       "2012-01-01 00:01:33+00:00    362\n",
       "2012-01-01 00:01:34+00:00    152\n",
       "2012-01-01 00:01:35+00:00    461\n",
       "2012-01-01 00:01:36+00:00    170\n",
       "2012-01-01 00:01:37+00:00    186\n",
       "2012-01-01 00:01:38+00:00    133\n",
       "2012-01-01 00:01:39+00:00     58\n",
       "Freq: S, dtype: int64"
      ]
     },
     "execution_count": 101,
     "metadata": {},
     "output_type": "execute_result"
    }
   ],
   "source": [
    "# localize to timezone\n",
    "ts_utc = ts.tz_localize('UTC')\n",
    "ts_utc"
   ]
  },
  {
   "cell_type": "code",
   "execution_count": 102,
   "metadata": {
    "collapsed": false
   },
   "outputs": [
    {
     "data": {
      "text/plain": [
       "2011-12-31 19:00:00-05:00    216\n",
       "2011-12-31 19:00:01-05:00      0\n",
       "2011-12-31 19:00:02-05:00    423\n",
       "2011-12-31 19:00:03-05:00    251\n",
       "2011-12-31 19:00:04-05:00    405\n",
       "2011-12-31 19:00:05-05:00    371\n",
       "2011-12-31 19:00:06-05:00    417\n",
       "2011-12-31 19:00:07-05:00    273\n",
       "2011-12-31 19:00:08-05:00    432\n",
       "2011-12-31 19:00:09-05:00    444\n",
       "2011-12-31 19:00:10-05:00    210\n",
       "2011-12-31 19:00:11-05:00    124\n",
       "2011-12-31 19:00:12-05:00    328\n",
       "2011-12-31 19:00:13-05:00    382\n",
       "2011-12-31 19:00:14-05:00    328\n",
       "2011-12-31 19:00:15-05:00    387\n",
       "2011-12-31 19:00:16-05:00    182\n",
       "2011-12-31 19:00:17-05:00    151\n",
       "2011-12-31 19:00:18-05:00    296\n",
       "2011-12-31 19:00:19-05:00     52\n",
       "2011-12-31 19:00:20-05:00    473\n",
       "2011-12-31 19:00:21-05:00    339\n",
       "2011-12-31 19:00:22-05:00     29\n",
       "2011-12-31 19:00:23-05:00    138\n",
       "2011-12-31 19:00:24-05:00    212\n",
       "2011-12-31 19:00:25-05:00    383\n",
       "2011-12-31 19:00:26-05:00    153\n",
       "2011-12-31 19:00:27-05:00     95\n",
       "2011-12-31 19:00:28-05:00    394\n",
       "2011-12-31 19:00:29-05:00    371\n",
       "                            ... \n",
       "2011-12-31 19:01:10-05:00    449\n",
       "2011-12-31 19:01:11-05:00     71\n",
       "2011-12-31 19:01:12-05:00    168\n",
       "2011-12-31 19:01:13-05:00    474\n",
       "2011-12-31 19:01:14-05:00    482\n",
       "2011-12-31 19:01:15-05:00    259\n",
       "2011-12-31 19:01:16-05:00    441\n",
       "2011-12-31 19:01:17-05:00    459\n",
       "2011-12-31 19:01:18-05:00    472\n",
       "2011-12-31 19:01:19-05:00     60\n",
       "2011-12-31 19:01:20-05:00     45\n",
       "2011-12-31 19:01:21-05:00    448\n",
       "2011-12-31 19:01:22-05:00     80\n",
       "2011-12-31 19:01:23-05:00    451\n",
       "2011-12-31 19:01:24-05:00    422\n",
       "2011-12-31 19:01:25-05:00    389\n",
       "2011-12-31 19:01:26-05:00     57\n",
       "2011-12-31 19:01:27-05:00    113\n",
       "2011-12-31 19:01:28-05:00    161\n",
       "2011-12-31 19:01:29-05:00    376\n",
       "2011-12-31 19:01:30-05:00    156\n",
       "2011-12-31 19:01:31-05:00    158\n",
       "2011-12-31 19:01:32-05:00    208\n",
       "2011-12-31 19:01:33-05:00    362\n",
       "2011-12-31 19:01:34-05:00    152\n",
       "2011-12-31 19:01:35-05:00    461\n",
       "2011-12-31 19:01:36-05:00    170\n",
       "2011-12-31 19:01:37-05:00    186\n",
       "2011-12-31 19:01:38-05:00    133\n",
       "2011-12-31 19:01:39-05:00     58\n",
       "Freq: S, dtype: int64"
      ]
     },
     "execution_count": 102,
     "metadata": {},
     "output_type": "execute_result"
    }
   ],
   "source": [
    "# convert to another timezone\n",
    "ts_utc.tz_convert('US/Eastern')"
   ]
  },
  {
   "cell_type": "code",
   "execution_count": 104,
   "metadata": {
    "collapsed": false
   },
   "outputs": [
    {
     "data": {
      "text/plain": [
       "2012-01-01 00:00:00    216\n",
       "2012-01-01 00:00:01      0\n",
       "2012-01-01 00:00:02    423\n",
       "2012-01-01 00:00:03    251\n",
       "2012-01-01 00:00:04    405\n",
       "2012-01-01 00:00:05    371\n",
       "2012-01-01 00:00:06    417\n",
       "2012-01-01 00:00:07    273\n",
       "2012-01-01 00:00:08    432\n",
       "2012-01-01 00:00:09    444\n",
       "2012-01-01 00:00:10    210\n",
       "2012-01-01 00:00:11    124\n",
       "2012-01-01 00:00:12    328\n",
       "2012-01-01 00:00:13    382\n",
       "2012-01-01 00:00:14    328\n",
       "2012-01-01 00:00:15    387\n",
       "2012-01-01 00:00:16    182\n",
       "2012-01-01 00:00:17    151\n",
       "2012-01-01 00:00:18    296\n",
       "2012-01-01 00:00:19     52\n",
       "2012-01-01 00:00:20    473\n",
       "2012-01-01 00:00:21    339\n",
       "2012-01-01 00:00:22     29\n",
       "2012-01-01 00:00:23    138\n",
       "2012-01-01 00:00:24    212\n",
       "2012-01-01 00:00:25    383\n",
       "2012-01-01 00:00:26    153\n",
       "2012-01-01 00:00:27     95\n",
       "2012-01-01 00:00:28    394\n",
       "2012-01-01 00:00:29    371\n",
       "                      ... \n",
       "2012-01-01 00:01:10    449\n",
       "2012-01-01 00:01:11     71\n",
       "2012-01-01 00:01:12    168\n",
       "2012-01-01 00:01:13    474\n",
       "2012-01-01 00:01:14    482\n",
       "2012-01-01 00:01:15    259\n",
       "2012-01-01 00:01:16    441\n",
       "2012-01-01 00:01:17    459\n",
       "2012-01-01 00:01:18    472\n",
       "2012-01-01 00:01:19     60\n",
       "2012-01-01 00:01:20     45\n",
       "2012-01-01 00:01:21    448\n",
       "2012-01-01 00:01:22     80\n",
       "2012-01-01 00:01:23    451\n",
       "2012-01-01 00:01:24    422\n",
       "2012-01-01 00:01:25    389\n",
       "2012-01-01 00:01:26     57\n",
       "2012-01-01 00:01:27    113\n",
       "2012-01-01 00:01:28    161\n",
       "2012-01-01 00:01:29    376\n",
       "2012-01-01 00:01:30    156\n",
       "2012-01-01 00:01:31    158\n",
       "2012-01-01 00:01:32    208\n",
       "2012-01-01 00:01:33    362\n",
       "2012-01-01 00:01:34    152\n",
       "2012-01-01 00:01:35    461\n",
       "2012-01-01 00:01:36    170\n",
       "2012-01-01 00:01:37    186\n",
       "2012-01-01 00:01:38    133\n",
       "2012-01-01 00:01:39     58\n",
       "Freq: S, dtype: int64"
      ]
     },
     "execution_count": 104,
     "metadata": {},
     "output_type": "execute_result"
    }
   ],
   "source": [
    "# make into month only"
   ]
  },
  {
   "cell_type": "markdown",
   "metadata": {},
   "source": [
    "#### Stopped at 'Categoricals'"
   ]
  },
  {
   "cell_type": "code",
   "execution_count": null,
   "metadata": {
    "collapsed": true
   },
   "outputs": [],
   "source": []
  }
 ],
 "metadata": {
  "anaconda-cloud": {},
  "kernelspec": {
   "display_name": "Python [default]",
   "language": "python",
   "name": "python3"
  },
  "language_info": {
   "codemirror_mode": {
    "name": "ipython",
    "version": 3
   },
   "file_extension": ".py",
   "mimetype": "text/x-python",
   "name": "python",
   "nbconvert_exporter": "python",
   "pygments_lexer": "ipython3",
   "version": "3.5.2"
  }
 },
 "nbformat": 4,
 "nbformat_minor": 1
}
