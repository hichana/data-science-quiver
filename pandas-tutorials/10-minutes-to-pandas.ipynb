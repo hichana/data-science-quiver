{
 "cells": [
  {
   "cell_type": "markdown",
   "metadata": {},
   "source": [
    "# 10 Minutes to Pandas Tutorial"
   ]
  },
  {
   "cell_type": "markdown",
   "metadata": {},
   "source": [
    "From pandas [10 Minutes to pandas](http://pandas.pydata.org/pandas-docs/stable/10min.html) Tutorial.\n"
   ]
  },
  {
   "cell_type": "code",
   "execution_count": 1,
   "metadata": {
    "collapsed": false
   },
   "outputs": [],
   "source": [
    "import pandas as pd\n",
    "import numpy as np\n",
    "import matplotlib.pyplot as plt"
   ]
  },
  {
   "cell_type": "markdown",
   "metadata": {},
   "source": [
    "### pandas Series\n",
    "A Series in Pandas is a \"One-dimensional ndarray with axis labels (including time series)\""
   ]
  },
  {
   "cell_type": "code",
   "execution_count": 3,
   "metadata": {
    "collapsed": false
   },
   "outputs": [
    {
     "data": {
      "text/plain": [
       "0    1.0\n",
       "1    3.0\n",
       "2    5.0\n",
       "3    NaN\n",
       "4    6.0\n",
       "5    8.0\n",
       "dtype: float64"
      ]
     },
     "execution_count": 3,
     "metadata": {},
     "output_type": "execute_result"
    }
   ],
   "source": [
    "# create a pandas Series\n",
    "# here labels are 0 to 5\n",
    "# notice it is default type float64\n",
    "s = pd.Series([1,3,5,np.nan,6,8])\n",
    "s"
   ]
  },
  {
   "cell_type": "code",
   "execution_count": 11,
   "metadata": {
    "collapsed": false
   },
   "outputs": [
    {
     "data": {
      "text/plain": [
       "DatetimeIndex(['2013-01-01', '2013-01-02', '2013-01-03', '2013-01-04',\n",
       "               '2013-01-05', '2013-01-06'],\n",
       "              dtype='datetime64[ns]', freq='D')"
      ]
     },
     "execution_count": 11,
     "metadata": {},
     "output_type": "execute_result"
    }
   ],
   "source": [
    "# other pandas objects, like date_range() make an ndarray for you\n",
    "# date_range() object returns a filled-in DatetimeIndex object\n",
    "dates = pd.date_range('20130101', periods=6)\n",
    "dates"
   ]
  },
  {
   "cell_type": "markdown",
   "metadata": {},
   "source": [
    "### pandas Data Frame\n",
    "\n",
    "Basically, this tutorial is all about pandas dataframes. They can be thought of as \"a dict-like container for Series objects.\""
   ]
  },
  {
   "cell_type": "code",
   "execution_count": 108,
   "metadata": {
    "collapsed": false
   },
   "outputs": [
    {
     "data": {
      "text/html": [
       "<div>\n",
       "<table border=\"1\" class=\"dataframe\">\n",
       "  <thead>\n",
       "    <tr style=\"text-align: right;\">\n",
       "      <th></th>\n",
       "      <th>A</th>\n",
       "      <th>B</th>\n",
       "      <th>C</th>\n",
       "      <th>D</th>\n",
       "    </tr>\n",
       "  </thead>\n",
       "  <tbody>\n",
       "    <tr>\n",
       "      <th>2013-01-01</th>\n",
       "      <td>-1.933851</td>\n",
       "      <td>0.192824</td>\n",
       "      <td>-1.049753</td>\n",
       "      <td>0.258736</td>\n",
       "    </tr>\n",
       "    <tr>\n",
       "      <th>2013-01-02</th>\n",
       "      <td>1.884892</td>\n",
       "      <td>-0.158986</td>\n",
       "      <td>0.567058</td>\n",
       "      <td>0.646440</td>\n",
       "    </tr>\n",
       "    <tr>\n",
       "      <th>2013-01-03</th>\n",
       "      <td>-0.749961</td>\n",
       "      <td>-0.200973</td>\n",
       "      <td>0.589294</td>\n",
       "      <td>0.270939</td>\n",
       "    </tr>\n",
       "    <tr>\n",
       "      <th>2013-01-04</th>\n",
       "      <td>-0.117302</td>\n",
       "      <td>-0.612100</td>\n",
       "      <td>1.307215</td>\n",
       "      <td>-0.108438</td>\n",
       "    </tr>\n",
       "    <tr>\n",
       "      <th>2013-01-05</th>\n",
       "      <td>-1.874316</td>\n",
       "      <td>-0.993146</td>\n",
       "      <td>0.406705</td>\n",
       "      <td>1.623868</td>\n",
       "    </tr>\n",
       "    <tr>\n",
       "      <th>2013-01-06</th>\n",
       "      <td>0.058644</td>\n",
       "      <td>-0.835104</td>\n",
       "      <td>0.810017</td>\n",
       "      <td>-0.079706</td>\n",
       "    </tr>\n",
       "  </tbody>\n",
       "</table>\n",
       "</div>"
      ],
      "text/plain": [
       "                   A         B         C         D\n",
       "2013-01-01 -1.933851  0.192824 -1.049753  0.258736\n",
       "2013-01-02  1.884892 -0.158986  0.567058  0.646440\n",
       "2013-01-03 -0.749961 -0.200973  0.589294  0.270939\n",
       "2013-01-04 -0.117302 -0.612100  1.307215 -0.108438\n",
       "2013-01-05 -1.874316 -0.993146  0.406705  1.623868\n",
       "2013-01-06  0.058644 -0.835104  0.810017 -0.079706"
      ]
     },
     "execution_count": 108,
     "metadata": {},
     "output_type": "execute_result"
    }
   ],
   "source": [
    "# pandas DataFrame() object creates a dataframe for me\n",
    "# numpy's np.random.randn(n,m) returns an ndarray of shape n x m with random values from standard normal distribution\n",
    "# dates becomes the index (rows) of the dataframe\n",
    "# column labels generated via Python list() function\n",
    "\n",
    "df = pd.DataFrame(np.random.randn(6,4), index=dates, columns=list('ABCD'))\n",
    "df"
   ]
  },
  {
   "cell_type": "code",
   "execution_count": 16,
   "metadata": {
    "collapsed": false
   },
   "outputs": [
    {
     "data": {
      "text/html": [
       "<div>\n",
       "<table border=\"1\" class=\"dataframe\">\n",
       "  <thead>\n",
       "    <tr style=\"text-align: right;\">\n",
       "      <th></th>\n",
       "      <th>A</th>\n",
       "      <th>B</th>\n",
       "      <th>C</th>\n",
       "      <th>D</th>\n",
       "      <th>E</th>\n",
       "      <th>F</th>\n",
       "    </tr>\n",
       "  </thead>\n",
       "  <tbody>\n",
       "    <tr>\n",
       "      <th>A</th>\n",
       "      <td>1.0</td>\n",
       "      <td>2013-01-02</td>\n",
       "      <td>1.0</td>\n",
       "      <td>3</td>\n",
       "      <td>test</td>\n",
       "      <td>foo</td>\n",
       "    </tr>\n",
       "    <tr>\n",
       "      <th>B</th>\n",
       "      <td>1.0</td>\n",
       "      <td>2013-01-02</td>\n",
       "      <td>1.0</td>\n",
       "      <td>3</td>\n",
       "      <td>train</td>\n",
       "      <td>foo</td>\n",
       "    </tr>\n",
       "    <tr>\n",
       "      <th>C</th>\n",
       "      <td>1.0</td>\n",
       "      <td>2013-01-02</td>\n",
       "      <td>1.0</td>\n",
       "      <td>3</td>\n",
       "      <td>test</td>\n",
       "      <td>foo</td>\n",
       "    </tr>\n",
       "    <tr>\n",
       "      <th>D</th>\n",
       "      <td>1.0</td>\n",
       "      <td>2013-01-02</td>\n",
       "      <td>1.0</td>\n",
       "      <td>3</td>\n",
       "      <td>train</td>\n",
       "      <td>foo</td>\n",
       "    </tr>\n",
       "  </tbody>\n",
       "</table>\n",
       "</div>"
      ],
      "text/plain": [
       "     A          B    C  D      E    F\n",
       "A  1.0 2013-01-02  1.0  3   test  foo\n",
       "B  1.0 2013-01-02  1.0  3  train  foo\n",
       "C  1.0 2013-01-02  1.0  3   test  foo\n",
       "D  1.0 2013-01-02  1.0  3  train  foo"
      ]
     },
     "execution_count": 16,
     "metadata": {},
     "output_type": "execute_result"
    }
   ],
   "source": [
    "# use DataFrame() object with a Python dict to create the dataframe\n",
    "df2 = pd.DataFrame({'A':1.,\n",
    "                   'B': pd.Timestamp('20130102'),\n",
    "                   'C': pd.Series(1,index=list('ABCD'),dtype='float32'),\n",
    "                    # notice dict item C creates my index labels\n",
    "                   'D': np.array([3] * 4,dtype='int32'),\n",
    "                    # D is a numpy array with number 3 given 4 times\n",
    "                   'E': pd.Categorical([\"test\",\"train\",\"test\",\"train\"]),\n",
    "                   'F': 'foo'})\n",
    "                    # all dict values must have same number of items\n",
    "                    # or be a item (value which is copied 4 times)\n",
    "df2"
   ]
  },
  {
   "cell_type": "code",
   "execution_count": 17,
   "metadata": {
    "collapsed": false
   },
   "outputs": [
    {
     "data": {
      "text/plain": [
       "A           float64\n",
       "B    datetime64[ns]\n",
       "C           float32\n",
       "D             int32\n",
       "E          category\n",
       "F            object\n",
       "dtype: object"
      ]
     },
     "execution_count": 17,
     "metadata": {},
     "output_type": "execute_result"
    }
   ],
   "source": [
    "# show the data types of each dict item in the dataframe\n",
    "df2.dtypes"
   ]
  },
  {
   "cell_type": "code",
   "execution_count": 18,
   "metadata": {
    "collapsed": false
   },
   "outputs": [
    {
     "data": {
      "text/html": [
       "<div>\n",
       "<table border=\"1\" class=\"dataframe\">\n",
       "  <thead>\n",
       "    <tr style=\"text-align: right;\">\n",
       "      <th></th>\n",
       "      <th>A</th>\n",
       "      <th>B</th>\n",
       "      <th>C</th>\n",
       "      <th>D</th>\n",
       "      <th>E</th>\n",
       "      <th>F</th>\n",
       "    </tr>\n",
       "  </thead>\n",
       "  <tbody>\n",
       "    <tr>\n",
       "      <th>A</th>\n",
       "      <td>1.0</td>\n",
       "      <td>2013-01-02</td>\n",
       "      <td>1.0</td>\n",
       "      <td>3</td>\n",
       "      <td>test</td>\n",
       "      <td>foo</td>\n",
       "    </tr>\n",
       "    <tr>\n",
       "      <th>B</th>\n",
       "      <td>1.0</td>\n",
       "      <td>2013-01-02</td>\n",
       "      <td>1.0</td>\n",
       "      <td>3</td>\n",
       "      <td>train</td>\n",
       "      <td>foo</td>\n",
       "    </tr>\n",
       "    <tr>\n",
       "      <th>C</th>\n",
       "      <td>1.0</td>\n",
       "      <td>2013-01-02</td>\n",
       "      <td>1.0</td>\n",
       "      <td>3</td>\n",
       "      <td>test</td>\n",
       "      <td>foo</td>\n",
       "    </tr>\n",
       "  </tbody>\n",
       "</table>\n",
       "</div>"
      ],
      "text/plain": [
       "     A          B    C  D      E    F\n",
       "A  1.0 2013-01-02  1.0  3   test  foo\n",
       "B  1.0 2013-01-02  1.0  3  train  foo\n",
       "C  1.0 2013-01-02  1.0  3   test  foo"
      ]
     },
     "execution_count": 18,
     "metadata": {},
     "output_type": "execute_result"
    }
   ],
   "source": [
    "# see first n rows\n",
    "df2.head(n=3)"
   ]
  },
  {
   "cell_type": "code",
   "execution_count": 19,
   "metadata": {
    "collapsed": false
   },
   "outputs": [
    {
     "data": {
      "text/html": [
       "<div>\n",
       "<table border=\"1\" class=\"dataframe\">\n",
       "  <thead>\n",
       "    <tr style=\"text-align: right;\">\n",
       "      <th></th>\n",
       "      <th>A</th>\n",
       "      <th>B</th>\n",
       "      <th>C</th>\n",
       "      <th>D</th>\n",
       "      <th>E</th>\n",
       "      <th>F</th>\n",
       "    </tr>\n",
       "  </thead>\n",
       "  <tbody>\n",
       "    <tr>\n",
       "      <th>C</th>\n",
       "      <td>1.0</td>\n",
       "      <td>2013-01-02</td>\n",
       "      <td>1.0</td>\n",
       "      <td>3</td>\n",
       "      <td>test</td>\n",
       "      <td>foo</td>\n",
       "    </tr>\n",
       "    <tr>\n",
       "      <th>D</th>\n",
       "      <td>1.0</td>\n",
       "      <td>2013-01-02</td>\n",
       "      <td>1.0</td>\n",
       "      <td>3</td>\n",
       "      <td>train</td>\n",
       "      <td>foo</td>\n",
       "    </tr>\n",
       "  </tbody>\n",
       "</table>\n",
       "</div>"
      ],
      "text/plain": [
       "     A          B    C  D      E    F\n",
       "C  1.0 2013-01-02  1.0  3   test  foo\n",
       "D  1.0 2013-01-02  1.0  3  train  foo"
      ]
     },
     "execution_count": 19,
     "metadata": {},
     "output_type": "execute_result"
    }
   ],
   "source": [
    "# see bottom n rows\n",
    "df2.tail(2)"
   ]
  },
  {
   "cell_type": "code",
   "execution_count": 21,
   "metadata": {
    "collapsed": false
   },
   "outputs": [
    {
     "data": {
      "text/plain": [
       "Index(['A', 'B', 'C', 'D'], dtype='object')"
      ]
     },
     "execution_count": 21,
     "metadata": {},
     "output_type": "execute_result"
    }
   ],
   "source": [
    "# return index (rows) which is an immutable ndarray\n",
    "df2.index"
   ]
  },
  {
   "cell_type": "code",
   "execution_count": 22,
   "metadata": {
    "collapsed": false
   },
   "outputs": [
    {
     "data": {
      "text/plain": [
       "Index(['A', 'B', 'C', 'D', 'E', 'F'], dtype='object')"
      ]
     },
     "execution_count": 22,
     "metadata": {},
     "output_type": "execute_result"
    }
   ],
   "source": [
    "# display columns which is an immutable ndarray\n",
    "df2.columns"
   ]
  },
  {
   "cell_type": "code",
   "execution_count": 13,
   "metadata": {
    "collapsed": false
   },
   "outputs": [
    {
     "data": {
      "text/html": [
       "<div>\n",
       "<table border=\"1\" class=\"dataframe\">\n",
       "  <thead>\n",
       "    <tr style=\"text-align: right;\">\n",
       "      <th></th>\n",
       "      <th>A</th>\n",
       "      <th>B</th>\n",
       "      <th>C</th>\n",
       "      <th>D</th>\n",
       "    </tr>\n",
       "  </thead>\n",
       "  <tbody>\n",
       "    <tr>\n",
       "      <th>2013-01-01</th>\n",
       "      <td>-1.189493</td>\n",
       "      <td>-1.390220</td>\n",
       "      <td>-1.322253</td>\n",
       "      <td>0.253678</td>\n",
       "    </tr>\n",
       "    <tr>\n",
       "      <th>2013-01-02</th>\n",
       "      <td>-1.529953</td>\n",
       "      <td>-0.047242</td>\n",
       "      <td>-0.013585</td>\n",
       "      <td>1.729523</td>\n",
       "    </tr>\n",
       "    <tr>\n",
       "      <th>2013-01-03</th>\n",
       "      <td>0.422622</td>\n",
       "      <td>1.309599</td>\n",
       "      <td>-0.432622</td>\n",
       "      <td>0.840627</td>\n",
       "    </tr>\n",
       "    <tr>\n",
       "      <th>2013-01-04</th>\n",
       "      <td>0.717219</td>\n",
       "      <td>-0.928676</td>\n",
       "      <td>-0.497471</td>\n",
       "      <td>-0.745599</td>\n",
       "    </tr>\n",
       "    <tr>\n",
       "      <th>2013-01-05</th>\n",
       "      <td>-0.131589</td>\n",
       "      <td>-1.061204</td>\n",
       "      <td>-0.159379</td>\n",
       "      <td>0.380774</td>\n",
       "    </tr>\n",
       "    <tr>\n",
       "      <th>2013-01-06</th>\n",
       "      <td>0.799942</td>\n",
       "      <td>0.138410</td>\n",
       "      <td>0.188820</td>\n",
       "      <td>-0.042922</td>\n",
       "    </tr>\n",
       "  </tbody>\n",
       "</table>\n",
       "</div>"
      ],
      "text/plain": [
       "                   A         B         C         D\n",
       "2013-01-01 -1.189493 -1.390220 -1.322253  0.253678\n",
       "2013-01-02 -1.529953 -0.047242 -0.013585  1.729523\n",
       "2013-01-03  0.422622  1.309599 -0.432622  0.840627\n",
       "2013-01-04  0.717219 -0.928676 -0.497471 -0.745599\n",
       "2013-01-05 -0.131589 -1.061204 -0.159379  0.380774\n",
       "2013-01-06  0.799942  0.138410  0.188820 -0.042922"
      ]
     },
     "execution_count": 13,
     "metadata": {},
     "output_type": "execute_result"
    }
   ],
   "source": [
    "# back to the df dataframe\n",
    "df"
   ]
  },
  {
   "cell_type": "code",
   "execution_count": 24,
   "metadata": {
    "collapsed": false
   },
   "outputs": [
    {
     "data": {
      "text/html": [
       "<div>\n",
       "<table border=\"1\" class=\"dataframe\">\n",
       "  <thead>\n",
       "    <tr style=\"text-align: right;\">\n",
       "      <th></th>\n",
       "      <th>A</th>\n",
       "      <th>B</th>\n",
       "      <th>C</th>\n",
       "      <th>D</th>\n",
       "    </tr>\n",
       "  </thead>\n",
       "  <tbody>\n",
       "    <tr>\n",
       "      <th>count</th>\n",
       "      <td>6.000000</td>\n",
       "      <td>6.000000</td>\n",
       "      <td>6.000000</td>\n",
       "      <td>6.000000</td>\n",
       "    </tr>\n",
       "    <tr>\n",
       "      <th>mean</th>\n",
       "      <td>-0.299041</td>\n",
       "      <td>-0.295299</td>\n",
       "      <td>0.583028</td>\n",
       "      <td>-0.222280</td>\n",
       "    </tr>\n",
       "    <tr>\n",
       "      <th>std</th>\n",
       "      <td>0.653414</td>\n",
       "      <td>0.897767</td>\n",
       "      <td>0.402299</td>\n",
       "      <td>0.965052</td>\n",
       "    </tr>\n",
       "    <tr>\n",
       "      <th>min</th>\n",
       "      <td>-1.519394</td>\n",
       "      <td>-1.148109</td>\n",
       "      <td>-0.065757</td>\n",
       "      <td>-1.458126</td>\n",
       "    </tr>\n",
       "    <tr>\n",
       "      <th>25%</th>\n",
       "      <td>-0.405806</td>\n",
       "      <td>-1.027800</td>\n",
       "      <td>0.391078</td>\n",
       "      <td>-0.906328</td>\n",
       "    </tr>\n",
       "    <tr>\n",
       "      <th>50%</th>\n",
       "      <td>-0.080948</td>\n",
       "      <td>-0.478482</td>\n",
       "      <td>0.640283</td>\n",
       "      <td>-0.141124</td>\n",
       "    </tr>\n",
       "    <tr>\n",
       "      <th>75%</th>\n",
       "      <td>0.058582</td>\n",
       "      <td>0.193686</td>\n",
       "      <td>0.909502</td>\n",
       "      <td>0.249388</td>\n",
       "    </tr>\n",
       "    <tr>\n",
       "      <th>max</th>\n",
       "      <td>0.296046</td>\n",
       "      <td>1.126440</td>\n",
       "      <td>0.976106</td>\n",
       "      <td>1.188533</td>\n",
       "    </tr>\n",
       "  </tbody>\n",
       "</table>\n",
       "</div>"
      ],
      "text/plain": [
       "              A         B         C         D\n",
       "count  6.000000  6.000000  6.000000  6.000000\n",
       "mean  -0.299041 -0.295299  0.583028 -0.222280\n",
       "std    0.653414  0.897767  0.402299  0.965052\n",
       "min   -1.519394 -1.148109 -0.065757 -1.458126\n",
       "25%   -0.405806 -1.027800  0.391078 -0.906328\n",
       "50%   -0.080948 -0.478482  0.640283 -0.141124\n",
       "75%    0.058582  0.193686  0.909502  0.249388\n",
       "max    0.296046  1.126440  0.976106  1.188533"
      ]
     },
     "execution_count": 24,
     "metadata": {},
     "output_type": "execute_result"
    }
   ],
   "source": [
    "# show a quick statistical summary of the data\n",
    "df.describe()"
   ]
  },
  {
   "cell_type": "code",
   "execution_count": 25,
   "metadata": {
    "collapsed": false
   },
   "outputs": [
    {
     "data": {
      "text/html": [
       "<div>\n",
       "<table border=\"1\" class=\"dataframe\">\n",
       "  <thead>\n",
       "    <tr style=\"text-align: right;\">\n",
       "      <th></th>\n",
       "      <th>2013-01-01 00:00:00</th>\n",
       "      <th>2013-01-02 00:00:00</th>\n",
       "      <th>2013-01-03 00:00:00</th>\n",
       "      <th>2013-01-04 00:00:00</th>\n",
       "      <th>2013-01-05 00:00:00</th>\n",
       "      <th>2013-01-06 00:00:00</th>\n",
       "    </tr>\n",
       "  </thead>\n",
       "  <tbody>\n",
       "    <tr>\n",
       "      <th>A</th>\n",
       "      <td>0.091202</td>\n",
       "      <td>-0.039278</td>\n",
       "      <td>-0.122618</td>\n",
       "      <td>-1.519394</td>\n",
       "      <td>-0.500202</td>\n",
       "      <td>0.296046</td>\n",
       "    </tr>\n",
       "    <tr>\n",
       "      <th>B</th>\n",
       "      <td>0.337919</td>\n",
       "      <td>1.126440</td>\n",
       "      <td>-1.131082</td>\n",
       "      <td>-0.239010</td>\n",
       "      <td>-1.148109</td>\n",
       "      <td>-0.717953</td>\n",
       "    </tr>\n",
       "    <tr>\n",
       "      <th>C</th>\n",
       "      <td>0.353192</td>\n",
       "      <td>0.504735</td>\n",
       "      <td>0.954059</td>\n",
       "      <td>-0.065757</td>\n",
       "      <td>0.775831</td>\n",
       "      <td>0.976106</td>\n",
       "    </tr>\n",
       "    <tr>\n",
       "      <th>D</th>\n",
       "      <td>0.077861</td>\n",
       "      <td>1.188533</td>\n",
       "      <td>-1.458126</td>\n",
       "      <td>-1.088401</td>\n",
       "      <td>-0.360108</td>\n",
       "      <td>0.306564</td>\n",
       "    </tr>\n",
       "  </tbody>\n",
       "</table>\n",
       "</div>"
      ],
      "text/plain": [
       "   2013-01-01  2013-01-02  2013-01-03  2013-01-04  2013-01-05  2013-01-06\n",
       "A    0.091202   -0.039278   -0.122618   -1.519394   -0.500202    0.296046\n",
       "B    0.337919    1.126440   -1.131082   -0.239010   -1.148109   -0.717953\n",
       "C    0.353192    0.504735    0.954059   -0.065757    0.775831    0.976106\n",
       "D    0.077861    1.188533   -1.458126   -1.088401   -0.360108    0.306564"
      ]
     },
     "execution_count": 25,
     "metadata": {},
     "output_type": "execute_result"
    }
   ],
   "source": [
    "# transpose the data\n",
    "df.T"
   ]
  },
  {
   "cell_type": "code",
   "execution_count": 32,
   "metadata": {
    "collapsed": false
   },
   "outputs": [
    {
     "data": {
      "text/html": [
       "<div>\n",
       "<table border=\"1\" class=\"dataframe\">\n",
       "  <thead>\n",
       "    <tr style=\"text-align: right;\">\n",
       "      <th></th>\n",
       "      <th>D</th>\n",
       "      <th>C</th>\n",
       "      <th>B</th>\n",
       "      <th>A</th>\n",
       "    </tr>\n",
       "  </thead>\n",
       "  <tbody>\n",
       "    <tr>\n",
       "      <th>2013-01-01</th>\n",
       "      <td>0.077861</td>\n",
       "      <td>0.353192</td>\n",
       "      <td>0.337919</td>\n",
       "      <td>0.091202</td>\n",
       "    </tr>\n",
       "    <tr>\n",
       "      <th>2013-01-02</th>\n",
       "      <td>1.188533</td>\n",
       "      <td>0.504735</td>\n",
       "      <td>1.126440</td>\n",
       "      <td>-0.039278</td>\n",
       "    </tr>\n",
       "    <tr>\n",
       "      <th>2013-01-03</th>\n",
       "      <td>-1.458126</td>\n",
       "      <td>0.954059</td>\n",
       "      <td>-1.131082</td>\n",
       "      <td>-0.122618</td>\n",
       "    </tr>\n",
       "    <tr>\n",
       "      <th>2013-01-04</th>\n",
       "      <td>-1.088401</td>\n",
       "      <td>-0.065757</td>\n",
       "      <td>-0.239010</td>\n",
       "      <td>-1.519394</td>\n",
       "    </tr>\n",
       "    <tr>\n",
       "      <th>2013-01-05</th>\n",
       "      <td>-0.360108</td>\n",
       "      <td>0.775831</td>\n",
       "      <td>-1.148109</td>\n",
       "      <td>-0.500202</td>\n",
       "    </tr>\n",
       "    <tr>\n",
       "      <th>2013-01-06</th>\n",
       "      <td>0.306564</td>\n",
       "      <td>0.976106</td>\n",
       "      <td>-0.717953</td>\n",
       "      <td>0.296046</td>\n",
       "    </tr>\n",
       "  </tbody>\n",
       "</table>\n",
       "</div>"
      ],
      "text/plain": [
       "                   D         C         B         A\n",
       "2013-01-01  0.077861  0.353192  0.337919  0.091202\n",
       "2013-01-02  1.188533  0.504735  1.126440 -0.039278\n",
       "2013-01-03 -1.458126  0.954059 -1.131082 -0.122618\n",
       "2013-01-04 -1.088401 -0.065757 -0.239010 -1.519394\n",
       "2013-01-05 -0.360108  0.775831 -1.148109 -0.500202\n",
       "2013-01-06  0.306564  0.976106 -0.717953  0.296046"
      ]
     },
     "execution_count": 32,
     "metadata": {},
     "output_type": "execute_result"
    }
   ],
   "source": [
    "# sort by an axis (by rows or by columns)\n",
    "df.sort_index(axis=1, ascending=False)\n",
    "# axis=1 sorts by row labels, axis=0 by column labels\n",
    "# ascending=False sorts in descending order"
   ]
  },
  {
   "cell_type": "code",
   "execution_count": 36,
   "metadata": {
    "collapsed": false
   },
   "outputs": [
    {
     "data": {
      "text/html": [
       "<div>\n",
       "<table border=\"1\" class=\"dataframe\">\n",
       "  <thead>\n",
       "    <tr style=\"text-align: right;\">\n",
       "      <th></th>\n",
       "      <th>A</th>\n",
       "      <th>B</th>\n",
       "      <th>C</th>\n",
       "      <th>D</th>\n",
       "    </tr>\n",
       "  </thead>\n",
       "  <tbody>\n",
       "    <tr>\n",
       "      <th>2013-01-05</th>\n",
       "      <td>-0.500202</td>\n",
       "      <td>-1.148109</td>\n",
       "      <td>0.775831</td>\n",
       "      <td>-0.360108</td>\n",
       "    </tr>\n",
       "    <tr>\n",
       "      <th>2013-01-03</th>\n",
       "      <td>-0.122618</td>\n",
       "      <td>-1.131082</td>\n",
       "      <td>0.954059</td>\n",
       "      <td>-1.458126</td>\n",
       "    </tr>\n",
       "    <tr>\n",
       "      <th>2013-01-06</th>\n",
       "      <td>0.296046</td>\n",
       "      <td>-0.717953</td>\n",
       "      <td>0.976106</td>\n",
       "      <td>0.306564</td>\n",
       "    </tr>\n",
       "    <tr>\n",
       "      <th>2013-01-04</th>\n",
       "      <td>-1.519394</td>\n",
       "      <td>-0.239010</td>\n",
       "      <td>-0.065757</td>\n",
       "      <td>-1.088401</td>\n",
       "    </tr>\n",
       "    <tr>\n",
       "      <th>2013-01-01</th>\n",
       "      <td>0.091202</td>\n",
       "      <td>0.337919</td>\n",
       "      <td>0.353192</td>\n",
       "      <td>0.077861</td>\n",
       "    </tr>\n",
       "    <tr>\n",
       "      <th>2013-01-02</th>\n",
       "      <td>-0.039278</td>\n",
       "      <td>1.126440</td>\n",
       "      <td>0.504735</td>\n",
       "      <td>1.188533</td>\n",
       "    </tr>\n",
       "  </tbody>\n",
       "</table>\n",
       "</div>"
      ],
      "text/plain": [
       "                   A         B         C         D\n",
       "2013-01-05 -0.500202 -1.148109  0.775831 -0.360108\n",
       "2013-01-03 -0.122618 -1.131082  0.954059 -1.458126\n",
       "2013-01-06  0.296046 -0.717953  0.976106  0.306564\n",
       "2013-01-04 -1.519394 -0.239010 -0.065757 -1.088401\n",
       "2013-01-01  0.091202  0.337919  0.353192  0.077861\n",
       "2013-01-02 -0.039278  1.126440  0.504735  1.188533"
      ]
     },
     "execution_count": 36,
     "metadata": {},
     "output_type": "execute_result"
    }
   ],
   "source": [
    "# sort by values of a particular column\n",
    "df.sort_values(by='B', ascending=True)"
   ]
  },
  {
   "cell_type": "code",
   "execution_count": 37,
   "metadata": {
    "collapsed": true
   },
   "outputs": [],
   "source": [
    "# Python / Numpy expressions for selecting and setting are fine, but \n",
    "# for production code use pandas data access methods:\n",
    "# .at, .iat, .loc, .iloc and .ix"
   ]
  },
  {
   "cell_type": "code",
   "execution_count": 38,
   "metadata": {
    "collapsed": false
   },
   "outputs": [
    {
     "data": {
      "text/html": [
       "<div>\n",
       "<table border=\"1\" class=\"dataframe\">\n",
       "  <thead>\n",
       "    <tr style=\"text-align: right;\">\n",
       "      <th></th>\n",
       "      <th>A</th>\n",
       "      <th>B</th>\n",
       "      <th>C</th>\n",
       "      <th>D</th>\n",
       "    </tr>\n",
       "  </thead>\n",
       "  <tbody>\n",
       "    <tr>\n",
       "      <th>2013-01-01</th>\n",
       "      <td>0.091202</td>\n",
       "      <td>0.337919</td>\n",
       "      <td>0.353192</td>\n",
       "      <td>0.077861</td>\n",
       "    </tr>\n",
       "    <tr>\n",
       "      <th>2013-01-02</th>\n",
       "      <td>-0.039278</td>\n",
       "      <td>1.126440</td>\n",
       "      <td>0.504735</td>\n",
       "      <td>1.188533</td>\n",
       "    </tr>\n",
       "    <tr>\n",
       "      <th>2013-01-03</th>\n",
       "      <td>-0.122618</td>\n",
       "      <td>-1.131082</td>\n",
       "      <td>0.954059</td>\n",
       "      <td>-1.458126</td>\n",
       "    </tr>\n",
       "    <tr>\n",
       "      <th>2013-01-04</th>\n",
       "      <td>-1.519394</td>\n",
       "      <td>-0.239010</td>\n",
       "      <td>-0.065757</td>\n",
       "      <td>-1.088401</td>\n",
       "    </tr>\n",
       "    <tr>\n",
       "      <th>2013-01-05</th>\n",
       "      <td>-0.500202</td>\n",
       "      <td>-1.148109</td>\n",
       "      <td>0.775831</td>\n",
       "      <td>-0.360108</td>\n",
       "    </tr>\n",
       "    <tr>\n",
       "      <th>2013-01-06</th>\n",
       "      <td>0.296046</td>\n",
       "      <td>-0.717953</td>\n",
       "      <td>0.976106</td>\n",
       "      <td>0.306564</td>\n",
       "    </tr>\n",
       "  </tbody>\n",
       "</table>\n",
       "</div>"
      ],
      "text/plain": [
       "                   A         B         C         D\n",
       "2013-01-01  0.091202  0.337919  0.353192  0.077861\n",
       "2013-01-02 -0.039278  1.126440  0.504735  1.188533\n",
       "2013-01-03 -0.122618 -1.131082  0.954059 -1.458126\n",
       "2013-01-04 -1.519394 -0.239010 -0.065757 -1.088401\n",
       "2013-01-05 -0.500202 -1.148109  0.775831 -0.360108\n",
       "2013-01-06  0.296046 -0.717953  0.976106  0.306564"
      ]
     },
     "execution_count": 38,
     "metadata": {},
     "output_type": "execute_result"
    }
   ],
   "source": [
    "# show original df dataframe\n",
    "df"
   ]
  },
  {
   "cell_type": "code",
   "execution_count": 41,
   "metadata": {
    "collapsed": false
   },
   "outputs": [
    {
     "data": {
      "text/plain": [
       "2013-01-01    0.091202\n",
       "2013-01-02   -0.039278\n",
       "2013-01-03   -0.122618\n",
       "2013-01-04   -1.519394\n",
       "2013-01-05   -0.500202\n",
       "2013-01-06    0.296046\n",
       "Freq: D, Name: A, dtype: float64"
      ]
     },
     "execution_count": 41,
     "metadata": {},
     "output_type": "execute_result"
    }
   ],
   "source": [
    "# Selecting a single column, which yields a Series, equivalent to df.A\n",
    "# both are a pandas Series\n",
    "df['A']"
   ]
  },
  {
   "cell_type": "code",
   "execution_count": 42,
   "metadata": {
    "collapsed": false
   },
   "outputs": [
    {
     "data": {
      "text/plain": [
       "2013-01-01    0.091202\n",
       "2013-01-02   -0.039278\n",
       "2013-01-03   -0.122618\n",
       "2013-01-04   -1.519394\n",
       "2013-01-05   -0.500202\n",
       "2013-01-06    0.296046\n",
       "Freq: D, Name: A, dtype: float64"
      ]
     },
     "execution_count": 42,
     "metadata": {},
     "output_type": "execute_result"
    }
   ],
   "source": [
    "df.A"
   ]
  },
  {
   "cell_type": "code",
   "execution_count": 43,
   "metadata": {
    "collapsed": false
   },
   "outputs": [
    {
     "data": {
      "text/html": [
       "<div>\n",
       "<table border=\"1\" class=\"dataframe\">\n",
       "  <thead>\n",
       "    <tr style=\"text-align: right;\">\n",
       "      <th></th>\n",
       "      <th>A</th>\n",
       "      <th>B</th>\n",
       "      <th>C</th>\n",
       "      <th>D</th>\n",
       "    </tr>\n",
       "  </thead>\n",
       "  <tbody>\n",
       "    <tr>\n",
       "      <th>2013-01-01</th>\n",
       "      <td>0.091202</td>\n",
       "      <td>0.337919</td>\n",
       "      <td>0.353192</td>\n",
       "      <td>0.077861</td>\n",
       "    </tr>\n",
       "    <tr>\n",
       "      <th>2013-01-02</th>\n",
       "      <td>-0.039278</td>\n",
       "      <td>1.126440</td>\n",
       "      <td>0.504735</td>\n",
       "      <td>1.188533</td>\n",
       "    </tr>\n",
       "  </tbody>\n",
       "</table>\n",
       "</div>"
      ],
      "text/plain": [
       "                   A         B         C         D\n",
       "2013-01-01  0.091202  0.337919  0.353192  0.077861\n",
       "2013-01-02 -0.039278  1.126440  0.504735  1.188533"
      ]
     },
     "execution_count": 43,
     "metadata": {},
     "output_type": "execute_result"
    }
   ],
   "source": [
    "# select via [] which slices at indices\n",
    "# 0th (inclusive) to the 2th (exclusive) row (so, row 0 and row 1)\n",
    "df[0:2]"
   ]
  },
  {
   "cell_type": "code",
   "execution_count": 44,
   "metadata": {
    "collapsed": false
   },
   "outputs": [
    {
     "data": {
      "text/html": [
       "<div>\n",
       "<table border=\"1\" class=\"dataframe\">\n",
       "  <thead>\n",
       "    <tr style=\"text-align: right;\">\n",
       "      <th></th>\n",
       "      <th>A</th>\n",
       "      <th>B</th>\n",
       "      <th>C</th>\n",
       "      <th>D</th>\n",
       "    </tr>\n",
       "  </thead>\n",
       "  <tbody>\n",
       "    <tr>\n",
       "      <th>2013-01-01</th>\n",
       "      <td>0.091202</td>\n",
       "      <td>0.337919</td>\n",
       "      <td>0.353192</td>\n",
       "      <td>0.077861</td>\n",
       "    </tr>\n",
       "    <tr>\n",
       "      <th>2013-01-02</th>\n",
       "      <td>-0.039278</td>\n",
       "      <td>1.126440</td>\n",
       "      <td>0.504735</td>\n",
       "      <td>1.188533</td>\n",
       "    </tr>\n",
       "  </tbody>\n",
       "</table>\n",
       "</div>"
      ],
      "text/plain": [
       "                   A         B         C         D\n",
       "2013-01-01  0.091202  0.337919  0.353192  0.077861\n",
       "2013-01-02 -0.039278  1.126440  0.504735  1.188533"
      ]
     },
     "execution_count": 44,
     "metadata": {},
     "output_type": "execute_result"
    }
   ],
   "source": [
    "# slice using index keywords\n",
    "# note endpoint is included\n",
    "df['20130101':'20130102']"
   ]
  },
  {
   "cell_type": "code",
   "execution_count": 47,
   "metadata": {
    "collapsed": false
   },
   "outputs": [
    {
     "data": {
      "text/plain": [
       "A    0.091202\n",
       "B    0.337919\n",
       "C    0.353192\n",
       "D    0.077861\n",
       "Name: 2013-01-01 00:00:00, dtype: float64"
      ]
     },
     "execution_count": 47,
     "metadata": {},
     "output_type": "execute_result"
    }
   ],
   "source": [
    "# selection by label, returns a pandas Series\n",
    "df.loc[dates[0]]"
   ]
  },
  {
   "cell_type": "code",
   "execution_count": 24,
   "metadata": {
    "collapsed": false
   },
   "outputs": [
    {
     "data": {
      "text/html": [
       "<div>\n",
       "<table border=\"1\" class=\"dataframe\">\n",
       "  <thead>\n",
       "    <tr style=\"text-align: right;\">\n",
       "      <th></th>\n",
       "      <th>A</th>\n",
       "      <th>B</th>\n",
       "      <th>C</th>\n",
       "      <th>D</th>\n",
       "    </tr>\n",
       "  </thead>\n",
       "  <tbody>\n",
       "    <tr>\n",
       "      <th>2013-01-01</th>\n",
       "      <td>-1.189493</td>\n",
       "      <td>-1.390220</td>\n",
       "      <td>-1.322253</td>\n",
       "      <td>0.253678</td>\n",
       "    </tr>\n",
       "    <tr>\n",
       "      <th>2013-01-02</th>\n",
       "      <td>-1.529953</td>\n",
       "      <td>-0.047242</td>\n",
       "      <td>-0.013585</td>\n",
       "      <td>1.729523</td>\n",
       "    </tr>\n",
       "    <tr>\n",
       "      <th>2013-01-03</th>\n",
       "      <td>0.422622</td>\n",
       "      <td>1.309599</td>\n",
       "      <td>-0.432622</td>\n",
       "      <td>0.840627</td>\n",
       "    </tr>\n",
       "    <tr>\n",
       "      <th>2013-01-04</th>\n",
       "      <td>0.717219</td>\n",
       "      <td>-0.928676</td>\n",
       "      <td>-0.497471</td>\n",
       "      <td>-0.745599</td>\n",
       "    </tr>\n",
       "    <tr>\n",
       "      <th>2013-01-05</th>\n",
       "      <td>-0.131589</td>\n",
       "      <td>-1.061204</td>\n",
       "      <td>-0.159379</td>\n",
       "      <td>0.380774</td>\n",
       "    </tr>\n",
       "    <tr>\n",
       "      <th>2013-01-06</th>\n",
       "      <td>0.799942</td>\n",
       "      <td>0.138410</td>\n",
       "      <td>0.188820</td>\n",
       "      <td>-0.042922</td>\n",
       "    </tr>\n",
       "  </tbody>\n",
       "</table>\n",
       "</div>"
      ],
      "text/plain": [
       "                   A         B         C         D\n",
       "2013-01-01 -1.189493 -1.390220 -1.322253  0.253678\n",
       "2013-01-02 -1.529953 -0.047242 -0.013585  1.729523\n",
       "2013-01-03  0.422622  1.309599 -0.432622  0.840627\n",
       "2013-01-04  0.717219 -0.928676 -0.497471 -0.745599\n",
       "2013-01-05 -0.131589 -1.061204 -0.159379  0.380774\n",
       "2013-01-06  0.799942  0.138410  0.188820 -0.042922"
      ]
     },
     "execution_count": 24,
     "metadata": {},
     "output_type": "execute_result"
    }
   ],
   "source": [
    "# show original set again\n",
    "df"
   ]
  },
  {
   "cell_type": "code",
   "execution_count": 25,
   "metadata": {
    "collapsed": false
   },
   "outputs": [
    {
     "data": {
      "text/plain": [
       "DatetimeIndex(['2013-01-01', '2013-01-02', '2013-01-03', '2013-01-04',\n",
       "               '2013-01-05', '2013-01-06'],\n",
       "              dtype='datetime64[ns]', freq='D')"
      ]
     },
     "execution_count": 25,
     "metadata": {},
     "output_type": "execute_result"
    }
   ],
   "source": [
    "# remember, that the index was made via the variable 'dates'\n",
    "dates"
   ]
  },
  {
   "cell_type": "code",
   "execution_count": 49,
   "metadata": {
    "collapsed": false
   },
   "outputs": [
    {
     "data": {
      "text/plain": [
       "A    0.091202\n",
       "B    0.337919\n",
       "C    0.353192\n",
       "D    0.077861\n",
       "Name: 2013-01-01 00:00:00, dtype: float64"
      ]
     },
     "execution_count": 49,
     "metadata": {},
     "output_type": "execute_result"
    }
   ],
   "source": [
    "# returns first row from the df dataframe, a pandas Series\n",
    "df.loc[dates[0]]"
   ]
  },
  {
   "cell_type": "code",
   "execution_count": 50,
   "metadata": {
    "collapsed": false
   },
   "outputs": [
    {
     "data": {
      "text/html": [
       "<div>\n",
       "<table border=\"1\" class=\"dataframe\">\n",
       "  <thead>\n",
       "    <tr style=\"text-align: right;\">\n",
       "      <th></th>\n",
       "      <th>A</th>\n",
       "      <th>B</th>\n",
       "    </tr>\n",
       "  </thead>\n",
       "  <tbody>\n",
       "    <tr>\n",
       "      <th>2013-01-01</th>\n",
       "      <td>0.091202</td>\n",
       "      <td>0.337919</td>\n",
       "    </tr>\n",
       "    <tr>\n",
       "      <th>2013-01-02</th>\n",
       "      <td>-0.039278</td>\n",
       "      <td>1.126440</td>\n",
       "    </tr>\n",
       "    <tr>\n",
       "      <th>2013-01-03</th>\n",
       "      <td>-0.122618</td>\n",
       "      <td>-1.131082</td>\n",
       "    </tr>\n",
       "    <tr>\n",
       "      <th>2013-01-04</th>\n",
       "      <td>-1.519394</td>\n",
       "      <td>-0.239010</td>\n",
       "    </tr>\n",
       "    <tr>\n",
       "      <th>2013-01-05</th>\n",
       "      <td>-0.500202</td>\n",
       "      <td>-1.148109</td>\n",
       "    </tr>\n",
       "    <tr>\n",
       "      <th>2013-01-06</th>\n",
       "      <td>0.296046</td>\n",
       "      <td>-0.717953</td>\n",
       "    </tr>\n",
       "  </tbody>\n",
       "</table>\n",
       "</div>"
      ],
      "text/plain": [
       "                   A         B\n",
       "2013-01-01  0.091202  0.337919\n",
       "2013-01-02 -0.039278  1.126440\n",
       "2013-01-03 -0.122618 -1.131082\n",
       "2013-01-04 -1.519394 -0.239010\n",
       "2013-01-05 -0.500202 -1.148109\n",
       "2013-01-06  0.296046 -0.717953"
      ]
     },
     "execution_count": 50,
     "metadata": {},
     "output_type": "execute_result"
    }
   ],
   "source": [
    "# here the ':' indicates all rows, and the list with ['A','B'] indicate columns A and B\n",
    "df.loc[:,['A','B']]"
   ]
  },
  {
   "cell_type": "code",
   "execution_count": 52,
   "metadata": {
    "collapsed": false
   },
   "outputs": [
    {
     "data": {
      "text/html": [
       "<div>\n",
       "<table border=\"1\" class=\"dataframe\">\n",
       "  <thead>\n",
       "    <tr style=\"text-align: right;\">\n",
       "      <th></th>\n",
       "      <th>A</th>\n",
       "      <th>B</th>\n",
       "    </tr>\n",
       "  </thead>\n",
       "  <tbody>\n",
       "    <tr>\n",
       "      <th>2013-01-01</th>\n",
       "      <td>0.091202</td>\n",
       "      <td>0.337919</td>\n",
       "    </tr>\n",
       "    <tr>\n",
       "      <th>2013-01-02</th>\n",
       "      <td>-0.039278</td>\n",
       "      <td>1.126440</td>\n",
       "    </tr>\n",
       "    <tr>\n",
       "      <th>2013-01-03</th>\n",
       "      <td>-0.122618</td>\n",
       "      <td>-1.131082</td>\n",
       "    </tr>\n",
       "    <tr>\n",
       "      <th>2013-01-04</th>\n",
       "      <td>-1.519394</td>\n",
       "      <td>-0.239010</td>\n",
       "    </tr>\n",
       "    <tr>\n",
       "      <th>2013-01-05</th>\n",
       "      <td>-0.500202</td>\n",
       "      <td>-1.148109</td>\n",
       "    </tr>\n",
       "    <tr>\n",
       "      <th>2013-01-06</th>\n",
       "      <td>0.296046</td>\n",
       "      <td>-0.717953</td>\n",
       "    </tr>\n",
       "  </tbody>\n",
       "</table>\n",
       "</div>"
      ],
      "text/plain": [
       "                   A         B\n",
       "2013-01-01  0.091202  0.337919\n",
       "2013-01-02 -0.039278  1.126440\n",
       "2013-01-03 -0.122618 -1.131082\n",
       "2013-01-04 -1.519394 -0.239010\n",
       "2013-01-05 -0.500202 -1.148109\n",
       "2013-01-06  0.296046 -0.717953"
      ]
     },
     "execution_count": 52,
     "metadata": {},
     "output_type": "execute_result"
    }
   ],
   "source": [
    "# same exact selection but using index labels\n",
    "# note, index (rows) selection is inclusive\n",
    "df.loc['20130101':'20130106',['A','B']]"
   ]
  },
  {
   "cell_type": "code",
   "execution_count": 53,
   "metadata": {
    "collapsed": false
   },
   "outputs": [
    {
     "data": {
      "text/plain": [
       "A   -0.039278\n",
       "B    1.126440\n",
       "Name: 2013-01-02 00:00:00, dtype: float64"
      ]
     },
     "execution_count": 53,
     "metadata": {},
     "output_type": "execute_result"
    }
   ],
   "source": [
    "# just from a single row and columns A and B returns a pandas Series\n",
    "df.loc['20130102', ['A','B']]"
   ]
  },
  {
   "cell_type": "code",
   "execution_count": 55,
   "metadata": {
    "collapsed": false
   },
   "outputs": [
    {
     "data": {
      "text/plain": [
       "0.091202404420735156"
      ]
     },
     "execution_count": 55,
     "metadata": {},
     "output_type": "execute_result"
    }
   ],
   "source": [
    "# get a single value (scalar)\n",
    "df.loc[dates[0],'A']"
   ]
  },
  {
   "cell_type": "code",
   "execution_count": 57,
   "metadata": {
    "collapsed": false
   },
   "outputs": [
    {
     "data": {
      "text/plain": [
       "0.091202404420735156"
      ]
     },
     "execution_count": 57,
     "metadata": {},
     "output_type": "execute_result"
    }
   ],
   "source": [
    "# same exact value but using a specific label\n",
    "df.loc['20130101','A']"
   ]
  },
  {
   "cell_type": "code",
   "execution_count": 58,
   "metadata": {
    "collapsed": false
   },
   "outputs": [
    {
     "data": {
      "text/plain": [
       "0.091202404420735156"
      ]
     },
     "execution_count": 58,
     "metadata": {},
     "output_type": "execute_result"
    }
   ],
   "source": [
    "# .at is same as above\n",
    "df.at[dates[0],'A']"
   ]
  },
  {
   "cell_type": "code",
   "execution_count": 59,
   "metadata": {
    "collapsed": false
   },
   "outputs": [
    {
     "data": {
      "text/html": [
       "<div>\n",
       "<table border=\"1\" class=\"dataframe\">\n",
       "  <thead>\n",
       "    <tr style=\"text-align: right;\">\n",
       "      <th></th>\n",
       "      <th>A</th>\n",
       "      <th>B</th>\n",
       "      <th>C</th>\n",
       "      <th>D</th>\n",
       "    </tr>\n",
       "  </thead>\n",
       "  <tbody>\n",
       "    <tr>\n",
       "      <th>2013-01-01</th>\n",
       "      <td>0.091202</td>\n",
       "      <td>0.337919</td>\n",
       "      <td>0.353192</td>\n",
       "      <td>0.077861</td>\n",
       "    </tr>\n",
       "    <tr>\n",
       "      <th>2013-01-02</th>\n",
       "      <td>-0.039278</td>\n",
       "      <td>1.126440</td>\n",
       "      <td>0.504735</td>\n",
       "      <td>1.188533</td>\n",
       "    </tr>\n",
       "    <tr>\n",
       "      <th>2013-01-03</th>\n",
       "      <td>-0.122618</td>\n",
       "      <td>-1.131082</td>\n",
       "      <td>0.954059</td>\n",
       "      <td>-1.458126</td>\n",
       "    </tr>\n",
       "    <tr>\n",
       "      <th>2013-01-04</th>\n",
       "      <td>-1.519394</td>\n",
       "      <td>-0.239010</td>\n",
       "      <td>-0.065757</td>\n",
       "      <td>-1.088401</td>\n",
       "    </tr>\n",
       "    <tr>\n",
       "      <th>2013-01-05</th>\n",
       "      <td>-0.500202</td>\n",
       "      <td>-1.148109</td>\n",
       "      <td>0.775831</td>\n",
       "      <td>-0.360108</td>\n",
       "    </tr>\n",
       "    <tr>\n",
       "      <th>2013-01-06</th>\n",
       "      <td>0.296046</td>\n",
       "      <td>-0.717953</td>\n",
       "      <td>0.976106</td>\n",
       "      <td>0.306564</td>\n",
       "    </tr>\n",
       "  </tbody>\n",
       "</table>\n",
       "</div>"
      ],
      "text/plain": [
       "                   A         B         C         D\n",
       "2013-01-01  0.091202  0.337919  0.353192  0.077861\n",
       "2013-01-02 -0.039278  1.126440  0.504735  1.188533\n",
       "2013-01-03 -0.122618 -1.131082  0.954059 -1.458126\n",
       "2013-01-04 -1.519394 -0.239010 -0.065757 -1.088401\n",
       "2013-01-05 -0.500202 -1.148109  0.775831 -0.360108\n",
       "2013-01-06  0.296046 -0.717953  0.976106  0.306564"
      ]
     },
     "execution_count": 59,
     "metadata": {},
     "output_type": "execute_result"
    }
   ],
   "source": [
    "# show df dataframe again\n",
    "df"
   ]
  },
  {
   "cell_type": "code",
   "execution_count": 60,
   "metadata": {
    "collapsed": false
   },
   "outputs": [
    {
     "data": {
      "text/plain": [
       "A   -1.519394\n",
       "B   -0.239010\n",
       "C   -0.065757\n",
       "D   -1.088401\n",
       "Name: 2013-01-04 00:00:00, dtype: float64"
      ]
     },
     "execution_count": 60,
     "metadata": {},
     "output_type": "execute_result"
    }
   ],
   "source": [
    "# show row at the 3th row\n",
    "df.iloc[3]"
   ]
  },
  {
   "cell_type": "code",
   "execution_count": 61,
   "metadata": {
    "collapsed": false
   },
   "outputs": [
    {
     "data": {
      "text/html": [
       "<div>\n",
       "<table border=\"1\" class=\"dataframe\">\n",
       "  <thead>\n",
       "    <tr style=\"text-align: right;\">\n",
       "      <th></th>\n",
       "      <th>A</th>\n",
       "      <th>B</th>\n",
       "    </tr>\n",
       "  </thead>\n",
       "  <tbody>\n",
       "    <tr>\n",
       "      <th>2013-01-04</th>\n",
       "      <td>-1.519394</td>\n",
       "      <td>-0.239010</td>\n",
       "    </tr>\n",
       "    <tr>\n",
       "      <th>2013-01-05</th>\n",
       "      <td>-0.500202</td>\n",
       "      <td>-1.148109</td>\n",
       "    </tr>\n",
       "  </tbody>\n",
       "</table>\n",
       "</div>"
      ],
      "text/plain": [
       "                   A         B\n",
       "2013-01-04 -1.519394 -0.239010\n",
       "2013-01-05 -0.500202 -1.148109"
      ]
     },
     "execution_count": 61,
     "metadata": {},
     "output_type": "execute_result"
    }
   ],
   "source": [
    "# slice rows and columns in numpy/python style\n",
    "df.iloc[3:5,0:2]"
   ]
  },
  {
   "cell_type": "code",
   "execution_count": 62,
   "metadata": {
    "collapsed": false
   },
   "outputs": [
    {
     "data": {
      "text/html": [
       "<div>\n",
       "<table border=\"1\" class=\"dataframe\">\n",
       "  <thead>\n",
       "    <tr style=\"text-align: right;\">\n",
       "      <th></th>\n",
       "      <th>A</th>\n",
       "      <th>C</th>\n",
       "    </tr>\n",
       "  </thead>\n",
       "  <tbody>\n",
       "    <tr>\n",
       "      <th>2013-01-02</th>\n",
       "      <td>-0.039278</td>\n",
       "      <td>0.504735</td>\n",
       "    </tr>\n",
       "    <tr>\n",
       "      <th>2013-01-03</th>\n",
       "      <td>-0.122618</td>\n",
       "      <td>0.954059</td>\n",
       "    </tr>\n",
       "    <tr>\n",
       "      <th>2013-01-05</th>\n",
       "      <td>-0.500202</td>\n",
       "      <td>0.775831</td>\n",
       "    </tr>\n",
       "  </tbody>\n",
       "</table>\n",
       "</div>"
      ],
      "text/plain": [
       "                   A         C\n",
       "2013-01-02 -0.039278  0.504735\n",
       "2013-01-03 -0.122618  0.954059\n",
       "2013-01-05 -0.500202  0.775831"
      ]
     },
     "execution_count": 62,
     "metadata": {},
     "output_type": "execute_result"
    }
   ],
   "source": [
    "# by lists of integer position locations\n",
    "# shows the 1th, 2th and 4th rows, 0th and 2th columns\n",
    "df.iloc[[1,2,4],[0,2]]"
   ]
  },
  {
   "cell_type": "code",
   "execution_count": 63,
   "metadata": {
    "collapsed": false
   },
   "outputs": [
    {
     "data": {
      "text/html": [
       "<div>\n",
       "<table border=\"1\" class=\"dataframe\">\n",
       "  <thead>\n",
       "    <tr style=\"text-align: right;\">\n",
       "      <th></th>\n",
       "      <th>B</th>\n",
       "      <th>C</th>\n",
       "    </tr>\n",
       "  </thead>\n",
       "  <tbody>\n",
       "    <tr>\n",
       "      <th>2013-01-01</th>\n",
       "      <td>0.337919</td>\n",
       "      <td>0.353192</td>\n",
       "    </tr>\n",
       "    <tr>\n",
       "      <th>2013-01-02</th>\n",
       "      <td>1.126440</td>\n",
       "      <td>0.504735</td>\n",
       "    </tr>\n",
       "    <tr>\n",
       "      <th>2013-01-03</th>\n",
       "      <td>-1.131082</td>\n",
       "      <td>0.954059</td>\n",
       "    </tr>\n",
       "    <tr>\n",
       "      <th>2013-01-04</th>\n",
       "      <td>-0.239010</td>\n",
       "      <td>-0.065757</td>\n",
       "    </tr>\n",
       "    <tr>\n",
       "      <th>2013-01-05</th>\n",
       "      <td>-1.148109</td>\n",
       "      <td>0.775831</td>\n",
       "    </tr>\n",
       "    <tr>\n",
       "      <th>2013-01-06</th>\n",
       "      <td>-0.717953</td>\n",
       "      <td>0.976106</td>\n",
       "    </tr>\n",
       "  </tbody>\n",
       "</table>\n",
       "</div>"
      ],
      "text/plain": [
       "                   B         C\n",
       "2013-01-01  0.337919  0.353192\n",
       "2013-01-02  1.126440  0.504735\n",
       "2013-01-03 -1.131082  0.954059\n",
       "2013-01-04 -0.239010 -0.065757\n",
       "2013-01-05 -1.148109  0.775831\n",
       "2013-01-06 -0.717953  0.976106"
      ]
     },
     "execution_count": 63,
     "metadata": {},
     "output_type": "execute_result"
    }
   ],
   "source": [
    "# for slicing columns explicitly\n",
    "# all rows, 1th (inclusive) to 3th (exclusiv) columns\n",
    "df.iloc[:,1:3]"
   ]
  },
  {
   "cell_type": "code",
   "execution_count": 71,
   "metadata": {
    "collapsed": false
   },
   "outputs": [
    {
     "data": {
      "text/plain": [
       "1.1264397039257281"
      ]
     },
     "execution_count": 71,
     "metadata": {},
     "output_type": "execute_result"
    }
   ],
   "source": [
    "# explicitly get a value, returns a float64\n",
    "df.iloc[1,1]"
   ]
  },
  {
   "cell_type": "code",
   "execution_count": 72,
   "metadata": {
    "collapsed": false
   },
   "outputs": [
    {
     "data": {
      "text/plain": [
       "1.1264397039257281"
      ]
     },
     "execution_count": 72,
     "metadata": {},
     "output_type": "execute_result"
    }
   ],
   "source": [
    "# fast access to a scalar(same effect as above method), returns a float64\n",
    "df.iat[1,1]"
   ]
  },
  {
   "cell_type": "code",
   "execution_count": 73,
   "metadata": {
    "collapsed": false
   },
   "outputs": [
    {
     "data": {
      "text/html": [
       "<div>\n",
       "<table border=\"1\" class=\"dataframe\">\n",
       "  <thead>\n",
       "    <tr style=\"text-align: right;\">\n",
       "      <th></th>\n",
       "      <th>A</th>\n",
       "      <th>B</th>\n",
       "      <th>C</th>\n",
       "      <th>D</th>\n",
       "    </tr>\n",
       "  </thead>\n",
       "  <tbody>\n",
       "    <tr>\n",
       "      <th>2013-01-01</th>\n",
       "      <td>0.091202</td>\n",
       "      <td>0.337919</td>\n",
       "      <td>0.353192</td>\n",
       "      <td>0.077861</td>\n",
       "    </tr>\n",
       "    <tr>\n",
       "      <th>2013-01-02</th>\n",
       "      <td>-0.039278</td>\n",
       "      <td>1.126440</td>\n",
       "      <td>0.504735</td>\n",
       "      <td>1.188533</td>\n",
       "    </tr>\n",
       "    <tr>\n",
       "      <th>2013-01-03</th>\n",
       "      <td>-0.122618</td>\n",
       "      <td>-1.131082</td>\n",
       "      <td>0.954059</td>\n",
       "      <td>-1.458126</td>\n",
       "    </tr>\n",
       "    <tr>\n",
       "      <th>2013-01-04</th>\n",
       "      <td>-1.519394</td>\n",
       "      <td>-0.239010</td>\n",
       "      <td>-0.065757</td>\n",
       "      <td>-1.088401</td>\n",
       "    </tr>\n",
       "    <tr>\n",
       "      <th>2013-01-05</th>\n",
       "      <td>-0.500202</td>\n",
       "      <td>-1.148109</td>\n",
       "      <td>0.775831</td>\n",
       "      <td>-0.360108</td>\n",
       "    </tr>\n",
       "    <tr>\n",
       "      <th>2013-01-06</th>\n",
       "      <td>0.296046</td>\n",
       "      <td>-0.717953</td>\n",
       "      <td>0.976106</td>\n",
       "      <td>0.306564</td>\n",
       "    </tr>\n",
       "  </tbody>\n",
       "</table>\n",
       "</div>"
      ],
      "text/plain": [
       "                   A         B         C         D\n",
       "2013-01-01  0.091202  0.337919  0.353192  0.077861\n",
       "2013-01-02 -0.039278  1.126440  0.504735  1.188533\n",
       "2013-01-03 -0.122618 -1.131082  0.954059 -1.458126\n",
       "2013-01-04 -1.519394 -0.239010 -0.065757 -1.088401\n",
       "2013-01-05 -0.500202 -1.148109  0.775831 -0.360108\n",
       "2013-01-06  0.296046 -0.717953  0.976106  0.306564"
      ]
     },
     "execution_count": 73,
     "metadata": {},
     "output_type": "execute_result"
    }
   ],
   "source": [
    "# show original dataframe\n",
    "df"
   ]
  },
  {
   "cell_type": "code",
   "execution_count": 74,
   "metadata": {
    "collapsed": false
   },
   "outputs": [
    {
     "data": {
      "text/html": [
       "<div>\n",
       "<table border=\"1\" class=\"dataframe\">\n",
       "  <thead>\n",
       "    <tr style=\"text-align: right;\">\n",
       "      <th></th>\n",
       "      <th>A</th>\n",
       "      <th>B</th>\n",
       "      <th>C</th>\n",
       "      <th>D</th>\n",
       "    </tr>\n",
       "  </thead>\n",
       "  <tbody>\n",
       "    <tr>\n",
       "      <th>2013-01-01</th>\n",
       "      <td>0.091202</td>\n",
       "      <td>0.337919</td>\n",
       "      <td>0.353192</td>\n",
       "      <td>0.077861</td>\n",
       "    </tr>\n",
       "    <tr>\n",
       "      <th>2013-01-06</th>\n",
       "      <td>0.296046</td>\n",
       "      <td>-0.717953</td>\n",
       "      <td>0.976106</td>\n",
       "      <td>0.306564</td>\n",
       "    </tr>\n",
       "  </tbody>\n",
       "</table>\n",
       "</div>"
      ],
      "text/plain": [
       "                   A         B         C         D\n",
       "2013-01-01  0.091202  0.337919  0.353192  0.077861\n",
       "2013-01-06  0.296046 -0.717953  0.976106  0.306564"
      ]
     },
     "execution_count": 74,
     "metadata": {},
     "output_type": "execute_result"
    }
   ],
   "source": [
    "# some boolean indexing\n",
    "# \"where any value in column A is greater than 0\"\n",
    "df[df.A > 0]"
   ]
  },
  {
   "cell_type": "code",
   "execution_count": 75,
   "metadata": {
    "collapsed": false
   },
   "outputs": [
    {
     "data": {
      "text/html": [
       "<div>\n",
       "<table border=\"1\" class=\"dataframe\">\n",
       "  <thead>\n",
       "    <tr style=\"text-align: right;\">\n",
       "      <th></th>\n",
       "      <th>A</th>\n",
       "      <th>B</th>\n",
       "      <th>C</th>\n",
       "      <th>D</th>\n",
       "    </tr>\n",
       "  </thead>\n",
       "  <tbody>\n",
       "    <tr>\n",
       "      <th>2013-01-01</th>\n",
       "      <td>0.091202</td>\n",
       "      <td>0.337919</td>\n",
       "      <td>0.353192</td>\n",
       "      <td>0.077861</td>\n",
       "    </tr>\n",
       "    <tr>\n",
       "      <th>2013-01-02</th>\n",
       "      <td>NaN</td>\n",
       "      <td>1.126440</td>\n",
       "      <td>0.504735</td>\n",
       "      <td>1.188533</td>\n",
       "    </tr>\n",
       "    <tr>\n",
       "      <th>2013-01-03</th>\n",
       "      <td>NaN</td>\n",
       "      <td>NaN</td>\n",
       "      <td>0.954059</td>\n",
       "      <td>NaN</td>\n",
       "    </tr>\n",
       "    <tr>\n",
       "      <th>2013-01-04</th>\n",
       "      <td>NaN</td>\n",
       "      <td>NaN</td>\n",
       "      <td>NaN</td>\n",
       "      <td>NaN</td>\n",
       "    </tr>\n",
       "    <tr>\n",
       "      <th>2013-01-05</th>\n",
       "      <td>NaN</td>\n",
       "      <td>NaN</td>\n",
       "      <td>0.775831</td>\n",
       "      <td>NaN</td>\n",
       "    </tr>\n",
       "    <tr>\n",
       "      <th>2013-01-06</th>\n",
       "      <td>0.296046</td>\n",
       "      <td>NaN</td>\n",
       "      <td>0.976106</td>\n",
       "      <td>0.306564</td>\n",
       "    </tr>\n",
       "  </tbody>\n",
       "</table>\n",
       "</div>"
      ],
      "text/plain": [
       "                   A         B         C         D\n",
       "2013-01-01  0.091202  0.337919  0.353192  0.077861\n",
       "2013-01-02       NaN  1.126440  0.504735  1.188533\n",
       "2013-01-03       NaN       NaN  0.954059       NaN\n",
       "2013-01-04       NaN       NaN       NaN       NaN\n",
       "2013-01-05       NaN       NaN  0.775831       NaN\n",
       "2013-01-06  0.296046       NaN  0.976106  0.306564"
      ]
     },
     "execution_count": 75,
     "metadata": {},
     "output_type": "execute_result"
    }
   ],
   "source": [
    "# \"anywhere where greater than 0\"\n",
    "df[df > 0]"
   ]
  },
  {
   "cell_type": "code",
   "execution_count": 133,
   "metadata": {
    "collapsed": false
   },
   "outputs": [
    {
     "data": {
      "text/html": [
       "<div>\n",
       "<table border=\"1\" class=\"dataframe\">\n",
       "  <thead>\n",
       "    <tr style=\"text-align: right;\">\n",
       "      <th></th>\n",
       "      <th>A</th>\n",
       "      <th>B</th>\n",
       "      <th>C</th>\n",
       "      <th>D</th>\n",
       "      <th>E</th>\n",
       "    </tr>\n",
       "  </thead>\n",
       "  <tbody>\n",
       "    <tr>\n",
       "      <th>2013-01-01</th>\n",
       "      <td>-1.933851</td>\n",
       "      <td>0.192824</td>\n",
       "      <td>-1.049753</td>\n",
       "      <td>0.258736</td>\n",
       "      <td>one</td>\n",
       "    </tr>\n",
       "    <tr>\n",
       "      <th>2013-01-02</th>\n",
       "      <td>1.884892</td>\n",
       "      <td>-0.158986</td>\n",
       "      <td>0.567058</td>\n",
       "      <td>0.646440</td>\n",
       "      <td>one</td>\n",
       "    </tr>\n",
       "    <tr>\n",
       "      <th>2013-01-03</th>\n",
       "      <td>-0.749961</td>\n",
       "      <td>-0.200973</td>\n",
       "      <td>0.589294</td>\n",
       "      <td>0.270939</td>\n",
       "      <td>two</td>\n",
       "    </tr>\n",
       "    <tr>\n",
       "      <th>2013-01-04</th>\n",
       "      <td>-0.117302</td>\n",
       "      <td>-0.612100</td>\n",
       "      <td>1.307215</td>\n",
       "      <td>-0.108438</td>\n",
       "      <td>three</td>\n",
       "    </tr>\n",
       "    <tr>\n",
       "      <th>2013-01-05</th>\n",
       "      <td>-1.874316</td>\n",
       "      <td>-0.993146</td>\n",
       "      <td>0.406705</td>\n",
       "      <td>1.623868</td>\n",
       "      <td>four</td>\n",
       "    </tr>\n",
       "    <tr>\n",
       "      <th>2013-01-06</th>\n",
       "      <td>0.058644</td>\n",
       "      <td>-0.835104</td>\n",
       "      <td>0.810017</td>\n",
       "      <td>-0.079706</td>\n",
       "      <td>three</td>\n",
       "    </tr>\n",
       "  </tbody>\n",
       "</table>\n",
       "</div>"
      ],
      "text/plain": [
       "                   A         B         C         D      E\n",
       "2013-01-01 -1.933851  0.192824 -1.049753  0.258736    one\n",
       "2013-01-02  1.884892 -0.158986  0.567058  0.646440    one\n",
       "2013-01-03 -0.749961 -0.200973  0.589294  0.270939    two\n",
       "2013-01-04 -0.117302 -0.612100  1.307215 -0.108438  three\n",
       "2013-01-05 -1.874316 -0.993146  0.406705  1.623868   four\n",
       "2013-01-06  0.058644 -0.835104  0.810017 -0.079706  three"
      ]
     },
     "execution_count": 133,
     "metadata": {},
     "output_type": "execute_result"
    }
   ],
   "source": [
    "# filter through the dataframe using isin()\n",
    "\n",
    "# make a copy of the dataframe called df2\n",
    "df2 = df.copy()\n",
    "# add a new column\n",
    "df2['E'] = ['one', 'one', 'two', 'three', 'four', 'three']\n",
    "df2"
   ]
  },
  {
   "cell_type": "code",
   "execution_count": 150,
   "metadata": {
    "collapsed": false
   },
   "outputs": [
    {
     "data": {
      "text/html": [
       "<div>\n",
       "<table border=\"1\" class=\"dataframe\">\n",
       "  <thead>\n",
       "    <tr style=\"text-align: right;\">\n",
       "      <th></th>\n",
       "      <th>A</th>\n",
       "      <th>B</th>\n",
       "      <th>C</th>\n",
       "      <th>D</th>\n",
       "      <th>E</th>\n",
       "    </tr>\n",
       "  </thead>\n",
       "  <tbody>\n",
       "    <tr>\n",
       "      <th>2013-01-01</th>\n",
       "      <td>-1.933851</td>\n",
       "      <td>0.192824</td>\n",
       "      <td>-1.049753</td>\n",
       "      <td>0.258736</td>\n",
       "      <td>one</td>\n",
       "    </tr>\n",
       "    <tr>\n",
       "      <th>2013-01-02</th>\n",
       "      <td>1.884892</td>\n",
       "      <td>-0.158986</td>\n",
       "      <td>0.567058</td>\n",
       "      <td>0.646440</td>\n",
       "      <td>one</td>\n",
       "    </tr>\n",
       "    <tr>\n",
       "      <th>2013-01-05</th>\n",
       "      <td>-1.874316</td>\n",
       "      <td>-0.993146</td>\n",
       "      <td>0.406705</td>\n",
       "      <td>1.623868</td>\n",
       "      <td>four</td>\n",
       "    </tr>\n",
       "  </tbody>\n",
       "</table>\n",
       "</div>"
      ],
      "text/plain": [
       "                   A         B         C         D     E\n",
       "2013-01-01 -1.933851  0.192824 -1.049753  0.258736   one\n",
       "2013-01-02  1.884892 -0.158986  0.567058  0.646440   one\n",
       "2013-01-05 -1.874316 -0.993146  0.406705  1.623868  four"
      ]
     },
     "execution_count": 150,
     "metadata": {},
     "output_type": "execute_result"
    }
   ],
   "source": [
    "# referencing column E, select only rows with certain keywords that match 'one' or 'four'\n",
    "df2[df2['E'].isin(['one', 'four'])]\n",
    "\n",
    "# !!!I'd like to know how the slice is made here. Question\n",
    "# posted at: http://stackoverflow.com/questions/41733696/how-does-pandas-use-a-series-object-to-slice-a-data-frame"
   ]
  },
  {
   "cell_type": "code",
   "execution_count": 164,
   "metadata": {
    "collapsed": false
   },
   "outputs": [
    {
     "data": {
      "text/plain": [
       "2013-01-01     True\n",
       "2013-01-02     True\n",
       "2013-01-03    False\n",
       "2013-01-04    False\n",
       "2013-01-05     True\n",
       "2013-01-06    False\n",
       "Freq: D, Name: E, dtype: bool"
      ]
     },
     "execution_count": 164,
     "metadata": {},
     "output_type": "execute_result"
    }
   ],
   "source": [
    "# the contents of df2[] below are a pandas Series of type bool\n",
    "# wherever it is True, the corresponding label's row is returned\n",
    "df2['E'].isin(['one','four'])"
   ]
  },
  {
   "cell_type": "markdown",
   "metadata": {},
   "source": [
    "#### Setting values in a Data Frame"
   ]
  },
  {
   "cell_type": "code",
   "execution_count": 165,
   "metadata": {
    "collapsed": false
   },
   "outputs": [
    {
     "data": {
      "text/html": [
       "<div>\n",
       "<table border=\"1\" class=\"dataframe\">\n",
       "  <thead>\n",
       "    <tr style=\"text-align: right;\">\n",
       "      <th></th>\n",
       "      <th>A</th>\n",
       "      <th>B</th>\n",
       "      <th>C</th>\n",
       "      <th>D</th>\n",
       "    </tr>\n",
       "  </thead>\n",
       "  <tbody>\n",
       "    <tr>\n",
       "      <th>2013-01-01</th>\n",
       "      <td>-1.933851</td>\n",
       "      <td>0.192824</td>\n",
       "      <td>-1.049753</td>\n",
       "      <td>0.258736</td>\n",
       "    </tr>\n",
       "    <tr>\n",
       "      <th>2013-01-02</th>\n",
       "      <td>1.884892</td>\n",
       "      <td>-0.158986</td>\n",
       "      <td>0.567058</td>\n",
       "      <td>0.646440</td>\n",
       "    </tr>\n",
       "    <tr>\n",
       "      <th>2013-01-03</th>\n",
       "      <td>-0.749961</td>\n",
       "      <td>-0.200973</td>\n",
       "      <td>0.589294</td>\n",
       "      <td>0.270939</td>\n",
       "    </tr>\n",
       "    <tr>\n",
       "      <th>2013-01-04</th>\n",
       "      <td>-0.117302</td>\n",
       "      <td>-0.612100</td>\n",
       "      <td>1.307215</td>\n",
       "      <td>-0.108438</td>\n",
       "    </tr>\n",
       "    <tr>\n",
       "      <th>2013-01-05</th>\n",
       "      <td>-1.874316</td>\n",
       "      <td>-0.993146</td>\n",
       "      <td>0.406705</td>\n",
       "      <td>1.623868</td>\n",
       "    </tr>\n",
       "    <tr>\n",
       "      <th>2013-01-06</th>\n",
       "      <td>0.058644</td>\n",
       "      <td>-0.835104</td>\n",
       "      <td>0.810017</td>\n",
       "      <td>-0.079706</td>\n",
       "    </tr>\n",
       "  </tbody>\n",
       "</table>\n",
       "</div>"
      ],
      "text/plain": [
       "                   A         B         C         D\n",
       "2013-01-01 -1.933851  0.192824 -1.049753  0.258736\n",
       "2013-01-02  1.884892 -0.158986  0.567058  0.646440\n",
       "2013-01-03 -0.749961 -0.200973  0.589294  0.270939\n",
       "2013-01-04 -0.117302 -0.612100  1.307215 -0.108438\n",
       "2013-01-05 -1.874316 -0.993146  0.406705  1.623868\n",
       "2013-01-06  0.058644 -0.835104  0.810017 -0.079706"
      ]
     },
     "execution_count": 165,
     "metadata": {},
     "output_type": "execute_result"
    }
   ],
   "source": [
    "df"
   ]
  },
  {
   "cell_type": "code",
   "execution_count": 167,
   "metadata": {
    "collapsed": false
   },
   "outputs": [
    {
     "data": {
      "text/plain": [
       "2013-01-02    1\n",
       "2013-01-03    2\n",
       "2013-01-04    3\n",
       "2013-01-05    4\n",
       "2013-01-06    5\n",
       "2013-01-07    6\n",
       "Freq: D, dtype: int64"
      ]
     },
     "execution_count": 167,
     "metadata": {},
     "output_type": "execute_result"
    }
   ],
   "source": [
    "# make a new Series that I can add to the dataframe\n",
    "# !!! REMEMBER, a dataframe can be thought of as a dict of Series\n",
    "# where the Series labels form a union if redundant\n",
    "s1 = pd.Series([1,2,3,4,5,6], index=pd.date_range('20130102', periods=6))\n",
    "s1"
   ]
  },
  {
   "cell_type": "code",
   "execution_count": 168,
   "metadata": {
    "collapsed": false
   },
   "outputs": [
    {
     "data": {
      "text/html": [
       "<div>\n",
       "<table border=\"1\" class=\"dataframe\">\n",
       "  <thead>\n",
       "    <tr style=\"text-align: right;\">\n",
       "      <th></th>\n",
       "      <th>A</th>\n",
       "      <th>B</th>\n",
       "      <th>C</th>\n",
       "      <th>D</th>\n",
       "      <th>F</th>\n",
       "    </tr>\n",
       "  </thead>\n",
       "  <tbody>\n",
       "    <tr>\n",
       "      <th>2013-01-01</th>\n",
       "      <td>-1.933851</td>\n",
       "      <td>0.192824</td>\n",
       "      <td>-1.049753</td>\n",
       "      <td>0.258736</td>\n",
       "      <td>NaN</td>\n",
       "    </tr>\n",
       "    <tr>\n",
       "      <th>2013-01-02</th>\n",
       "      <td>1.884892</td>\n",
       "      <td>-0.158986</td>\n",
       "      <td>0.567058</td>\n",
       "      <td>0.646440</td>\n",
       "      <td>1.0</td>\n",
       "    </tr>\n",
       "    <tr>\n",
       "      <th>2013-01-03</th>\n",
       "      <td>-0.749961</td>\n",
       "      <td>-0.200973</td>\n",
       "      <td>0.589294</td>\n",
       "      <td>0.270939</td>\n",
       "      <td>2.0</td>\n",
       "    </tr>\n",
       "    <tr>\n",
       "      <th>2013-01-04</th>\n",
       "      <td>-0.117302</td>\n",
       "      <td>-0.612100</td>\n",
       "      <td>1.307215</td>\n",
       "      <td>-0.108438</td>\n",
       "      <td>3.0</td>\n",
       "    </tr>\n",
       "    <tr>\n",
       "      <th>2013-01-05</th>\n",
       "      <td>-1.874316</td>\n",
       "      <td>-0.993146</td>\n",
       "      <td>0.406705</td>\n",
       "      <td>1.623868</td>\n",
       "      <td>4.0</td>\n",
       "    </tr>\n",
       "    <tr>\n",
       "      <th>2013-01-06</th>\n",
       "      <td>0.058644</td>\n",
       "      <td>-0.835104</td>\n",
       "      <td>0.810017</td>\n",
       "      <td>-0.079706</td>\n",
       "      <td>5.0</td>\n",
       "    </tr>\n",
       "  </tbody>\n",
       "</table>\n",
       "</div>"
      ],
      "text/plain": [
       "                   A         B         C         D    F\n",
       "2013-01-01 -1.933851  0.192824 -1.049753  0.258736  NaN\n",
       "2013-01-02  1.884892 -0.158986  0.567058  0.646440  1.0\n",
       "2013-01-03 -0.749961 -0.200973  0.589294  0.270939  2.0\n",
       "2013-01-04 -0.117302 -0.612100  1.307215 -0.108438  3.0\n",
       "2013-01-05 -1.874316 -0.993146  0.406705  1.623868  4.0\n",
       "2013-01-06  0.058644 -0.835104  0.810017 -0.079706  5.0"
      ]
     },
     "execution_count": 168,
     "metadata": {},
     "output_type": "execute_result"
    }
   ],
   "source": [
    "# now add it to df dataframe as column 'F'\n",
    "# notice that column F didn't start from 20130101 so its value there is Nan\n",
    "# 2013-01-07 is dropped\n",
    "df['F'] = s1\n",
    "df"
   ]
  },
  {
   "cell_type": "code",
   "execution_count": 169,
   "metadata": {
    "collapsed": false
   },
   "outputs": [
    {
     "data": {
      "text/html": [
       "<div>\n",
       "<table border=\"1\" class=\"dataframe\">\n",
       "  <thead>\n",
       "    <tr style=\"text-align: right;\">\n",
       "      <th></th>\n",
       "      <th>A</th>\n",
       "      <th>B</th>\n",
       "      <th>C</th>\n",
       "      <th>D</th>\n",
       "      <th>F</th>\n",
       "    </tr>\n",
       "  </thead>\n",
       "  <tbody>\n",
       "    <tr>\n",
       "      <th>2013-01-01</th>\n",
       "      <td>-1.933851</td>\n",
       "      <td>0.192824</td>\n",
       "      <td>-1.049753</td>\n",
       "      <td>0.258736</td>\n",
       "      <td>0.0</td>\n",
       "    </tr>\n",
       "    <tr>\n",
       "      <th>2013-01-02</th>\n",
       "      <td>1.884892</td>\n",
       "      <td>-0.158986</td>\n",
       "      <td>0.567058</td>\n",
       "      <td>0.646440</td>\n",
       "      <td>1.0</td>\n",
       "    </tr>\n",
       "    <tr>\n",
       "      <th>2013-01-03</th>\n",
       "      <td>-0.749961</td>\n",
       "      <td>-0.200973</td>\n",
       "      <td>0.589294</td>\n",
       "      <td>0.270939</td>\n",
       "      <td>2.0</td>\n",
       "    </tr>\n",
       "    <tr>\n",
       "      <th>2013-01-04</th>\n",
       "      <td>-0.117302</td>\n",
       "      <td>-0.612100</td>\n",
       "      <td>1.307215</td>\n",
       "      <td>-0.108438</td>\n",
       "      <td>3.0</td>\n",
       "    </tr>\n",
       "    <tr>\n",
       "      <th>2013-01-05</th>\n",
       "      <td>-1.874316</td>\n",
       "      <td>-0.993146</td>\n",
       "      <td>0.406705</td>\n",
       "      <td>1.623868</td>\n",
       "      <td>4.0</td>\n",
       "    </tr>\n",
       "    <tr>\n",
       "      <th>2013-01-06</th>\n",
       "      <td>0.058644</td>\n",
       "      <td>-0.835104</td>\n",
       "      <td>0.810017</td>\n",
       "      <td>-0.079706</td>\n",
       "      <td>5.0</td>\n",
       "    </tr>\n",
       "  </tbody>\n",
       "</table>\n",
       "</div>"
      ],
      "text/plain": [
       "                   A         B         C         D    F\n",
       "2013-01-01 -1.933851  0.192824 -1.049753  0.258736  0.0\n",
       "2013-01-02  1.884892 -0.158986  0.567058  0.646440  1.0\n",
       "2013-01-03 -0.749961 -0.200973  0.589294  0.270939  2.0\n",
       "2013-01-04 -0.117302 -0.612100  1.307215 -0.108438  3.0\n",
       "2013-01-05 -1.874316 -0.993146  0.406705  1.623868  4.0\n",
       "2013-01-06  0.058644 -0.835104  0.810017 -0.079706  5.0"
      ]
     },
     "execution_count": 169,
     "metadata": {},
     "output_type": "execute_result"
    }
   ],
   "source": [
    "# now set values by label index and column label\n",
    "df.at[dates[0], 'F'] = 0\n",
    "df"
   ]
  },
  {
   "cell_type": "code",
   "execution_count": 170,
   "metadata": {
    "collapsed": false
   },
   "outputs": [
    {
     "data": {
      "text/html": [
       "<div>\n",
       "<table border=\"1\" class=\"dataframe\">\n",
       "  <thead>\n",
       "    <tr style=\"text-align: right;\">\n",
       "      <th></th>\n",
       "      <th>A</th>\n",
       "      <th>B</th>\n",
       "      <th>C</th>\n",
       "      <th>D</th>\n",
       "      <th>F</th>\n",
       "    </tr>\n",
       "  </thead>\n",
       "  <tbody>\n",
       "    <tr>\n",
       "      <th>2013-01-01</th>\n",
       "      <td>0.000000</td>\n",
       "      <td>0.192824</td>\n",
       "      <td>-1.049753</td>\n",
       "      <td>0.258736</td>\n",
       "      <td>0.0</td>\n",
       "    </tr>\n",
       "    <tr>\n",
       "      <th>2013-01-02</th>\n",
       "      <td>1.884892</td>\n",
       "      <td>-0.158986</td>\n",
       "      <td>0.567058</td>\n",
       "      <td>0.646440</td>\n",
       "      <td>1.0</td>\n",
       "    </tr>\n",
       "    <tr>\n",
       "      <th>2013-01-03</th>\n",
       "      <td>-0.749961</td>\n",
       "      <td>-0.200973</td>\n",
       "      <td>0.589294</td>\n",
       "      <td>0.270939</td>\n",
       "      <td>2.0</td>\n",
       "    </tr>\n",
       "    <tr>\n",
       "      <th>2013-01-04</th>\n",
       "      <td>-0.117302</td>\n",
       "      <td>-0.612100</td>\n",
       "      <td>1.307215</td>\n",
       "      <td>-0.108438</td>\n",
       "      <td>3.0</td>\n",
       "    </tr>\n",
       "    <tr>\n",
       "      <th>2013-01-05</th>\n",
       "      <td>-1.874316</td>\n",
       "      <td>-0.993146</td>\n",
       "      <td>0.406705</td>\n",
       "      <td>1.623868</td>\n",
       "      <td>4.0</td>\n",
       "    </tr>\n",
       "    <tr>\n",
       "      <th>2013-01-06</th>\n",
       "      <td>0.058644</td>\n",
       "      <td>-0.835104</td>\n",
       "      <td>0.810017</td>\n",
       "      <td>-0.079706</td>\n",
       "      <td>5.0</td>\n",
       "    </tr>\n",
       "  </tbody>\n",
       "</table>\n",
       "</div>"
      ],
      "text/plain": [
       "                   A         B         C         D    F\n",
       "2013-01-01  0.000000  0.192824 -1.049753  0.258736  0.0\n",
       "2013-01-02  1.884892 -0.158986  0.567058  0.646440  1.0\n",
       "2013-01-03 -0.749961 -0.200973  0.589294  0.270939  2.0\n",
       "2013-01-04 -0.117302 -0.612100  1.307215 -0.108438  3.0\n",
       "2013-01-05 -1.874316 -0.993146  0.406705  1.623868  4.0\n",
       "2013-01-06  0.058644 -0.835104  0.810017 -0.079706  5.0"
      ]
     },
     "execution_count": 170,
     "metadata": {},
     "output_type": "execute_result"
    }
   ],
   "source": [
    "# set values by position index\n",
    "df.iat[0,0] = 0\n",
    "df"
   ]
  },
  {
   "cell_type": "code",
   "execution_count": 178,
   "metadata": {
    "collapsed": false
   },
   "outputs": [
    {
     "data": {
      "text/html": [
       "<div>\n",
       "<table border=\"1\" class=\"dataframe\">\n",
       "  <thead>\n",
       "    <tr style=\"text-align: right;\">\n",
       "      <th></th>\n",
       "      <th>A</th>\n",
       "      <th>B</th>\n",
       "      <th>C</th>\n",
       "      <th>D</th>\n",
       "      <th>F</th>\n",
       "    </tr>\n",
       "  </thead>\n",
       "  <tbody>\n",
       "    <tr>\n",
       "      <th>2013-01-01</th>\n",
       "      <td>0.000000</td>\n",
       "      <td>0.192824</td>\n",
       "      <td>-1.049753</td>\n",
       "      <td>5</td>\n",
       "      <td>0.0</td>\n",
       "    </tr>\n",
       "    <tr>\n",
       "      <th>2013-01-02</th>\n",
       "      <td>1.884892</td>\n",
       "      <td>-0.158986</td>\n",
       "      <td>0.567058</td>\n",
       "      <td>5</td>\n",
       "      <td>1.0</td>\n",
       "    </tr>\n",
       "    <tr>\n",
       "      <th>2013-01-03</th>\n",
       "      <td>-0.749961</td>\n",
       "      <td>-0.200973</td>\n",
       "      <td>0.589294</td>\n",
       "      <td>5</td>\n",
       "      <td>2.0</td>\n",
       "    </tr>\n",
       "    <tr>\n",
       "      <th>2013-01-04</th>\n",
       "      <td>-0.117302</td>\n",
       "      <td>-0.612100</td>\n",
       "      <td>1.307215</td>\n",
       "      <td>5</td>\n",
       "      <td>3.0</td>\n",
       "    </tr>\n",
       "    <tr>\n",
       "      <th>2013-01-05</th>\n",
       "      <td>-1.874316</td>\n",
       "      <td>-0.993146</td>\n",
       "      <td>0.406705</td>\n",
       "      <td>5</td>\n",
       "      <td>4.0</td>\n",
       "    </tr>\n",
       "    <tr>\n",
       "      <th>2013-01-06</th>\n",
       "      <td>0.058644</td>\n",
       "      <td>-0.835104</td>\n",
       "      <td>0.810017</td>\n",
       "      <td>5</td>\n",
       "      <td>5.0</td>\n",
       "    </tr>\n",
       "  </tbody>\n",
       "</table>\n",
       "</div>"
      ],
      "text/plain": [
       "                   A         B         C  D    F\n",
       "2013-01-01  0.000000  0.192824 -1.049753  5  0.0\n",
       "2013-01-02  1.884892 -0.158986  0.567058  5  1.0\n",
       "2013-01-03 -0.749961 -0.200973  0.589294  5  2.0\n",
       "2013-01-04 -0.117302 -0.612100  1.307215  5  3.0\n",
       "2013-01-05 -1.874316 -0.993146  0.406705  5  4.0\n",
       "2013-01-06  0.058644 -0.835104  0.810017  5  5.0"
      ]
     },
     "execution_count": 178,
     "metadata": {},
     "output_type": "execute_result"
    }
   ],
   "source": [
    "# replaces all rows in column D with an ndarray of 5's of length of df dataframe\n",
    "df.loc[:,'D'] = np.array([5] * len(df))\n",
    "df"
   ]
  },
  {
   "cell_type": "code",
   "execution_count": 181,
   "metadata": {
    "collapsed": false
   },
   "outputs": [
    {
     "data": {
      "text/html": [
       "<div>\n",
       "<table border=\"1\" class=\"dataframe\">\n",
       "  <thead>\n",
       "    <tr style=\"text-align: right;\">\n",
       "      <th></th>\n",
       "      <th>A</th>\n",
       "      <th>B</th>\n",
       "      <th>C</th>\n",
       "      <th>D</th>\n",
       "      <th>F</th>\n",
       "    </tr>\n",
       "  </thead>\n",
       "  <tbody>\n",
       "    <tr>\n",
       "      <th>2013-01-01</th>\n",
       "      <td>0.000000</td>\n",
       "      <td>-0.192824</td>\n",
       "      <td>-1.049753</td>\n",
       "      <td>-5</td>\n",
       "      <td>0.0</td>\n",
       "    </tr>\n",
       "    <tr>\n",
       "      <th>2013-01-02</th>\n",
       "      <td>-1.884892</td>\n",
       "      <td>-0.158986</td>\n",
       "      <td>-0.567058</td>\n",
       "      <td>-5</td>\n",
       "      <td>-1.0</td>\n",
       "    </tr>\n",
       "    <tr>\n",
       "      <th>2013-01-03</th>\n",
       "      <td>-0.749961</td>\n",
       "      <td>-0.200973</td>\n",
       "      <td>-0.589294</td>\n",
       "      <td>-5</td>\n",
       "      <td>-2.0</td>\n",
       "    </tr>\n",
       "    <tr>\n",
       "      <th>2013-01-04</th>\n",
       "      <td>-0.117302</td>\n",
       "      <td>-0.612100</td>\n",
       "      <td>-1.307215</td>\n",
       "      <td>-5</td>\n",
       "      <td>-3.0</td>\n",
       "    </tr>\n",
       "    <tr>\n",
       "      <th>2013-01-05</th>\n",
       "      <td>-1.874316</td>\n",
       "      <td>-0.993146</td>\n",
       "      <td>-0.406705</td>\n",
       "      <td>-5</td>\n",
       "      <td>-4.0</td>\n",
       "    </tr>\n",
       "    <tr>\n",
       "      <th>2013-01-06</th>\n",
       "      <td>-0.058644</td>\n",
       "      <td>-0.835104</td>\n",
       "      <td>-0.810017</td>\n",
       "      <td>-5</td>\n",
       "      <td>-5.0</td>\n",
       "    </tr>\n",
       "  </tbody>\n",
       "</table>\n",
       "</div>"
      ],
      "text/plain": [
       "                   A         B         C  D    F\n",
       "2013-01-01  0.000000 -0.192824 -1.049753 -5  0.0\n",
       "2013-01-02 -1.884892 -0.158986 -0.567058 -5 -1.0\n",
       "2013-01-03 -0.749961 -0.200973 -0.589294 -5 -2.0\n",
       "2013-01-04 -0.117302 -0.612100 -1.307215 -5 -3.0\n",
       "2013-01-05 -1.874316 -0.993146 -0.406705 -5 -4.0\n",
       "2013-01-06 -0.058644 -0.835104 -0.810017 -5 -5.0"
      ]
     },
     "execution_count": 181,
     "metadata": {},
     "output_type": "execute_result"
    }
   ],
   "source": [
    "# conduct a where operation to replace any value greater\n",
    "# than zero with its inverse\n",
    "df2 = df.copy()\n",
    "df2[df2 > 0] = -df2\n",
    "df2"
   ]
  },
  {
   "cell_type": "markdown",
   "metadata": {},
   "source": [
    "#### Missing Data"
   ]
  },
  {
   "cell_type": "code",
   "execution_count": 182,
   "metadata": {
    "collapsed": false
   },
   "outputs": [
    {
     "data": {
      "text/html": [
       "<div>\n",
       "<table border=\"1\" class=\"dataframe\">\n",
       "  <thead>\n",
       "    <tr style=\"text-align: right;\">\n",
       "      <th></th>\n",
       "      <th>A</th>\n",
       "      <th>B</th>\n",
       "      <th>C</th>\n",
       "      <th>D</th>\n",
       "      <th>F</th>\n",
       "    </tr>\n",
       "  </thead>\n",
       "  <tbody>\n",
       "    <tr>\n",
       "      <th>2013-01-01</th>\n",
       "      <td>0.000000</td>\n",
       "      <td>0.192824</td>\n",
       "      <td>-1.049753</td>\n",
       "      <td>5</td>\n",
       "      <td>0.0</td>\n",
       "    </tr>\n",
       "    <tr>\n",
       "      <th>2013-01-02</th>\n",
       "      <td>1.884892</td>\n",
       "      <td>-0.158986</td>\n",
       "      <td>0.567058</td>\n",
       "      <td>5</td>\n",
       "      <td>1.0</td>\n",
       "    </tr>\n",
       "    <tr>\n",
       "      <th>2013-01-03</th>\n",
       "      <td>-0.749961</td>\n",
       "      <td>-0.200973</td>\n",
       "      <td>0.589294</td>\n",
       "      <td>5</td>\n",
       "      <td>2.0</td>\n",
       "    </tr>\n",
       "    <tr>\n",
       "      <th>2013-01-04</th>\n",
       "      <td>-0.117302</td>\n",
       "      <td>-0.612100</td>\n",
       "      <td>1.307215</td>\n",
       "      <td>5</td>\n",
       "      <td>3.0</td>\n",
       "    </tr>\n",
       "    <tr>\n",
       "      <th>2013-01-05</th>\n",
       "      <td>-1.874316</td>\n",
       "      <td>-0.993146</td>\n",
       "      <td>0.406705</td>\n",
       "      <td>5</td>\n",
       "      <td>4.0</td>\n",
       "    </tr>\n",
       "    <tr>\n",
       "      <th>2013-01-06</th>\n",
       "      <td>0.058644</td>\n",
       "      <td>-0.835104</td>\n",
       "      <td>0.810017</td>\n",
       "      <td>5</td>\n",
       "      <td>5.0</td>\n",
       "    </tr>\n",
       "  </tbody>\n",
       "</table>\n",
       "</div>"
      ],
      "text/plain": [
       "                   A         B         C  D    F\n",
       "2013-01-01  0.000000  0.192824 -1.049753  5  0.0\n",
       "2013-01-02  1.884892 -0.158986  0.567058  5  1.0\n",
       "2013-01-03 -0.749961 -0.200973  0.589294  5  2.0\n",
       "2013-01-04 -0.117302 -0.612100  1.307215  5  3.0\n",
       "2013-01-05 -1.874316 -0.993146  0.406705  5  4.0\n",
       "2013-01-06  0.058644 -0.835104  0.810017  5  5.0"
      ]
     },
     "execution_count": 182,
     "metadata": {},
     "output_type": "execute_result"
    }
   ],
   "source": [
    "# show original dataframe\n",
    "df"
   ]
  },
  {
   "cell_type": "code",
   "execution_count": 183,
   "metadata": {
    "collapsed": false
   },
   "outputs": [
    {
     "data": {
      "text/html": [
       "<div>\n",
       "<table border=\"1\" class=\"dataframe\">\n",
       "  <thead>\n",
       "    <tr style=\"text-align: right;\">\n",
       "      <th></th>\n",
       "      <th>A</th>\n",
       "      <th>B</th>\n",
       "      <th>C</th>\n",
       "      <th>D</th>\n",
       "      <th>F</th>\n",
       "      <th>E</th>\n",
       "    </tr>\n",
       "  </thead>\n",
       "  <tbody>\n",
       "    <tr>\n",
       "      <th>2013-01-01</th>\n",
       "      <td>0.000000</td>\n",
       "      <td>0.192824</td>\n",
       "      <td>-1.049753</td>\n",
       "      <td>5</td>\n",
       "      <td>0.0</td>\n",
       "      <td>NaN</td>\n",
       "    </tr>\n",
       "    <tr>\n",
       "      <th>2013-01-02</th>\n",
       "      <td>1.884892</td>\n",
       "      <td>-0.158986</td>\n",
       "      <td>0.567058</td>\n",
       "      <td>5</td>\n",
       "      <td>1.0</td>\n",
       "      <td>NaN</td>\n",
       "    </tr>\n",
       "    <tr>\n",
       "      <th>2013-01-03</th>\n",
       "      <td>-0.749961</td>\n",
       "      <td>-0.200973</td>\n",
       "      <td>0.589294</td>\n",
       "      <td>5</td>\n",
       "      <td>2.0</td>\n",
       "      <td>NaN</td>\n",
       "    </tr>\n",
       "    <tr>\n",
       "      <th>2013-01-04</th>\n",
       "      <td>-0.117302</td>\n",
       "      <td>-0.612100</td>\n",
       "      <td>1.307215</td>\n",
       "      <td>5</td>\n",
       "      <td>3.0</td>\n",
       "      <td>NaN</td>\n",
       "    </tr>\n",
       "  </tbody>\n",
       "</table>\n",
       "</div>"
      ],
      "text/plain": [
       "                   A         B         C  D    F   E\n",
       "2013-01-01  0.000000  0.192824 -1.049753  5  0.0 NaN\n",
       "2013-01-02  1.884892 -0.158986  0.567058  5  1.0 NaN\n",
       "2013-01-03 -0.749961 -0.200973  0.589294  5  2.0 NaN\n",
       "2013-01-04 -0.117302 -0.612100  1.307215  5  3.0 NaN"
      ]
     },
     "execution_count": 183,
     "metadata": {},
     "output_type": "execute_result"
    }
   ],
   "source": [
    "# reindex allow you to change/add/delete the index of a specified axis\n",
    "\n",
    "# reindexes to only include 0th, 1th, 2th, 3th index (rows)\n",
    "# uses same columns but adds one call 'E' that initially has NaN in all\n",
    "df1 = df.reindex(index=dates[0:4], columns=list(df.columns) + ['E'])\n",
    "df1"
   ]
  },
  {
   "cell_type": "code",
   "execution_count": 184,
   "metadata": {
    "collapsed": false
   },
   "outputs": [
    {
     "data": {
      "text/html": [
       "<div>\n",
       "<table border=\"1\" class=\"dataframe\">\n",
       "  <thead>\n",
       "    <tr style=\"text-align: right;\">\n",
       "      <th></th>\n",
       "      <th>A</th>\n",
       "      <th>B</th>\n",
       "      <th>C</th>\n",
       "      <th>D</th>\n",
       "      <th>F</th>\n",
       "      <th>E</th>\n",
       "    </tr>\n",
       "  </thead>\n",
       "  <tbody>\n",
       "    <tr>\n",
       "      <th>2013-01-01</th>\n",
       "      <td>0.000000</td>\n",
       "      <td>0.192824</td>\n",
       "      <td>-1.049753</td>\n",
       "      <td>5</td>\n",
       "      <td>0.0</td>\n",
       "      <td>1.0</td>\n",
       "    </tr>\n",
       "    <tr>\n",
       "      <th>2013-01-02</th>\n",
       "      <td>1.884892</td>\n",
       "      <td>-0.158986</td>\n",
       "      <td>0.567058</td>\n",
       "      <td>5</td>\n",
       "      <td>1.0</td>\n",
       "      <td>1.0</td>\n",
       "    </tr>\n",
       "    <tr>\n",
       "      <th>2013-01-03</th>\n",
       "      <td>-0.749961</td>\n",
       "      <td>-0.200973</td>\n",
       "      <td>0.589294</td>\n",
       "      <td>5</td>\n",
       "      <td>2.0</td>\n",
       "      <td>NaN</td>\n",
       "    </tr>\n",
       "    <tr>\n",
       "      <th>2013-01-04</th>\n",
       "      <td>-0.117302</td>\n",
       "      <td>-0.612100</td>\n",
       "      <td>1.307215</td>\n",
       "      <td>5</td>\n",
       "      <td>3.0</td>\n",
       "      <td>NaN</td>\n",
       "    </tr>\n",
       "  </tbody>\n",
       "</table>\n",
       "</div>"
      ],
      "text/plain": [
       "                   A         B         C  D    F    E\n",
       "2013-01-01  0.000000  0.192824 -1.049753  5  0.0  1.0\n",
       "2013-01-02  1.884892 -0.158986  0.567058  5  1.0  1.0\n",
       "2013-01-03 -0.749961 -0.200973  0.589294  5  2.0  NaN\n",
       "2013-01-04 -0.117302 -0.612100  1.307215  5  3.0  NaN"
      ]
     },
     "execution_count": 184,
     "metadata": {},
     "output_type": "execute_result"
    }
   ],
   "source": [
    "# change the 0th and 1th values to 1.0\n",
    "df1.loc[dates[0]:dates[1], 'E'] = 1 # notice enpoint on rows is inclusive\n",
    "df1"
   ]
  },
  {
   "cell_type": "code",
   "execution_count": 185,
   "metadata": {
    "collapsed": false
   },
   "outputs": [
    {
     "data": {
      "text/html": [
       "<div>\n",
       "<table border=\"1\" class=\"dataframe\">\n",
       "  <thead>\n",
       "    <tr style=\"text-align: right;\">\n",
       "      <th></th>\n",
       "      <th>A</th>\n",
       "      <th>B</th>\n",
       "      <th>C</th>\n",
       "      <th>D</th>\n",
       "      <th>F</th>\n",
       "      <th>E</th>\n",
       "    </tr>\n",
       "  </thead>\n",
       "  <tbody>\n",
       "    <tr>\n",
       "      <th>2013-01-01</th>\n",
       "      <td>0.000000</td>\n",
       "      <td>0.192824</td>\n",
       "      <td>-1.049753</td>\n",
       "      <td>5</td>\n",
       "      <td>0.0</td>\n",
       "      <td>1.0</td>\n",
       "    </tr>\n",
       "    <tr>\n",
       "      <th>2013-01-02</th>\n",
       "      <td>1.884892</td>\n",
       "      <td>-0.158986</td>\n",
       "      <td>0.567058</td>\n",
       "      <td>5</td>\n",
       "      <td>1.0</td>\n",
       "      <td>1.0</td>\n",
       "    </tr>\n",
       "  </tbody>\n",
       "</table>\n",
       "</div>"
      ],
      "text/plain": [
       "                   A         B         C  D    F    E\n",
       "2013-01-01  0.000000  0.192824 -1.049753  5  0.0  1.0\n",
       "2013-01-02  1.884892 -0.158986  0.567058  5  1.0  1.0"
      ]
     },
     "execution_count": 185,
     "metadata": {},
     "output_type": "execute_result"
    }
   ],
   "source": [
    "# drop any rows that have missing data\n",
    "df1.dropna(how='any')"
   ]
  },
  {
   "cell_type": "code",
   "execution_count": 186,
   "metadata": {
    "collapsed": false
   },
   "outputs": [
    {
     "data": {
      "text/html": [
       "<div>\n",
       "<table border=\"1\" class=\"dataframe\">\n",
       "  <thead>\n",
       "    <tr style=\"text-align: right;\">\n",
       "      <th></th>\n",
       "      <th>A</th>\n",
       "      <th>B</th>\n",
       "      <th>C</th>\n",
       "      <th>D</th>\n",
       "      <th>F</th>\n",
       "      <th>E</th>\n",
       "    </tr>\n",
       "  </thead>\n",
       "  <tbody>\n",
       "    <tr>\n",
       "      <th>2013-01-01</th>\n",
       "      <td>0.000000</td>\n",
       "      <td>0.192824</td>\n",
       "      <td>-1.049753</td>\n",
       "      <td>5</td>\n",
       "      <td>0.0</td>\n",
       "      <td>1.0</td>\n",
       "    </tr>\n",
       "    <tr>\n",
       "      <th>2013-01-02</th>\n",
       "      <td>1.884892</td>\n",
       "      <td>-0.158986</td>\n",
       "      <td>0.567058</td>\n",
       "      <td>5</td>\n",
       "      <td>1.0</td>\n",
       "      <td>1.0</td>\n",
       "    </tr>\n",
       "    <tr>\n",
       "      <th>2013-01-03</th>\n",
       "      <td>-0.749961</td>\n",
       "      <td>-0.200973</td>\n",
       "      <td>0.589294</td>\n",
       "      <td>5</td>\n",
       "      <td>2.0</td>\n",
       "      <td>5.0</td>\n",
       "    </tr>\n",
       "    <tr>\n",
       "      <th>2013-01-04</th>\n",
       "      <td>-0.117302</td>\n",
       "      <td>-0.612100</td>\n",
       "      <td>1.307215</td>\n",
       "      <td>5</td>\n",
       "      <td>3.0</td>\n",
       "      <td>5.0</td>\n",
       "    </tr>\n",
       "  </tbody>\n",
       "</table>\n",
       "</div>"
      ],
      "text/plain": [
       "                   A         B         C  D    F    E\n",
       "2013-01-01  0.000000  0.192824 -1.049753  5  0.0  1.0\n",
       "2013-01-02  1.884892 -0.158986  0.567058  5  1.0  1.0\n",
       "2013-01-03 -0.749961 -0.200973  0.589294  5  2.0  5.0\n",
       "2013-01-04 -0.117302 -0.612100  1.307215  5  3.0  5.0"
      ]
     },
     "execution_count": 186,
     "metadata": {},
     "output_type": "execute_result"
    }
   ],
   "source": [
    "# fill in missing data\n",
    "df1.fillna(value=5)"
   ]
  },
  {
   "cell_type": "code",
   "execution_count": 187,
   "metadata": {
    "collapsed": false
   },
   "outputs": [
    {
     "data": {
      "text/html": [
       "<div>\n",
       "<table border=\"1\" class=\"dataframe\">\n",
       "  <thead>\n",
       "    <tr style=\"text-align: right;\">\n",
       "      <th></th>\n",
       "      <th>A</th>\n",
       "      <th>B</th>\n",
       "      <th>C</th>\n",
       "      <th>D</th>\n",
       "      <th>F</th>\n",
       "      <th>E</th>\n",
       "    </tr>\n",
       "  </thead>\n",
       "  <tbody>\n",
       "    <tr>\n",
       "      <th>2013-01-01</th>\n",
       "      <td>False</td>\n",
       "      <td>False</td>\n",
       "      <td>False</td>\n",
       "      <td>False</td>\n",
       "      <td>False</td>\n",
       "      <td>False</td>\n",
       "    </tr>\n",
       "    <tr>\n",
       "      <th>2013-01-02</th>\n",
       "      <td>False</td>\n",
       "      <td>False</td>\n",
       "      <td>False</td>\n",
       "      <td>False</td>\n",
       "      <td>False</td>\n",
       "      <td>False</td>\n",
       "    </tr>\n",
       "    <tr>\n",
       "      <th>2013-01-03</th>\n",
       "      <td>False</td>\n",
       "      <td>False</td>\n",
       "      <td>False</td>\n",
       "      <td>False</td>\n",
       "      <td>False</td>\n",
       "      <td>True</td>\n",
       "    </tr>\n",
       "    <tr>\n",
       "      <th>2013-01-04</th>\n",
       "      <td>False</td>\n",
       "      <td>False</td>\n",
       "      <td>False</td>\n",
       "      <td>False</td>\n",
       "      <td>False</td>\n",
       "      <td>True</td>\n",
       "    </tr>\n",
       "  </tbody>\n",
       "</table>\n",
       "</div>"
      ],
      "text/plain": [
       "                A      B      C      D      F      E\n",
       "2013-01-01  False  False  False  False  False  False\n",
       "2013-01-02  False  False  False  False  False  False\n",
       "2013-01-03  False  False  False  False  False   True\n",
       "2013-01-04  False  False  False  False  False   True"
      ]
     },
     "execution_count": 187,
     "metadata": {},
     "output_type": "execute_result"
    }
   ],
   "source": [
    "# get boolean mask where values are nan\n",
    "pd.isnull(df1)"
   ]
  },
  {
   "cell_type": "markdown",
   "metadata": {},
   "source": [
    "### Operations"
   ]
  },
  {
   "cell_type": "markdown",
   "metadata": {},
   "source": [
    "#### Stats"
   ]
  },
  {
   "cell_type": "code",
   "execution_count": 188,
   "metadata": {
    "collapsed": false
   },
   "outputs": [
    {
     "data": {
      "text/html": [
       "<div>\n",
       "<table border=\"1\" class=\"dataframe\">\n",
       "  <thead>\n",
       "    <tr style=\"text-align: right;\">\n",
       "      <th></th>\n",
       "      <th>A</th>\n",
       "      <th>B</th>\n",
       "      <th>C</th>\n",
       "      <th>D</th>\n",
       "      <th>F</th>\n",
       "    </tr>\n",
       "  </thead>\n",
       "  <tbody>\n",
       "    <tr>\n",
       "      <th>2013-01-01</th>\n",
       "      <td>0.000000</td>\n",
       "      <td>0.192824</td>\n",
       "      <td>-1.049753</td>\n",
       "      <td>5</td>\n",
       "      <td>0.0</td>\n",
       "    </tr>\n",
       "    <tr>\n",
       "      <th>2013-01-02</th>\n",
       "      <td>1.884892</td>\n",
       "      <td>-0.158986</td>\n",
       "      <td>0.567058</td>\n",
       "      <td>5</td>\n",
       "      <td>1.0</td>\n",
       "    </tr>\n",
       "    <tr>\n",
       "      <th>2013-01-03</th>\n",
       "      <td>-0.749961</td>\n",
       "      <td>-0.200973</td>\n",
       "      <td>0.589294</td>\n",
       "      <td>5</td>\n",
       "      <td>2.0</td>\n",
       "    </tr>\n",
       "    <tr>\n",
       "      <th>2013-01-04</th>\n",
       "      <td>-0.117302</td>\n",
       "      <td>-0.612100</td>\n",
       "      <td>1.307215</td>\n",
       "      <td>5</td>\n",
       "      <td>3.0</td>\n",
       "    </tr>\n",
       "    <tr>\n",
       "      <th>2013-01-05</th>\n",
       "      <td>-1.874316</td>\n",
       "      <td>-0.993146</td>\n",
       "      <td>0.406705</td>\n",
       "      <td>5</td>\n",
       "      <td>4.0</td>\n",
       "    </tr>\n",
       "    <tr>\n",
       "      <th>2013-01-06</th>\n",
       "      <td>0.058644</td>\n",
       "      <td>-0.835104</td>\n",
       "      <td>0.810017</td>\n",
       "      <td>5</td>\n",
       "      <td>5.0</td>\n",
       "    </tr>\n",
       "  </tbody>\n",
       "</table>\n",
       "</div>"
      ],
      "text/plain": [
       "                   A         B         C  D    F\n",
       "2013-01-01  0.000000  0.192824 -1.049753  5  0.0\n",
       "2013-01-02  1.884892 -0.158986  0.567058  5  1.0\n",
       "2013-01-03 -0.749961 -0.200973  0.589294  5  2.0\n",
       "2013-01-04 -0.117302 -0.612100  1.307215  5  3.0\n",
       "2013-01-05 -1.874316 -0.993146  0.406705  5  4.0\n",
       "2013-01-06  0.058644 -0.835104  0.810017  5  5.0"
      ]
     },
     "execution_count": 188,
     "metadata": {},
     "output_type": "execute_result"
    }
   ],
   "source": [
    "# show original dataframe\n",
    "df"
   ]
  },
  {
   "cell_type": "code",
   "execution_count": 189,
   "metadata": {
    "collapsed": false
   },
   "outputs": [
    {
     "data": {
      "text/plain": [
       "A   -0.133007\n",
       "B   -0.434581\n",
       "C    0.438423\n",
       "D    5.000000\n",
       "F    2.500000\n",
       "dtype: float64"
      ]
     },
     "execution_count": 189,
     "metadata": {},
     "output_type": "execute_result"
    }
   ],
   "source": [
    "# the mean of each column\n",
    "df.mean()"
   ]
  },
  {
   "cell_type": "code",
   "execution_count": 190,
   "metadata": {
    "collapsed": false
   },
   "outputs": [
    {
     "data": {
      "text/plain": [
       "2013-01-01    0.828614\n",
       "2013-01-02    1.658593\n",
       "2013-01-03    1.327672\n",
       "2013-01-04    1.715562\n",
       "2013-01-05    1.307848\n",
       "2013-01-06    2.006711\n",
       "Freq: D, dtype: float64"
      ]
     },
     "execution_count": 190,
     "metadata": {},
     "output_type": "execute_result"
    }
   ],
   "source": [
    "# mean across rows\n",
    "df.mean(1)"
   ]
  },
  {
   "cell_type": "code",
   "execution_count": 191,
   "metadata": {
    "collapsed": false
   },
   "outputs": [
    {
     "data": {
      "text/plain": [
       "2013-01-01    1.0\n",
       "2013-01-02    3.0\n",
       "2013-01-03    5.0\n",
       "2013-01-04    NaN\n",
       "2013-01-05    6.0\n",
       "2013-01-06    8.0\n",
       "Freq: D, dtype: float64"
      ]
     },
     "execution_count": 191,
     "metadata": {},
     "output_type": "execute_result"
    }
   ],
   "source": [
    "s = pd.Series([1,3,5,np.nan,6,8], index=dates)\n",
    "s"
   ]
  },
  {
   "cell_type": "code",
   "execution_count": 192,
   "metadata": {
    "collapsed": false
   },
   "outputs": [
    {
     "data": {
      "text/plain": [
       "2013-01-01    NaN\n",
       "2013-01-02    NaN\n",
       "2013-01-03    1.0\n",
       "2013-01-04    3.0\n",
       "2013-01-05    5.0\n",
       "2013-01-06    NaN\n",
       "Freq: D, dtype: float64"
      ]
     },
     "execution_count": 192,
     "metadata": {},
     "output_type": "execute_result"
    }
   ],
   "source": [
    "# shift all values down 2 (newly freed values are now NaN)\n",
    "s.shift(2)"
   ]
  },
  {
   "cell_type": "code",
   "execution_count": 193,
   "metadata": {
    "collapsed": false
   },
   "outputs": [
    {
     "data": {
      "text/html": [
       "<div>\n",
       "<table border=\"1\" class=\"dataframe\">\n",
       "  <thead>\n",
       "    <tr style=\"text-align: right;\">\n",
       "      <th></th>\n",
       "      <th>A</th>\n",
       "      <th>B</th>\n",
       "      <th>C</th>\n",
       "      <th>D</th>\n",
       "      <th>F</th>\n",
       "    </tr>\n",
       "  </thead>\n",
       "  <tbody>\n",
       "    <tr>\n",
       "      <th>2013-01-01</th>\n",
       "      <td>0.000000</td>\n",
       "      <td>0.192824</td>\n",
       "      <td>-1.049753</td>\n",
       "      <td>5</td>\n",
       "      <td>0.0</td>\n",
       "    </tr>\n",
       "    <tr>\n",
       "      <th>2013-01-02</th>\n",
       "      <td>1.884892</td>\n",
       "      <td>-0.158986</td>\n",
       "      <td>0.567058</td>\n",
       "      <td>5</td>\n",
       "      <td>1.0</td>\n",
       "    </tr>\n",
       "    <tr>\n",
       "      <th>2013-01-03</th>\n",
       "      <td>-0.749961</td>\n",
       "      <td>-0.200973</td>\n",
       "      <td>0.589294</td>\n",
       "      <td>5</td>\n",
       "      <td>2.0</td>\n",
       "    </tr>\n",
       "    <tr>\n",
       "      <th>2013-01-04</th>\n",
       "      <td>-0.117302</td>\n",
       "      <td>-0.612100</td>\n",
       "      <td>1.307215</td>\n",
       "      <td>5</td>\n",
       "      <td>3.0</td>\n",
       "    </tr>\n",
       "    <tr>\n",
       "      <th>2013-01-05</th>\n",
       "      <td>-1.874316</td>\n",
       "      <td>-0.993146</td>\n",
       "      <td>0.406705</td>\n",
       "      <td>5</td>\n",
       "      <td>4.0</td>\n",
       "    </tr>\n",
       "    <tr>\n",
       "      <th>2013-01-06</th>\n",
       "      <td>0.058644</td>\n",
       "      <td>-0.835104</td>\n",
       "      <td>0.810017</td>\n",
       "      <td>5</td>\n",
       "      <td>5.0</td>\n",
       "    </tr>\n",
       "  </tbody>\n",
       "</table>\n",
       "</div>"
      ],
      "text/plain": [
       "                   A         B         C  D    F\n",
       "2013-01-01  0.000000  0.192824 -1.049753  5  0.0\n",
       "2013-01-02  1.884892 -0.158986  0.567058  5  1.0\n",
       "2013-01-03 -0.749961 -0.200973  0.589294  5  2.0\n",
       "2013-01-04 -0.117302 -0.612100  1.307215  5  3.0\n",
       "2013-01-05 -1.874316 -0.993146  0.406705  5  4.0\n",
       "2013-01-06  0.058644 -0.835104  0.810017  5  5.0"
      ]
     },
     "execution_count": 193,
     "metadata": {},
     "output_type": "execute_result"
    }
   ],
   "source": [
    "# show df dataframe again\n",
    "df"
   ]
  },
  {
   "cell_type": "code",
   "execution_count": 195,
   "metadata": {
    "collapsed": false
   },
   "outputs": [
    {
     "data": {
      "text/html": [
       "<div>\n",
       "<table border=\"1\" class=\"dataframe\">\n",
       "  <thead>\n",
       "    <tr style=\"text-align: right;\">\n",
       "      <th></th>\n",
       "      <th>A</th>\n",
       "      <th>B</th>\n",
       "      <th>C</th>\n",
       "      <th>D</th>\n",
       "      <th>F</th>\n",
       "    </tr>\n",
       "  </thead>\n",
       "  <tbody>\n",
       "    <tr>\n",
       "      <th>2013-01-01</th>\n",
       "      <td>-1.000000</td>\n",
       "      <td>-0.807176</td>\n",
       "      <td>-2.049753</td>\n",
       "      <td>4.0</td>\n",
       "      <td>-1.0</td>\n",
       "    </tr>\n",
       "    <tr>\n",
       "      <th>2013-01-02</th>\n",
       "      <td>-1.115108</td>\n",
       "      <td>-3.158986</td>\n",
       "      <td>-2.432942</td>\n",
       "      <td>2.0</td>\n",
       "      <td>-2.0</td>\n",
       "    </tr>\n",
       "    <tr>\n",
       "      <th>2013-01-03</th>\n",
       "      <td>-5.749961</td>\n",
       "      <td>-5.200973</td>\n",
       "      <td>-4.410706</td>\n",
       "      <td>0.0</td>\n",
       "      <td>-3.0</td>\n",
       "    </tr>\n",
       "    <tr>\n",
       "      <th>2013-01-04</th>\n",
       "      <td>NaN</td>\n",
       "      <td>NaN</td>\n",
       "      <td>NaN</td>\n",
       "      <td>NaN</td>\n",
       "      <td>NaN</td>\n",
       "    </tr>\n",
       "    <tr>\n",
       "      <th>2013-01-05</th>\n",
       "      <td>-7.874316</td>\n",
       "      <td>-6.993146</td>\n",
       "      <td>-5.593295</td>\n",
       "      <td>-1.0</td>\n",
       "      <td>-2.0</td>\n",
       "    </tr>\n",
       "    <tr>\n",
       "      <th>2013-01-06</th>\n",
       "      <td>-7.941356</td>\n",
       "      <td>-8.835104</td>\n",
       "      <td>-7.189983</td>\n",
       "      <td>-3.0</td>\n",
       "      <td>-3.0</td>\n",
       "    </tr>\n",
       "  </tbody>\n",
       "</table>\n",
       "</div>"
      ],
      "text/plain": [
       "                   A         B         C    D    F\n",
       "2013-01-01 -1.000000 -0.807176 -2.049753  4.0 -1.0\n",
       "2013-01-02 -1.115108 -3.158986 -2.432942  2.0 -2.0\n",
       "2013-01-03 -5.749961 -5.200973 -4.410706  0.0 -3.0\n",
       "2013-01-04       NaN       NaN       NaN  NaN  NaN\n",
       "2013-01-05 -7.874316 -6.993146 -5.593295 -1.0 -2.0\n",
       "2013-01-06 -7.941356 -8.835104 -7.189983 -3.0 -3.0"
      ]
     },
     "execution_count": 195,
     "metadata": {},
     "output_type": "execute_result"
    }
   ],
   "source": [
    "# deletes the values in Series s from the corresponding\n",
    "# index from df\n",
    "df.sub(s, axis='index')"
   ]
  },
  {
   "cell_type": "markdown",
   "metadata": {},
   "source": [
    "#### Apply"
   ]
  },
  {
   "cell_type": "code",
   "execution_count": 196,
   "metadata": {
    "collapsed": false
   },
   "outputs": [
    {
     "data": {
      "text/html": [
       "<div>\n",
       "<table border=\"1\" class=\"dataframe\">\n",
       "  <thead>\n",
       "    <tr style=\"text-align: right;\">\n",
       "      <th></th>\n",
       "      <th>A</th>\n",
       "      <th>B</th>\n",
       "      <th>C</th>\n",
       "      <th>D</th>\n",
       "      <th>F</th>\n",
       "    </tr>\n",
       "  </thead>\n",
       "  <tbody>\n",
       "    <tr>\n",
       "      <th>2013-01-01</th>\n",
       "      <td>0.000000</td>\n",
       "      <td>0.192824</td>\n",
       "      <td>-1.049753</td>\n",
       "      <td>5</td>\n",
       "      <td>0.0</td>\n",
       "    </tr>\n",
       "    <tr>\n",
       "      <th>2013-01-02</th>\n",
       "      <td>1.884892</td>\n",
       "      <td>-0.158986</td>\n",
       "      <td>0.567058</td>\n",
       "      <td>5</td>\n",
       "      <td>1.0</td>\n",
       "    </tr>\n",
       "    <tr>\n",
       "      <th>2013-01-03</th>\n",
       "      <td>-0.749961</td>\n",
       "      <td>-0.200973</td>\n",
       "      <td>0.589294</td>\n",
       "      <td>5</td>\n",
       "      <td>2.0</td>\n",
       "    </tr>\n",
       "    <tr>\n",
       "      <th>2013-01-04</th>\n",
       "      <td>-0.117302</td>\n",
       "      <td>-0.612100</td>\n",
       "      <td>1.307215</td>\n",
       "      <td>5</td>\n",
       "      <td>3.0</td>\n",
       "    </tr>\n",
       "    <tr>\n",
       "      <th>2013-01-05</th>\n",
       "      <td>-1.874316</td>\n",
       "      <td>-0.993146</td>\n",
       "      <td>0.406705</td>\n",
       "      <td>5</td>\n",
       "      <td>4.0</td>\n",
       "    </tr>\n",
       "    <tr>\n",
       "      <th>2013-01-06</th>\n",
       "      <td>0.058644</td>\n",
       "      <td>-0.835104</td>\n",
       "      <td>0.810017</td>\n",
       "      <td>5</td>\n",
       "      <td>5.0</td>\n",
       "    </tr>\n",
       "  </tbody>\n",
       "</table>\n",
       "</div>"
      ],
      "text/plain": [
       "                   A         B         C  D    F\n",
       "2013-01-01  0.000000  0.192824 -1.049753  5  0.0\n",
       "2013-01-02  1.884892 -0.158986  0.567058  5  1.0\n",
       "2013-01-03 -0.749961 -0.200973  0.589294  5  2.0\n",
       "2013-01-04 -0.117302 -0.612100  1.307215  5  3.0\n",
       "2013-01-05 -1.874316 -0.993146  0.406705  5  4.0\n",
       "2013-01-06  0.058644 -0.835104  0.810017  5  5.0"
      ]
     },
     "execution_count": 196,
     "metadata": {},
     "output_type": "execute_result"
    }
   ],
   "source": [
    "df"
   ]
  },
  {
   "cell_type": "code",
   "execution_count": 197,
   "metadata": {
    "collapsed": false
   },
   "outputs": [
    {
     "data": {
      "text/html": [
       "<div>\n",
       "<table border=\"1\" class=\"dataframe\">\n",
       "  <thead>\n",
       "    <tr style=\"text-align: right;\">\n",
       "      <th></th>\n",
       "      <th>A</th>\n",
       "      <th>B</th>\n",
       "      <th>C</th>\n",
       "      <th>D</th>\n",
       "      <th>F</th>\n",
       "    </tr>\n",
       "  </thead>\n",
       "  <tbody>\n",
       "    <tr>\n",
       "      <th>2013-01-01</th>\n",
       "      <td>0.000000</td>\n",
       "      <td>0.192824</td>\n",
       "      <td>-1.049753</td>\n",
       "      <td>5</td>\n",
       "      <td>0.0</td>\n",
       "    </tr>\n",
       "    <tr>\n",
       "      <th>2013-01-02</th>\n",
       "      <td>1.884892</td>\n",
       "      <td>0.033837</td>\n",
       "      <td>-0.482695</td>\n",
       "      <td>10</td>\n",
       "      <td>1.0</td>\n",
       "    </tr>\n",
       "    <tr>\n",
       "      <th>2013-01-03</th>\n",
       "      <td>1.134931</td>\n",
       "      <td>-0.167136</td>\n",
       "      <td>0.106599</td>\n",
       "      <td>15</td>\n",
       "      <td>3.0</td>\n",
       "    </tr>\n",
       "    <tr>\n",
       "      <th>2013-01-04</th>\n",
       "      <td>1.017630</td>\n",
       "      <td>-0.779236</td>\n",
       "      <td>1.413813</td>\n",
       "      <td>20</td>\n",
       "      <td>6.0</td>\n",
       "    </tr>\n",
       "    <tr>\n",
       "      <th>2013-01-05</th>\n",
       "      <td>-0.856687</td>\n",
       "      <td>-1.772383</td>\n",
       "      <td>1.820519</td>\n",
       "      <td>25</td>\n",
       "      <td>10.0</td>\n",
       "    </tr>\n",
       "    <tr>\n",
       "      <th>2013-01-06</th>\n",
       "      <td>-0.798043</td>\n",
       "      <td>-2.607487</td>\n",
       "      <td>2.630536</td>\n",
       "      <td>30</td>\n",
       "      <td>15.0</td>\n",
       "    </tr>\n",
       "  </tbody>\n",
       "</table>\n",
       "</div>"
      ],
      "text/plain": [
       "                   A         B         C   D     F\n",
       "2013-01-01  0.000000  0.192824 -1.049753   5   0.0\n",
       "2013-01-02  1.884892  0.033837 -0.482695  10   1.0\n",
       "2013-01-03  1.134931 -0.167136  0.106599  15   3.0\n",
       "2013-01-04  1.017630 -0.779236  1.413813  20   6.0\n",
       "2013-01-05 -0.856687 -1.772383  1.820519  25  10.0\n",
       "2013-01-06 -0.798043 -2.607487  2.630536  30  15.0"
      ]
     },
     "execution_count": 197,
     "metadata": {},
     "output_type": "execute_result"
    }
   ],
   "source": [
    "# .apply applies a function along the input axis ('index' by default)\n",
    "# np.cumsum is cumulative sum function from numpy, which adds up as it goes down\n",
    "df.apply(np.cumsum)"
   ]
  },
  {
   "cell_type": "markdown",
   "metadata": {},
   "source": [
    "#### Histogramming"
   ]
  },
  {
   "cell_type": "code",
   "execution_count": 198,
   "metadata": {
    "collapsed": false
   },
   "outputs": [
    {
     "data": {
      "text/plain": [
       "0    5\n",
       "1    6\n",
       "2    2\n",
       "3    4\n",
       "4    5\n",
       "5    1\n",
       "6    1\n",
       "7    6\n",
       "8    0\n",
       "9    3\n",
       "dtype: int64"
      ]
     },
     "execution_count": 198,
     "metadata": {},
     "output_type": "execute_result"
    }
   ],
   "source": [
    "# numpy function np.random.randint(low inclusive, high exclusive, how many to make)\n",
    "s = pd.Series(np.random.randint(0,7, size=10))\n",
    "s"
   ]
  },
  {
   "cell_type": "code",
   "execution_count": 199,
   "metadata": {
    "collapsed": false
   },
   "outputs": [
    {
     "data": {
      "text/plain": [
       "6    2\n",
       "5    2\n",
       "1    2\n",
       "4    1\n",
       "3    1\n",
       "2    1\n",
       "0    1\n",
       "dtype: int64"
      ]
     },
     "execution_count": 199,
     "metadata": {},
     "output_type": "execute_result"
    }
   ],
   "source": [
    "# count frequency of each value\n",
    "# value on left (x sub j), frequency on right\n",
    "s.value_counts()"
   ]
  },
  {
   "cell_type": "markdown",
   "metadata": {},
   "source": [
    "#### String Methods"
   ]
  },
  {
   "cell_type": "code",
   "execution_count": 200,
   "metadata": {
    "collapsed": false
   },
   "outputs": [
    {
     "data": {
      "text/plain": [
       "0       a\n",
       "1       b\n",
       "2       c\n",
       "3    aaba\n",
       "4    baca\n",
       "5     NaN\n",
       "6    caba\n",
       "7     dog\n",
       "8     cat\n",
       "dtype: object"
      ]
     },
     "execution_count": 200,
     "metadata": {},
     "output_type": "execute_result"
    }
   ],
   "source": [
    "# Series can process strings. Uses regular expressions in many cases\n",
    "s = pd.Series(['A', 'B', 'C', 'Aaba', 'Baca', np.nan, 'CABA', 'dog', 'cat'])\n",
    "# make all lowercase\n",
    "s.str.lower()"
   ]
  },
  {
   "cell_type": "markdown",
   "metadata": {},
   "source": [
    "#### Merge"
   ]
  },
  {
   "cell_type": "code",
   "execution_count": 201,
   "metadata": {
    "collapsed": false
   },
   "outputs": [
    {
     "data": {
      "text/html": [
       "<div>\n",
       "<table border=\"1\" class=\"dataframe\">\n",
       "  <thead>\n",
       "    <tr style=\"text-align: right;\">\n",
       "      <th></th>\n",
       "      <th>0</th>\n",
       "      <th>1</th>\n",
       "      <th>2</th>\n",
       "      <th>3</th>\n",
       "    </tr>\n",
       "  </thead>\n",
       "  <tbody>\n",
       "    <tr>\n",
       "      <th>0</th>\n",
       "      <td>-2.819118</td>\n",
       "      <td>2.006837</td>\n",
       "      <td>2.435488</td>\n",
       "      <td>0.783915</td>\n",
       "    </tr>\n",
       "    <tr>\n",
       "      <th>1</th>\n",
       "      <td>-0.426165</td>\n",
       "      <td>1.703072</td>\n",
       "      <td>2.115495</td>\n",
       "      <td>-0.984837</td>\n",
       "    </tr>\n",
       "    <tr>\n",
       "      <th>2</th>\n",
       "      <td>0.064388</td>\n",
       "      <td>0.997028</td>\n",
       "      <td>0.709132</td>\n",
       "      <td>0.021503</td>\n",
       "    </tr>\n",
       "    <tr>\n",
       "      <th>3</th>\n",
       "      <td>0.368851</td>\n",
       "      <td>-0.142451</td>\n",
       "      <td>1.029008</td>\n",
       "      <td>0.241394</td>\n",
       "    </tr>\n",
       "    <tr>\n",
       "      <th>4</th>\n",
       "      <td>0.658756</td>\n",
       "      <td>-0.596412</td>\n",
       "      <td>-0.025259</td>\n",
       "      <td>0.606958</td>\n",
       "    </tr>\n",
       "    <tr>\n",
       "      <th>5</th>\n",
       "      <td>-0.155783</td>\n",
       "      <td>-0.687314</td>\n",
       "      <td>-0.510065</td>\n",
       "      <td>0.452354</td>\n",
       "    </tr>\n",
       "    <tr>\n",
       "      <th>6</th>\n",
       "      <td>-0.784527</td>\n",
       "      <td>-0.553008</td>\n",
       "      <td>-0.311660</td>\n",
       "      <td>1.154354</td>\n",
       "    </tr>\n",
       "    <tr>\n",
       "      <th>7</th>\n",
       "      <td>0.625320</td>\n",
       "      <td>0.508202</td>\n",
       "      <td>-2.688371</td>\n",
       "      <td>-0.352247</td>\n",
       "    </tr>\n",
       "    <tr>\n",
       "      <th>8</th>\n",
       "      <td>1.046959</td>\n",
       "      <td>-0.155165</td>\n",
       "      <td>-0.791084</td>\n",
       "      <td>0.036809</td>\n",
       "    </tr>\n",
       "    <tr>\n",
       "      <th>9</th>\n",
       "      <td>0.755011</td>\n",
       "      <td>-1.292141</td>\n",
       "      <td>1.415382</td>\n",
       "      <td>-0.043237</td>\n",
       "    </tr>\n",
       "  </tbody>\n",
       "</table>\n",
       "</div>"
      ],
      "text/plain": [
       "          0         1         2         3\n",
       "0 -2.819118  2.006837  2.435488  0.783915\n",
       "1 -0.426165  1.703072  2.115495 -0.984837\n",
       "2  0.064388  0.997028  0.709132  0.021503\n",
       "3  0.368851 -0.142451  1.029008  0.241394\n",
       "4  0.658756 -0.596412 -0.025259  0.606958\n",
       "5 -0.155783 -0.687314 -0.510065  0.452354\n",
       "6 -0.784527 -0.553008 -0.311660  1.154354\n",
       "7  0.625320  0.508202 -2.688371 -0.352247\n",
       "8  1.046959 -0.155165 -0.791084  0.036809\n",
       "9  0.755011 -1.292141  1.415382 -0.043237"
      ]
     },
     "execution_count": 201,
     "metadata": {},
     "output_type": "execute_result"
    }
   ],
   "source": [
    "# create a pandas dataframe with 10 x 4 random numbers (via numpy function)\n",
    "df = pd.DataFrame(np.random.randn(10,4))\n",
    "df"
   ]
  },
  {
   "cell_type": "code",
   "execution_count": 202,
   "metadata": {
    "collapsed": false
   },
   "outputs": [
    {
     "data": {
      "text/html": [
       "<div>\n",
       "<table border=\"1\" class=\"dataframe\">\n",
       "  <thead>\n",
       "    <tr style=\"text-align: right;\">\n",
       "      <th></th>\n",
       "      <th>0</th>\n",
       "      <th>1</th>\n",
       "      <th>2</th>\n",
       "      <th>3</th>\n",
       "    </tr>\n",
       "  </thead>\n",
       "  <tbody>\n",
       "    <tr>\n",
       "      <th>0</th>\n",
       "      <td>-2.819118</td>\n",
       "      <td>2.006837</td>\n",
       "      <td>2.435488</td>\n",
       "      <td>0.783915</td>\n",
       "    </tr>\n",
       "    <tr>\n",
       "      <th>1</th>\n",
       "      <td>-0.426165</td>\n",
       "      <td>1.703072</td>\n",
       "      <td>2.115495</td>\n",
       "      <td>-0.984837</td>\n",
       "    </tr>\n",
       "    <tr>\n",
       "      <th>2</th>\n",
       "      <td>0.064388</td>\n",
       "      <td>0.997028</td>\n",
       "      <td>0.709132</td>\n",
       "      <td>0.021503</td>\n",
       "    </tr>\n",
       "    <tr>\n",
       "      <th>3</th>\n",
       "      <td>0.368851</td>\n",
       "      <td>-0.142451</td>\n",
       "      <td>1.029008</td>\n",
       "      <td>0.241394</td>\n",
       "    </tr>\n",
       "    <tr>\n",
       "      <th>4</th>\n",
       "      <td>0.658756</td>\n",
       "      <td>-0.596412</td>\n",
       "      <td>-0.025259</td>\n",
       "      <td>0.606958</td>\n",
       "    </tr>\n",
       "    <tr>\n",
       "      <th>5</th>\n",
       "      <td>-0.155783</td>\n",
       "      <td>-0.687314</td>\n",
       "      <td>-0.510065</td>\n",
       "      <td>0.452354</td>\n",
       "    </tr>\n",
       "    <tr>\n",
       "      <th>6</th>\n",
       "      <td>-0.784527</td>\n",
       "      <td>-0.553008</td>\n",
       "      <td>-0.311660</td>\n",
       "      <td>1.154354</td>\n",
       "    </tr>\n",
       "    <tr>\n",
       "      <th>7</th>\n",
       "      <td>0.625320</td>\n",
       "      <td>0.508202</td>\n",
       "      <td>-2.688371</td>\n",
       "      <td>-0.352247</td>\n",
       "    </tr>\n",
       "    <tr>\n",
       "      <th>8</th>\n",
       "      <td>1.046959</td>\n",
       "      <td>-0.155165</td>\n",
       "      <td>-0.791084</td>\n",
       "      <td>0.036809</td>\n",
       "    </tr>\n",
       "    <tr>\n",
       "      <th>9</th>\n",
       "      <td>0.755011</td>\n",
       "      <td>-1.292141</td>\n",
       "      <td>1.415382</td>\n",
       "      <td>-0.043237</td>\n",
       "    </tr>\n",
       "  </tbody>\n",
       "</table>\n",
       "</div>"
      ],
      "text/plain": [
       "          0         1         2         3\n",
       "0 -2.819118  2.006837  2.435488  0.783915\n",
       "1 -0.426165  1.703072  2.115495 -0.984837\n",
       "2  0.064388  0.997028  0.709132  0.021503\n",
       "3  0.368851 -0.142451  1.029008  0.241394\n",
       "4  0.658756 -0.596412 -0.025259  0.606958\n",
       "5 -0.155783 -0.687314 -0.510065  0.452354\n",
       "6 -0.784527 -0.553008 -0.311660  1.154354\n",
       "7  0.625320  0.508202 -2.688371 -0.352247\n",
       "8  1.046959 -0.155165 -0.791084  0.036809\n",
       "9  0.755011 -1.292141  1.415382 -0.043237"
      ]
     },
     "execution_count": 202,
     "metadata": {},
     "output_type": "execute_result"
    }
   ],
   "source": [
    "# break it into pieces via Python slicing - a list with slices\n",
    "piece1 = df[:3]\n",
    "piece2 = df[3:7]\n",
    "piece3 = df[7:]\n",
    "\n",
    "# throw the pieces into a list and add to the pd.concat function to \n",
    "# put it all together again\n",
    "pd.concat([piece1, piece2, piece3])"
   ]
  },
  {
   "cell_type": "markdown",
   "metadata": {},
   "source": [
    "#### Join"
   ]
  },
  {
   "cell_type": "code",
   "execution_count": 205,
   "metadata": {
    "collapsed": false
   },
   "outputs": [
    {
     "data": {
      "text/html": [
       "<div>\n",
       "<table border=\"1\" class=\"dataframe\">\n",
       "  <thead>\n",
       "    <tr style=\"text-align: right;\">\n",
       "      <th></th>\n",
       "      <th>key</th>\n",
       "      <th>lval</th>\n",
       "    </tr>\n",
       "  </thead>\n",
       "  <tbody>\n",
       "    <tr>\n",
       "      <th>0</th>\n",
       "      <td>foo</td>\n",
       "      <td>1</td>\n",
       "    </tr>\n",
       "    <tr>\n",
       "      <th>1</th>\n",
       "      <td>foo</td>\n",
       "      <td>2</td>\n",
       "    </tr>\n",
       "  </tbody>\n",
       "</table>\n",
       "</div>"
      ],
      "text/plain": [
       "   key  lval\n",
       "0  foo     1\n",
       "1  foo     2"
      ]
     },
     "execution_count": 205,
     "metadata": {},
     "output_type": "execute_result"
    }
   ],
   "source": [
    "# SQL style merges\n",
    "left = pd.DataFrame({'key': ['foo', 'foo'], 'lval':[1,2]})\n",
    "right = pd.DataFrame({'key': ['foo', 'foo'], 'rval':[3,4]})\n",
    "left"
   ]
  },
  {
   "cell_type": "code",
   "execution_count": 206,
   "metadata": {
    "collapsed": false
   },
   "outputs": [
    {
     "data": {
      "text/html": [
       "<div>\n",
       "<table border=\"1\" class=\"dataframe\">\n",
       "  <thead>\n",
       "    <tr style=\"text-align: right;\">\n",
       "      <th></th>\n",
       "      <th>key</th>\n",
       "      <th>rval</th>\n",
       "    </tr>\n",
       "  </thead>\n",
       "  <tbody>\n",
       "    <tr>\n",
       "      <th>0</th>\n",
       "      <td>foo</td>\n",
       "      <td>3</td>\n",
       "    </tr>\n",
       "    <tr>\n",
       "      <th>1</th>\n",
       "      <td>foo</td>\n",
       "      <td>4</td>\n",
       "    </tr>\n",
       "  </tbody>\n",
       "</table>\n",
       "</div>"
      ],
      "text/plain": [
       "   key  rval\n",
       "0  foo     3\n",
       "1  foo     4"
      ]
     },
     "execution_count": 206,
     "metadata": {},
     "output_type": "execute_result"
    }
   ],
   "source": [
    "right"
   ]
  },
  {
   "cell_type": "code",
   "execution_count": 209,
   "metadata": {
    "collapsed": false
   },
   "outputs": [
    {
     "data": {
      "text/html": [
       "<div>\n",
       "<table border=\"1\" class=\"dataframe\">\n",
       "  <thead>\n",
       "    <tr style=\"text-align: right;\">\n",
       "      <th></th>\n",
       "      <th>key</th>\n",
       "      <th>lval</th>\n",
       "      <th>rval</th>\n",
       "    </tr>\n",
       "  </thead>\n",
       "  <tbody>\n",
       "    <tr>\n",
       "      <th>0</th>\n",
       "      <td>foo</td>\n",
       "      <td>1</td>\n",
       "      <td>3</td>\n",
       "    </tr>\n",
       "    <tr>\n",
       "      <th>1</th>\n",
       "      <td>foo</td>\n",
       "      <td>1</td>\n",
       "      <td>4</td>\n",
       "    </tr>\n",
       "    <tr>\n",
       "      <th>2</th>\n",
       "      <td>foo</td>\n",
       "      <td>2</td>\n",
       "      <td>3</td>\n",
       "    </tr>\n",
       "    <tr>\n",
       "      <th>3</th>\n",
       "      <td>foo</td>\n",
       "      <td>2</td>\n",
       "      <td>4</td>\n",
       "    </tr>\n",
       "  </tbody>\n",
       "</table>\n",
       "</div>"
      ],
      "text/plain": [
       "   key  lval  rval\n",
       "0  foo     1     3\n",
       "1  foo     1     4\n",
       "2  foo     2     3\n",
       "3  foo     2     4"
      ]
     },
     "execution_count": 209,
     "metadata": {},
     "output_type": "execute_result"
    }
   ],
   "source": [
    "# on='key' matches a value with others given the same key\n",
    "pd.merge(left, right, on='key')"
   ]
  },
  {
   "cell_type": "code",
   "execution_count": 212,
   "metadata": {
    "collapsed": false
   },
   "outputs": [
    {
     "data": {
      "text/html": [
       "<div>\n",
       "<table border=\"1\" class=\"dataframe\">\n",
       "  <thead>\n",
       "    <tr style=\"text-align: right;\">\n",
       "      <th></th>\n",
       "      <th>key</th>\n",
       "      <th>lval</th>\n",
       "    </tr>\n",
       "  </thead>\n",
       "  <tbody>\n",
       "    <tr>\n",
       "      <th>0</th>\n",
       "      <td>foo</td>\n",
       "      <td>1</td>\n",
       "    </tr>\n",
       "    <tr>\n",
       "      <th>1</th>\n",
       "      <td>bar</td>\n",
       "      <td>2</td>\n",
       "    </tr>\n",
       "  </tbody>\n",
       "</table>\n",
       "</div>"
      ],
      "text/plain": [
       "   key  lval\n",
       "0  foo     1\n",
       "1  bar     2"
      ]
     },
     "execution_count": 212,
     "metadata": {},
     "output_type": "execute_result"
    }
   ],
   "source": [
    "# OR...\n",
    "left = pd.DataFrame({'key':['foo', 'bar'], 'lval':[1,2]})\n",
    "right = pd.DataFrame({'key':['foo','bar'], 'rval':[3,4]})\n",
    "left"
   ]
  },
  {
   "cell_type": "code",
   "execution_count": 213,
   "metadata": {
    "collapsed": false
   },
   "outputs": [
    {
     "data": {
      "text/html": [
       "<div>\n",
       "<table border=\"1\" class=\"dataframe\">\n",
       "  <thead>\n",
       "    <tr style=\"text-align: right;\">\n",
       "      <th></th>\n",
       "      <th>key</th>\n",
       "      <th>rval</th>\n",
       "    </tr>\n",
       "  </thead>\n",
       "  <tbody>\n",
       "    <tr>\n",
       "      <th>0</th>\n",
       "      <td>foo</td>\n",
       "      <td>3</td>\n",
       "    </tr>\n",
       "    <tr>\n",
       "      <th>1</th>\n",
       "      <td>bar</td>\n",
       "      <td>4</td>\n",
       "    </tr>\n",
       "  </tbody>\n",
       "</table>\n",
       "</div>"
      ],
      "text/plain": [
       "   key  rval\n",
       "0  foo     3\n",
       "1  bar     4"
      ]
     },
     "execution_count": 213,
     "metadata": {},
     "output_type": "execute_result"
    }
   ],
   "source": [
    "right"
   ]
  },
  {
   "cell_type": "code",
   "execution_count": 214,
   "metadata": {
    "collapsed": false
   },
   "outputs": [
    {
     "data": {
      "text/html": [
       "<div>\n",
       "<table border=\"1\" class=\"dataframe\">\n",
       "  <thead>\n",
       "    <tr style=\"text-align: right;\">\n",
       "      <th></th>\n",
       "      <th>key</th>\n",
       "      <th>lval</th>\n",
       "      <th>rval</th>\n",
       "    </tr>\n",
       "  </thead>\n",
       "  <tbody>\n",
       "    <tr>\n",
       "      <th>0</th>\n",
       "      <td>foo</td>\n",
       "      <td>1</td>\n",
       "      <td>3</td>\n",
       "    </tr>\n",
       "    <tr>\n",
       "      <th>1</th>\n",
       "      <td>bar</td>\n",
       "      <td>2</td>\n",
       "      <td>4</td>\n",
       "    </tr>\n",
       "  </tbody>\n",
       "</table>\n",
       "</div>"
      ],
      "text/plain": [
       "   key  lval  rval\n",
       "0  foo     1     3\n",
       "1  bar     2     4"
      ]
     },
     "execution_count": 214,
     "metadata": {},
     "output_type": "execute_result"
    }
   ],
   "source": [
    "# here, because there is only one matching 'foo', 1 merges with 4\n",
    "# and 2 merges with 5\n",
    "pd.merge(left, right, on='key')"
   ]
  },
  {
   "cell_type": "markdown",
   "metadata": {},
   "source": [
    "#### Append rows to a dataframe"
   ]
  },
  {
   "cell_type": "code",
   "execution_count": 215,
   "metadata": {
    "collapsed": false
   },
   "outputs": [
    {
     "name": "stdout",
     "output_type": "stream",
     "text": [
      "[[-0.32741504 -0.15948451  0.48355257 -1.04706492]\n",
      " [-0.24029203  0.22895894  0.323666    0.67470477]\n",
      " [ 0.83451821  0.20882423 -0.07734489 -0.52000357]\n",
      " [ 0.36961986 -1.9435036  -1.61116992 -0.299691  ]\n",
      " [ 0.76648373 -0.27879385 -0.90471285 -0.4640315 ]\n",
      " [-1.31226686  0.57050664  0.08085221 -0.52236362]\n",
      " [-0.61364306 -0.0392682   1.58463036 -1.17647027]\n",
      " [ 1.00339109 -0.7915924   0.13229926 -0.21513326]]\n"
     ]
    }
   ],
   "source": [
    "# first remember that np.random.randn(8, 4) will create an 8x4 ndarray\n",
    "# which is just a list of 8 lists with 4 items in each\n",
    "# contents will be randomly generated floats from the z dist\n",
    "print(np.random.randn(8, 4))"
   ]
  },
  {
   "cell_type": "code",
   "execution_count": 216,
   "metadata": {
    "collapsed": false
   },
   "outputs": [
    {
     "data": {
      "text/html": [
       "<div>\n",
       "<table border=\"1\" class=\"dataframe\">\n",
       "  <thead>\n",
       "    <tr style=\"text-align: right;\">\n",
       "      <th></th>\n",
       "      <th>A</th>\n",
       "      <th>B</th>\n",
       "      <th>C</th>\n",
       "      <th>D</th>\n",
       "    </tr>\n",
       "  </thead>\n",
       "  <tbody>\n",
       "    <tr>\n",
       "      <th>0</th>\n",
       "      <td>-0.208477</td>\n",
       "      <td>0.058265</td>\n",
       "      <td>0.676981</td>\n",
       "      <td>-0.228303</td>\n",
       "    </tr>\n",
       "    <tr>\n",
       "      <th>1</th>\n",
       "      <td>0.724662</td>\n",
       "      <td>0.717066</td>\n",
       "      <td>0.854590</td>\n",
       "      <td>-0.103653</td>\n",
       "    </tr>\n",
       "    <tr>\n",
       "      <th>2</th>\n",
       "      <td>1.322862</td>\n",
       "      <td>1.480823</td>\n",
       "      <td>-0.024636</td>\n",
       "      <td>0.064969</td>\n",
       "    </tr>\n",
       "    <tr>\n",
       "      <th>3</th>\n",
       "      <td>-1.381548</td>\n",
       "      <td>0.626771</td>\n",
       "      <td>1.134512</td>\n",
       "      <td>-1.008944</td>\n",
       "    </tr>\n",
       "    <tr>\n",
       "      <th>4</th>\n",
       "      <td>1.118668</td>\n",
       "      <td>1.534450</td>\n",
       "      <td>-1.761045</td>\n",
       "      <td>0.280328</td>\n",
       "    </tr>\n",
       "    <tr>\n",
       "      <th>5</th>\n",
       "      <td>1.198600</td>\n",
       "      <td>3.415574</td>\n",
       "      <td>0.662099</td>\n",
       "      <td>-0.812849</td>\n",
       "    </tr>\n",
       "    <tr>\n",
       "      <th>6</th>\n",
       "      <td>0.621098</td>\n",
       "      <td>0.868136</td>\n",
       "      <td>-0.644200</td>\n",
       "      <td>-1.538942</td>\n",
       "    </tr>\n",
       "    <tr>\n",
       "      <th>7</th>\n",
       "      <td>-0.389942</td>\n",
       "      <td>1.077828</td>\n",
       "      <td>-0.741401</td>\n",
       "      <td>2.002013</td>\n",
       "    </tr>\n",
       "  </tbody>\n",
       "</table>\n",
       "</div>"
      ],
      "text/plain": [
       "          A         B         C         D\n",
       "0 -0.208477  0.058265  0.676981 -0.228303\n",
       "1  0.724662  0.717066  0.854590 -0.103653\n",
       "2  1.322862  1.480823 -0.024636  0.064969\n",
       "3 -1.381548  0.626771  1.134512 -1.008944\n",
       "4  1.118668  1.534450 -1.761045  0.280328\n",
       "5  1.198600  3.415574  0.662099 -0.812849\n",
       "6  0.621098  0.868136 -0.644200 -1.538942\n",
       "7 -0.389942  1.077828 -0.741401  2.002013"
      ]
     },
     "execution_count": 216,
     "metadata": {},
     "output_type": "execute_result"
    }
   ],
   "source": [
    "# create the dataframe\n",
    "df = pd.DataFrame(np.random.randn(8, 4), columns=['A','B','C','D'])\n",
    "df"
   ]
  },
  {
   "cell_type": "code",
   "execution_count": 217,
   "metadata": {
    "collapsed": false
   },
   "outputs": [
    {
     "data": {
      "text/plain": [
       "A   -1.381548\n",
       "B    0.626771\n",
       "C    1.134512\n",
       "D   -1.008944\n",
       "Name: 3, dtype: float64"
      ]
     },
     "execution_count": 217,
     "metadata": {},
     "output_type": "execute_result"
    }
   ],
   "source": [
    "# retreive the 3th row\n",
    "s = df.iloc[3]\n",
    "s"
   ]
  },
  {
   "cell_type": "code",
   "execution_count": 218,
   "metadata": {
    "collapsed": false
   },
   "outputs": [
    {
     "data": {
      "text/html": [
       "<div>\n",
       "<table border=\"1\" class=\"dataframe\">\n",
       "  <thead>\n",
       "    <tr style=\"text-align: right;\">\n",
       "      <th></th>\n",
       "      <th>A</th>\n",
       "      <th>B</th>\n",
       "      <th>C</th>\n",
       "      <th>D</th>\n",
       "    </tr>\n",
       "  </thead>\n",
       "  <tbody>\n",
       "    <tr>\n",
       "      <th>0</th>\n",
       "      <td>-0.208477</td>\n",
       "      <td>0.058265</td>\n",
       "      <td>0.676981</td>\n",
       "      <td>-0.228303</td>\n",
       "    </tr>\n",
       "    <tr>\n",
       "      <th>1</th>\n",
       "      <td>0.724662</td>\n",
       "      <td>0.717066</td>\n",
       "      <td>0.854590</td>\n",
       "      <td>-0.103653</td>\n",
       "    </tr>\n",
       "    <tr>\n",
       "      <th>2</th>\n",
       "      <td>1.322862</td>\n",
       "      <td>1.480823</td>\n",
       "      <td>-0.024636</td>\n",
       "      <td>0.064969</td>\n",
       "    </tr>\n",
       "    <tr>\n",
       "      <th>3</th>\n",
       "      <td>-1.381548</td>\n",
       "      <td>0.626771</td>\n",
       "      <td>1.134512</td>\n",
       "      <td>-1.008944</td>\n",
       "    </tr>\n",
       "    <tr>\n",
       "      <th>4</th>\n",
       "      <td>1.118668</td>\n",
       "      <td>1.534450</td>\n",
       "      <td>-1.761045</td>\n",
       "      <td>0.280328</td>\n",
       "    </tr>\n",
       "    <tr>\n",
       "      <th>5</th>\n",
       "      <td>1.198600</td>\n",
       "      <td>3.415574</td>\n",
       "      <td>0.662099</td>\n",
       "      <td>-0.812849</td>\n",
       "    </tr>\n",
       "    <tr>\n",
       "      <th>6</th>\n",
       "      <td>0.621098</td>\n",
       "      <td>0.868136</td>\n",
       "      <td>-0.644200</td>\n",
       "      <td>-1.538942</td>\n",
       "    </tr>\n",
       "    <tr>\n",
       "      <th>7</th>\n",
       "      <td>-0.389942</td>\n",
       "      <td>1.077828</td>\n",
       "      <td>-0.741401</td>\n",
       "      <td>2.002013</td>\n",
       "    </tr>\n",
       "    <tr>\n",
       "      <th>8</th>\n",
       "      <td>-1.381548</td>\n",
       "      <td>0.626771</td>\n",
       "      <td>1.134512</td>\n",
       "      <td>-1.008944</td>\n",
       "    </tr>\n",
       "  </tbody>\n",
       "</table>\n",
       "</div>"
      ],
      "text/plain": [
       "          A         B         C         D\n",
       "0 -0.208477  0.058265  0.676981 -0.228303\n",
       "1  0.724662  0.717066  0.854590 -0.103653\n",
       "2  1.322862  1.480823 -0.024636  0.064969\n",
       "3 -1.381548  0.626771  1.134512 -1.008944\n",
       "4  1.118668  1.534450 -1.761045  0.280328\n",
       "5  1.198600  3.415574  0.662099 -0.812849\n",
       "6  0.621098  0.868136 -0.644200 -1.538942\n",
       "7 -0.389942  1.077828 -0.741401  2.002013\n",
       "8 -1.381548  0.626771  1.134512 -1.008944"
      ]
     },
     "execution_count": 218,
     "metadata": {},
     "output_type": "execute_result"
    }
   ],
   "source": [
    "# copy into a new appended row in dataframe\n",
    "df.append(s, ignore_index=True)"
   ]
  },
  {
   "cell_type": "markdown",
   "metadata": {},
   "source": [
    "#### Grouping"
   ]
  },
  {
   "cell_type": "code",
   "execution_count": 219,
   "metadata": {
    "collapsed": false
   },
   "outputs": [
    {
     "data": {
      "text/html": [
       "<div>\n",
       "<table border=\"1\" class=\"dataframe\">\n",
       "  <thead>\n",
       "    <tr style=\"text-align: right;\">\n",
       "      <th></th>\n",
       "      <th>A</th>\n",
       "      <th>B</th>\n",
       "      <th>C</th>\n",
       "      <th>D</th>\n",
       "    </tr>\n",
       "  </thead>\n",
       "  <tbody>\n",
       "    <tr>\n",
       "      <th>0</th>\n",
       "      <td>foo</td>\n",
       "      <td>one</td>\n",
       "      <td>-1.118600</td>\n",
       "      <td>0.898088</td>\n",
       "    </tr>\n",
       "    <tr>\n",
       "      <th>1</th>\n",
       "      <td>bar</td>\n",
       "      <td>one</td>\n",
       "      <td>1.114275</td>\n",
       "      <td>-1.620672</td>\n",
       "    </tr>\n",
       "    <tr>\n",
       "      <th>2</th>\n",
       "      <td>foo</td>\n",
       "      <td>two</td>\n",
       "      <td>-1.251153</td>\n",
       "      <td>0.137693</td>\n",
       "    </tr>\n",
       "    <tr>\n",
       "      <th>3</th>\n",
       "      <td>bar</td>\n",
       "      <td>three</td>\n",
       "      <td>-1.067866</td>\n",
       "      <td>-2.052396</td>\n",
       "    </tr>\n",
       "    <tr>\n",
       "      <th>4</th>\n",
       "      <td>foo</td>\n",
       "      <td>two</td>\n",
       "      <td>0.800453</td>\n",
       "      <td>-0.578690</td>\n",
       "    </tr>\n",
       "    <tr>\n",
       "      <th>5</th>\n",
       "      <td>bar</td>\n",
       "      <td>two</td>\n",
       "      <td>0.944086</td>\n",
       "      <td>-1.585113</td>\n",
       "    </tr>\n",
       "    <tr>\n",
       "      <th>6</th>\n",
       "      <td>foo</td>\n",
       "      <td>one</td>\n",
       "      <td>-1.264519</td>\n",
       "      <td>0.143986</td>\n",
       "    </tr>\n",
       "    <tr>\n",
       "      <th>7</th>\n",
       "      <td>foo</td>\n",
       "      <td>three</td>\n",
       "      <td>-2.302335</td>\n",
       "      <td>0.981990</td>\n",
       "    </tr>\n",
       "  </tbody>\n",
       "</table>\n",
       "</div>"
      ],
      "text/plain": [
       "     A      B         C         D\n",
       "0  foo    one -1.118600  0.898088\n",
       "1  bar    one  1.114275 -1.620672\n",
       "2  foo    two -1.251153  0.137693\n",
       "3  bar  three -1.067866 -2.052396\n",
       "4  foo    two  0.800453 -0.578690\n",
       "5  bar    two  0.944086 -1.585113\n",
       "6  foo    one -1.264519  0.143986\n",
       "7  foo  three -2.302335  0.981990"
      ]
     },
     "execution_count": 219,
     "metadata": {},
     "output_type": "execute_result"
    }
   ],
   "source": [
    "# create new dataframe\n",
    "df = pd.DataFrame({'A': ['foo','bar','foo','bar','foo','bar','foo','foo'],\n",
    "                  'B': ['one','one','two','three','two','two','one','three'],\n",
    "                  'C': np.random.randn(8),\n",
    "                  'D': np.random.randn(8)})\n",
    "df"
   ]
  },
  {
   "cell_type": "code",
   "execution_count": 220,
   "metadata": {
    "collapsed": false
   },
   "outputs": [
    {
     "data": {
      "text/html": [
       "<div>\n",
       "<table border=\"1\" class=\"dataframe\">\n",
       "  <thead>\n",
       "    <tr style=\"text-align: right;\">\n",
       "      <th></th>\n",
       "      <th>C</th>\n",
       "      <th>D</th>\n",
       "    </tr>\n",
       "    <tr>\n",
       "      <th>A</th>\n",
       "      <th></th>\n",
       "      <th></th>\n",
       "    </tr>\n",
       "  </thead>\n",
       "  <tbody>\n",
       "    <tr>\n",
       "      <th>bar</th>\n",
       "      <td>0.990496</td>\n",
       "      <td>-5.258181</td>\n",
       "    </tr>\n",
       "    <tr>\n",
       "      <th>foo</th>\n",
       "      <td>-5.136154</td>\n",
       "      <td>1.583067</td>\n",
       "    </tr>\n",
       "  </tbody>\n",
       "</table>\n",
       "</div>"
      ],
      "text/plain": [
       "            C         D\n",
       "A                      \n",
       "bar  0.990496 -5.258181\n",
       "foo -5.136154  1.583067"
      ]
     },
     "execution_count": 220,
     "metadata": {},
     "output_type": "execute_result"
    }
   ],
   "source": [
    "# group items by unique items in column 'A', then sum them up to create new value\n",
    "df.groupby('A').sum()"
   ]
  },
  {
   "cell_type": "code",
   "execution_count": 221,
   "metadata": {
    "collapsed": false
   },
   "outputs": [
    {
     "data": {
      "text/html": [
       "<div>\n",
       "<table border=\"1\" class=\"dataframe\">\n",
       "  <thead>\n",
       "    <tr style=\"text-align: right;\">\n",
       "      <th></th>\n",
       "      <th></th>\n",
       "      <th>C</th>\n",
       "      <th>D</th>\n",
       "    </tr>\n",
       "    <tr>\n",
       "      <th>A</th>\n",
       "      <th>B</th>\n",
       "      <th></th>\n",
       "      <th></th>\n",
       "    </tr>\n",
       "  </thead>\n",
       "  <tbody>\n",
       "    <tr>\n",
       "      <th rowspan=\"3\" valign=\"top\">bar</th>\n",
       "      <th>one</th>\n",
       "      <td>1.114275</td>\n",
       "      <td>-1.620672</td>\n",
       "    </tr>\n",
       "    <tr>\n",
       "      <th>three</th>\n",
       "      <td>-1.067866</td>\n",
       "      <td>-2.052396</td>\n",
       "    </tr>\n",
       "    <tr>\n",
       "      <th>two</th>\n",
       "      <td>0.944086</td>\n",
       "      <td>-1.585113</td>\n",
       "    </tr>\n",
       "    <tr>\n",
       "      <th rowspan=\"3\" valign=\"top\">foo</th>\n",
       "      <th>one</th>\n",
       "      <td>-2.383120</td>\n",
       "      <td>1.042074</td>\n",
       "    </tr>\n",
       "    <tr>\n",
       "      <th>three</th>\n",
       "      <td>-2.302335</td>\n",
       "      <td>0.981990</td>\n",
       "    </tr>\n",
       "    <tr>\n",
       "      <th>two</th>\n",
       "      <td>-0.450700</td>\n",
       "      <td>-0.440997</td>\n",
       "    </tr>\n",
       "  </tbody>\n",
       "</table>\n",
       "</div>"
      ],
      "text/plain": [
       "                  C         D\n",
       "A   B                        \n",
       "bar one    1.114275 -1.620672\n",
       "    three -1.067866 -2.052396\n",
       "    two    0.944086 -1.585113\n",
       "foo one   -2.383120  1.042074\n",
       "    three -2.302335  0.981990\n",
       "    two   -0.450700 -0.440997"
      ]
     },
     "execution_count": 221,
     "metadata": {},
     "output_type": "execute_result"
    }
   ],
   "source": [
    "# group hierarchically, then sum up results\n",
    "df.groupby(['A','B']).sum()"
   ]
  },
  {
   "cell_type": "markdown",
   "metadata": {},
   "source": [
    "### Reshaping"
   ]
  },
  {
   "cell_type": "code",
   "execution_count": 222,
   "metadata": {
    "collapsed": false
   },
   "outputs": [
    {
     "data": {
      "text/plain": [
       "[('bar', 'one'),\n",
       " ('bar', 'two'),\n",
       " ('baz', 'one'),\n",
       " ('baz', 'two'),\n",
       " ('foo', 'one'),\n",
       " ('foo', 'two'),\n",
       " ('qux', 'one'),\n",
       " ('qux', 'two')]"
      ]
     },
     "execution_count": 222,
     "metadata": {},
     "output_type": "execute_result"
    }
   ],
   "source": [
    "# zip(*[[list of n lenght],[list of n length]]) converts things into tuples.\n",
    "# list() adds everything to a list\n",
    "\n",
    "# Here my goal is to make a stack like this:\n",
    "\"\"\"\n",
    "                     A         B\n",
    "first second                    \n",
    "bar   one     0.029399 -0.542108\n",
    "      two     0.282696 -0.087302\n",
    "baz   one    -1.575170  1.771208\n",
    "      two     0.816482  1.100230\n",
    "\"\"\"\n",
    "\n",
    "#first I make a list of tuples\n",
    "tuples = list(zip(*[['bar','bar','baz','baz','foo','foo','qux','qux'],\n",
    "     ['one','two','one','two','one','two','one','two']]))\n",
    "tuples"
   ]
  },
  {
   "cell_type": "code",
   "execution_count": 223,
   "metadata": {
    "collapsed": false
   },
   "outputs": [
    {
     "data": {
      "text/plain": [
       "MultiIndex(levels=[['bar', 'baz', 'foo', 'qux'], ['one', 'two']],\n",
       "           labels=[[0, 0, 1, 1, 2, 2, 3, 3], [0, 1, 0, 1, 0, 1, 0, 1]],\n",
       "           names=['first', 'second'])"
      ]
     },
     "execution_count": 223,
     "metadata": {},
     "output_type": "execute_result"
    }
   ],
   "source": [
    "# now I make the multi index object\n",
    "my_multi_index = pd.MultiIndex.from_tuples(tuples, names=['first','second'])\n",
    "my_multi_index"
   ]
  },
  {
   "cell_type": "code",
   "execution_count": 224,
   "metadata": {
    "collapsed": false
   },
   "outputs": [
    {
     "data": {
      "text/html": [
       "<div>\n",
       "<table border=\"1\" class=\"dataframe\">\n",
       "  <thead>\n",
       "    <tr style=\"text-align: right;\">\n",
       "      <th></th>\n",
       "      <th></th>\n",
       "      <th>A</th>\n",
       "      <th>B</th>\n",
       "    </tr>\n",
       "    <tr>\n",
       "      <th>first</th>\n",
       "      <th>second</th>\n",
       "      <th></th>\n",
       "      <th></th>\n",
       "    </tr>\n",
       "  </thead>\n",
       "  <tbody>\n",
       "    <tr>\n",
       "      <th rowspan=\"2\" valign=\"top\">bar</th>\n",
       "      <th>one</th>\n",
       "      <td>-0.553676</td>\n",
       "      <td>-0.627131</td>\n",
       "    </tr>\n",
       "    <tr>\n",
       "      <th>two</th>\n",
       "      <td>-1.389091</td>\n",
       "      <td>0.700304</td>\n",
       "    </tr>\n",
       "    <tr>\n",
       "      <th rowspan=\"2\" valign=\"top\">baz</th>\n",
       "      <th>one</th>\n",
       "      <td>0.492627</td>\n",
       "      <td>1.897126</td>\n",
       "    </tr>\n",
       "    <tr>\n",
       "      <th>two</th>\n",
       "      <td>-1.084886</td>\n",
       "      <td>0.517323</td>\n",
       "    </tr>\n",
       "    <tr>\n",
       "      <th rowspan=\"2\" valign=\"top\">foo</th>\n",
       "      <th>one</th>\n",
       "      <td>0.108179</td>\n",
       "      <td>-0.617048</td>\n",
       "    </tr>\n",
       "    <tr>\n",
       "      <th>two</th>\n",
       "      <td>0.588771</td>\n",
       "      <td>0.514054</td>\n",
       "    </tr>\n",
       "    <tr>\n",
       "      <th rowspan=\"2\" valign=\"top\">qux</th>\n",
       "      <th>one</th>\n",
       "      <td>3.946621</td>\n",
       "      <td>-2.292334</td>\n",
       "    </tr>\n",
       "    <tr>\n",
       "      <th>two</th>\n",
       "      <td>-0.115860</td>\n",
       "      <td>-0.081324</td>\n",
       "    </tr>\n",
       "  </tbody>\n",
       "</table>\n",
       "</div>"
      ],
      "text/plain": [
       "                     A         B\n",
       "first second                    \n",
       "bar   one    -0.553676 -0.627131\n",
       "      two    -1.389091  0.700304\n",
       "baz   one     0.492627  1.897126\n",
       "      two    -1.084886  0.517323\n",
       "foo   one     0.108179 -0.617048\n",
       "      two     0.588771  0.514054\n",
       "qux   one     3.946621 -2.292334\n",
       "      two    -0.115860 -0.081324"
      ]
     },
     "execution_count": 224,
     "metadata": {},
     "output_type": "execute_result"
    }
   ],
   "source": [
    "# now Mi make a dataframe with random numbers and the multi index\n",
    "# I also give the columns of the dataframe labels\n",
    "df = pd.DataFrame(np.random.randn(8,2), index=my_multi_index, columns=['A','B'])\n",
    "df"
   ]
  },
  {
   "cell_type": "code",
   "execution_count": 225,
   "metadata": {
    "collapsed": false
   },
   "outputs": [
    {
     "data": {
      "text/html": [
       "<div>\n",
       "<table border=\"1\" class=\"dataframe\">\n",
       "  <thead>\n",
       "    <tr style=\"text-align: right;\">\n",
       "      <th></th>\n",
       "      <th></th>\n",
       "      <th>A</th>\n",
       "      <th>B</th>\n",
       "    </tr>\n",
       "    <tr>\n",
       "      <th>first</th>\n",
       "      <th>second</th>\n",
       "      <th></th>\n",
       "      <th></th>\n",
       "    </tr>\n",
       "  </thead>\n",
       "  <tbody>\n",
       "    <tr>\n",
       "      <th rowspan=\"2\" valign=\"top\">bar</th>\n",
       "      <th>one</th>\n",
       "      <td>-0.553676</td>\n",
       "      <td>-0.627131</td>\n",
       "    </tr>\n",
       "    <tr>\n",
       "      <th>two</th>\n",
       "      <td>-1.389091</td>\n",
       "      <td>0.700304</td>\n",
       "    </tr>\n",
       "    <tr>\n",
       "      <th rowspan=\"2\" valign=\"top\">baz</th>\n",
       "      <th>one</th>\n",
       "      <td>0.492627</td>\n",
       "      <td>1.897126</td>\n",
       "    </tr>\n",
       "    <tr>\n",
       "      <th>two</th>\n",
       "      <td>-1.084886</td>\n",
       "      <td>0.517323</td>\n",
       "    </tr>\n",
       "  </tbody>\n",
       "</table>\n",
       "</div>"
      ],
      "text/plain": [
       "                     A         B\n",
       "first second                    \n",
       "bar   one    -0.553676 -0.627131\n",
       "      two    -1.389091  0.700304\n",
       "baz   one     0.492627  1.897126\n",
       "      two    -1.084886  0.517323"
      ]
     },
     "execution_count": 225,
     "metadata": {},
     "output_type": "execute_result"
    }
   ],
   "source": [
    "# I can slice it too if I want\n",
    "df2 = df[:4]\n",
    "df2"
   ]
  },
  {
   "cell_type": "code",
   "execution_count": 226,
   "metadata": {
    "collapsed": false
   },
   "outputs": [
    {
     "data": {
      "text/plain": [
       "first  second   \n",
       "bar    one     A   -0.553676\n",
       "               B   -0.627131\n",
       "       two     A   -1.389091\n",
       "               B    0.700304\n",
       "baz    one     A    0.492627\n",
       "               B    1.897126\n",
       "       two     A   -1.084886\n",
       "               B    0.517323\n",
       "dtype: float64"
      ]
     },
     "execution_count": 226,
     "metadata": {},
     "output_type": "execute_result"
    }
   ],
   "source": [
    "# stack() method \"compresses\" a level in the DataFrame's columns\n",
    "stacked = df2.stack()\n",
    "stacked"
   ]
  },
  {
   "cell_type": "code",
   "execution_count": 227,
   "metadata": {
    "collapsed": false
   },
   "outputs": [
    {
     "data": {
      "text/html": [
       "<div>\n",
       "<table border=\"1\" class=\"dataframe\">\n",
       "  <thead>\n",
       "    <tr style=\"text-align: right;\">\n",
       "      <th></th>\n",
       "      <th></th>\n",
       "      <th>A</th>\n",
       "      <th>B</th>\n",
       "    </tr>\n",
       "    <tr>\n",
       "      <th>first</th>\n",
       "      <th>second</th>\n",
       "      <th></th>\n",
       "      <th></th>\n",
       "    </tr>\n",
       "  </thead>\n",
       "  <tbody>\n",
       "    <tr>\n",
       "      <th rowspan=\"2\" valign=\"top\">bar</th>\n",
       "      <th>one</th>\n",
       "      <td>-0.553676</td>\n",
       "      <td>-0.627131</td>\n",
       "    </tr>\n",
       "    <tr>\n",
       "      <th>two</th>\n",
       "      <td>-1.389091</td>\n",
       "      <td>0.700304</td>\n",
       "    </tr>\n",
       "    <tr>\n",
       "      <th rowspan=\"2\" valign=\"top\">baz</th>\n",
       "      <th>one</th>\n",
       "      <td>0.492627</td>\n",
       "      <td>1.897126</td>\n",
       "    </tr>\n",
       "    <tr>\n",
       "      <th>two</th>\n",
       "      <td>-1.084886</td>\n",
       "      <td>0.517323</td>\n",
       "    </tr>\n",
       "  </tbody>\n",
       "</table>\n",
       "</div>"
      ],
      "text/plain": [
       "                     A         B\n",
       "first second                    \n",
       "bar   one    -0.553676 -0.627131\n",
       "      two    -1.389091  0.700304\n",
       "baz   one     0.492627  1.897126\n",
       "      two    -1.084886  0.517323"
      ]
     },
     "execution_count": 227,
     "metadata": {},
     "output_type": "execute_result"
    }
   ],
   "source": [
    "# and of course you can unstack it\n",
    "# note, this is done to multiple levels with a number inside the parens\n",
    "stacked.unstack()"
   ]
  },
  {
   "cell_type": "markdown",
   "metadata": {},
   "source": [
    "#### Pivot tables"
   ]
  },
  {
   "cell_type": "code",
   "execution_count": 228,
   "metadata": {
    "collapsed": false
   },
   "outputs": [
    {
     "data": {
      "text/html": [
       "<div>\n",
       "<table border=\"1\" class=\"dataframe\">\n",
       "  <thead>\n",
       "    <tr style=\"text-align: right;\">\n",
       "      <th></th>\n",
       "      <th>A</th>\n",
       "      <th>B</th>\n",
       "      <th>C</th>\n",
       "      <th>D</th>\n",
       "      <th>E</th>\n",
       "    </tr>\n",
       "  </thead>\n",
       "  <tbody>\n",
       "    <tr>\n",
       "      <th>0</th>\n",
       "      <td>one</td>\n",
       "      <td>A</td>\n",
       "      <td>foo</td>\n",
       "      <td>1</td>\n",
       "      <td>13</td>\n",
       "    </tr>\n",
       "    <tr>\n",
       "      <th>1</th>\n",
       "      <td>one</td>\n",
       "      <td>B</td>\n",
       "      <td>foo</td>\n",
       "      <td>2</td>\n",
       "      <td>14</td>\n",
       "    </tr>\n",
       "    <tr>\n",
       "      <th>2</th>\n",
       "      <td>two</td>\n",
       "      <td>C</td>\n",
       "      <td>foo</td>\n",
       "      <td>3</td>\n",
       "      <td>15</td>\n",
       "    </tr>\n",
       "    <tr>\n",
       "      <th>3</th>\n",
       "      <td>three</td>\n",
       "      <td>A</td>\n",
       "      <td>bar</td>\n",
       "      <td>4</td>\n",
       "      <td>16</td>\n",
       "    </tr>\n",
       "    <tr>\n",
       "      <th>4</th>\n",
       "      <td>one</td>\n",
       "      <td>B</td>\n",
       "      <td>bar</td>\n",
       "      <td>5</td>\n",
       "      <td>17</td>\n",
       "    </tr>\n",
       "    <tr>\n",
       "      <th>5</th>\n",
       "      <td>one</td>\n",
       "      <td>C</td>\n",
       "      <td>bar</td>\n",
       "      <td>6</td>\n",
       "      <td>18</td>\n",
       "    </tr>\n",
       "    <tr>\n",
       "      <th>6</th>\n",
       "      <td>two</td>\n",
       "      <td>A</td>\n",
       "      <td>foo</td>\n",
       "      <td>7</td>\n",
       "      <td>19</td>\n",
       "    </tr>\n",
       "    <tr>\n",
       "      <th>7</th>\n",
       "      <td>three</td>\n",
       "      <td>B</td>\n",
       "      <td>foo</td>\n",
       "      <td>8</td>\n",
       "      <td>20</td>\n",
       "    </tr>\n",
       "    <tr>\n",
       "      <th>8</th>\n",
       "      <td>one</td>\n",
       "      <td>C</td>\n",
       "      <td>foo</td>\n",
       "      <td>9</td>\n",
       "      <td>21</td>\n",
       "    </tr>\n",
       "    <tr>\n",
       "      <th>9</th>\n",
       "      <td>one</td>\n",
       "      <td>A</td>\n",
       "      <td>bar</td>\n",
       "      <td>10</td>\n",
       "      <td>22</td>\n",
       "    </tr>\n",
       "    <tr>\n",
       "      <th>10</th>\n",
       "      <td>two</td>\n",
       "      <td>B</td>\n",
       "      <td>bar</td>\n",
       "      <td>11</td>\n",
       "      <td>23</td>\n",
       "    </tr>\n",
       "    <tr>\n",
       "      <th>11</th>\n",
       "      <td>three</td>\n",
       "      <td>C</td>\n",
       "      <td>bar</td>\n",
       "      <td>12</td>\n",
       "      <td>24</td>\n",
       "    </tr>\n",
       "  </tbody>\n",
       "</table>\n",
       "</div>"
      ],
      "text/plain": [
       "        A  B    C   D   E\n",
       "0     one  A  foo   1  13\n",
       "1     one  B  foo   2  14\n",
       "2     two  C  foo   3  15\n",
       "3   three  A  bar   4  16\n",
       "4     one  B  bar   5  17\n",
       "5     one  C  bar   6  18\n",
       "6     two  A  foo   7  19\n",
       "7   three  B  foo   8  20\n",
       "8     one  C  foo   9  21\n",
       "9     one  A  bar  10  22\n",
       "10    two  B  bar  11  23\n",
       "11  three  C  bar  12  24"
      ]
     },
     "execution_count": 228,
     "metadata": {},
     "output_type": "execute_result"
    }
   ],
   "source": [
    "# create my dataframe using a dictionary\n",
    "df = pd.DataFrame({'A': ['one','one','two','three'] * 3,\n",
    "                  'B': ['A','B','C'] * 4,\n",
    "                  'C': ['foo','foo','foo','bar','bar','bar'] * 2,\n",
    "                  'D': [1,2,3,4,5,6,7,8,9,10,11,12],\n",
    "                  'E': [13,14,15,16,17,18,19,20,21,22,23,24]})\n",
    "df"
   ]
  },
  {
   "cell_type": "code",
   "execution_count": 229,
   "metadata": {
    "collapsed": false
   },
   "outputs": [
    {
     "data": {
      "text/html": [
       "<div>\n",
       "<table border=\"1\" class=\"dataframe\">\n",
       "  <thead>\n",
       "    <tr style=\"text-align: right;\">\n",
       "      <th></th>\n",
       "      <th>C</th>\n",
       "      <th>bar</th>\n",
       "      <th>foo</th>\n",
       "    </tr>\n",
       "    <tr>\n",
       "      <th>A</th>\n",
       "      <th>B</th>\n",
       "      <th></th>\n",
       "      <th></th>\n",
       "    </tr>\n",
       "  </thead>\n",
       "  <tbody>\n",
       "    <tr>\n",
       "      <th rowspan=\"3\" valign=\"top\">one</th>\n",
       "      <th>A</th>\n",
       "      <td>10.0</td>\n",
       "      <td>1.0</td>\n",
       "    </tr>\n",
       "    <tr>\n",
       "      <th>B</th>\n",
       "      <td>5.0</td>\n",
       "      <td>2.0</td>\n",
       "    </tr>\n",
       "    <tr>\n",
       "      <th>C</th>\n",
       "      <td>6.0</td>\n",
       "      <td>9.0</td>\n",
       "    </tr>\n",
       "    <tr>\n",
       "      <th rowspan=\"3\" valign=\"top\">three</th>\n",
       "      <th>A</th>\n",
       "      <td>4.0</td>\n",
       "      <td>NaN</td>\n",
       "    </tr>\n",
       "    <tr>\n",
       "      <th>B</th>\n",
       "      <td>NaN</td>\n",
       "      <td>8.0</td>\n",
       "    </tr>\n",
       "    <tr>\n",
       "      <th>C</th>\n",
       "      <td>12.0</td>\n",
       "      <td>NaN</td>\n",
       "    </tr>\n",
       "    <tr>\n",
       "      <th rowspan=\"3\" valign=\"top\">two</th>\n",
       "      <th>A</th>\n",
       "      <td>NaN</td>\n",
       "      <td>7.0</td>\n",
       "    </tr>\n",
       "    <tr>\n",
       "      <th>B</th>\n",
       "      <td>11.0</td>\n",
       "      <td>NaN</td>\n",
       "    </tr>\n",
       "    <tr>\n",
       "      <th>C</th>\n",
       "      <td>NaN</td>\n",
       "      <td>3.0</td>\n",
       "    </tr>\n",
       "  </tbody>\n",
       "</table>\n",
       "</div>"
      ],
      "text/plain": [
       "C         bar  foo\n",
       "A     B           \n",
       "one   A  10.0  1.0\n",
       "      B   5.0  2.0\n",
       "      C   6.0  9.0\n",
       "three A   4.0  NaN\n",
       "      B   NaN  8.0\n",
       "      C  12.0  NaN\n",
       "two   A   NaN  7.0\n",
       "      B  11.0  NaN\n",
       "      C   NaN  3.0"
      ]
     },
     "execution_count": 229,
     "metadata": {},
     "output_type": "execute_result"
    }
   ],
   "source": [
    "# make the pivot table\n",
    "pd.pivot_table(df, values='D', index=['A','B'], columns=['C'])"
   ]
  },
  {
   "cell_type": "markdown",
   "metadata": {},
   "source": [
    "#### Time Series"
   ]
  },
  {
   "cell_type": "code",
   "execution_count": 230,
   "metadata": {
    "collapsed": false
   },
   "outputs": [
    {
     "data": {
      "text/plain": [
       "DatetimeIndex(['2012-01-01 00:00:00', '2012-01-01 00:00:01',\n",
       "               '2012-01-01 00:00:02', '2012-01-01 00:00:03',\n",
       "               '2012-01-01 00:00:04', '2012-01-01 00:00:05',\n",
       "               '2012-01-01 00:00:06', '2012-01-01 00:00:07',\n",
       "               '2012-01-01 00:00:08', '2012-01-01 00:00:09',\n",
       "               '2012-01-01 00:00:10', '2012-01-01 00:00:11',\n",
       "               '2012-01-01 00:00:12', '2012-01-01 00:00:13',\n",
       "               '2012-01-01 00:00:14', '2012-01-01 00:00:15',\n",
       "               '2012-01-01 00:00:16', '2012-01-01 00:00:17',\n",
       "               '2012-01-01 00:00:18', '2012-01-01 00:00:19',\n",
       "               '2012-01-01 00:00:20', '2012-01-01 00:00:21',\n",
       "               '2012-01-01 00:00:22', '2012-01-01 00:00:23',\n",
       "               '2012-01-01 00:00:24', '2012-01-01 00:00:25',\n",
       "               '2012-01-01 00:00:26', '2012-01-01 00:00:27',\n",
       "               '2012-01-01 00:00:28', '2012-01-01 00:00:29',\n",
       "               '2012-01-01 00:00:30', '2012-01-01 00:00:31',\n",
       "               '2012-01-01 00:00:32', '2012-01-01 00:00:33',\n",
       "               '2012-01-01 00:00:34', '2012-01-01 00:00:35',\n",
       "               '2012-01-01 00:00:36', '2012-01-01 00:00:37',\n",
       "               '2012-01-01 00:00:38', '2012-01-01 00:00:39',\n",
       "               '2012-01-01 00:00:40', '2012-01-01 00:00:41',\n",
       "               '2012-01-01 00:00:42', '2012-01-01 00:00:43',\n",
       "               '2012-01-01 00:00:44', '2012-01-01 00:00:45',\n",
       "               '2012-01-01 00:00:46', '2012-01-01 00:00:47',\n",
       "               '2012-01-01 00:00:48', '2012-01-01 00:00:49',\n",
       "               '2012-01-01 00:00:50', '2012-01-01 00:00:51',\n",
       "               '2012-01-01 00:00:52', '2012-01-01 00:00:53',\n",
       "               '2012-01-01 00:00:54', '2012-01-01 00:00:55',\n",
       "               '2012-01-01 00:00:56', '2012-01-01 00:00:57',\n",
       "               '2012-01-01 00:00:58', '2012-01-01 00:00:59',\n",
       "               '2012-01-01 00:01:00', '2012-01-01 00:01:01',\n",
       "               '2012-01-01 00:01:02', '2012-01-01 00:01:03',\n",
       "               '2012-01-01 00:01:04', '2012-01-01 00:01:05',\n",
       "               '2012-01-01 00:01:06', '2012-01-01 00:01:07',\n",
       "               '2012-01-01 00:01:08', '2012-01-01 00:01:09',\n",
       "               '2012-01-01 00:01:10', '2012-01-01 00:01:11',\n",
       "               '2012-01-01 00:01:12', '2012-01-01 00:01:13',\n",
       "               '2012-01-01 00:01:14', '2012-01-01 00:01:15',\n",
       "               '2012-01-01 00:01:16', '2012-01-01 00:01:17',\n",
       "               '2012-01-01 00:01:18', '2012-01-01 00:01:19',\n",
       "               '2012-01-01 00:01:20', '2012-01-01 00:01:21',\n",
       "               '2012-01-01 00:01:22', '2012-01-01 00:01:23',\n",
       "               '2012-01-01 00:01:24', '2012-01-01 00:01:25',\n",
       "               '2012-01-01 00:01:26', '2012-01-01 00:01:27',\n",
       "               '2012-01-01 00:01:28', '2012-01-01 00:01:29',\n",
       "               '2012-01-01 00:01:30', '2012-01-01 00:01:31',\n",
       "               '2012-01-01 00:01:32', '2012-01-01 00:01:33',\n",
       "               '2012-01-01 00:01:34', '2012-01-01 00:01:35',\n",
       "               '2012-01-01 00:01:36', '2012-01-01 00:01:37',\n",
       "               '2012-01-01 00:01:38', '2012-01-01 00:01:39'],\n",
       "              dtype='datetime64[ns]', freq='S')"
      ]
     },
     "execution_count": 230,
     "metadata": {},
     "output_type": "execute_result"
    }
   ],
   "source": [
    "# create the date DateTimeIndex object using pandas date_range() function\n",
    "rng = pd.date_range('1/1/2012', periods=100, freq='S')\n",
    "rng"
   ]
  },
  {
   "cell_type": "code",
   "execution_count": 231,
   "metadata": {
    "collapsed": false
   },
   "outputs": [
    {
     "data": {
      "text/plain": [
       "2012-01-01 00:00:00    234\n",
       "2012-01-01 00:00:01    159\n",
       "2012-01-01 00:00:02    499\n",
       "2012-01-01 00:00:03    142\n",
       "2012-01-01 00:00:04    226\n",
       "2012-01-01 00:00:05    315\n",
       "2012-01-01 00:00:06    174\n",
       "2012-01-01 00:00:07      1\n",
       "2012-01-01 00:00:08    166\n",
       "2012-01-01 00:00:09    217\n",
       "2012-01-01 00:00:10    426\n",
       "2012-01-01 00:00:11    322\n",
       "2012-01-01 00:00:12    254\n",
       "2012-01-01 00:00:13    179\n",
       "2012-01-01 00:00:14    446\n",
       "2012-01-01 00:00:15    377\n",
       "2012-01-01 00:00:16    203\n",
       "2012-01-01 00:00:17    315\n",
       "2012-01-01 00:00:18     56\n",
       "2012-01-01 00:00:19    188\n",
       "2012-01-01 00:00:20     53\n",
       "2012-01-01 00:00:21    337\n",
       "2012-01-01 00:00:22    453\n",
       "2012-01-01 00:00:23    199\n",
       "2012-01-01 00:00:24    342\n",
       "2012-01-01 00:00:25    454\n",
       "2012-01-01 00:00:26    467\n",
       "2012-01-01 00:00:27    255\n",
       "2012-01-01 00:00:28    443\n",
       "2012-01-01 00:00:29    195\n",
       "                      ... \n",
       "2012-01-01 00:01:10     51\n",
       "2012-01-01 00:01:11    149\n",
       "2012-01-01 00:01:12    362\n",
       "2012-01-01 00:01:13    144\n",
       "2012-01-01 00:01:14      0\n",
       "2012-01-01 00:01:15     75\n",
       "2012-01-01 00:01:16    356\n",
       "2012-01-01 00:01:17    322\n",
       "2012-01-01 00:01:18    344\n",
       "2012-01-01 00:01:19     90\n",
       "2012-01-01 00:01:20    376\n",
       "2012-01-01 00:01:21     22\n",
       "2012-01-01 00:01:22     67\n",
       "2012-01-01 00:01:23    400\n",
       "2012-01-01 00:01:24    163\n",
       "2012-01-01 00:01:25    154\n",
       "2012-01-01 00:01:26    390\n",
       "2012-01-01 00:01:27    111\n",
       "2012-01-01 00:01:28    260\n",
       "2012-01-01 00:01:29    183\n",
       "2012-01-01 00:01:30    198\n",
       "2012-01-01 00:01:31    425\n",
       "2012-01-01 00:01:32    163\n",
       "2012-01-01 00:01:33    245\n",
       "2012-01-01 00:01:34    111\n",
       "2012-01-01 00:01:35    299\n",
       "2012-01-01 00:01:36    251\n",
       "2012-01-01 00:01:37      8\n",
       "2012-01-01 00:01:38    373\n",
       "2012-01-01 00:01:39    156\n",
       "Freq: S, dtype: int64"
      ]
     },
     "execution_count": 231,
     "metadata": {},
     "output_type": "execute_result"
    }
   ],
   "source": [
    "# create a Series object filled with random numbers between 0 and 500\n",
    "# index is rng\n",
    "ts = pd.Series(np.random.randint(0, 500, len(rng)), index=rng)\n",
    "ts"
   ]
  },
  {
   "cell_type": "code",
   "execution_count": 232,
   "metadata": {
    "collapsed": false
   },
   "outputs": [
    {
     "data": {
      "text/plain": [
       "2012-01-01 00:00:00+00:00    234\n",
       "2012-01-01 00:00:01+00:00    159\n",
       "2012-01-01 00:00:02+00:00    499\n",
       "2012-01-01 00:00:03+00:00    142\n",
       "2012-01-01 00:00:04+00:00    226\n",
       "2012-01-01 00:00:05+00:00    315\n",
       "2012-01-01 00:00:06+00:00    174\n",
       "2012-01-01 00:00:07+00:00      1\n",
       "2012-01-01 00:00:08+00:00    166\n",
       "2012-01-01 00:00:09+00:00    217\n",
       "2012-01-01 00:00:10+00:00    426\n",
       "2012-01-01 00:00:11+00:00    322\n",
       "2012-01-01 00:00:12+00:00    254\n",
       "2012-01-01 00:00:13+00:00    179\n",
       "2012-01-01 00:00:14+00:00    446\n",
       "2012-01-01 00:00:15+00:00    377\n",
       "2012-01-01 00:00:16+00:00    203\n",
       "2012-01-01 00:00:17+00:00    315\n",
       "2012-01-01 00:00:18+00:00     56\n",
       "2012-01-01 00:00:19+00:00    188\n",
       "2012-01-01 00:00:20+00:00     53\n",
       "2012-01-01 00:00:21+00:00    337\n",
       "2012-01-01 00:00:22+00:00    453\n",
       "2012-01-01 00:00:23+00:00    199\n",
       "2012-01-01 00:00:24+00:00    342\n",
       "2012-01-01 00:00:25+00:00    454\n",
       "2012-01-01 00:00:26+00:00    467\n",
       "2012-01-01 00:00:27+00:00    255\n",
       "2012-01-01 00:00:28+00:00    443\n",
       "2012-01-01 00:00:29+00:00    195\n",
       "                            ... \n",
       "2012-01-01 00:01:10+00:00     51\n",
       "2012-01-01 00:01:11+00:00    149\n",
       "2012-01-01 00:01:12+00:00    362\n",
       "2012-01-01 00:01:13+00:00    144\n",
       "2012-01-01 00:01:14+00:00      0\n",
       "2012-01-01 00:01:15+00:00     75\n",
       "2012-01-01 00:01:16+00:00    356\n",
       "2012-01-01 00:01:17+00:00    322\n",
       "2012-01-01 00:01:18+00:00    344\n",
       "2012-01-01 00:01:19+00:00     90\n",
       "2012-01-01 00:01:20+00:00    376\n",
       "2012-01-01 00:01:21+00:00     22\n",
       "2012-01-01 00:01:22+00:00     67\n",
       "2012-01-01 00:01:23+00:00    400\n",
       "2012-01-01 00:01:24+00:00    163\n",
       "2012-01-01 00:01:25+00:00    154\n",
       "2012-01-01 00:01:26+00:00    390\n",
       "2012-01-01 00:01:27+00:00    111\n",
       "2012-01-01 00:01:28+00:00    260\n",
       "2012-01-01 00:01:29+00:00    183\n",
       "2012-01-01 00:01:30+00:00    198\n",
       "2012-01-01 00:01:31+00:00    425\n",
       "2012-01-01 00:01:32+00:00    163\n",
       "2012-01-01 00:01:33+00:00    245\n",
       "2012-01-01 00:01:34+00:00    111\n",
       "2012-01-01 00:01:35+00:00    299\n",
       "2012-01-01 00:01:36+00:00    251\n",
       "2012-01-01 00:01:37+00:00      8\n",
       "2012-01-01 00:01:38+00:00    373\n",
       "2012-01-01 00:01:39+00:00    156\n",
       "Freq: S, dtype: int64"
      ]
     },
     "execution_count": 232,
     "metadata": {},
     "output_type": "execute_result"
    }
   ],
   "source": [
    "# localize to timezone\n",
    "ts_utc = ts.tz_localize('UTC')\n",
    "ts_utc"
   ]
  },
  {
   "cell_type": "code",
   "execution_count": 233,
   "metadata": {
    "collapsed": false
   },
   "outputs": [
    {
     "data": {
      "text/plain": [
       "2011-12-31 19:00:00-05:00    234\n",
       "2011-12-31 19:00:01-05:00    159\n",
       "2011-12-31 19:00:02-05:00    499\n",
       "2011-12-31 19:00:03-05:00    142\n",
       "2011-12-31 19:00:04-05:00    226\n",
       "2011-12-31 19:00:05-05:00    315\n",
       "2011-12-31 19:00:06-05:00    174\n",
       "2011-12-31 19:00:07-05:00      1\n",
       "2011-12-31 19:00:08-05:00    166\n",
       "2011-12-31 19:00:09-05:00    217\n",
       "2011-12-31 19:00:10-05:00    426\n",
       "2011-12-31 19:00:11-05:00    322\n",
       "2011-12-31 19:00:12-05:00    254\n",
       "2011-12-31 19:00:13-05:00    179\n",
       "2011-12-31 19:00:14-05:00    446\n",
       "2011-12-31 19:00:15-05:00    377\n",
       "2011-12-31 19:00:16-05:00    203\n",
       "2011-12-31 19:00:17-05:00    315\n",
       "2011-12-31 19:00:18-05:00     56\n",
       "2011-12-31 19:00:19-05:00    188\n",
       "2011-12-31 19:00:20-05:00     53\n",
       "2011-12-31 19:00:21-05:00    337\n",
       "2011-12-31 19:00:22-05:00    453\n",
       "2011-12-31 19:00:23-05:00    199\n",
       "2011-12-31 19:00:24-05:00    342\n",
       "2011-12-31 19:00:25-05:00    454\n",
       "2011-12-31 19:00:26-05:00    467\n",
       "2011-12-31 19:00:27-05:00    255\n",
       "2011-12-31 19:00:28-05:00    443\n",
       "2011-12-31 19:00:29-05:00    195\n",
       "                            ... \n",
       "2011-12-31 19:01:10-05:00     51\n",
       "2011-12-31 19:01:11-05:00    149\n",
       "2011-12-31 19:01:12-05:00    362\n",
       "2011-12-31 19:01:13-05:00    144\n",
       "2011-12-31 19:01:14-05:00      0\n",
       "2011-12-31 19:01:15-05:00     75\n",
       "2011-12-31 19:01:16-05:00    356\n",
       "2011-12-31 19:01:17-05:00    322\n",
       "2011-12-31 19:01:18-05:00    344\n",
       "2011-12-31 19:01:19-05:00     90\n",
       "2011-12-31 19:01:20-05:00    376\n",
       "2011-12-31 19:01:21-05:00     22\n",
       "2011-12-31 19:01:22-05:00     67\n",
       "2011-12-31 19:01:23-05:00    400\n",
       "2011-12-31 19:01:24-05:00    163\n",
       "2011-12-31 19:01:25-05:00    154\n",
       "2011-12-31 19:01:26-05:00    390\n",
       "2011-12-31 19:01:27-05:00    111\n",
       "2011-12-31 19:01:28-05:00    260\n",
       "2011-12-31 19:01:29-05:00    183\n",
       "2011-12-31 19:01:30-05:00    198\n",
       "2011-12-31 19:01:31-05:00    425\n",
       "2011-12-31 19:01:32-05:00    163\n",
       "2011-12-31 19:01:33-05:00    245\n",
       "2011-12-31 19:01:34-05:00    111\n",
       "2011-12-31 19:01:35-05:00    299\n",
       "2011-12-31 19:01:36-05:00    251\n",
       "2011-12-31 19:01:37-05:00      8\n",
       "2011-12-31 19:01:38-05:00    373\n",
       "2011-12-31 19:01:39-05:00    156\n",
       "Freq: S, dtype: int64"
      ]
     },
     "execution_count": 233,
     "metadata": {},
     "output_type": "execute_result"
    }
   ],
   "source": [
    "# convert to another timezone\n",
    "ts_utc.tz_convert('US/Eastern')"
   ]
  },
  {
   "cell_type": "markdown",
   "metadata": {},
   "source": [
    "#### Stopped at 'Categoricals'"
   ]
  }
 ],
 "metadata": {
  "anaconda-cloud": {},
  "kernelspec": {
   "display_name": "Python [default]",
   "language": "python",
   "name": "python3"
  },
  "language_info": {
   "codemirror_mode": {
    "name": "ipython",
    "version": 3
   },
   "file_extension": ".py",
   "mimetype": "text/x-python",
   "name": "python",
   "nbconvert_exporter": "python",
   "pygments_lexer": "ipython3",
   "version": "3.5.2"
  }
 },
 "nbformat": 4,
 "nbformat_minor": 1
}
