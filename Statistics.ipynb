{
 "cells": [
  {
   "cell_type": "markdown",
   "metadata": {},
   "source": [
    "# Statistics"
   ]
  },
  {
   "cell_type": "markdown",
   "metadata": {},
   "source": [
    "##### Mean, median, mode"
   ]
  },
  {
   "cell_type": "code",
   "execution_count": 6,
   "metadata": {
    "collapsed": true
   },
   "outputs": [],
   "source": [
    "import statistics as stats"
   ]
  },
  {
   "cell_type": "code",
   "execution_count": 7,
   "metadata": {
    "collapsed": true
   },
   "outputs": [],
   "source": [
    "numbers_list = [1,1,2,4,10000]"
   ]
  },
  {
   "cell_type": "code",
   "execution_count": 8,
   "metadata": {
    "collapsed": false
   },
   "outputs": [
    {
     "data": {
      "text/plain": [
       "2"
      ]
     },
     "execution_count": 8,
     "metadata": {},
     "output_type": "execute_result"
    }
   ],
   "source": [
    "# the middle number positionally is the median\n",
    "# if the set is even-numbered, the mean of the two middle numbers is taken.\n",
    "stats.median(numbers_list)"
   ]
  },
  {
   "cell_type": "code",
   "execution_count": 9,
   "metadata": {
    "collapsed": false
   },
   "outputs": [
    {
     "data": {
      "text/plain": [
       "2001.6"
      ]
     },
     "execution_count": 9,
     "metadata": {},
     "output_type": "execute_result"
    }
   ],
   "source": [
    "# the mean\n",
    "stats.mean(numbers_list)"
   ]
  },
  {
   "cell_type": "code",
   "execution_count": 10,
   "metadata": {
    "collapsed": false
   },
   "outputs": [
    {
     "data": {
      "text/plain": [
       "1"
      ]
     },
     "execution_count": 10,
     "metadata": {},
     "output_type": "execute_result"
    }
   ],
   "source": [
    "# the mode is the value in the distribution with the most frequency\n",
    "stats.mode(numbers_list)"
   ]
  },
  {
   "cell_type": "markdown",
   "metadata": {
    "collapsed": true
   },
   "source": [
    "##### Interquartile Range"
   ]
  },
  {
   "cell_type": "code",
   "execution_count": 11,
   "metadata": {
    "collapsed": true
   },
   "outputs": [],
   "source": [
    "import numpy as np\n",
    "import matplotlib.pyplot as plt\n",
    "from scipy.stats import norm\n",
    "%matplotlib inline"
   ]
  },
  {
   "cell_type": "code",
   "execution_count": 12,
   "metadata": {
    "collapsed": true
   },
   "outputs": [],
   "source": [
    "mean = 0\n",
    "standard_dev = 1"
   ]
  },
  {
   "cell_type": "code",
   "execution_count": 13,
   "metadata": {
    "collapsed": false
   },
   "outputs": [
    {
     "data": {
      "text/plain": [
       "array([-10.  ,  -9.99,  -9.98, ...,   9.97,   9.98,   9.99])"
      ]
     },
     "execution_count": 13,
     "metadata": {},
     "output_type": "execute_result"
    }
   ],
   "source": [
    "# numpy ndarrray made via np.arange() from -10 to 10 with .0001 spacing\n",
    "# between values\n",
    "range = np.arange(-10, 10, 0.01)\n",
    "range"
   ]
  },
  {
   "cell_type": "code",
   "execution_count": 18,
   "metadata": {
    "collapsed": false
   },
   "outputs": [
    {
     "data": {
      "image/png": "[encoded data removed]",
      "text/plain": [
       "<matplotlib.figure.Figure at 0x10c5e8c88>"
      ]
     },
     "metadata": {},
     "output_type": "display_data"
    }
   ],
   "source": [
    "# plt.plot is the matplotlib plot function\n",
    "# range sets the x-axis\n",
    "# SciPy's norm.pdf() distribution values\n",
    "my_plot = plt.plot(range, norm.pdf(range, mean, standard_dev))"
   ]
  },
  {
   "cell_type": "code",
   "execution_count": 15,
   "metadata": {
    "collapsed": false
   },
   "outputs": [],
   "source": [
    "# but what does the norm.pdf function return?\n",
    "x = norm.pdf(range,mean,standard_dev)"
   ]
  },
  {
   "cell_type": "code",
   "execution_count": 19,
   "metadata": {
    "collapsed": false
   },
   "outputs": [
    {
     "name": "stdout",
     "output_type": "stream",
     "text": [
      "<class 'numpy.ndarray'>\n"
     ]
    }
   ],
   "source": [
    "# it's an ndarray\n",
    "print(type(x))"
   ]
  },
  {
   "cell_type": "code",
   "execution_count": 20,
   "metadata": {
    "collapsed": false
   },
   "outputs": [
    {
     "data": {
      "text/plain": [
       "1"
      ]
     },
     "execution_count": 20,
     "metadata": {},
     "output_type": "execute_result"
    }
   ],
   "source": [
    "# with 1 dimension\n",
    "x.ndim"
   ]
  },
  {
   "cell_type": "markdown",
   "metadata": {},
   "source": [
    "I want to see the whole 1D ndarray. If it's acting as y-axis values, it should have a range from 0.0 to 0.4 given the graph ranges from 0.0 to 0.4."
   ]
  },
  {
   "cell_type": "code",
   "execution_count": 21,
   "metadata": {
    "collapsed": false
   },
   "outputs": [],
   "source": [
    "# use np.savetxt() function to throw ndarray into csv\n",
    "np.savetxt(\"x-ndarray.csv\", x, delimiter=\",\")"
   ]
  },
  {
   "cell_type": "markdown",
   "metadata": {},
   "source": [
    "Indeed, opening this file shows that values range from approximately 7.69 x 10^(-23) to 0.39.\n",
    "\n",
    "Important note, the values in x are normally distributed via the norm.pdf function. So the values surrounding closer to the mean of 0.0 will be more numerous that those around the tail. Those more numerous values are closer to 0.39 than those in the tails.\n",
    "\n",
    "I don't know why values only go to approximately 0.4"
   ]
  },
  {
   "cell_type": "markdown",
   "metadata": {},
   "source": [
    "### Box Plots\n",
    "Box plots take up less space and are therefore particularly useful for comparing distributions between several groups or sets of data. The whiskers show the spread of the data (the range of the data). Red line in the middle is the median. Half of the data is on one side and half is on the other. Either side of the box is the median for either half. There are four chunks such that they make up the four quartiles."
   ]
  },
  {
   "cell_type": "code",
   "execution_count": 22,
   "metadata": {
    "collapsed": false
   },
   "outputs": [
    {
     "data": {
      "text/plain": [
       "{'boxes': [<matplotlib.lines.Line2D at 0x10f3342e8>],\n",
       " 'caps': [<matplotlib.lines.Line2D at 0x10f33ad68>,\n",
       "  <matplotlib.lines.Line2D at 0x10f33aef0>],\n",
       " 'fliers': [<matplotlib.lines.Line2D at 0x10f340f60>],\n",
       " 'means': [],\n",
       " 'medians': [<matplotlib.lines.Line2D at 0x10f340748>],\n",
       " 'whiskers': [<matplotlib.lines.Line2D at 0x10f334cf8>,\n",
       "  <matplotlib.lines.Line2D at 0x10f334e80>]}"
      ]
     },
     "execution_count": 22,
     "metadata": {},
     "output_type": "execute_result"
    },
    {
     "data": {
      "image/png": "[encoded data removed]",
      "text/plain": [
       "<matplotlib.figure.Figure at 0x10ef08400>"
      ]
     },
     "metadata": {},
     "output_type": "display_data"
    }
   ],
   "source": [
    "# my 'range' function is a 1D ndarray that has values at\n",
    "# evenly spread intervals. So the median is right it the middle.\n",
    "# and the ends of the box on either side are in the middle of\n",
    "# the two halves.\n",
    "import matplotlib.pyplot as plt\n",
    "plt.boxplot(range)"
   ]
  },
  {
   "cell_type": "code",
   "execution_count": 23,
   "metadata": {
    "collapsed": false
   },
   "outputs": [
    {
     "data": {
      "text/plain": [
       "array([  1,   2,   4,   5, 100, 101, 102, 103, 105, 106, 107, 108, 109,\n",
       "       110, 111])"
      ]
     },
     "execution_count": 23,
     "metadata": {},
     "output_type": "execute_result"
    }
   ],
   "source": [
    "# note in this distribution the median is 103\n",
    "ndarray = np.array([1,2,4,5,100,101,102,103,105,106,107,108,109,110,111])\n",
    "ndarray"
   ]
  },
  {
   "cell_type": "code",
   "execution_count": 24,
   "metadata": {
    "collapsed": false
   },
   "outputs": [
    {
     "data": {
      "text/plain": [
       "{'boxes': [<matplotlib.lines.Line2D at 0x10f39bc50>],\n",
       " 'caps': [<matplotlib.lines.Line2D at 0x10f3a2fd0>,\n",
       "  <matplotlib.lines.Line2D at 0x10f3a8f28>],\n",
       " 'fliers': [<matplotlib.lines.Line2D at 0x10f3aef98>],\n",
       " 'means': [],\n",
       " 'medians': [<matplotlib.lines.Line2D at 0x10f3ae0f0>],\n",
       " 'whiskers': [<matplotlib.lines.Line2D at 0x10f39bef0>,\n",
       "  <matplotlib.lines.Line2D at 0x10f3a2eb8>]}"
      ]
     },
     "execution_count": 24,
     "metadata": {},
     "output_type": "execute_result"
    },
    {
     "data": {
      "image/png": "[encoded data removed]",
      "text/plain": [
       "<matplotlib.figure.Figure at 0x10f30c160>"
      ]
     },
     "metadata": {},
     "output_type": "display_data"
    }
   ],
   "source": [
    "# 1st Quartile goes from the minimum to the bottom of the box.\n",
    "# 2nd Quartile is bottom section of box, 3rd is top section,\n",
    "# and 4th is from top of box to the top whisker.\n",
    "# If Q3 and Q4 contain half of the data, it's clear their\n",
    "# values are condensed near each other in those Quartiles.\n",
    "# note, outliers may be plotted as a '+' somewhere outside\n",
    "# of the box plot\n",
    "plt.boxplot(ndarray)"
   ]
  },
  {
   "cell_type": "code",
   "execution_count": null,
   "metadata": {
    "collapsed": true
   },
   "outputs": [],
   "source": []
  }
 ],
 "metadata": {
  "anaconda-cloud": {},
  "kernelspec": {
   "display_name": "Python [default]",
   "language": "python",
   "name": "python3"
  },
  "language_info": {
   "codemirror_mode": {
    "name": "ipython",
    "version": 3
   },
   "file_extension": ".py",
   "mimetype": "text/x-python",
   "name": "python",
   "nbconvert_exporter": "python",
   "pygments_lexer": "ipython3",
   "version": "3.5.2"
  }
 },
 "nbformat": 4,
 "nbformat_minor": 1
}
