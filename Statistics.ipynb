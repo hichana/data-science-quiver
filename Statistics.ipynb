{
 "cells": [
  {
   "cell_type": "markdown",
   "metadata": {},
   "source": [
    "# Statistics"
   ]
  },
  {
   "cell_type": "markdown",
   "metadata": {},
   "source": [
    "##### General notes\n",
    "* Correlation does not imply causation\n"
   ]
  },
  {
   "cell_type": "markdown",
   "metadata": {},
   "source": [
    "##### Mean, median, mode"
   ]
  },
  {
   "cell_type": "code",
   "execution_count": 2,
   "metadata": {
    "collapsed": true
   },
   "outputs": [],
   "source": [
    "import statistics as stats"
   ]
  },
  {
   "cell_type": "code",
   "execution_count": 3,
   "metadata": {
    "collapsed": true
   },
   "outputs": [],
   "source": [
    "numbers_list = [1,1,2,4,10000]"
   ]
  },
  {
   "cell_type": "code",
   "execution_count": 4,
   "metadata": {
    "collapsed": false
   },
   "outputs": [
    {
     "data": {
      "text/plain": [
       "2"
      ]
     },
     "execution_count": 4,
     "metadata": {},
     "output_type": "execute_result"
    }
   ],
   "source": [
    "# the middle number positionally is the median\n",
    "# if the set is even-numbered, the mean of the two middle numbers is taken.\n",
    "stats.median(numbers_list)"
   ]
  },
  {
   "cell_type": "code",
   "execution_count": 5,
   "metadata": {
    "collapsed": false
   },
   "outputs": [
    {
     "data": {
      "text/plain": [
       "2001.6"
      ]
     },
     "execution_count": 5,
     "metadata": {},
     "output_type": "execute_result"
    }
   ],
   "source": [
    "# the mean\n",
    "stats.mean(numbers_list)"
   ]
  },
  {
   "cell_type": "code",
   "execution_count": 6,
   "metadata": {
    "collapsed": false
   },
   "outputs": [
    {
     "data": {
      "text/plain": [
       "1"
      ]
     },
     "execution_count": 6,
     "metadata": {},
     "output_type": "execute_result"
    }
   ],
   "source": [
    "# the mode is the value in the distribution with the most frequency\n",
    "stats.mode(numbers_list)"
   ]
  },
  {
   "cell_type": "markdown",
   "metadata": {
    "collapsed": true
   },
   "source": [
    "##### Create the Standard Normal Distribtuion"
   ]
  },
  {
   "cell_type": "code",
   "execution_count": 7,
   "metadata": {
    "collapsed": true
   },
   "outputs": [],
   "source": [
    "import numpy as np\n",
    "import matplotlib.pyplot as plt\n",
    "from scipy.stats import norm\n",
    "%matplotlib inline"
   ]
  },
  {
   "cell_type": "code",
   "execution_count": 8,
   "metadata": {
    "collapsed": true
   },
   "outputs": [],
   "source": [
    "mean = 0\n",
    "standard_dev = 1"
   ]
  },
  {
   "cell_type": "code",
   "execution_count": 9,
   "metadata": {
    "collapsed": false
   },
   "outputs": [
    {
     "data": {
      "text/plain": [
       "array([-10.  ,  -9.99,  -9.98, ...,   9.97,   9.98,   9.99])"
      ]
     },
     "execution_count": 9,
     "metadata": {},
     "output_type": "execute_result"
    }
   ],
   "source": [
    "# numpy ndarrray made via np.arange() from -10 to 10 with .0001 spacing\n",
    "# between values\n",
    "range = np.arange(-10, 10, 0.01)\n",
    "range"
   ]
  },
  {
   "cell_type": "code",
   "execution_count": 10,
   "metadata": {
    "collapsed": false
   },
   "outputs": [
    {
     "data": {
      "image/png": "[encoded data removed]",
      "text/plain": [
       "<matplotlib.figure.Figure at 0x10c5f1588>"
      ]
     },
     "metadata": {},
     "output_type": "display_data"
    }
   ],
   "source": [
    "# plt.plot is the matplotlib plot function\n",
    "# range sets the x-axis\n",
    "# SciPy's norm.pdf() distribution values\n",
    "my_plot = plt.plot(range, norm.pdf(range, mean, standard_dev))"
   ]
  },
  {
   "cell_type": "code",
   "execution_count": 11,
   "metadata": {
    "collapsed": false
   },
   "outputs": [],
   "source": [
    "# but what does the norm.pdf function return?\n",
    "x = norm.pdf(range,mean,standard_dev)"
   ]
  },
  {
   "cell_type": "code",
   "execution_count": 12,
   "metadata": {
    "collapsed": false
   },
   "outputs": [
    {
     "name": "stdout",
     "output_type": "stream",
     "text": [
      "<class 'numpy.ndarray'>\n"
     ]
    }
   ],
   "source": [
    "# it's an ndarray\n",
    "print(type(x))"
   ]
  },
  {
   "cell_type": "code",
   "execution_count": 13,
   "metadata": {
    "collapsed": false
   },
   "outputs": [
    {
     "data": {
      "text/plain": [
       "1"
      ]
     },
     "execution_count": 13,
     "metadata": {},
     "output_type": "execute_result"
    }
   ],
   "source": [
    "# with 1 dimension\n",
    "x.ndim"
   ]
  },
  {
   "cell_type": "markdown",
   "metadata": {},
   "source": [
    "I want to see the whole 1D ndarray. If it's acting as y-axis values, it should have a range from 0.0 to 0.4 given the graph ranges from 0.0 to 0.4."
   ]
  },
  {
   "cell_type": "code",
   "execution_count": 14,
   "metadata": {
    "collapsed": false
   },
   "outputs": [],
   "source": [
    "# use np.savetxt() function to throw ndarray into csv\n",
    "np.savetxt(\"x-ndarray.csv\", x, delimiter=\",\")"
   ]
  },
  {
   "cell_type": "markdown",
   "metadata": {},
   "source": [
    "Indeed, opening this file shows that values range from approximately 7.69 x 10^(-23) to 0.39.\n",
    "\n",
    "Important note, the values in x are normally distributed via the norm.pdf function. So the values surrounding closer to the mean of 0.0 will be more numerous that those around the tail. Those more numerous values are closer to 0.39 than those in the tails.\n",
    "\n",
    "I don't know why values only go to approximately 0.4"
   ]
  },
  {
   "cell_type": "markdown",
   "metadata": {},
   "source": [
    "##### Manual Standard Deviation from Already Grouped Data"
   ]
  },
  {
   "cell_type": "code",
   "execution_count": 15,
   "metadata": {
    "collapsed": false
   },
   "outputs": [
    {
     "ename": "NameError",
     "evalue": "name 'pd' is not defined",
     "output_type": "error",
     "traceback": [
      "\u001b[0;31m---------------------------------------------------------------------------\u001b[0m",
      "\u001b[0;31mNameError\u001b[0m                                 Traceback (most recent call last)",
      "\u001b[0;32m<ipython-input-15-10b189c7b87e>\u001b[0m in \u001b[0;36m<module>\u001b[0;34m()\u001b[0m\n\u001b[1;32m      4\u001b[0m \u001b[0mmidpoint\u001b[0m \u001b[0;34m=\u001b[0m \u001b[0;34m[\u001b[0m\u001b[0;36m2.5\u001b[0m\u001b[0;34m,\u001b[0m \u001b[0;36m7.5\u001b[0m\u001b[0;34m,\u001b[0m \u001b[0;36m12.5\u001b[0m\u001b[0;34m,\u001b[0m \u001b[0;36m17.5\u001b[0m\u001b[0;34m,\u001b[0m \u001b[0;36m22.5\u001b[0m\u001b[0;34m,\u001b[0m \u001b[0;36m27.5\u001b[0m\u001b[0;34m,\u001b[0m \u001b[0;36m32.5\u001b[0m\u001b[0;34m,\u001b[0m \u001b[0;36m37.5\u001b[0m\u001b[0;34m,\u001b[0m \u001b[0;36m42.5\u001b[0m\u001b[0;34m]\u001b[0m\u001b[0;34m\u001b[0m\u001b[0m\n\u001b[1;32m      5\u001b[0m \u001b[0;34m\u001b[0m\u001b[0m\n\u001b[0;32m----> 6\u001b[0;31m grouped_data = pd.DataFrame({'Interval':interval,\n\u001b[0m\u001b[1;32m      7\u001b[0m                              \u001b[0;34m'Midpoint xj'\u001b[0m\u001b[0;34m:\u001b[0m\u001b[0mmidpoint\u001b[0m\u001b[0;34m,\u001b[0m\u001b[0;34m\u001b[0m\u001b[0m\n\u001b[1;32m      8\u001b[0m                              'f':grouped_values})\n",
      "\u001b[0;31mNameError\u001b[0m: name 'pd' is not defined"
     ]
    }
   ],
   "source": [
    "# from grouped data\n",
    "interval = ['0-5 sec','5-10 sec','10-15 sec','15-20 sec','20-25 sec','25-30 sec','30-35 sec','35-40 sec','More than 40 sec']\n",
    "grouped_values = [40098,52420,48947,23050,11958,4927,3047,1930,3897]\n",
    "midpoint = [2.5, 7.5, 12.5, 17.5, 22.5, 27.5, 32.5, 37.5, 42.5]\n",
    "\n",
    "grouped_data = pd.DataFrame({'Interval':interval,\n",
    "                             'Midpoint xj':midpoint,\n",
    "                             'f':grouped_values})\n",
    "grouped_data"
   ]
  },
  {
   "cell_type": "code",
   "execution_count": null,
   "metadata": {
    "collapsed": false
   },
   "outputs": [],
   "source": [
    "# add all other columns\n",
    "for row in grouped_data:\n",
    "    grouped_data['xj*f'] = grouped_data['Midpoint xj'] * grouped_data['f']\n",
    "    grouped_data['xj^2'] = grouped_data['Midpoint xj']**2\n",
    "    grouped_data['xj^2*f'] = grouped_data['xj^2'] * grouped_data['f']\n",
    "grouped_data"
   ]
  },
  {
   "cell_type": "markdown",
   "metadata": {},
   "source": [
    "Variance is sigma^2 = (sum of x values squared times their respective frequency, all divided by n) - little x-bar^2"
   ]
  },
  {
   "cell_type": "code",
   "execution_count": null,
   "metadata": {
    "collapsed": false
   },
   "outputs": [],
   "source": [
    "# Mean\n",
    "mean = grouped_data['xj*f'].sum()/grouped_data['f'].sum()\n",
    "mean"
   ]
  },
  {
   "cell_type": "code",
   "execution_count": null,
   "metadata": {
    "collapsed": false
   },
   "outputs": [],
   "source": [
    "# Standard Deviation\n",
    "import math as math\n",
    "\n",
    "variance = (grouped_data['xj^2*f'].sum()/grouped_data['f'].sum()) - mean**2\n",
    "sqrt = math.sqrt(variance)\n",
    "sqrt"
   ]
  },
  {
   "cell_type": "markdown",
   "metadata": {
    "collapsed": true
   },
   "source": [
    "### Conduct a Pooled-Variance t Test with Confidence Intervals\n",
    "\n",
    "This allows for inference between two populations with variances assumed to be equal. The pooled-variance t procedures assume:"
   ]
  },
  {
   "cell_type": "markdown",
   "metadata": {},
   "source": [
    "##### Question:\n",
    "In 2001 in Croatia there was a large increase in the proportion of veterans claiming PTSD. Studies showed a high proportion were malingering (fabricating or exaggerating), possibly to gain compensation available due to new government policies. The Morel Emotional Numbing Test (MENT) was designed as a diagnostic tool to help differentiate between those who truly had PTSD and those who were malingering.\n",
    "\n",
    "*A box plot reveals that people seeking compensation appear to have higher scores on the MENT on average than those seeking treatment.*\n",
    "\n",
    "But is it a significant difference? Are we unlikely to observe a difference of this size due to chance alone? Is there strong evidence that the population mean of group 1 ,$\\mu_1$, is not equal to the population mean of group 2, $\\mu_2$? How much on average do the two population means differ?"
   ]
  },
  {
   "cell_type": "markdown",
   "metadata": {},
   "source": [
    "##### Test assumptions:\n",
    "\n",
    "INDEPENDENT RANDOM SAMPLES: We will need to exercise some caution in our conclusions here. These were samples taken in Croatia, so our conclusions really only apply to those claiming post traumatic stress disorder there. Also, they were not truly random samples from the populations. These were people seeking medical treatment at a clinic and agreed to participate in this study. So we never truly know what biases may have introduced by this sampling design. \n",
    "\n",
    "NORMALLY DISTRIBUTED: *A Normal Q-Q plot shows both the seeking compensation and seeking treatment samples appear to be normally distributed.* The Normal Q-Q plot checks out. Good to go on this.\n",
    "\n",
    "EQUAL POPULATION VARIANCES: Note, the sample standard deviations are different, but they're reasonably close. It seems reasonable to use the pooled-variance t procedure here. "
   ]
  },
  {
   "cell_type": "markdown",
   "metadata": {},
   "source": [
    "##### Parameters:\n",
    "Let X = the compensation group scores on the MENT\n",
    "\n",
    "Let Y = the treatment group scores on the MENT\n",
    "\n",
    "Let $t^*=t_{n_1-n_2-2\\text{, } 0.025}$\n",
    "\n",
    "Compensation group: $\\bar{x} = 9.76$, $\\hat{s}_x = 4.90$, $n_x = 49$\n",
    "\n",
    "Treatment group: $\\bar{y} = 6.48$, $\\hat{s}_y = 3.49$, $n_y = 70$\n",
    "\n",
    "We have SMALL samples, and only point-estimates for population paramters. The standardized estimator and distribution for $\\mu_x - \\mu_y$ is:\n",
    "\n",
    "$$\\frac{\\bar{X}-\\bar{Y} - (\\mu_x-\\mu_y)}{\\hat{S}_p\\sqrt{\\frac{1}{n_x} + \\frac{1}{n_y}}} \\sim t^*$$"
   ]
  },
  {
   "cell_type": "markdown",
   "metadata": {},
   "source": [
    "##### Initial Calculations:\n",
    "Pooled variance: A weighted average of the individual samples' variances. Pooled sample variance for the unbiased estimator is denoted $s_p^2$. \n",
    "\n",
    "$$ \\hat{s}_p^2 = \\frac{(n_x-1)\\hat{s}_x^2+(n_y-1)\\hat{s}_y^2}{n_x+n_y-2}$$\n",
    "\n",
    "Here we have:\n",
    "$$ \\hat{s}_p^2 = \\frac{(49-1)4.90^2+(70-1)3.49^2}{49+70-2}$$\n",
    "\n",
    "$$=17.033$$\n",
    "\n",
    "Standard error of the estimator: The standard error of the sample means. We can use the standard error in our inference procedure calculations.\n",
    "\n",
    "$$SE(\\bar{x} - \\bar{y}) = \\hat{s}_p\\sqrt{\\frac{1}{n_x}+\\frac{1}{n_y}}$$\n",
    "\n",
    "Here we have:\n",
    "\n",
    "$$SE(\\bar{x} - \\bar{y}) = \\sqrt{17.033}\\sqrt{\\frac{1}{49}+\\frac{1}{70}}$$\n",
    "\n",
    "$$=0.7687$$\n",
    "\n",
    "Degrees of freedom: based on sizes of samples.\n",
    "\n",
    "$$DF = n_x+n_y-2$$\n",
    "\n",
    "Here we have: $$DF = 49+70-2 = 117 \\text{ degrees of freedom}$$\n",
    "\n",
    "117 degrees of freedom corresponds to a t statistic of 1.980."
   ]
  },
  {
   "cell_type": "markdown",
   "metadata": {},
   "source": [
    "##### Hypothesis test:\n",
    "Create a decision rule to either reject the null hypothesis or fail to reject the null hypothesis using a 95% confidence interval for the difference between $\\bar{x}$ and $\\bar{y}$.\n",
    "$$H_0:\\mu_x=\\mu_y \\text{ versus } H_1:\\mu_x \\ne \\mu_y$$\n",
    "\n",
    "There is a 5% probability that we reject the null hypothesis given the null hypothesis is true:\n",
    "$$0.05 = P(\\text{reject }H_0|H_0\\text{ is true})$$\n",
    "\n",
    "Focusing only on the interval for which $H_0$ could be rejected in a two-tailed hypothesis test we have the absolute value of the $t$ statistic greater than $t^*$.\n",
    "$$= P(|t| > t^*)$$\n",
    "\n",
    "Now showing $t$ as the standardized estimator:\n",
    "$$=P \\left( \\left| \\frac{\\bar{X}-\\bar{Y} - (\\mu_x-\\mu_y)}{\\hat{S}_p\\sqrt{\\frac{1}{n_x} + \\frac{1}{n_y}}} \\right| > t^* \\right)$$\n",
    "\n",
    "Note $\\mu_x - \\mu_y$ has a hypothesized value of zero:\n",
    "\n",
    "$$=P \\left( \\left| \\frac{\\bar{X}-\\bar{Y} - (0)}{\\hat{S}_p\\sqrt{\\frac{1}{n_x} + \\frac{1}{n_y}}} \\right| > t^* \\right)$$\n",
    "\n",
    "$$=P \\left( \\left| \\bar{X}-\\bar{Y} \\right| > t^* * \\hat{S}_p\\sqrt{\\frac{1}{n_x} + \\frac{1}{n_y}}\\right)$$\n",
    "\n",
    "So we have two areas of focus on the t-distribution:\n",
    "\n",
    "$$\\bar{X}-\\bar{Y} < -t^* * \\hat{S}_p\\sqrt{\\frac{1}{n_x} + \\frac{1}{n_y}} \\text{ OR } \\bar{X}-\\bar{Y} > t^* * \\hat{S}_p\\sqrt{\\frac{1}{n_x} + \\frac{1}{n_y}}$$\n",
    "\n",
    "Our decision rule is to reject the null hypothesis $H_0$ if:\n",
    "$$\\bar{X}-\\bar{Y} \\notin \\left(-t^* * \\hat{S}_p\\sqrt{\\frac{1}{n_x} + \\frac{1}{n_y}} \\text{ , } t^* * \\hat{S}_p\\sqrt{\\frac{1}{n_x} + \\frac{1}{n_y}} \\right)$$\n",
    "\n",
    "Using our calculations for the appropriate degrees of freedom and the standard error of the estimator we have approximations of:\n",
    "\n",
    "$$\\bar{X}-\\bar{Y} \\notin \\left(-1.980 * 0.7687 \\text{ , } 1.980 * 0.7687 \\right)$$\n",
    "\n",
    "$$\\bar{X}-\\bar{Y} \\notin \\left(-1.522 \\text{ , } 1.522 \\right)$$\n",
    "\n",
    "The conclusion for this hypothesis test at the $\\alpha=0.05$ level is to reject the null hypothesis $H_0$ because:\n",
    "$$\\bar{X}-\\bar{Y} = \\bar{x}-\\bar{y} = 9.76-6.48=3.28 \\notin (-1.522,1.522)$$"
   ]
  },
  {
   "cell_type": "markdown",
   "metadata": {},
   "source": [
    "##### Confidence interval for the difference between the two population means\n",
    "\n",
    "The 95% confidence interval is the difference between $\\mu_x$ and $\\mu_y$ plus or minus the t-statistic times the standard error. In this case, for the right tail of the distribution, we have:\n",
    "\n",
    "$$\\bar{x}-\\bar{y} \\pm t^* * SE(\\bar{x} - \\bar{y})$$\n",
    "\n",
    "$$9.76-6.48 \\pm 1.980*0.7687$$\n",
    "\n",
    "$$3.28 \\pm 1.522$$\n",
    "\n",
    "$$(1.758, 4.802)$$\n",
    "\n",
    "We can be 95% confidence that the difference between $\\mu_x$ and $\\mu_y$ ($\\mu_x$ - $\\mu_y$) lies somewhere in this interval. The test statistic for the difference between the two sample means is:\n",
    "\n",
    "$$t = \\frac{\\bar{x}_1 - \\bar{x}_2}{SE(\\bar{x}_1 - \\bar{x}_2)}$$\n",
    "\n",
    "$$=\\frac{9.76-6.48}{0.7687}$$\n",
    "\n",
    "$$=4.267$$\n",
    "\n",
    "The area to the right of this statistic, and amounts to a 0.00002 probability. Also note, the interval lies to the right of zero, so all plausible values of $\\mu_x - \\mu_y$ are greater than 0. And, recall that group one was the group seeking compensation, and group two the group seeking treatment. So this interval gives us some indication that those seeking compensation, score higher on the MENT than those simply seeking treatment ($\\mu_x$ is greater than $\\mu_y on average).\n",
    "\n",
    "Likewise, the interval for the difference between $\\mu_y$ and $\\mu_x$ for the left tail is:\n",
    "\n",
    "$$\\bar{y}-\\bar{x} \\pm -t^* * SE(\\bar{x} - \\bar{y})$$\n",
    "\n",
    "$$6.48-9.76 \\pm -1.980*0.7687$$\n",
    "\n",
    "$$-3.28 \\pm -1.522$$\n",
    "\n",
    "$$(-1.758, -4.802)$$\n",
    "\n",
    "We can be 95% confidence that the difference between $\\mu_y$ and $\\mu_x$ ($\\mu_y$ - $\\mu_x$) lies somewhere in this interval. \n",
    "\n",
    "The area to the left of this statistic amounts to a 0.00002 probability. The sum of this probability, and the probability for the test statistic on the right tail of the t-distribution gives us 0.0004, which is essentially zero. So there is very strong evidence against the null hypothesis in favor of the alternative hypothesis. Additionally, we can be 95% confident that, on average, those seeking compensation score between 1.8 and 4.8 units higher on the MENT than those seeking treatment.\n",
    "\n",
    "In conclusion, there is strong evidence that those seeking compensation for PTSD tend to score higher on the MENT than those who are seeking treatment, and likewise, those seeking treatment tend to score lower."
   ]
  },
  {
   "cell_type": "markdown",
   "metadata": {
    "collapsed": true
   },
   "source": [
    "Also note, you can use the survival function to find the one-sided p-value for the t-distribution:"
   ]
  },
  {
   "cell_type": "code",
   "execution_count": null,
   "metadata": {
    "collapsed": false
   },
   "outputs": [],
   "source": [
    "from scipy.stats import t\n",
    "\n",
    "p_value = t.sf(4.267, 117)\n",
    "p_value"
   ]
  },
  {
   "cell_type": "markdown",
   "metadata": {},
   "source": [
    "### Conduct a Paired-Difference T-test with a Confidence Interval\n",
    "\n",
    "** *note, in the following procedures: In the first two where the critical values for the sample mean are found, and the 95% confidence interval for the poulation mean, we are in number-line interval land. It's only in the Hypothesis test that we are plotting on the t-distribution with n-1 degrees of freedom.* **\n",
    "\n",
    "The Chinese herb Kudzu is thought to reduce alcohol intake. In an experiment, researchers investigated the effect of puerarin, an extract of Kudzu, on alcohol intake in humans. 10 heavy drinkers were recruited for the study. On two occasions, the individuals were allowed to drink up to six beers over a 1.5 hour period while watching TV or reading. For one week prior to each trial, the participants took either a dose of puerarin each day, or a placebo each day. So they had two sessions - one with purarin and one without. What effect if any does purarin have on alcohol intake?\n",
    "\n",
    "Use a paired-difference, one-sample t-procedure to analyze these claims. The data with calculated difference:"
   ]
  },
  {
   "cell_type": "code",
   "execution_count": null,
   "metadata": {
    "collapsed": false
   },
   "outputs": [],
   "source": [
    "import pandas as pd\n",
    "exp = pd.DataFrame({'Placebo':[1804,1919,789,1533,990,1603,138,1415,1665,434],\n",
    "                   'Puerarin':[569,1635,767,1155,674,707,572,1518,174,658]})\n",
    "for row in exp:\n",
    "    exp['Difference'] = exp['Puerarin'] - exp['Placebo']\n",
    "exp"
   ]
  },
  {
   "cell_type": "markdown",
   "metadata": {
    "collapsed": true
   },
   "source": [
    "So in this study, people drank less alcohol (approximately one beer) on average. But is this a significant difference? Let's look at a boxplot."
   ]
  },
  {
   "cell_type": "code",
   "execution_count": null,
   "metadata": {
    "collapsed": false
   },
   "outputs": [],
   "source": [
    "import seaborn as sns\n",
    "import matplotlib.pyplot as plt\n",
    "\n",
    "ax = sns.boxplot(data=diff)\n",
    "ax = sns.swarmplot(data=diff, color='.0')\n",
    "plt.show()"
   ]
  },
  {
   "cell_type": "markdown",
   "metadata": {},
   "source": [
    "The boxplot shows that the values tend to be negative, indicating people on puererin tended to drink less alcohol. The sample mean a -386.1 is lower than 0 (the value we would expect if there were no difference). But is this difference significant? Let's investigate normality of the distribution with a normal Q-Q plot:"
   ]
  },
  {
   "cell_type": "code",
   "execution_count": null,
   "metadata": {
    "collapsed": false
   },
   "outputs": [],
   "source": [
    "from scipy import stats as scistats\n",
    "\n",
    "qq1 = scistats.probplot(diff, plot=plt)\n",
    "plt.show()"
   ]
  },
  {
   "cell_type": "markdown",
   "metadata": {},
   "source": [
    "A few points are a little extreme so we may not feel all that comfortable using the t-procedures, especially for such a small sample, gut we'll go ahead anyways to demonstrate the procedures."
   ]
  },
  {
   "cell_type": "markdown",
   "metadata": {},
   "source": [
    "##### Identify critical values for the sample mean at the $\\alpha=0.05$ level\n",
    "Let X = the difference in alcohol intake between Puerarin and placebo (Puerarin minus placebo)\n",
    "    \n",
    "Let $t^*$ = $t_{n-1 \\text{ ,} 0.025}$ be the critical t-value\n",
    "\n",
    "Let $SE(\\bar{X})$ = $\\frac{\\hat{S}}{\\sqrt{n}}$\n",
    "\n",
    "The critical values on the t-distribution are found wherever the following is true:\n",
    "\n",
    "$$|\\bar{X} - \\mu| > t^* * SE(\\bar{X})$$\n",
    "\n",
    "Note, $\\mu$ is theorized to be zero under the null hypothesis, so:\n",
    "\n",
    "$$|\\bar{X} - 0| > t^* * SE(\\bar{X})$$\n",
    "$$|\\bar{X}| > t^* * SE(\\bar{X})$$\n",
    "\n",
    "Noting that at the $\\alpha = 0.05$ level, we are interested in the probability of extreme values at either end of the t-distribution with 9 degrees of freedom. This means that each end has a 0.025 probability, which leaves 0.95 in the middle. "
   ]
  },
  {
   "cell_type": "code",
   "execution_count": null,
   "metadata": {
    "collapsed": false
   },
   "outputs": [],
   "source": [
    "# calculate degrees of freedom\n",
    "degrees_f = exp['Difference'].count() - 1\n",
    "degrees_f"
   ]
  },
  {
   "cell_type": "code",
   "execution_count": null,
   "metadata": {
    "collapsed": false
   },
   "outputs": [],
   "source": [
    "# find the critical t-value\n",
    "t_val = scistats.t.ppf(1-0.025, degrees_f)\n",
    "t_val"
   ]
  },
  {
   "cell_type": "code",
   "execution_count": null,
   "metadata": {
    "collapsed": false
   },
   "outputs": [],
   "source": [
    "# find the standard error\n",
    "diff = exp['Difference']\n",
    "\n",
    "from scipy import stats as scistats\n",
    "stderr = scistats.sem(diff, ddof=1)\n",
    "stderr"
   ]
  },
  {
   "cell_type": "code",
   "execution_count": null,
   "metadata": {
    "collapsed": false
   },
   "outputs": [],
   "source": [
    "# find the mean difference\n",
    "import numpy as np\n",
    "mean_diff = np.mean(diff)\n",
    "mean_diff"
   ]
  },
  {
   "cell_type": "code",
   "execution_count": null,
   "metadata": {
    "collapsed": false
   },
   "outputs": [],
   "source": [
    "# find the critical value for the sample mean\n",
    "lower_critical = -1*t_val*stderr\n",
    "upper_critical = t_val*stderr\n",
    "print(\"lower critical value: %s\" %round(lower_critical,4))\n",
    "print(\"upper critical value: %s\" %round(upper_critical,4))"
   ]
  },
  {
   "cell_type": "markdown",
   "metadata": {},
   "source": [
    "Based on this interval at the $\\alpha = 0.05$ level and our sample mean value of -386.1, there doesn't seem to be strong evidence as to the effect of Puererin. Constructing a confidence interval for the population mean difference between Puerarin and placebo (Puerarin minus placebo) should reveal the same."
   ]
  },
  {
   "cell_type": "markdown",
   "metadata": {},
   "source": [
    "##### Construct a 95% confidence interval for the population mean\n",
    "The interval is constructed with the following statement:\n",
    "$$\\bar{X} - \\mu \\pm t^* * SE(\\bar{X})$$\n",
    "\n",
    "Note, $\\mu$ is theorized to be zero under the null hypothesis, so:\n",
    "\n",
    "$$\\bar{X} - 0 \\pm t^* * SE(\\bar{X})$$\n",
    "$$\\bar{X} \\pm t^* * SE(\\bar{X})$$"
   ]
  },
  {
   "cell_type": "code",
   "execution_count": null,
   "metadata": {
    "collapsed": false
   },
   "outputs": [],
   "source": [
    "# find the upper and lower bounds for the interval\n",
    "lower_bound = mean_diff - (t_val * stderr)\n",
    "upper_bound = mean_diff + (t_val * stderr)\n",
    "print(\"lower bound: %s: \" %round(lower_bound,4))\n",
    "print(\"upper bound: %s: \" %round(upper_bound,4))"
   ]
  },
  {
   "cell_type": "markdown",
   "metadata": {},
   "source": [
    "So our 95% confidence interval is for $\\mu$ is:\n",
    "$$(-840.626, 68.426)$$\n",
    "\n",
    "We can be 95% confident that $\\mu$, the population mean difference in alcohol consumption, lies somewhere in this interval. In other words, we can be 95% confident that $\\mu$, the true mean difference in alcohol consumption, lies between -841 grams and 68 grams. And so, according to this confidence interval, the true mean reduction in alcohol consumption when taking puererin could be as much as 841 grams, or an increase in consumption of 68 grams on average. Note, 0 is within this interval, so it is a plausible value for the difference. Based on this interval there isn't strong evidence on the effect of puererin. let's look more formally with a hypothesis test at the $\\alpha = 0.05$ level to be sure."
   ]
  },
  {
   "cell_type": "markdown",
   "metadata": {},
   "source": [
    "##### Conduct the Hypothesis test\n",
    "The hypothesis test is:\n",
    "$$H_0: \\mu=0 \\text{ versus} H_1: \\mu<0$$\n",
    "\n",
    "Where $\\mu$ is the population mean difference between placebo and puererin, and, if zero, indicates that Puererin has no significant effect. If less than zero with a significance at or below the $\\alpha=0.05$ level, then the null hypothesis may be rejected.\n",
    "\n",
    "To either accept or reject the null hypothesis a test statistic can be plotted on a t-distribution with n-1 degrees of freedom. If it has a p-value greater than the significance level of 0.05 then we will fail to reject the null hypothesis. If it is less than 0.05, then it is statistically significant and will allow us to reject the null hypothesis in favor of the alternative hypothesis. \n",
    "\n",
    "The test-statistic is calculated:\n",
    "$$\\text{t-stat}= \\frac{\\bar{X}-0}{SE(\\bar{X})}$$"
   ]
  },
  {
   "cell_type": "code",
   "execution_count": null,
   "metadata": {
    "collapsed": false
   },
   "outputs": [],
   "source": [
    "# calculate the test statistic\n",
    "t_stat = (mean_diff - 0) / stderr\n",
    "t_stat"
   ]
  },
  {
   "cell_type": "code",
   "execution_count": null,
   "metadata": {
    "collapsed": false
   },
   "outputs": [],
   "source": [
    "# note the one-sided t-value is greater than our test statistic\n",
    "t_val2 = -1 * scistats.t.ppf(1-0.05, 9)\n",
    "t_val2"
   ]
  },
  {
   "cell_type": "code",
   "execution_count": null,
   "metadata": {
    "collapsed": false
   },
   "outputs": [],
   "source": [
    "# calculate the p-value for the test statistic\n",
    "p_val = 1 - scistats.t.sf(t_stat, 9)\n",
    "p_val"
   ]
  },
  {
   "cell_type": "markdown",
   "metadata": {},
   "source": [
    "We know that just by looking at the value for a one-tailed significance of $\\alpha = 0.05$ being at approx -1.833, that it's lower than our test-statistic. This is evidence enough to reject the null hypothesis.\n",
    "\n",
    "On a t-distribution with 9 degrees of freedom, the p-value is fairly small at approximately 0.43, and less that the given significance value of 0.05. This means we have significant evidence against the null hypothesis at the 5% significance level. There is significant evidence that the population mean is less than 0. This means there is significant evidence that puerarin decreases beer consumption on average (with our one-sided p-value of 0.043).\n",
    "\n",
    "Since this was a well-designed and randomized experiment, this gives evidence that puererin actually causes a reduction in alcohol consumption. Note that even though the 95% confidence interval for the mean difference between puerarin and placebo contained 0 (it was -841 to 68), we found in the hypothesis test that there was indeed a significant difference based on the p-value derived from plotting the t-statistic."
   ]
  },
  {
   "cell_type": "markdown",
   "metadata": {
    "collapsed": true
   },
   "source": [
    "### Calculating Pearson's Correlation (pearson's r)"
   ]
  },
  {
   "cell_type": "code",
   "execution_count": null,
   "metadata": {
    "collapsed": false,
    "scrolled": true
   },
   "outputs": [],
   "source": [
    "# step 1: standardize both variables\n",
    "import pandas as pd\n",
    "\n",
    "subway_df = pd.read_csv('sample-data/nyc_subway_weather.csv')\n",
    "subway_df.head()"
   ]
  },
  {
   "cell_type": "code",
   "execution_count": null,
   "metadata": {
    "collapsed": false
   },
   "outputs": [],
   "source": [
    "# pull out a single column as a pandas Series\n",
    "tempi_col = subway_df.tempi\n",
    "tempi_col.head()"
   ]
  },
  {
   "cell_type": "code",
   "execution_count": null,
   "metadata": {
    "collapsed": false
   },
   "outputs": [],
   "source": [
    "# standardize the column as a vector operation\n",
    "std_tempi_col = (tempi_col - tempi_col.mean()) / tempi_col.std(ddof=0)\n",
    "\n",
    "# show the Series again\n",
    "std_tempi_col.head()"
   ]
  },
  {
   "cell_type": "code",
   "execution_count": null,
   "metadata": {
    "collapsed": true
   },
   "outputs": [],
   "source": [
    "# !!!note, numpy has a function that can calculate pearson's R\n",
    "# make function to calculate the correlation\n",
    "def correlation(x, y):\n",
    "    # first standardize\n",
    "    std_x = (x-x.mean()) / x.std(ddof=0)\n",
    "    std_y = (y-y.mean()) / y.std(ddof=0)\n",
    "    \n",
    "    # multiply the two Series as a vectorized operation\n",
    "    # take the mean of the resulting Series that was created\n",
    "    return (std_x * std_y).mean()"
   ]
  },
  {
   "cell_type": "code",
   "execution_count": null,
   "metadata": {
    "collapsed": false
   },
   "outputs": [],
   "source": [
    "# now use the function to calculate pearson's r for two coluns in sample data\n",
    "correlation(subway_df['ENTRIESn_hourly'], subway_df['meanprecipi'])"
   ]
  },
  {
   "cell_type": "code",
   "execution_count": null,
   "metadata": {
    "collapsed": false
   },
   "outputs": [],
   "source": [
    "# now find two Series with a stronger correlation\n",
    "correlation(subway_df['ENTRIESn_hourly'], subway_df['ENTRIESn'])"
   ]
  },
  {
   "cell_type": "markdown",
   "metadata": {
    "collapsed": true
   },
   "source": [
    "Or, just use Pandas .corr()"
   ]
  },
  {
   "cell_type": "code",
   "execution_count": null,
   "metadata": {
    "collapsed": false
   },
   "outputs": [],
   "source": [
    "subway_df[['ENTRIESn_hourly','ENTRIESn']].corr()"
   ]
  },
  {
   "cell_type": "markdown",
   "metadata": {
    "collapsed": true
   },
   "source": [
    "# Choosing a Statistical Test\n",
    "\n",
    "Dependent Variable is Continuous:\n",
    "[Independent T-test](https://statistics.laerd.com/statistical-guides/independent-t-test-statistical-guide.php)\n",
    "Dependent variable is continuous\n",
    "Samples are Independent, meaning we are comparing the means of different samples. If this seems confusing, look at the converse – Dependent T-test definitions. An example might be if we were to test the significance of height between Males and Females. Obviously, the samples are different since one group are Males and the other are Females – they are independent.\n",
    "Assumes normal distribution of the dependent variable\n",
    "Population parameters are unavailable (usually less than 30 samples)\n",
    "https://docs.scipy.org/doc/scipy-0.15.1/reference/generated/scipy.stats.ttest_ind.html\n",
    "\n",
    "[Dependent T-test](https://statistics.laerd.com/statistical-guides/dependent-t-test-statistical-guide.php)\n",
    "Dependent variable is continuous\n",
    "Samples are Dependent, meaning we are comparing the means of the same samples. This is sometimes called a Paired test or before and after test because we are taking samples, measuring a result, then applying an effect, and measuring them after the effect to see if there are significant effects of the affect. There is one group and it is being tested twice.\n",
    "Assumes normal distribution of the dependent variable\n",
    "Population parameters are unavailable (usually less than 30 samples)\n",
    "https://docs.scipy.org/doc/scipy/reference/generated/scipy.stats.ttest_rel.html\n",
    "\n",
    "[Mann Whitney U-test](https://statistics.laerd.com/spss-tutorials/mann-whitney-u-test-using-spss-statistics.php)\n",
    "Dependent variable is continuous\n",
    "Does not assume normal distribution of the dependent variable\n",
    "Often used in place of the Independent T-test when samples are not normal and as such, assumes the samples are Independent.\n",
    "http://docs.scipy.org/doc/scipy-0.17.0/reference/generated/scipy.stats.mannwhitneyu.html\n",
    "\n",
    "[Wilcoxon Signed-Rank Test](https://statistics.laerd.com/spss-tutorials/wilcoxon-signed-rank-test-using-spss-statistics.php)\n",
    "Dependent variable is continuous\n",
    "Does not assume normal distribution of the dependent variable\n",
    "Often used in place of the Dependent T-test when samples are not normal and as such, assumes the samples are Dependent.\n",
    "https://docs.scipy.org/doc/scipy-0.14.0/reference/generated/scipy.stats.wilcoxon.html\n",
    "\n",
    "[One-Way ANOVA Test](https://statistics.laerd.com/statistical-guides/one-way-anova-statistical-guide.php)\n",
    "Dependent variable is continuous\n",
    "Dependent variable is Normally Distributed (this needs to be determined before testing.\n",
    "Typically used for 3+ Independent Variables (If 2 or less, the T-test should be performed since it is easier computationally and performs just as well).\n",
    "http://docs.scipy.org/doc/scipy-0.16.0/reference/generated/scipy.stats.f_oneway.html\n",
    "\n",
    "[Kruskal–Wallis Test](https://statistics.laerd.com/spss-tutorials/kruskal-wallis-h-test-using-spss-statistics.php)\n",
    "Dependent variable is continuous\n",
    "Similar to an ANOVA Test but for non-normal distributions (distribution still should be determined just in case a regular ANOVA test can be performed.)\n",
    "Typically used for 3+ Independent Variables (If 2 or less, the Mann-Whitney U-test should be performed since it is easier computationally and performs just as well).\n",
    "http://docs.scipy.org/doc/scipy/reference/generated/scipy.stats.mstats.kruskalwallis.html\n",
    "\n",
    "Dependent Variable is Categorical:\n",
    "\n",
    "[Difference in Proportions Test](http://stattrek.com/hypothesis-test/difference-in-proportions.aspx)\n",
    "Dependent variable is categorical\n",
    "Typically used to compare the Dependent variable of 2 Independent-Variable Conditions\n",
    "Usually involved creating a Contingency Table\n",
    "http://statsmodels.sourceforge.net/devel/generated/statsmodels.stats.proportion.proportions_ztest.html#statsmodels.stats.proportion.proportions_ztest\n",
    "\n",
    "[Chi-Squared Test](http://stattrek.com/chi-square-test/independence.aspx?Tutorial=AP)\n",
    "Dependent variable is categorical\n",
    "Typically used for 3+ Independent-Variable Conditions\n",
    "Should be equivalent to the Difference in Proportions Test for less than 3 Conditions\n",
    "Usually involved creating a Contingency Table\n",
    "http://docs.scipy.org/doc/scipy/reference/generated/scipy.stats.chi2_contingency.html\n",
    "\n",
    "Choosing the Correct Test:\n",
    "http://www.ats.ucla.edu/stat/stata/whatstat/"
   ]
  },
  {
   "cell_type": "markdown",
   "metadata": {
    "collapsed": true
   },
   "source": [
    "### Summary Statistics"
   ]
  },
  {
   "cell_type": "markdown",
   "metadata": {},
   "source": [
    "##### Show summary statistics"
   ]
  },
  {
   "cell_type": "code",
   "execution_count": 10,
   "metadata": {
    "collapsed": true
   },
   "outputs": [],
   "source": [
    "# import declaration\n",
    "import pandas as pd"
   ]
  },
  {
   "cell_type": "code",
   "execution_count": 11,
   "metadata": {
    "collapsed": false
   },
   "outputs": [
    {
     "data": {
      "text/html": [
       "<div>\n",
       "<table border=\"1\" class=\"dataframe\">\n",
       "  <thead>\n",
       "    <tr style=\"text-align: right;\">\n",
       "      <th></th>\n",
       "      <th>Congruent</th>\n",
       "      <th>Incongruent</th>\n",
       "    </tr>\n",
       "  </thead>\n",
       "  <tbody>\n",
       "    <tr>\n",
       "      <th>0</th>\n",
       "      <td>12.079</td>\n",
       "      <td>19.278</td>\n",
       "    </tr>\n",
       "    <tr>\n",
       "      <th>1</th>\n",
       "      <td>16.791</td>\n",
       "      <td>18.741</td>\n",
       "    </tr>\n",
       "    <tr>\n",
       "      <th>2</th>\n",
       "      <td>9.564</td>\n",
       "      <td>21.214</td>\n",
       "    </tr>\n",
       "    <tr>\n",
       "      <th>3</th>\n",
       "      <td>8.630</td>\n",
       "      <td>15.687</td>\n",
       "    </tr>\n",
       "    <tr>\n",
       "      <th>4</th>\n",
       "      <td>14.669</td>\n",
       "      <td>22.803</td>\n",
       "    </tr>\n",
       "  </tbody>\n",
       "</table>\n",
       "</div>"
      ],
      "text/plain": [
       "   Congruent  Incongruent\n",
       "0     12.079       19.278\n",
       "1     16.791       18.741\n",
       "2      9.564       21.214\n",
       "3      8.630       15.687\n",
       "4     14.669       22.803"
      ]
     },
     "execution_count": 11,
     "metadata": {},
     "output_type": "execute_result"
    }
   ],
   "source": [
    "# load and view dataframe\n",
    "stroop = pd.read_csv('sample-data/stroopdata.csv')\n",
    "stroop.head()"
   ]
  },
  {
   "cell_type": "code",
   "execution_count": 13,
   "metadata": {
    "collapsed": false
   },
   "outputs": [
    {
     "data": {
      "text/html": [
       "<div>\n",
       "<table border=\"1\" class=\"dataframe\">\n",
       "  <thead>\n",
       "    <tr style=\"text-align: right;\">\n",
       "      <th></th>\n",
       "      <th>Congruent</th>\n",
       "      <th>Incongruent</th>\n",
       "    </tr>\n",
       "  </thead>\n",
       "  <tbody>\n",
       "    <tr>\n",
       "      <th>count</th>\n",
       "      <td>24.000000</td>\n",
       "      <td>24.000000</td>\n",
       "    </tr>\n",
       "    <tr>\n",
       "      <th>mean</th>\n",
       "      <td>14.051125</td>\n",
       "      <td>22.015917</td>\n",
       "    </tr>\n",
       "    <tr>\n",
       "      <th>std</th>\n",
       "      <td>3.559358</td>\n",
       "      <td>4.797057</td>\n",
       "    </tr>\n",
       "    <tr>\n",
       "      <th>min</th>\n",
       "      <td>8.630000</td>\n",
       "      <td>15.687000</td>\n",
       "    </tr>\n",
       "    <tr>\n",
       "      <th>25%</th>\n",
       "      <td>11.895250</td>\n",
       "      <td>18.716750</td>\n",
       "    </tr>\n",
       "    <tr>\n",
       "      <th>50%</th>\n",
       "      <td>14.356500</td>\n",
       "      <td>21.017500</td>\n",
       "    </tr>\n",
       "    <tr>\n",
       "      <th>75%</th>\n",
       "      <td>16.200750</td>\n",
       "      <td>24.051500</td>\n",
       "    </tr>\n",
       "    <tr>\n",
       "      <th>max</th>\n",
       "      <td>22.328000</td>\n",
       "      <td>35.255000</td>\n",
       "    </tr>\n",
       "  </tbody>\n",
       "</table>\n",
       "</div>"
      ],
      "text/plain": [
       "       Congruent  Incongruent\n",
       "count  24.000000    24.000000\n",
       "mean   14.051125    22.015917\n",
       "std     3.559358     4.797057\n",
       "min     8.630000    15.687000\n",
       "25%    11.895250    18.716750\n",
       "50%    14.356500    21.017500\n",
       "75%    16.200750    24.051500\n",
       "max    22.328000    35.255000"
      ]
     },
     "execution_count": 13,
     "metadata": {},
     "output_type": "execute_result"
    }
   ],
   "source": [
    "# function calculates and presents summary statistics\n",
    "stroop_summary = stroop.describe()\n",
    "stroop_summary"
   ]
  },
  {
   "cell_type": "code",
   "execution_count": 15,
   "metadata": {
    "collapsed": false
   },
   "outputs": [
    {
     "data": {
      "text/plain": [
       "11.895250000000001"
      ]
     },
     "execution_count": 15,
     "metadata": {},
     "output_type": "execute_result"
    }
   ],
   "source": [
    "# extract summary statistics\n",
    "stroop_25th_percentile = stroop_summary.get_value('25%','Congruent')\n",
    "stroop_25th_percentile"
   ]
  },
  {
   "cell_type": "code",
   "execution_count": null,
   "metadata": {
    "collapsed": true
   },
   "outputs": [],
   "source": []
  }
 ],
 "metadata": {
  "anaconda-cloud": {},
  "kernelspec": {
   "display_name": "Python [default]",
   "language": "python",
   "name": "python3"
  },
  "language_info": {
   "codemirror_mode": {
    "name": "ipython",
    "version": 3
   },
   "file_extension": ".py",
   "mimetype": "text/x-python",
   "name": "python",
   "nbconvert_exporter": "python",
   "pygments_lexer": "ipython3",
   "version": "3.5.2"
  },
  "latex_envs": {
   "LaTeX_envs_menu_present": true,
   "bibliofile": "biblio.bib",
   "cite_by": "apalike",
   "current_citInitial": 1,
   "eqLabelWithNumbers": true,
   "eqNumInitial": 1,
   "hotkeys": {
    "equation": "Ctrl-E",
    "itemize": "Ctrl-I"
   },
   "labels_anchors": false,
   "latex_user_defs": false,
   "report_style_numbering": false,
   "user_envs_cfg": false
  }
 },
 "nbformat": 4,
 "nbformat_minor": 1
}
