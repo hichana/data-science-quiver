{
 "cells": [
  {
   "cell_type": "markdown",
   "metadata": {},
   "source": [
    "# Inspect Stuff"
   ]
  },
  {
   "cell_type": "code",
   "execution_count": 2,
   "metadata": {
    "collapsed": false
   },
   "outputs": [],
   "source": [
    "# import declarations\n",
    "import inspect as ins\n",
    "# import matplotlib\n",
    "import pandas as pd\n",
    "import numpy as np"
   ]
  },
  {
   "cell_type": "code",
   "execution_count": 4,
   "metadata": {
    "collapsed": false
   },
   "outputs": [
    {
     "data": {
      "text/plain": [
       "(1, 2, 3)"
      ]
     },
     "execution_count": 4,
     "metadata": {},
     "output_type": "execute_result"
    }
   ],
   "source": [
    "# a tuple\n",
    "tup = (1,2,3)\n",
    "tup"
   ]
  },
  {
   "cell_type": "code",
   "execution_count": 5,
   "metadata": {
    "collapsed": false
   },
   "outputs": [
    {
     "data": {
      "text/html": [
       "<div>\n",
       "<table border=\"1\" class=\"dataframe\">\n",
       "  <thead>\n",
       "    <tr style=\"text-align: right;\">\n",
       "      <th></th>\n",
       "      <th>A</th>\n",
       "      <th>B</th>\n",
       "      <th>C</th>\n",
       "      <th>D</th>\n",
       "    </tr>\n",
       "  </thead>\n",
       "  <tbody>\n",
       "    <tr>\n",
       "      <th>1</th>\n",
       "      <td>1.126211</td>\n",
       "      <td>-0.694981</td>\n",
       "      <td>0.886641</td>\n",
       "      <td>-2.267038</td>\n",
       "    </tr>\n",
       "    <tr>\n",
       "      <th>2</th>\n",
       "      <td>-1.400554</td>\n",
       "      <td>0.022985</td>\n",
       "      <td>-1.046539</td>\n",
       "      <td>0.377063</td>\n",
       "    </tr>\n",
       "    <tr>\n",
       "      <th>3</th>\n",
       "      <td>1.609529</td>\n",
       "      <td>-1.737557</td>\n",
       "      <td>1.253541</td>\n",
       "      <td>0.289024</td>\n",
       "    </tr>\n",
       "    <tr>\n",
       "      <th>4</th>\n",
       "      <td>-1.073075</td>\n",
       "      <td>1.484386</td>\n",
       "      <td>-0.644352</td>\n",
       "      <td>0.068222</td>\n",
       "    </tr>\n",
       "    <tr>\n",
       "      <th>5</th>\n",
       "      <td>2.256015</td>\n",
       "      <td>-0.639158</td>\n",
       "      <td>-0.297879</td>\n",
       "      <td>-0.600491</td>\n",
       "    </tr>\n",
       "    <tr>\n",
       "      <th>6</th>\n",
       "      <td>0.958193</td>\n",
       "      <td>-2.789457</td>\n",
       "      <td>0.655182</td>\n",
       "      <td>0.417686</td>\n",
       "    </tr>\n",
       "  </tbody>\n",
       "</table>\n",
       "</div>"
      ],
      "text/plain": [
       "          A         B         C         D\n",
       "1  1.126211 -0.694981  0.886641 -2.267038\n",
       "2 -1.400554  0.022985 -1.046539  0.377063\n",
       "3  1.609529 -1.737557  1.253541  0.289024\n",
       "4 -1.073075  1.484386 -0.644352  0.068222\n",
       "5  2.256015 -0.639158 -0.297879 -0.600491\n",
       "6  0.958193 -2.789457  0.655182  0.417686"
      ]
     },
     "execution_count": 5,
     "metadata": {},
     "output_type": "execute_result"
    }
   ],
   "source": [
    "# a pandas Data Frame filled with a 6 x 4 ndarray\n",
    "df = pd.DataFrame(np.random.randn(6,4), index=(1,2,3,4,5,6), columns=list('ABCD'))\n",
    "df"
   ]
  },
  {
   "cell_type": "markdown",
   "metadata": {},
   "source": [
    "### Inspect objects"
   ]
  },
  {
   "cell_type": "code",
   "execution_count": 6,
   "metadata": {
    "collapsed": false
   },
   "outputs": [
    {
     "data": {
      "text/plain": [
       "pandas.core.frame.DataFrame"
      ]
     },
     "execution_count": 6,
     "metadata": {},
     "output_type": "execute_result"
    }
   ],
   "source": [
    "# show type of an object\n",
    "type(df)"
   ]
  },
  {
   "cell_type": "code",
   "execution_count": 9,
   "metadata": {
    "collapsed": false
   },
   "outputs": [
    {
     "data": {
      "text/plain": [
       "module"
      ]
     },
     "execution_count": 9,
     "metadata": {},
     "output_type": "execute_result"
    }
   ],
   "source": [
    "type(pd)"
   ]
  },
  {
   "cell_type": "code",
   "execution_count": 7,
   "metadata": {
    "collapsed": false
   },
   "outputs": [
    {
     "data": {
      "text/plain": [
       "'pandas - a powerful data analysis and manipulation library for Python\\n=====================================================================\\n\\nSee http://pandas.pydata.org/ for full documentation. Otherwise, see the\\ndocstrings of the various objects in the pandas namespace:\\n\\nSeries\\nDataFrame\\nPanel\\nIndex\\nDatetimeIndex\\nHDFStore\\nbdate_range\\ndate_range\\nread_csv\\nread_fwf\\nread_table\\nols'"
      ]
     },
     "execution_count": 7,
     "metadata": {},
     "output_type": "execute_result"
    }
   ],
   "source": [
    "# fetch documentation cleaned up with cleandoc()\n",
    "ins.getdoc(pd)"
   ]
  },
  {
   "cell_type": "code",
   "execution_count": 10,
   "metadata": {
    "collapsed": false
   },
   "outputs": [
    {
     "data": {
      "text/plain": [
       "\"Two-dimensional size-mutable, potentially heterogeneous tabular data\\nstructure with labeled axes (rows and columns). Arithmetic operations\\nalign on both row and column labels. Can be thought of as a dict-like\\ncontainer for Series objects. The primary pandas data structure\\n\\nParameters\\n----------\\ndata : numpy ndarray (structured or homogeneous), dict, or DataFrame\\n    Dict can contain Series, arrays, constants, or list-like objects\\nindex : Index or array-like\\n    Index to use for resulting frame. Will default to np.arange(n) if\\n    no indexing information part of input data and no index provided\\ncolumns : Index or array-like\\n    Column labels to use for resulting frame. Will default to\\n    np.arange(n) if no column labels are provided\\ndtype : dtype, default None\\n    Data type to force, otherwise infer\\ncopy : boolean, default False\\n    Copy data from inputs. Only affects DataFrame / 2d ndarray input\\n\\nExamples\\n--------\\n>>> d = {'col1': ts1, 'col2': ts2}\\n>>> df = DataFrame(data=d, index=index)\\n>>> df2 = DataFrame(np.random.randn(10, 5))\\n>>> df3 = DataFrame(np.random.randn(10, 5),\\n...                 columns=['a', 'b', 'c', 'd', 'e'])\\n\\nSee also\\n--------\\nDataFrame.from_records : constructor from tuples, also record arrays\\nDataFrame.from_dict : from dicts of Series, arrays, or dicts\\nDataFrame.from_items : from sequence of (key, value) pairs\\npandas.read_csv, pandas.read_table, pandas.read_clipboard\""
      ]
     },
     "execution_count": 10,
     "metadata": {},
     "output_type": "execute_result"
    }
   ],
   "source": [
    "ins.getdoc(df)"
   ]
  },
  {
   "cell_type": "code",
   "execution_count": 11,
   "metadata": {
    "collapsed": false,
    "scrolled": true
   },
   "outputs": [
    {
     "data": {
      "text/plain": [
       "'/Users/mchana/anaconda/envs/bunnies/lib/python3.5/site-packages/pandas/__init__.py'"
      ]
     },
     "execution_count": 11,
     "metadata": {},
     "output_type": "execute_result"
    }
   ],
   "source": [
    "# Return path of the Python source file in which an \n",
    "# object was defined.\n",
    "ins.getsourcefile(pd)"
   ]
  },
  {
   "cell_type": "code",
   "execution_count": 12,
   "metadata": {
    "collapsed": false
   },
   "outputs": [
    {
     "data": {
      "text/plain": [
       "<module 'pandas.core.frame' from '/Users/mchana/anaconda/envs/bunnies/lib/python3.5/site-packages/pandas/core/frame.py'>"
      ]
     },
     "execution_count": 12,
     "metadata": {},
     "output_type": "execute_result"
    }
   ],
   "source": [
    "# try to guess which module an object was defined in\n",
    "ins.getmodule(df)"
   ]
  }
 ],
 "metadata": {
  "anaconda-cloud": {},
  "kernelspec": {
   "display_name": "Python [default]",
   "language": "python",
   "name": "python3"
  },
  "language_info": {
   "codemirror_mode": {
    "name": "ipython",
    "version": 3
   },
   "file_extension": ".py",
   "mimetype": "text/x-python",
   "name": "python",
   "nbconvert_exporter": "python",
   "pygments_lexer": "ipython3",
   "version": "3.5.2"
  },
  "latex_envs": {
   "LaTeX_envs_menu_present": true,
   "bibliofile": "biblio.bib",
   "cite_by": "apalike",
   "current_citInitial": 1,
   "eqLabelWithNumbers": true,
   "eqNumInitial": 1,
   "hotkeys": {
    "equation": "Ctrl-E",
    "itemize": "Ctrl-I"
   },
   "labels_anchors": false,
   "latex_user_defs": false,
   "report_style_numbering": false,
   "user_envs_cfg": false
  }
 },
 "nbformat": 4,
 "nbformat_minor": 1
}
